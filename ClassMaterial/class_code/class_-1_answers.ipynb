{
 "cells": [
  {
   "cell_type": "markdown",
   "id": "f8bf60ff-2395-45ef-aeda-78be07c2feb9",
   "metadata": {},
   "source": [
    "# Test class code\n",
    "\n",
    "This is a test file to make sure one can download class code files with answers.\n"
   ]
  },
  {
   "cell_type": "code",
   "execution_count": 1,
   "id": "28bf4cac-b375-4c61-964a-622a05e4e217",
   "metadata": {},
   "outputs": [
    {
     "data": {
      "text/plain": [
       "[2, 4, 6, 8, 10]"
      ]
     },
     "execution_count": 1,
     "metadata": {},
     "output_type": "execute_result"
    }
   ],
   "source": [
    "my_list = [2, 4, 6, 8, 10]\n",
    "my_list"
   ]
  }
 ],
 "metadata": {
  "kernelspec": {
   "display_name": "Python [conda env:.conda-ydata_2025spring_v1] *",
   "language": "python",
   "name": "conda-env-.conda-ydata_2025spring_v1-py"
  },
  "language_info": {
   "codemirror_mode": {
    "name": "ipython",
    "version": 3
   },
   "file_extension": ".py",
   "mimetype": "text/x-python",
   "name": "python",
   "nbconvert_exporter": "python",
   "pygments_lexer": "ipython3",
   "version": "3.13.1"
  }
 },
 "nbformat": 4,
 "nbformat_minor": 5
}
