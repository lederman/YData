{
 "cells": [
  {
   "cell_type": "markdown",
   "metadata": {},
   "source": [
    "# Class 8: pandas Series and Data Frames\n",
    "\n",
    "Today we will discuss pandas Series and DataFrames which allow us to analyze data tables."
   ]
  },
  {
   "cell_type": "code",
   "execution_count": null,
   "metadata": {},
   "outputs": [],
   "source": [
    "import YData\n",
    "\n",
    "# YData.download.download_class_code(8)   # get class code    \n",
    "# YData.download.download_class_code(8, True)  # get the code with the answers \n",
    "\n",
    "YData.download.download_data(\"nba_salaries_2022_23.csv\")\n",
    "YData.download_data(\"nyc23_flights.csv\")\n",
    "YData.download_data(\"nyc23_airlines.csv\")\n",
    "# YData.download.download_data(\"monthly_egg_prices.csv\")"
   ]
  },
  {
   "cell_type": "markdown",
   "metadata": {},
   "source": [
    "There are also similar functions to download the homework:"
   ]
  },
  {
   "cell_type": "code",
   "execution_count": null,
   "metadata": {},
   "outputs": [],
   "source": [
    "# YData.download.download_homework(4)  # downloads the fourth homework "
   ]
  },
  {
   "cell_type": "markdown",
   "metadata": {},
   "source": [
    "If you are using colabs, you should run the code."
   ]
  },
  {
   "cell_type": "code",
   "execution_count": null,
   "metadata": {},
   "outputs": [],
   "source": [
    "# !pip install https://github.com/lederman/YData_package/tarball/master\n",
    "# from google.colab import drive\n",
    "# drive.mount('/content/drive')"
   ]
  },
  {
   "cell_type": "markdown",
   "metadata": {},
   "source": [
    "## Boolean masking warm-up exercise\n",
    "\n",
    "As a warm-up exercise, please calculate the total salary for players on the Boston Celtics and on the Golden State Warriors to see which team spent the most money on salaries. \n",
    "\n",
    "Hint: If you're stuck a useulf first step would be to create a Boolean masks indicating which players are on the Celtics...\n"
   ]
  },
  {
   "cell_type": "code",
   "execution_count": null,
   "metadata": {},
   "outputs": [],
   "source": [
    "# download the data\n",
    "import YData\n",
    "YData.download.download_data(\"nba_salaries_2022_23.csv\")"
   ]
  },
  {
   "cell_type": "code",
   "execution_count": null,
   "metadata": {},
   "outputs": [],
   "source": [
    "# Extract the necessary data\n",
    "\n",
    "# Load the NBA data as a pandas data frame\n",
    "import pandas as pd\n",
    "import numpy as np\n",
    "\n",
    "nba = pd.read_csv(\"nba_salaries_2022_23.csv\")  # load in the data\n",
    "nba.head()\n",
    "\n",
    "\n",
    "# Extract ndarrays for salary and position \n",
    "salary_array = nba[\"SALARY\"].values\n",
    "team_array = nba[\"TEAM\"].values\n",
    "\n",
    "np.unique(team_array)\n"
   ]
  },
  {
   "cell_type": "code",
   "execution_count": null,
   "metadata": {},
   "outputs": [],
   "source": [
    "# Calculate the average salary for players on the Boston Celtics\n",
    "\n",
    "celtics_mask = ...\n",
    "celtics_salaries = ...\n",
    "...\n",
    "\n",
    "# Calculate the average salary for players on the Golden State Warriors\n",
    "\n",
    "warriors_mask = ...\n",
    "warriors_salaries = ...\n",
    "...\n"
   ]
  },
  {
   "cell_type": "markdown",
   "metadata": {},
   "source": [
    "## Pandas \n",
    "\n",
    "pandas Series are: 0ne-dimensional ndarray with axis labels\n",
    "\n",
    "pands DataFrame are: Table data\n",
    "\n",
    "Let's look at the egg price data...\n"
   ]
  },
  {
   "cell_type": "code",
   "execution_count": null,
   "metadata": {},
   "outputs": [],
   "source": [
    "# import the numpy package\n",
    "import numpy as np\n",
    "import matplotlib.pyplot as plt\n",
    "\n",
    "import pandas as pd\n"
   ]
  },
  {
   "cell_type": "code",
   "execution_count": null,
   "metadata": {},
   "outputs": [],
   "source": [
    "# import YData\n",
    "# YData.download_data(\"monthly_egg_prices.csv\");\n",
    "# #reading in a series by parsing the dates, and using .squeeze() to conver to a Series\n",
    "# egg_prices_series = pd.read_csv(\"monthly_egg_prices.csv\", parse_dates=True, date_format=\"%m/%d/%y\", index_col=\"DATE\").squeeze()\n",
    "# egg_prices_series\n",
    "\n",
    "\n",
    "from pandas_datareader.fred import FredReader\n",
    "#egg_prices_series = FredReader(\"APU0000708111\", start='1980-01-01', end='2023-12-01').read().squeeze()\n",
    "egg_prices_series = FredReader(\"APU0000708111\", start='1980-01-01', end='2024-09-01').read().squeeze()\n",
    "\n",
    "egg_prices_series\n"
   ]
  },
  {
   "cell_type": "code",
   "execution_count": null,
   "metadata": {},
   "outputs": [],
   "source": [
    "\n",
    "# print the type\n",
    "...\n",
    "\n",
    "# print the shape\n",
    "...\n",
    "\n",
    "# print the series\n",
    "...\n"
   ]
  },
  {
   "cell_type": "code",
   "execution_count": null,
   "metadata": {},
   "outputs": [],
   "source": [
    "# get a value from the Series by an Index name using .loc\n",
    "...\n"
   ]
  },
  {
   "cell_type": "code",
   "execution_count": null,
   "metadata": {},
   "outputs": [],
   "source": [
    "# get a value from the Series by index number using .iloc\n",
    "...\n"
   ]
  },
  {
   "cell_type": "code",
   "execution_count": null,
   "metadata": {},
   "outputs": [],
   "source": [
    "# use the .filter() method to get data from dates that contain \"2023\"\n",
    "egg_prices_2023 = ...\n",
    "\n",
    "# print the length \n",
    "print(len(egg_prices_2023))\n",
    "\n",
    "egg_prices_2023"
   ]
  },
  {
   "cell_type": "code",
   "execution_count": null,
   "metadata": {},
   "outputs": [],
   "source": [
    "# Visualize the Series\n",
    "\n",
    "plt.plot(...);\n",
    "plt.ylabel(\"Price ($)\")\n"
   ]
  },
  {
   "cell_type": "code",
   "execution_count": null,
   "metadata": {},
   "outputs": [],
   "source": [
    "# turn the index back into a column using .reset_index()\n",
    "egg_prices_df = ...\n",
    "\n",
    "# get the type\n",
    "print(type(egg_prices_df))\n",
    "\n",
    "# print the values\n",
    "egg_prices_df\n"
   ]
  },
  {
   "cell_type": "markdown",
   "metadata": {},
   "source": [
    "## DataFrames!\n",
    "\n",
    "The ability to manipulate data in tables is one of the most useful skills in Data Science. \n",
    "\n",
    "Pandas is the most popular package in Python for manipulating data tables so we will use this package for manipulating tables in this class. The syntax for Pandas can be a little tricky, so try to be patient if you run into errors, and as always, there should be plenty of help available at office hours and on Ed. \n",
    "\n",
    "As an example, let's look at flight information!\n",
    "\n",
    "As you know, travel by airplane can be convenient because airplanes fly very fast. However, even though the airplanes themselves are fast, their scheduled departure times are often delayed, which can significantly add to ones travel time, and can be frustrating.\n",
    "\n",
    "Let's analyze data on flights to gain insight into how best to avoid flight delays. In particular, we will look at airplane flights that left the airports\n",
    "in New York City, since these airports are some of the closest major airports to New Haven, and we will do some quick explorations of the data to see if there are some ways to potentially avoid flight delays.\n",
    "\n",
    "The code below loads the data into a pandas DataFrame named `flights` and sets the Index to be the airplane's [tail number](https://en.wikipedia.org/wiki/Tail_number). Some variables of interest in this DataFrame are:\n",
    "\n",
    "- `year`, `month`, `day`: Date of departure \n",
    "- `dep_time`, `arr_time`: Actual departure and arrival times, [UTC](https://en.wikipedia.org/wiki/UTC_offset) \n",
    "- `sched_dep_time`, `sched_arr_time`: Scheduled departure and arrival times, UTC \n",
    "- `dep_delay`, `arr_delay`: Departure and arrival delays, in minutes. Negative times represent early departures/arrivals.\n",
    "- `hour`, `minute`: Time of scheduled departure broken into hour and minutes.\n",
    "- `carrier`: Two letter carrier abbreviation. See get_airlines to get the full name.\n",
    "- `flight` Flight number.\n",
    "- `origin`, `dest`: Origin and destination airport. See get_airports for additional metadata.\n",
    "- `air_time`: Amount of time spent in the air, in minutes.\n",
    "- `distance`: Distance between airports, in miles.\n",
    "- `time_hour`: Scheduled date and hour of the flight as a POSIXct date. Along with origin, can be used to join flights data to weather data.\n",
    "\n",
    "The first 5 rows of this DataFrame are shown below. \n",
    "\n"
   ]
  },
  {
   "cell_type": "code",
   "execution_count": null,
   "metadata": {},
   "outputs": [],
   "source": [
    "#import YData\n",
    "#YData.download_data(\"nyc23_flights.csv\")\n",
    "\n",
    "flights = pd.read_csv(\"nyc23_flights.csv\", index_col=\"tailnum\", parse_dates=[18])\n",
    "\n",
    "flights.head()\n"
   ]
  },
  {
   "cell_type": "code",
   "execution_count": null,
   "metadata": {},
   "outputs": [],
   "source": [
    "# The head() method returns the first 5 rows. \n",
    "# Let's use the tail() method to get the last 5 rows.\n",
    "# From looking at the output, can you tell what year the data goes back until? \n",
    "\n",
    "flights.tail()"
   ]
  },
  {
   "cell_type": "code",
   "execution_count": null,
   "metadata": {},
   "outputs": [],
   "source": [
    "# get the number of rows and columns in a DataFrame using the shape property\n",
    "..."
   ]
  },
  {
   "cell_type": "code",
   "execution_count": null,
   "metadata": {},
   "outputs": [],
   "source": [
    "# get the types of all the columns using .dtypes\n",
    "..."
   ]
  },
  {
   "cell_type": "code",
   "execution_count": null,
   "metadata": {},
   "outputs": [],
   "source": [
    "# get the names of all the columns using .columns\n",
    "...\n",
    "\n",
    "# we can convert these names to an numpy array using the .to_numpy() method\n",
    "..."
   ]
  },
  {
   "cell_type": "code",
   "execution_count": null,
   "metadata": {},
   "outputs": [],
   "source": [
    "# get more info on the data frame using the .info() method\n",
    "..."
   ]
  },
  {
   "cell_type": "code",
   "execution_count": null,
   "metadata": {},
   "outputs": [],
   "source": [
    "# get descriptive statistics on DataFrame using the .describe() method\n",
    "\n",
    "flights.describe().round()   # round() the values, or can convert them to ints using astype(\"int\")"
   ]
  },
  {
   "cell_type": "markdown",
   "metadata": {},
   "source": [
    "### Selecting columns from a DataFrame\n",
    "\n",
    "We can select columns from a DataFrame using the square brackets; e.g., `my_df[\"my_col\"]`\n",
    "\n",
    "If we'd like to select multiple columns we can pass a list; e.g., `my_df[[\"col1\", \"col2\"]]`\n"
   ]
  },
  {
   "cell_type": "code",
   "execution_count": null,
   "metadata": {},
   "outputs": [],
   "source": [
    "# Get just the arrival delay\n",
    "# Be careful: if you just use a [\"Col_name\"] it will return it as a Series!\n",
    "\n",
    "arrival_delays = ...\n",
    "\n",
    "arrival_delays\n"
   ]
  },
  {
   "cell_type": "code",
   "execution_count": null,
   "metadata": {},
   "outputs": [],
   "source": [
    "# we can also get a single column using the .col_name \n",
    "\n",
    "arrival_delays2 =  ...\n",
    "\n",
    "arrival_delays2"
   ]
  },
  {
   "cell_type": "code",
   "execution_count": null,
   "metadata": {},
   "outputs": [],
   "source": [
    "# if you want to get a single column as a DataFrame, pass a list in the [] brackets\n",
    "\n",
    "arrival_delays_df = ...\n",
    "\n",
    "arrival_delays_df.head()  \n"
   ]
  },
  {
   "cell_type": "code",
   "execution_count": null,
   "metadata": {},
   "outputs": [],
   "source": [
    "# get multiple columns as a DataFrame\n",
    "\n",
    "depart_arrival_delay = ...\n",
    "\n",
    "depart_arrival_delay\n"
   ]
  },
  {
   "cell_type": "code",
   "execution_count": null,
   "metadata": {},
   "outputs": [],
   "source": [
    "# to make it a little easier to see our results going forward, let's just select the following columns: \n",
    "\n",
    "flights_copy = ...\n",
    "\n",
    "flights = flights[['arr_delay', 'dep_delay', 'carrier', 'flight', 'arr_time', 'dep_time',  'origin', 'dest', 'air_time', 'distance', 'time_hour']]\n",
    "\n",
    "flights.head(3)"
   ]
  },
  {
   "cell_type": "markdown",
   "metadata": {},
   "source": [
    "### Getting a subset of rows from a DataFrame\n",
    "\n",
    "Similar to pandas Series, we can get particular rows from a DataFrame using:\n",
    "\n",
    "- `.loc`:  Get rows by Index values - and by Boolean masks\n",
    "- `.iloc`.:  Get rows by their index number\n",
    "\n"
   ]
  },
  {
   "cell_type": "code",
   "execution_count": null,
   "metadata": {},
   "outputs": [],
   "source": [
    "# Extract rows based on the Index name \"N25201\"\n",
    "\n",
    "...\n"
   ]
  },
  {
   "cell_type": "code",
   "execution_count": null,
   "metadata": {},
   "outputs": [],
   "source": [
    "# Extract a row based on the row number (get row 0 to 3)\n",
    "..."
   ]
  },
  {
   "cell_type": "code",
   "execution_count": null,
   "metadata": {},
   "outputs": [],
   "source": [
    "# We can get multiple rows that meet particular conditions using Boolean masking\n",
    "\n",
    "# flights leaving JFK\n",
    "left_jfk = ...\n",
    "\n",
    "print(left_jfk)\n",
    "\n",
    "np.sum(left_jfk)"
   ]
  },
  {
   "cell_type": "code",
   "execution_count": null,
   "metadata": {},
   "outputs": [],
   "source": [
    "# extract the rows the correspond to JFK\n",
    "jfk_flights = ...\n"
   ]
  },
  {
   "cell_type": "code",
   "execution_count": null,
   "metadata": {},
   "outputs": [],
   "source": [
    "import matplotlib.pyplot as plt\n",
    "\n",
    "# visualize JFK flight delays as a histogram\n",
    "plt.hist(... , bins = 100, edgecolor = \"k\");\n"
   ]
  },
  {
   "cell_type": "markdown",
   "metadata": {},
   "source": [
    "### Sorting values in a DataFrame\n",
    "\n",
    "We can sort values in a DataFrame using `.sort_values(\"col_name\")`\n",
    "\n",
    "We can sort from highest to lowest by setting the argument `ascending = False`\n"
   ]
  },
  {
   "cell_type": "code",
   "execution_count": null,
   "metadata": {},
   "outputs": [],
   "source": [
    "# Sort the data by arrival delay\n",
    "\n",
    "..."
   ]
  },
  {
   "cell_type": "code",
   "execution_count": null,
   "metadata": {},
   "outputs": [],
   "source": [
    "# Did we change the original dataset?\n",
    "..."
   ]
  },
  {
   "cell_type": "code",
   "execution_count": null,
   "metadata": {},
   "outputs": [],
   "source": [
    "# What is the longest arrival delay? \n",
    "\n",
    "..."
   ]
  },
  {
   "cell_type": "code",
   "execution_count": null,
   "metadata": {},
   "outputs": [],
   "source": [
    "# Did we change the original dataset?\n",
    "..."
   ]
  },
  {
   "cell_type": "markdown",
   "metadata": {},
   "source": [
    "### Adding new columns to a Data Frame\n",
    "\n",
    "We can add a column to a data frame using square backets. For example: \n",
    "\n",
    "- `my_df[\"new col\"] = my_df[\"col1\"] + my_df[\"col2\"]`.\n",
    "\n",
    "\n"
   ]
  },
  {
   "cell_type": "markdown",
   "metadata": {},
   "source": [
    "Let's add a column called \"madeup_time\" which has the reduction in delay from when the flight left (`dep_delay`) to when it arrived (`arr_delay`)."
   ]
  },
  {
   "cell_type": "code",
   "execution_count": null,
   "metadata": {},
   "outputs": [],
   "source": [
    "# copy the data \n",
    "flights2 = flights.copy()\n",
    "\n",
    "# calculate how many minutes were made up in flight\n",
    "madeup_time = ...\n",
    "\n",
    "\n",
    "# add change column\n",
    "...\n",
    "\n",
    "flights2.head()"
   ]
  },
  {
   "cell_type": "code",
   "execution_count": null,
   "metadata": {},
   "outputs": [],
   "source": [
    "# sort the values\n",
    "display(...)\n",
    "\n",
    "\n",
    "# sort the data from largest to smallest\n",
    "display(...)\n"
   ]
  },
  {
   "cell_type": "markdown",
   "metadata": {},
   "source": [
    "We can rename columns by:\n",
    "1. Creating a `rename_dictionary` dictionary that maps old column names to new column names\n",
    "2. By passing this dictionary to the `my_df.rename(columns = rename_dictionary)` method"
   ]
  },
  {
   "cell_type": "code",
   "execution_count": null,
   "metadata": {},
   "outputs": [],
   "source": [
    "# Rename the Percent change column\n",
    "rename_dictionary = ...\n",
    "...\n",
    "flights2.head(3)"
   ]
  },
  {
   "cell_type": "markdown",
   "metadata": {},
   "source": [
    "### Getting aggregate statistics by group\n",
    "\n",
    "We can get aggregate statistics by group using `groupby()` and `agg` methods using the following syntax:\n",
    "\n",
    "`my_df.groupby(\"col_name\").agg(\"agg_function_name\")`\n",
    "\n",
    "Can you get the average delay for each airline? \n"
   ]
  },
  {
   "cell_type": "code",
   "execution_count": null,
   "metadata": {},
   "outputs": [],
   "source": [
    "# What was the average delay for each airline? \n",
    "\n",
    "mean_delays = ...\n",
    "\n",
    "display(mean_delays.head())\n",
    "\n",
    "\n",
    "mean_delays.sort_values(\"arr_delay\", ascending = False).head()"
   ]
  },
  {
   "cell_type": "markdown",
   "metadata": {},
   "source": [
    "There are several ways to get multiple statistics by group. Perhaps the most useful way is to use the syntax:\n",
    "\n",
    "<pre>\n",
    "my_df.groupby(\"group_col_name\").agg(\n",
    "   new_col1 = ('col_name', 'statistic_name1'),\n",
    "   new_col2 = ('col_name', 'statistic_name2'),\n",
    "   new_col3 = ('col_name', 'statistic_name3')\n",
    ")\n",
    "</pre>\n",
    "\n",
    "\n",
    "Let's create a DataFrame that has for each carrier:\n",
    "1. The number of flights \n",
    "2. The max departure delay\n",
    "3. The median arrival delay"
   ]
  },
  {
   "cell_type": "code",
   "execution_count": null,
   "metadata": {},
   "outputs": [],
   "source": [
    "flights.groupby('carrier').agg(\n",
    "    num_flights = ('carrier', 'count'),\n",
    "    max_dep_delay = ('dep_delay', 'max'),\n",
    "    median_arr_delay = ('arr_delay', 'median')\n",
    ")"
   ]
  },
  {
   "cell_type": "markdown",
   "metadata": {},
   "source": [
    "![grumpy](http://www.quickmeme.com/img/17/1702cb8d3730013bdff1203920324ab55a244f0061cfaa118af059b683e2d275.jpg)"
   ]
  },
  {
   "cell_type": "markdown",
   "metadata": {},
   "source": [
    "### \"Joining\" DataFrames by Index\n",
    "\n",
    "To explore joining DataFrames, let's load the airline names into a DataFrames into a DataFrame called `airline_names`. \n",
    "\n",
    "Let's also set the Index for both the `airline_names` and `flights` to be the airline carrier code. \n",
    "\n",
    "For demonstration purposes, let's also do the following: \n",
    "\n",
    "1. Reduce the `flights` DataFrame to only have information on American Airlines (AA), Jet Blue (B6) and United Air Lines Inc. (UA) and save it to the name `flights_3_carriers`.\n",
    "\n",
    "2. Reduce `airline_names` to the first 10 entries (thus removing United Airlines), and save it to the name `airline_names_reduced` \n",
    "\n"
   ]
  },
  {
   "cell_type": "code",
   "execution_count": null,
   "metadata": {},
   "outputs": [],
   "source": [
    "flights_3_carriers = ...\n",
    "\n",
    "# just get flights from American Airlines (AA), Jet Blue (B6) and Delta (DL) \n",
    "flights_3_carriers = ...\n",
    "\n",
    "flights_3_carriers.head()\n"
   ]
  },
  {
   "cell_type": "code",
   "execution_count": null,
   "metadata": {},
   "outputs": [],
   "source": [
    "airline_names = pd.read_csv(\"nyc23_airlines.csv\", index_col = \"carrier\")\n",
    "airline_names_reduced = ...\n",
    "\n",
    "airline_names_reduced"
   ]
  },
  {
   "cell_type": "markdown",
   "metadata": {},
   "source": [
    "When two DataFrames have the same Index values, we can use the `.join()` method to join them."
   ]
  },
  {
   "cell_type": "code",
   "execution_count": null,
   "metadata": {},
   "outputs": [],
   "source": [
    "# Let's do a left join by setting how = \"left\"\n",
    "left_joined = ...\n",
    "left_joined"
   ]
  },
  {
   "cell_type": "code",
   "execution_count": null,
   "metadata": {},
   "outputs": [],
   "source": [
    "# Let's do a right join by setting how = \"right\"  \n",
    "right_joined = ...\n",
    "right_joined"
   ]
  },
  {
   "cell_type": "markdown",
   "metadata": {},
   "source": [
    "### \"Merging\" DataFrames by column values\n",
    "\n",
    "If we want to join by value in a column rather than by Index value we can use the `.merge()` method (which is very similar to the `.join()` method). \n"
   ]
  },
  {
   "cell_type": "code",
   "execution_count": null,
   "metadata": {},
   "outputs": [],
   "source": [
    "# reset the index of flights_3_carriers\n",
    "flights_3_carriers2 = ...\n",
    "flights_3_carriers2.head(3)"
   ]
  },
  {
   "cell_type": "code",
   "execution_count": null,
   "metadata": {},
   "outputs": [],
   "source": [
    "# reset the index of airline_names_reduced\n",
    "airline_names_reduced2 = ...\n",
    "airline_names_reduced2.head(3)"
   ]
  },
  {
   "cell_type": "code",
   "execution_count": null,
   "metadata": {},
   "outputs": [],
   "source": [
    "# use the .merge() method to join the DataFrames\n",
    "\n",
    "left_joined2 = ... \n",
    "left_joined2"
   ]
  },
  {
   "cell_type": "markdown",
   "metadata": {},
   "source": [
    "#### Merging with different column names\n",
    "\n",
    "What if the columns we want to join on have different names, we can use the `left_on` and `right_on` arguments to specify which columns (i.e., keys) should be used to align the two DataFrames"
   ]
  },
  {
   "cell_type": "code",
   "execution_count": null,
   "metadata": {},
   "outputs": [],
   "source": [
    "flights_3_carriers3 = flights_3_carriers2.rename(columns = {\"carrier\": \"Airline Code\"})\n",
    "flights_3_carriers3.head(3)"
   ]
  },
  {
   "cell_type": "code",
   "execution_count": null,
   "metadata": {},
   "outputs": [],
   "source": [
    "airline_names_reduced3 = airline_names_reduced2.rename(columns = {\"carrier\": \"Code\"})\n",
    "\n",
    "airline_names_reduced3.head(3)"
   ]
  },
  {
   "cell_type": "code",
   "execution_count": null,
   "metadata": {},
   "outputs": [],
   "source": [
    "# merge the DataFrames specifying the column names to join on\n",
    "\n",
    "left_joined3 = ...\n",
    "left_joined3"
   ]
  },
  {
   "cell_type": "markdown",
   "metadata": {},
   "source": [
    "#### Example: Spelling out names of airlines with the longest delays\n",
    "\n",
    "Please try to create a DataFrame where the Index name is the full airline name, and the columns are:\n",
    "- `mean_delay`: Has the mean arrival delay for each airline\n",
    "- `median_delay`: Has the median arrival delay for each airline\n",
    "- `count`: The number of flights that went into these averages\n",
    "\n",
    "To do this, start with the `flights`, and the `airline_names` DataFrames and go from there. Also, be sure your results are sorted from the largest mean delay to the smallest mean delay\n"
   ]
  },
  {
   "cell_type": "code",
   "execution_count": null,
   "metadata": {},
   "outputs": [],
   "source": [
    "\n",
    "flights_with_names = ...\n",
    "\n",
    "...\n"
   ]
  },
  {
   "cell_type": "code",
   "execution_count": null,
   "metadata": {},
   "outputs": [],
   "source": []
  },
  {
   "cell_type": "markdown",
   "metadata": {},
   "source": [
    "## Further flight delay explorations\n",
    "\n",
    "See if you can calculate (and visualize) how the mean delay is affected by:\n",
    "\n",
    "- The hour of the day a flight leaves?\n",
    "- The month of the year?\n",
    "- The different airports?\n",
    "\n",
    "As a more challenging question, see if you calculate and visualize the mean delay as a function of the wind speed.\n",
    "\n",
    "If you are interested in exploring further, you can also check out the following data:\n",
    "\n",
    "- `nyc23_planes.csv`: Information about different airplanes \n",
    "- `nyc23_airports.csv`: The names of different airports\n",
    "\n",
    "All these data sets can be downloaded using the `YData.download_data()` function. A codebook that contains information on the variables in these DataFrames can be found at: https://cran.r-project.org/web/packages/nycflights23/nycflights23.pdf "
   ]
  },
  {
   "cell_type": "markdown",
   "metadata": {},
   "source": [
    "#### Q1: Calculate and visualize how the average delay differs by the hour of the day a flight leaves"
   ]
  },
  {
   "cell_type": "code",
   "execution_count": null,
   "metadata": {},
   "outputs": [],
   "source": [
    "# reload the data so we have all the columns\n",
    "flights = pd.read_csv(...)\n",
    "\n",
    "\n",
    "delay_hour = ...\n",
    "\n",
    "plt.plot(delay_hour[\"mean_delay\"], '.-');\n",
    "plt.ylabel(\"Mean delay (mins)\");\n",
    "plt.xlabel(\"Hour\");\n"
   ]
  },
  {
   "cell_type": "markdown",
   "metadata": {},
   "source": [
    "#### Q2: Calculate and visualize how the average delay differs by the month of the year"
   ]
  },
  {
   "cell_type": "code",
   "execution_count": null,
   "metadata": {},
   "outputs": [],
   "source": [
    "delay_month = ...\n",
    "\n",
    "print(delay_month)\n",
    "\n",
    "plt.plot(delay_month[\"mean_delay\"], '.-');\n",
    "plt.ylabel(\"Mean delay (mins)\");\n",
    "plt.xlabel(\"Month\");"
   ]
  },
  {
   "cell_type": "markdown",
   "metadata": {},
   "source": [
    "#### Q3: Calculate and visualize how the average delay is differs depending on the airport it leaves from"
   ]
  },
  {
   "cell_type": "code",
   "execution_count": null,
   "metadata": {},
   "outputs": [],
   "source": [
    "delay_airport = ...\n",
    "\n",
    "print(delay_airport)\n",
    "\n",
    "plt.bar(...);\n",
    "plt.ylabel(\"Mean delay (mins)\");\n"
   ]
  },
  {
   "cell_type": "markdown",
   "metadata": {},
   "source": [
    "#### Q4: Calculate and visualize how the average delay is differs depending on wind speed\n",
    "\n",
    "The data on the weather for each day/time is loaded below.\n",
    "\n",
    "All these data sets can be downloaded using the `YData.download_data()` function. A codebook that contains information on the variables in these DataFrames can be found at: https://cran.r-project.org/web/packages/nycflights23/nycflights23.pdf \n"
   ]
  },
  {
   "cell_type": "code",
   "execution_count": null,
   "metadata": {},
   "outputs": [],
   "source": [
    "# Explore more on your own!  For example, you can examine how weather affects flight delays, etc.\n",
    "\n",
    "# Downloading the data:\n",
    "YData.download_data(\"nyc23_weather.csv\")\n",
    "\n",
    "weather = pd.read_csv(\"nyc23_weather.csv\")\n"
   ]
  },
  {
   "cell_type": "code",
   "execution_count": null,
   "metadata": {},
   "outputs": [],
   "source": [
    "flights_weather = \n",
    "\n",
    "# check that the join worked as expected\n",
    "print(flights_weather.columns)\n",
    "flights_weather.shape[0] == flights.shape[0]"
   ]
  },
  {
   "cell_type": "code",
   "execution_count": null,
   "metadata": {},
   "outputs": [],
   "source": [
    "# Round the wind speed to whole numbers\n",
    "\n",
    "flights_weather[\"wind_speed_rounded\"] = ...\n"
   ]
  },
  {
   "cell_type": "code",
   "execution_count": null,
   "metadata": {
    "scrolled": true
   },
   "outputs": [],
   "source": [
    "# Calculate how the delay is affeced by wind speed.\n",
    "# Only use data where there are at least 30 points going in to the average\n",
    "\n",
    "wind_delay = ...\n",
    "\n",
    "wind_delay = ...\n",
    "\n",
    "display(wind_delay)\n",
    "\n",
    "plt.plot(wind_delay[\"mean_delay\"], '.-');\n",
    "plt.xlabel(\"Wind speed (mph)\");\n",
    "plt.ylabel(\"Mean delay (mins)\");"
   ]
  },
  {
   "cell_type": "code",
   "execution_count": null,
   "metadata": {},
   "outputs": [],
   "source": []
  },
  {
   "cell_type": "code",
   "execution_count": null,
   "metadata": {},
   "outputs": [],
   "source": []
  },
  {
   "cell_type": "code",
   "execution_count": null,
   "metadata": {},
   "outputs": [],
   "source": [
    "# Explore more on your own! \n"
   ]
  }
 ],
 "metadata": {
  "anaconda-cloud": {},
  "kernelspec": {
   "display_name": "Python [conda env:.conda-ydata_2025spring_v1] *",
   "language": "python",
   "name": "conda-env-.conda-ydata_2025spring_v1-py"
  },
  "language_info": {
   "codemirror_mode": {
    "name": "ipython",
    "version": 3
   },
   "file_extension": ".py",
   "mimetype": "text/x-python",
   "name": "python",
   "nbconvert_exporter": "python",
   "pygments_lexer": "ipython3",
   "version": "3.13.1"
  }
 },
 "nbformat": 4,
 "nbformat_minor": 4
}
