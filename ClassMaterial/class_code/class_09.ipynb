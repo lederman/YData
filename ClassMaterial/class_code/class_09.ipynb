{
 "cells": [
  {
   "cell_type": "markdown",
   "metadata": {},
   "source": [
    "# Class 9: pandas Series and Data Frames\n",
    "\n",
    "Today we will continue our exploration of pandas DataFrames which allow us to analyze data tables."
   ]
  },
  {
   "cell_type": "code",
   "execution_count": null,
   "metadata": {},
   "outputs": [],
   "source": [
    "import YData\n",
    "\n",
    "# YData.download.download_class_code(9)   # get class code    \n",
    "# YData.download.download_class_code(9, True)  # get the code with the answers \n",
    "\n",
    "YData.download.download_data(\"dow.csv\")\n",
    "YData.download.download_data(\"nba_salaries_2022_23.csv\")\n",
    "YData.download_data(\"nyc23_flights.csv\")\n",
    "YData.download_data(\"nyc23_airlines.csv\")\n"
   ]
  },
  {
   "cell_type": "markdown",
   "metadata": {},
   "source": [
    "There are also similar functions to download the homework:"
   ]
  },
  {
   "cell_type": "code",
   "execution_count": null,
   "metadata": {},
   "outputs": [],
   "source": [
    "# YData.download.download_homework(4)  # downloads the fourth homework "
   ]
  },
  {
   "cell_type": "markdown",
   "metadata": {},
   "source": [
    "If you are using colabs, you should run the code."
   ]
  },
  {
   "cell_type": "code",
   "execution_count": null,
   "metadata": {},
   "outputs": [],
   "source": [
    "# !pip install https://github.com/lederman/YData_package/tarball/master\n",
    "# from google.colab import drive\n",
    "# drive.mount('/content/drive')"
   ]
  },
  {
   "cell_type": "markdown",
   "metadata": {},
   "source": [
    "## Warm-up exercise 1: tuples and dictionaries\n",
    "\n",
    "As a warm-up exercise, let's see if you remember how to do the following: \n",
    "\n",
    "1. Create a tuple called `my_tuple` that has the values that have 1, 2, 3\n",
    "2. Create a dictionary called `my_dict`, with:\n",
    "* key a stores a list with the values 1, 2, 3\n",
    "* key b stores a list with the values \"a\", \"b\", \"c\"\n",
    "\n"
   ]
  },
  {
   "cell_type": "code",
   "execution_count": null,
   "metadata": {},
   "outputs": [],
   "source": [
    "# Create my_tuple and print it\n",
    "\n",
    "my_tuple = ...\n"
   ]
  },
  {
   "cell_type": "code",
   "execution_count": null,
   "metadata": {},
   "outputs": [],
   "source": [
    "# Create my_dict and print it\n",
    "\n",
    "my_dict = ..."
   ]
  },
  {
   "cell_type": "code",
   "execution_count": null,
   "metadata": {},
   "outputs": [],
   "source": [
    "# Side note: we can create pandas DataFrames from dictionaries using the pd.DataFrame(my_dict) function \n",
    "\n",
    "import pandas as pd\n",
    "\n",
    "my_df = ...\n",
    "\n",
    "print(type(my_df))\n",
    "\n",
    "my_df\n"
   ]
  },
  {
   "cell_type": "markdown",
   "metadata": {},
   "source": [
    "## Cool-down exercise 2: basic pandas data manipulation\n",
    "\n",
    "Let's do a few additional warm-up exercises practicing some basic pandas data manipulation methods.\n",
    "\n",
    "As an example, let's look at data on the closing price of the [Dow Jones Industrial Average](https://www.marketwatch.com/investing/index/djia) which is an index of the prices of the 30 largest corporations in the US.\n",
    "\n",
    "The code below loads the DOW data into a Pandas DataFrame and displays the first 5 rows using the `head()` method. \n"
   ]
  },
  {
   "cell_type": "code",
   "execution_count": null,
   "metadata": {},
   "outputs": [],
   "source": [
    "# Load the dow data\n",
    "\n",
    "import pandas as pd\n",
    "import numpy as np\n",
    "import matplotlib.pyplot as plt\n",
    "\n",
    "\n",
    "# read in the data\n",
    "dow = pd.read_csv(\"dow.csv\", parse_dates=[0], date_format=\"%m/%d/%y\", index_col=\"Date\")\n",
    "\n",
    "dow.head()\n"
   ]
  },
  {
   "cell_type": "markdown",
   "metadata": {},
   "source": [
    "#### Step 1\n",
    "\n",
    "Create a DataFrame called `open_and_close` that has just he close and opening prices. Print out the first 3 rows of this DataFrame."
   ]
  },
  {
   "cell_type": "code",
   "execution_count": null,
   "metadata": {},
   "outputs": [],
   "source": [
    "open_and_close = ...\n",
    "\n"
   ]
  },
  {
   "cell_type": "markdown",
   "metadata": {},
   "source": [
    "#### Step 2\n",
    "\n",
    "Extract just the first 5 rows of the `open_and_close` into a DataFrame called `first_rows`. "
   ]
  },
  {
   "cell_type": "code",
   "execution_count": null,
   "metadata": {},
   "outputs": [],
   "source": [
    "first_rows = ...\n",
    "\n"
   ]
  },
  {
   "cell_type": "markdown",
   "metadata": {},
   "source": [
    "#### Step 3\n",
    "\n",
    "Extract just the row of the `open_and_close` from August 16th 2023 into a Series called `one_day`. \n"
   ]
  },
  {
   "cell_type": "code",
   "execution_count": null,
   "metadata": {},
   "outputs": [],
   "source": [
    "one_day = ...\n"
   ]
  },
  {
   "cell_type": "markdown",
   "metadata": {},
   "source": [
    "#### Step 4\n",
    "\n",
    "Calculate how many points the DOW changed on the day that is stored in the DataFrame `one_day` (i.e., the difference between opening and closing price). \n"
   ]
  },
  {
   "cell_type": "code",
   "execution_count": null,
   "metadata": {},
   "outputs": [],
   "source": [
    "..."
   ]
  },
  {
   "cell_type": "markdown",
   "metadata": {},
   "source": [
    "#### Step 5\n",
    "\n",
    "Now create a DataFrame that has just the data from 2023 by using Boolean masking on the `Year` column. \n",
    "\n",
    "Save the results to the name `dow_2023` and print out how many days of data are in the `dow_2023` DataFrame.\n"
   ]
  },
  {
   "cell_type": "code",
   "execution_count": null,
   "metadata": {},
   "outputs": [],
   "source": [
    "# Get the data from just 2023 using Boolean masking\n",
    "\n",
    "...\n"
   ]
  },
  {
   "cell_type": "markdown",
   "metadata": {},
   "source": [
    "#### Step 6\n",
    "\n",
    "Sort the `dow_2023` by the highest closing value and print out the first 5 rows of this sorted DataFrame.\n"
   ]
  },
  {
   "cell_type": "code",
   "execution_count": null,
   "metadata": {},
   "outputs": [],
   "source": [
    "..."
   ]
  },
  {
   "cell_type": "markdown",
   "metadata": {},
   "source": [
    "#### Step 7\n",
    "\n",
    "Plot the closing price of the DOW for 2023 as a time series."
   ]
  },
  {
   "cell_type": "code",
   "execution_count": null,
   "metadata": {},
   "outputs": [],
   "source": [
    "..."
   ]
  }
 ],
 "metadata": {
  "anaconda-cloud": {},
  "kernelspec": {
   "display_name": "Python [conda env:.conda-ydata_2025spring_v1] *",
   "language": "python",
   "name": "conda-env-.conda-ydata_2025spring_v1-py"
  },
  "language_info": {
   "codemirror_mode": {
    "name": "ipython",
    "version": 3
   },
   "file_extension": ".py",
   "mimetype": "text/x-python",
   "name": "python",
   "nbconvert_exporter": "python",
   "pygments_lexer": "ipython3",
   "version": "3.13.1"
  }
 },
 "nbformat": 4,
 "nbformat_minor": 4
}
