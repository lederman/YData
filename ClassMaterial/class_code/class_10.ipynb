{
 "cells": [
  {
   "cell_type": "markdown",
   "metadata": {},
   "source": [
    "# Class 10: Data visualization\n",
    "\n",
    "Plan for today:\n",
    "- Review and discuss additional features of using matplotlib to visualize data\n",
    "- If there is time: Data visualization using seaborn\n",
    "\n"
   ]
  },
  {
   "cell_type": "code",
   "execution_count": null,
   "metadata": {},
   "outputs": [],
   "source": [
    "import YData\n",
    "\n",
    "# YData.download.download_class_code(10)   # get class code    \n",
    "# YData.download.download_class_code(10, True)  # get the code with the answers \n",
    "\n",
    "\n",
    "YData.download_data(\"movies.csv\")\n",
    "YData.download_data(\"movie_ratings.csv\")\n"
   ]
  },
  {
   "cell_type": "code",
   "execution_count": null,
   "metadata": {},
   "outputs": [],
   "source": [
    "## You can get the fifth homework by uncommenting and running the code below.\n",
    "#YData.download.download_homework(5)  # downloads the homework "
   ]
  },
  {
   "cell_type": "markdown",
   "metadata": {},
   "source": [
    "If you are using colabs, you should run the code below."
   ]
  },
  {
   "cell_type": "code",
   "execution_count": null,
   "metadata": {},
   "outputs": [],
   "source": [
    "# !pip install https://github.com/lederman/YData_package/tarball/master\n",
    "# from google.colab import drive\n",
    "# drive.mount('/content/drive')"
   ]
  },
  {
   "cell_type": "code",
   "execution_count": null,
   "metadata": {},
   "outputs": [],
   "source": [
    "import pandas as pd\n",
    "import numpy as np\n",
    "\n",
    "import matplotlib.pyplot as plt\n",
    "%matplotlib inline"
   ]
  },
  {
   "cell_type": "markdown",
   "metadata": {},
   "source": [
    "## Warm-up exercises: Bechdel movies revisited\n",
    "\n",
    "For some warm-up exercises, let's practice manipulating data with pandas using the Bechdel data. \n",
    "\n",
    "The code below reads in the Bechdel into a pandas DataFrame named `movies` from a .csv file, and reduces the data to a subset of relevant columns (this is the same code as was used in previous classes, although hopefully now you understand what it is doing!). "
   ]
  },
  {
   "cell_type": "code",
   "execution_count": null,
   "metadata": {},
   "outputs": [],
   "source": [
    "\n",
    "movies = pd.read_csv(\"movies.csv\")\n",
    "\n",
    "col_names_to_keep = ['year', 'imdb', 'title', 'clean_test', 'binary', 'budget',\n",
    "       'domgross', 'budget_2013', 'domgross_2013', 'decade_code', 'imdb_id',\n",
    "       'rated', 'imdb_rating', 'runtime',  'imdb_votes']\n",
    "\n",
    "movies =   movies[col_names_to_keep]\n",
    "\n",
    "#movies.dropna(axis = 0, how = 'any', inplace = True, subset=col_names_to_keep[0:9])\n",
    "\n",
    "movies.head()\n"
   ]
  },
  {
   "cell_type": "markdown",
   "metadata": {},
   "source": [
    "### Warm-up exercise 1 \n",
    "\n",
    "Starting with the `movies` DataFrame create a DataFrame called `bechdel_stats` that has statistics calculated separately for movies that failed and movies that passed the Bechdel test; i.e., `bechdel_stats` DataFrame should have two rows, the first row for movies that failed the Bechdel test and one for movies that passed the Bechdel test. \n",
    "\n",
    "The `bechdel_stats` should also have the following columns: \n",
    "\n",
    "- `mean_revenue`: The mean revenue (domgross_2013) in 2013 inflation adjusted dollars\n",
    "- `mean_budget`: The mean budget (budget_2013) in 2013 inflation adjusted dollars\n",
    "- `n`: The number of movies \n",
    "\n",
    "\n"
   ]
  },
  {
   "cell_type": "code",
   "execution_count": null,
   "metadata": {},
   "outputs": [],
   "source": [
    "# 1: Get mean budget, mean revenue, and number of movies for movies that passed and did not pass the Bechdel test \n",
    "bechdel_stats = ...\n",
    "\n",
    "bechdel_stats"
   ]
  },
  {
   "cell_type": "markdown",
   "metadata": {},
   "source": [
    "### Warm-up exercise 2\n",
    "\n",
    "Now calculate the ratio of the mean budgets of movies that failed the Bechdel test to the mean budget of movies that passed the Bechdel test; i.e., you should calculate $$\\frac{mean-budget-failed}{mean-budget-passed}$$\n",
    "\n",
    "Also, please think about what this value tells you. \n"
   ]
  },
  {
   "cell_type": "code",
   "execution_count": null,
   "metadata": {},
   "outputs": [],
   "source": [
    "budget_ratio = ...\n",
    "budget_ratio "
   ]
  },
  {
   "cell_type": "markdown",
   "metadata": {},
   "source": [
    "### Warm-up exercise 3\n",
    "\n",
    "Next add a column to the `bechdel_stats` DataFrame called `prop` that has the proportion of movies that failed, and passed the Bechdel test; i.e., the first row of the `prop` column should have the proportion of movies that failed the Bechdel test and the second row should have the proportion of movies that passed the Bechdel test. \n"
   ]
  },
  {
   "cell_type": "code",
   "execution_count": null,
   "metadata": {},
   "outputs": [],
   "source": [
    "bechdel_stats[\"prop\"] = ...\n",
    "\n",
    "bechdel_stats"
   ]
  },
  {
   "cell_type": "markdown",
   "metadata": {},
   "source": [
    "### Warm-up exercise 4\n",
    "\n",
    "Finally, the code below creates a DataFrame called `movie_ratings` that has ratings of 651 movies from the website [Rotten Tomatoes](https://www.rottentomatoes.com/), and reduces the data down to the following three columns:\n",
    "\n",
    "1. `imdb`: A ID that uniquely identifies each movie\n",
    "2. `audience_score`: The mean score that audience members gave each movie\n",
    "3. `critics_score`: The mean score that critics gave each movie.\n",
    "\n",
    "Please do the following with this `movie_ratings` DataFrame:\n",
    "\n",
    "1. Use an inner join to join/merge the Bechdel movies data (i.e., the `movies` DataFrame) with this new `movie_ratings` DataFrame using the `imdb` column. Save this joined DataFrame to the name `merged_data`.  \n",
    "2. Select only columns `binary`, `audience_score`, `critics_score` from the `merged_data` DataFrame.  \n",
    "3. Calculate mean audience and critics scores separately for movies that passed and failed the bechdel test.   \n",
    "\n",
    "Do movies that fail the Bechdel test seem to have higher audience and/or critics' scores? \n"
   ]
  },
  {
   "cell_type": "code",
   "execution_count": null,
   "metadata": {},
   "outputs": [],
   "source": [
    "movie_ratings = pd.read_csv(\"movie_ratings.csv\")\n",
    "\n",
    "movie_ratings = movie_ratings[[\"imdb\", \"audience_score\", \"critics_score\"]]\n",
    "\n",
    "movie_ratings.head(3)\n"
   ]
  },
  {
   "cell_type": "code",
   "execution_count": null,
   "metadata": {},
   "outputs": [],
   "source": [
    "merged_data = ...\n"
   ]
  },
  {
   "cell_type": "markdown",
   "metadata": {},
   "source": [
    "## Data visualization!\n",
    "\n",
    "Let's now review and continue using matplotlib package to visualize data as well as explore additional features of this package. \n"
   ]
  },
  {
   "cell_type": "markdown",
   "metadata": {},
   "source": [
    "### Reviewing visualizing quantitative data\n",
    "\n",
    "Let's begin by reviewing visualizing quantitative data. In particular, let's create visualizations to view the distribution of budgets of movies that passed and failed the Bechdel test (rather than just looking at the mean budgets as we did in the warm-up exercises).\n",
    "\n",
    "In order to compare movies that passed and failed the Bechdel test, let's split our `movies` DataFrame into two DataFrames called:\n",
    "\n",
    "1. `bechdel_passed_df`: This DataFrame has only movies that passed the Bechdel test\n",
    "2. `bechdel_failed_df`: This DataFrame has only movies that failed the Bechdel test\n",
    "\n",
    "You can do this using Boolean masking and/or the `.query()` method.\n"
   ]
  },
  {
   "cell_type": "code",
   "execution_count": null,
   "metadata": {},
   "outputs": [],
   "source": [
    "# Created DataFrames for movies that passed and failed the Bechdel test using Boolean subsetting\n",
    "bechdel_passed_df = ...\n",
    "bechdel_failed_df = ...\n",
    "\n",
    "# Alternatively, use the .query() method to create these DataFrames\n",
    "bechdel_passed_df2 = ...\n",
    "\n",
    "# Sanity check that both methods return the same results\n",
    "print(np.sum(bechdel_passed_df[\"title\"] == bechdel_passed_df2[\"title\"]), bechdel_passed_df.shape[0])\n"
   ]
  },
  {
   "cell_type": "markdown",
   "metadata": {},
   "source": [
    "#### Comparing movies using boxplots\n",
    "\n",
    "Now that we have the `bechdel_passed_df` and `bechdel_failed_df` DataFrames, let's use side-by-side boxplots to compare the budgets (in 2013 dollars).\n",
    "\n",
    "Do the budgets seem similar? \n"
   ]
  },
  {
   "cell_type": "code",
   "execution_count": null,
   "metadata": {},
   "outputs": [],
   "source": [
    "...\n"
   ]
  },
  {
   "cell_type": "markdown",
   "metadata": {},
   "source": [
    "#### Comparing movies using overlapping histograms\n",
    "\n",
    "We can also compare the budgets using overlapping histograms. To do this, it will be useful to set the following properties:\n",
    "\n",
    "1. `alpha = .5`: Make the histograms have some transparency.\n",
    "2. `density =  True`: Normalize the histograms to have a area equal to 1 to account for the fact that there are different numbers of movies that passed and failed the Bechdel test in our dataset. \n",
    "\n",
    "Do you think the boxplots or the histograms better contrasts the budgets of movies that passed and failed the Bechdel test? \n"
   ]
  },
  {
   "cell_type": "code",
   "execution_count": null,
   "metadata": {},
   "outputs": [],
   "source": [
    "...\n",
    "\n",
    "plt.xlabel(\"Budget ($)\");\n",
    "plt.ylabel(\"Relative frequency\");"
   ]
  },
  {
   "cell_type": "markdown",
   "metadata": {},
   "source": [
    "### Movie revenue as a function of year\n",
    "\n",
    "Using our `movies` DataFrame, let's create a DataFrame called `year_revenue` that has a row for each year a movie was released (`year` column) and has the following variables:\n",
    "\n",
    "1. `mean_revenue_2013`: The mean revenue in 2013 inflation adjusted dollars\n",
    "2. `mean_revenue`: The mean revenue in non-inflation adjusted dollars\n",
    "3. `n`: The number of movies in our data set for each year\n",
    "\n",
    "\n",
    "Once we have created the `year_revenue`, plot the `mean_revenue_2013` and the `mean_revenue` as a function of the year. \n",
    "\n",
    "Question: What is the data so choppy prior to the 1990's\n"
   ]
  },
  {
   "cell_type": "code",
   "execution_count": null,
   "metadata": {},
   "outputs": [],
   "source": [
    "\n",
    "# Create the year_revenue DataFrame\n",
    "...\n",
    "\n",
    "\n",
    "# Visualize the time series\n",
    "...\n",
    "\n",
    "\n",
    "\n"
   ]
  },
  {
   "cell_type": "markdown",
   "metadata": {},
   "source": [
    "## Scatter plots\n",
    "\n",
    "We can create a simple scatter plots using: `plt.plot()`\n",
    "\n",
    "For more complex scatter plots we can use: `plot.scatter()`\n",
    "\n",
    "Let's start by looking at the simple `plt.plot()`"
   ]
  },
  {
   "cell_type": "code",
   "execution_count": null,
   "metadata": {},
   "outputs": [],
   "source": [
    "# Create a basic scatter plot of budget vs. revenue\n",
    "\n",
    "...\n",
    "plt.xlabel(\"Budget\");\n",
    "plt.ylabel(\"Revenue\");\n"
   ]
  },
  {
   "cell_type": "markdown",
   "metadata": {},
   "source": [
    "Let's now create a DataFrame called `movies2` which is the same as our `movies` DataFrame but it also has an additional column called `after2000`. We will use this column to plots points before the year 2000 in a different color than points after 2000. \n",
    "\n",
    "In particular, the `after2000` column should be set to the string \"red\" for movies that occur before 2000 and to the string \"blue\" for points that occured after 2000. \n",
    "\n",
    "We can then use the `plt.scatter()` function to plot data colored by whether a movie was made before or after 2000.\n",
    "\n",
    "Do the results show anything interesting/interpretable? \n",
    "\n",
    "\n",
    "Remark: red/ blue and more colorblind friendly than red/ green.\n"
   ]
  },
  {
   "cell_type": "code",
   "execution_count": null,
   "metadata": {},
   "outputs": [],
   "source": [
    "# Add a column called \"before2000\" which has values that are \n",
    "# \"blue\" for years before 2000, \"red\" for years after 2000\n",
    "\n",
    "movies2 = movies.copy()\n",
    "\n",
    "..."
   ]
  },
  {
   "cell_type": "code",
   "execution_count": null,
   "metadata": {},
   "outputs": [],
   "source": [
    "...\n",
    "\n",
    "plt.xlabel(\"Budget\");\n",
    "plt.ylabel(\"Revenue\");"
   ]
  },
  {
   "cell_type": "markdown",
   "metadata": {},
   "source": [
    "## Subplots\n",
    "\n",
    "There are two ways to create subplots in matplotlib using either:\n",
    "\n",
    "1. The pyplot interface\n",
    "2. The axes interface\n",
    "\n",
    "To create subplots using the pyplot interface we can use the `subplot` function:\n",
    "\n",
    "- `plt.subplot(num_rows, num_cols, curr_plot_num);`\n",
    "- `plt.plot(x, y);`\n"
   ]
  },
  {
   "cell_type": "code",
   "execution_count": null,
   "metadata": {},
   "outputs": [],
   "source": [
    "# reset the index to make \"binary\" a column in the DataFrame\n",
    "...\n",
    "\n",
    "# change the figure size\n",
    "...\n",
    "\n",
    "# subplots\n",
    "...\n",
    "plt.ylabel(\"Proportion\");\n",
    "\n",
    "...\n"
   ]
  },
  {
   "cell_type": "code",
   "execution_count": null,
   "metadata": {},
   "outputs": [],
   "source": [
    "# using the axes interface\n",
    "\n",
    "...\n",
    "\n",
    "# set the figure size\n",
    "...    \n",
    "# subplots\n",
    "..."
   ]
  },
  {
   "cell_type": "markdown",
   "metadata": {},
   "source": [
    "## Using matplotlib as a general canvas\n",
    "\n",
    "We can use matplotlib as a general canvas to create illustrations as well. For example, in my YData baseball class we drew a baseball diamond and updated where runners were on base.\n",
    "\n",
    "Let's explore this very briefly...\n"
   ]
  },
  {
   "cell_type": "code",
   "execution_count": null,
   "metadata": {},
   "outputs": [],
   "source": [
    "        \n",
    "# draw the baseball diamond\n",
    "\n",
    "# make the axes square\n",
    "\n",
    "# put a runner on first\n",
    "\n",
    "# turn off the axis\n",
    "\n",
    "# make the field green \n"
   ]
  },
  {
   "cell_type": "markdown",
   "metadata": {},
   "source": [
    "## Seaborn!\n",
    "\n",
    "[Seaborn](https://seaborn.pydata.org/index.html) is a Python data visualization library based on matplotlib. It provides a high-level interface for drawing attractive and informative statistical graphics. \n",
    "\n",
    "I.e., it is built on top of of matplotlib but produces better looking plots that are easier to create. \n",
    "\n",
    "Let's start by examining different themes which can produce better looking plots. We can do this using the `sns.set_theme()` method. \n"
   ]
  },
  {
   "cell_type": "code",
   "execution_count": null,
   "metadata": {},
   "outputs": [],
   "source": [
    "# Import seaborn\n",
    "import seaborn as sns\n",
    "\n",
    "# Apply the default theme\n",
    "sns.set_theme()   # default style is 'darkgrid')\n",
    "#sns.set_theme(style='whitegrid')\n",
    "\n",
    "# Side note: Matplotlib also has themes\n",
    "# plt.style.available\n",
    "# plt.style.use('fivethirtyeight')\n",
    "\n",
    "\n",
    "# Re-create a line plot of gas prices over time here\n",
    "...\n",
    "\n",
    "plt.legend();\n",
    "plt.ylabel(\"Revenue ($)\");"
   ]
  },
  {
   "cell_type": "markdown",
   "metadata": {},
   "source": [
    "### Plotting relationships between two quantitative variables\n",
    "\n",
    "We can plot relationships between two quantitative variables using the `sns.relplot()` function\n"
   ]
  },
  {
   "cell_type": "code",
   "execution_count": null,
   "metadata": {},
   "outputs": [],
   "source": [
    "# plot relationship between budget and revenue (domgross_2013)\n",
    "\n"
   ]
  },
  {
   "cell_type": "markdown",
   "metadata": {},
   "source": [
    "#### Penguins!\n",
    "\n",
    "Let's continue to explore the relplot using data on penguins. \n",
    "\n",
    "We will also look at mapping other features of our data onto visual properties including: \n",
    "- `x`, and `y` column names to be plotted (as we have done before)\n",
    "- `hue`: The column name to be mapped to the color of the points\n",
    "- `size`: The column name to be mapped to the size of points\n",
    "- `style`: The column name to be mapped to the style of the markers\n",
    "- `col`: fThe column name to be mapped to faceting to compare multiple subplots\n"
   ]
  },
  {
   "cell_type": "code",
   "execution_count": null,
   "metadata": {},
   "outputs": [],
   "source": [
    "# Let's look at some penguins\n",
    "penguins = sns.load_dataset(\"penguins\")\n",
    "\n",
    "print(type(penguins))\n",
    "\n",
    "penguins.head()\n"
   ]
  },
  {
   "cell_type": "code",
   "execution_count": null,
   "metadata": {},
   "outputs": [],
   "source": [
    "# plotting bill size on x, and y axes and other properties\n",
    "\n"
   ]
  },
  {
   "cell_type": "markdown",
   "metadata": {},
   "source": [
    "### Plotting a single quantitative variable\n",
    "\n",
    "We can plot a single quantitative variables using the `sns.displot()` function.\n",
    "\n",
    "Properties we can set include\n",
    "- `x`: The name of the data column you want to plot\n",
    "- `hue`: The name of the column that colors each point\n",
    "- `kind` The type of plot\n",
    "\n",
    "Different options for `kind` are: “hist”, “kde”, “ecdf”\n"
   ]
  },
  {
   "cell_type": "code",
   "execution_count": null,
   "metadata": {},
   "outputs": [],
   "source": [
    "# plot the flipper length\n"
   ]
  },
  {
   "cell_type": "markdown",
   "metadata": {},
   "source": [
    "### Plotting a quantitative variable for different categorical variable levels\n",
    "\n",
    "We can plot a quantitative variable for different categorical variable levels using the `sns.catplot()` function.\n",
    "\n",
    "We specify: \n",
    "- `x`: Cateogoral x-value column name\n",
    "- `y`: Quantitative y-value column name\n",
    "- `kind`: The type of plot\n",
    "\n",
    "The `kind` argument can be set to the following: “strip”, “swarm”, “box”, “violin”, “boxen”, “point”, “bar”, or “count”\n"
   ]
  },
  {
   "cell_type": "code",
   "execution_count": null,
   "metadata": {},
   "outputs": [],
   "source": [
    "# plot flipper length for the different species using different kinds of plots\n",
    "\n",
    "\n",
    "# also try “strip”, “swarm”, “box”, “violin”, “boxen”, “point”, or “bar”"
   ]
  },
  {
   "cell_type": "markdown",
   "metadata": {},
   "source": [
    "<img src = \"https://i.imgflip.com/1ezfdq.jpg\">"
   ]
  },
  {
   "cell_type": "code",
   "execution_count": null,
   "metadata": {},
   "outputs": [],
   "source": []
  },
  {
   "cell_type": "code",
   "execution_count": null,
   "metadata": {},
   "outputs": [],
   "source": []
  }
 ],
 "metadata": {
  "anaconda-cloud": {},
  "kernelspec": {
   "display_name": "Python [conda env:.conda-ydata_2025spring_v1] *",
   "language": "python",
   "name": "conda-env-.conda-ydata_2025spring_v1-py"
  },
  "language_info": {
   "codemirror_mode": {
    "name": "ipython",
    "version": 3
   },
   "file_extension": ".py",
   "mimetype": "text/x-python",
   "name": "python",
   "nbconvert_exporter": "python",
   "pygments_lexer": "ipython3",
   "version": "3.13.1"
  }
 },
 "nbformat": 4,
 "nbformat_minor": 4
}
