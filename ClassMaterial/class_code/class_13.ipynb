{
 "cells": [
  {
   "cell_type": "markdown",
   "metadata": {},
   "source": [
    "# Class 13: Review practice problems\n",
    "\n",
    "A few review practice problems. Since we didn't get many questions on Canvas, I am basing this on questions students submitted in previous years.\n"
   ]
  },
  {
   "cell_type": "code",
   "execution_count": null,
   "metadata": {},
   "outputs": [],
   "source": [
    "import YData\n",
    "\n",
    "# YData.download.download_class_code(13)   # get class code    \n",
    "# YData.download.download_class_code(13, TRUE) # get the code with the answers \n",
    "\n",
    "YData.download.download_data(\"dow.csv\")\n",
    "YData.download_data(\"nba_salaries_2015_16.csv\")\n",
    "YData.download_data(\"daily_bike_totals.csv\")\n",
    "YData.download_data(\"gapminder_data.csv\")"
   ]
  },
  {
   "cell_type": "markdown",
   "metadata": {},
   "source": [
    "If you are using colabs, you should run the code below."
   ]
  },
  {
   "cell_type": "code",
   "execution_count": null,
   "metadata": {},
   "outputs": [],
   "source": [
    "# !pip install https://github.com/lederman/YData_package/tarball/master\n",
    "# from google.colab import drive\n",
    "# drive.mount('/content/drive')"
   ]
  },
  {
   "cell_type": "code",
   "execution_count": null,
   "metadata": {},
   "outputs": [],
   "source": [
    "import pandas as pd\n",
    "import statistics\n",
    "import numpy as np\n",
    "from datetime import datetime\n",
    "import seaborn as sns\n",
    "\n",
    "import matplotlib.pyplot as plt\n",
    "%matplotlib inline"
   ]
  },
  {
   "cell_type": "markdown",
   "metadata": {},
   "source": [
    "## Practice problem 1\n",
    "\n",
    "Using the `nba_salaries` data, create a data frame called `team_count` that displays the following columns:\n",
    "\n",
    "1. `TEAM`: The team name of each NBA player represented.\n",
    "2. `num_players`: The number of players on each team.\n"
   ]
  },
  {
   "cell_type": "code",
   "execution_count": null,
   "metadata": {},
   "outputs": [],
   "source": [
    "nba = pd.read_csv(\"nba_salaries_2015_16.csv\")\n",
    "\n",
    "...\n"
   ]
  },
  {
   "cell_type": "markdown",
   "metadata": {},
   "source": [
    "## Practice problem 2\n",
    "\n",
    "Suppose the data on the DOW Jones Industrial Average was loading in Python as a DataFrame in the name `dow`. Use Boolean masking to create a DataFrame that extracts data from all \"Fridays\". Save this to `dow_fridays`. Then, sort this new dataframe by `Open` values.\n",
    "\n"
   ]
  },
  {
   "cell_type": "code",
   "execution_count": null,
   "metadata": {},
   "outputs": [],
   "source": [
    "dow = pd.read_csv(\"dow.csv\")\n",
    "dow = dow.set_index(\"Date\")\n",
    "\n",
    "\n",
    "...\n"
   ]
  },
  {
   "cell_type": "markdown",
   "metadata": {},
   "source": [
    "## Practice problem 3\n",
    "\n",
    "Now visualize the distribution of the opening price of the DOW using seaborn.\n"
   ]
  },
  {
   "cell_type": "code",
   "execution_count": null,
   "metadata": {},
   "outputs": [],
   "source": [
    "...\n"
   ]
  },
  {
   "cell_type": "markdown",
   "metadata": {},
   "source": [
    "## Practice problem 4\n",
    "\n",
    "The code below loads data on the number of bike trips take each date on NYC citibikes, and also weather information. \n",
    "\n",
    "Use this data to create a scatter plot that shows the relationship between wind speed for a given date and the number of bike rides taken with both `matplotlib` and `seaborn`. Compare and contrast the two resulting plots and the process of making them. \n",
    "\n",
    "Also, calculate the correlation between wind speed and the number of bike trips taken on each date."
   ]
  },
  {
   "cell_type": "code",
   "execution_count": null,
   "metadata": {},
   "outputs": [],
   "source": [
    "import statistics\n",
    "bikes = pd.read_csv(\"daily_bike_totals.csv\")\n",
    "bikes.head(3)"
   ]
  },
  {
   "cell_type": "code",
   "execution_count": null,
   "metadata": {},
   "outputs": [],
   "source": [
    "...\n",
    "plt.xlabel(\"Average wind speed\");\n",
    "plt.ylabel(\"Number of trips\");\n",
    "\n",
    "...\n",
    "g.set_xlabels(\"Average wind speed\");\n",
    "g.set_ylabels(\"Number of trips\");\n"
   ]
  },
  {
   "cell_type": "code",
   "execution_count": null,
   "metadata": {},
   "outputs": [],
   "source": [
    "..."
   ]
  },
  {
   "cell_type": "code",
   "execution_count": null,
   "metadata": {},
   "outputs": [],
   "source": [
    "### ooopppsss! What went wrong? - that might be something you wouldn't know to look for in the exam.\n",
    "..."
   ]
  },
  {
   "cell_type": "code",
   "execution_count": null,
   "metadata": {},
   "outputs": [],
   "source": []
  },
  {
   "cell_type": "markdown",
   "metadata": {},
   "source": [
    "## Practice problem 5\n",
    "\n",
    "Now, let's try to look at the relationship between the Dow close and the number of bike trips.\n",
    "\n",
    "First, we have to merge the two datasets:"
   ]
  },
  {
   "cell_type": "code",
   "execution_count": null,
   "metadata": {},
   "outputs": [],
   "source": [
    "..."
   ]
  },
  {
   "cell_type": "markdown",
   "metadata": {},
   "source": [
    "Then we can calculate the correlation and make a scatterplot."
   ]
  },
  {
   "cell_type": "code",
   "execution_count": null,
   "metadata": {},
   "outputs": [],
   "source": [
    "...\n",
    "g.set_xlabels(\"Dow Close\");\n",
    "g.set_ylabels(\"Number of trips\");\n",
    "\n",
    "..."
   ]
  },
  {
   "cell_type": "code",
   "execution_count": null,
   "metadata": {},
   "outputs": [],
   "source": []
  },
  {
   "cell_type": "markdown",
   "metadata": {},
   "source": [
    "## Practice problem 6\n",
    "\n",
    "\n",
    "Consider the following code, in which lines from Taylor Swift's \"Love Story\" are interspersed in William Shakespeare's Romeo and Juliet:\n",
    "\n",
    "\n",
    "<pre>\n",
    "\n",
    "lines =  [\"Two households, both alike in dignity,\",\n",
    "          \"On a balcony in summer air\",\n",
    "          \"In fair Verona, where we lay our scene,\",\n",
    "          \"See the lights, see the party, the ball gowns\",\n",
    "          \"From ancient grudge break to new mutiny,\",\n",
    "          \"See you make your way through the crowd\",\n",
    "          \"Where civil blood makes civil hands unclean.\",\n",
    "          \"And say, 'Hello'\",\n",
    "          \"From forth the fatal loins of these two foes\",\n",
    "          \"Little did I know\",\n",
    "          \"A pair of star-cross'd lovers take their life;\",\n",
    "          \"That you were Romeo, you were throwin' pebbles\",\n",
    "          \"Whose misadventured piteous overthrows\",\n",
    "          \"And my daddy said, 'Stay away from Juliet'\",\n",
    "          \"Do with their death bury their parents' strife.\",\n",
    "          \"And I was cryin' on the staircase\",\n",
    "          \"The fearful passage of their death-mark'd love,\",\n",
    "          \"Beggin' you, 'Please don't go,' and I said\",\n",
    "          \"And the continuance of their parents' rage,\",\n",
    "          \"'Romeo, take me somewhere we can be alone'\",\n",
    "          \"Which, but their children's end, nought could remove,\",\n",
    "          \"'I'll be waiting, all there's left to do is run'\",\n",
    "          \"Is now the two hours' traffic of our stage;\",\n",
    "          \"You'll be the prince and I'll be the princess\",\n",
    "          \"The which if you with patient ears attend,\",\n",
    "          \"It's a love story, baby, just say, 'Yes'\",\n",
    "          \"What here shall miss, our toil shall strive to mend.\"]\n",
    "                          \n",
    "</pre>\n",
    "\n",
    "If I wanted to print ONLY the text from Romeo and Juliet, I could code the following: `lines[_:_:_]`\n",
    "\n",
    "Which numbers belong in the blanks above\n",
    "\n",
    "a) 1, 14, 2\n",
    "\n",
    "b) 0, 27, 2\n",
    "\n",
    "c) 1, 27, 4\n",
    "\n",
    "d) 0, 14, 4\n",
    "\n"
   ]
  },
  {
   "cell_type": "code",
   "execution_count": null,
   "metadata": {},
   "outputs": [],
   "source": [
    "\n",
    "lines =  [\"Two households, both alike in dignity,\",\n",
    "          \"On a balcony in summer air\",\n",
    "          \"In fair Verona, where we lay our scene,\",\n",
    "          \"See the lights, see the party, the ball gowns\",\n",
    "          \"From ancient grudge break to new mutiny,\",\n",
    "          \"See you make your way through the crowd\",\n",
    "          \"Where civil blood makes civil hands unclean.\",\n",
    "          \"And say, 'Hello'\",\n",
    "          \"From forth the fatal loins of these two foes\",\n",
    "          \"Little did I know\",\n",
    "          \"A pair of star-cross'd lovers take their life;\",\n",
    "          \"That you were Romeo, you were throwin' pebbles\",\n",
    "          \"Whose misadventured piteous overthrows\",\n",
    "          \"And my daddy said, 'Stay away from Juliet'\",\n",
    "          \"Do with their death bury their parents' strife.\",\n",
    "          \"And I was cryin' on the staircase\",\n",
    "          \"The fearful passage of their death-mark'd love,\",\n",
    "          \"Beggin' you, 'Please don't go,' and I said\",\n",
    "          \"And the continuance of their parents' rage,\",\n",
    "          \"'Romeo, take me somewhere we can be alone'\",\n",
    "          \"Which, but their children's end, nought could remove,\",\n",
    "          \"'I'll be waiting, all there's left to do is run'\",\n",
    "          \"Is now the two hours' traffic of our stage;\",\n",
    "          \"You'll be the prince and I'll be the princess\",\n",
    "          \"The which if you with patient ears attend,\",\n",
    "          \"It's a love story, baby, just say, 'Yes'\",\n",
    "          \"What here shall miss, our toil shall strive to mend.\"]\n",
    "\n",
    "..."
   ]
  },
  {
   "cell_type": "markdown",
   "metadata": {},
   "source": [
    "## Practice problem 7\n",
    "\n",
    "Let's say that you have a DataFrame called `USgdp` with the year in a column called `year`, and the United State's GDP per capita in a column called `gdpPercap`. \n",
    "\n",
    "Which one of these options would give you the total GDP change between the starting year and each later year? \n",
    "\n",
    "a. `np.diff(USgdp[\"gdpPercap\"])`\n",
    "\n",
    "b. `np.cumsum(USgdp[\"gdpPercap\"])`\n",
    "\n",
    "c. `np.diff(np.cumsum(USgdp[\"gdpPercap\"]))`\n",
    "\n",
    "d. `np.cumsum(np.diff(USgdp[\"gdpPercap\"]))`\n",
    "\n"
   ]
  },
  {
   "cell_type": "code",
   "execution_count": null,
   "metadata": {},
   "outputs": [],
   "source": [
    "gapminder = pd.read_csv(\"gapminder_data.csv\")\n",
    "USgdp = gapminder[gapminder[\"country\"] == \"United States\"][[\"year\", \"gdpPercap\"]]\n",
    "display(USgdp.head(3))\n",
    "\n",
    "..."
   ]
  },
  {
   "cell_type": "code",
   "execution_count": null,
   "metadata": {},
   "outputs": [],
   "source": []
  }
 ],
 "metadata": {
  "anaconda-cloud": {},
  "kernelspec": {
   "display_name": "Python [conda env:ydata_2025spring_v1] *",
   "language": "python",
   "name": "conda-env-ydata_2025spring_v1-py"
  },
  "language_info": {
   "codemirror_mode": {
    "name": "ipython",
    "version": 3
   },
   "file_extension": ".py",
   "mimetype": "text/x-python",
   "name": "python",
   "nbconvert_exporter": "python",
   "pygments_lexer": "ipython3",
   "version": "3.13.2"
  }
 },
 "nbformat": 4,
 "nbformat_minor": 4
}
