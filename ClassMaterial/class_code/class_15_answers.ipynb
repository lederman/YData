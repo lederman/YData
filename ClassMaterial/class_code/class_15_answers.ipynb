{
 "cells": [
  {
   "cell_type": "markdown",
   "metadata": {},
   "source": [
    "# Class 16: For loops and writing functions\n",
    "\n",
    "In this notebook we will continuing learning some of the fundamentals of Python, namely using for loops, conditional statements and writing functions. This material will be useful for analyzing data, and more generally for any programming you do in the future. "
   ]
  },
  {
   "cell_type": "code",
   "execution_count": 1,
   "metadata": {},
   "outputs": [
    {
     "name": "stdout",
     "output_type": "stream",
     "text": [
      "The file `States_shapefile.geojson` already exists.\n",
      "If you would like to download a new copy of the file, please rename the existing copy of the file.\n",
      "The file `state_demographics.csv` already exists.\n",
      "If you would like to download a new copy of the file, please rename the existing copy of the file.\n",
      "The file `daily_bike_totals.csv` already exists.\n",
      "If you would like to download a new copy of the file, please rename the existing copy of the file.\n",
      "The file `powers.jpg` already exists.\n",
      "If you would like to download a new copy of the file, please rename the existing copy of the file.\n"
     ]
    }
   ],
   "source": [
    "import YData\n",
    "\n",
    "# YData.download.download_class_code(15)       \n",
    "# YData.download.download_class_code(15, TRUE) # get the code with the answers \n",
    "\n",
    "\n",
    "YData.download.download_data(\"States_shapefile.geojson\")\n",
    "YData.download.download_data(\"state_demographics.csv\")\n",
    "\n",
    "YData.download_data('daily_bike_totals.csv')\n",
    "\n",
    "YData.download_image(\"powers.jpg\")"
   ]
  },
  {
   "cell_type": "markdown",
   "metadata": {},
   "source": [
    "If you are using google colabs, you should also uncomment and run the code below install the YData package and to mount the your google drive."
   ]
  },
  {
   "cell_type": "code",
   "execution_count": 2,
   "metadata": {},
   "outputs": [],
   "source": [
    "# !pip install https://github.com/lederman/YData_package/tarball/master\n",
    "# from google.colab import drive\n",
    "# drive.mount('/content/drive')"
   ]
  },
  {
   "cell_type": "code",
   "execution_count": 3,
   "metadata": {},
   "outputs": [],
   "source": [
    "import pandas as pd\n",
    "import numpy as np\n",
    "import matplotlib.pyplot as plt\n",
    "import geopandas as gpd\n"
   ]
  },
  {
   "cell_type": "code",
   "execution_count": null,
   "metadata": {},
   "outputs": [],
   "source": []
  },
  {
   "cell_type": "markdown",
   "metadata": {},
   "source": [
    "### 1. Anorther choropleth map example\n",
    "\n",
    "Let's fit a choropleth map examining which states in the USA are growing in terms of people having lots of childern. \n",
    "\n",
    "Any thoughts on which state this might be? \n",
    "\n",
    "To start, let's load a map with the outlines of the states in the USA, and load demographic data."
   ]
  },
  {
   "cell_type": "code",
   "execution_count": 4,
   "metadata": {},
   "outputs": [
    {
     "name": "stdout",
     "output_type": "stream",
     "text": [
      "EPSG:4326\n"
     ]
    },
    {
     "data": {
      "text/html": [
       "<div>\n",
       "<style scoped>\n",
       "    .dataframe tbody tr th:only-of-type {\n",
       "        vertical-align: middle;\n",
       "    }\n",
       "\n",
       "    .dataframe tbody tr th {\n",
       "        vertical-align: top;\n",
       "    }\n",
       "\n",
       "    .dataframe thead th {\n",
       "        text-align: right;\n",
       "    }\n",
       "</style>\n",
       "<table border=\"1\" class=\"dataframe\">\n",
       "  <thead>\n",
       "    <tr style=\"text-align: right;\">\n",
       "      <th></th>\n",
       "      <th>FID</th>\n",
       "      <th>Program</th>\n",
       "      <th>State_Code</th>\n",
       "      <th>State_Name</th>\n",
       "      <th>Flowing_St</th>\n",
       "      <th>FID_1</th>\n",
       "      <th>geometry</th>\n",
       "    </tr>\n",
       "  </thead>\n",
       "  <tbody>\n",
       "    <tr>\n",
       "      <th>0</th>\n",
       "      <td>1</td>\n",
       "      <td>PERMIT TRACKING</td>\n",
       "      <td>AL</td>\n",
       "      <td>ALABAMA</td>\n",
       "      <td>F</td>\n",
       "      <td>919</td>\n",
       "      <td>POLYGON ((-85.07007 31.9807, -85.11515 31.9074...</td>\n",
       "    </tr>\n",
       "    <tr>\n",
       "      <th>1</th>\n",
       "      <td>2</td>\n",
       "      <td></td>\n",
       "      <td>AK</td>\n",
       "      <td>ALASKA</td>\n",
       "      <td>N</td>\n",
       "      <td>920</td>\n",
       "      <td>MULTIPOLYGON (((-161.33379 58.73325, -161.3824...</td>\n",
       "    </tr>\n",
       "    <tr>\n",
       "      <th>2</th>\n",
       "      <td>3</td>\n",
       "      <td>AZURITE</td>\n",
       "      <td>AZ</td>\n",
       "      <td>ARIZONA</td>\n",
       "      <td>F</td>\n",
       "      <td>921</td>\n",
       "      <td>POLYGON ((-114.52063 33.02771, -114.55909 33.0...</td>\n",
       "    </tr>\n",
       "  </tbody>\n",
       "</table>\n",
       "</div>"
      ],
      "text/plain": [
       "   FID          Program State_Code State_Name Flowing_St  FID_1  \\\n",
       "0    1  PERMIT TRACKING         AL    ALABAMA          F    919   \n",
       "1    2                          AK     ALASKA          N    920   \n",
       "2    3          AZURITE         AZ    ARIZONA          F    921   \n",
       "\n",
       "                                            geometry  \n",
       "0  POLYGON ((-85.07007 31.9807, -85.11515 31.9074...  \n",
       "1  MULTIPOLYGON (((-161.33379 58.73325, -161.3824...  \n",
       "2  POLYGON ((-114.52063 33.02771, -114.55909 33.0...  "
      ]
     },
     "execution_count": 4,
     "metadata": {},
     "output_type": "execute_result"
    }
   ],
   "source": [
    "state_map = gpd.read_file(\"States_shapefile.geojson\")\n",
    "\n",
    "print(state_map.crs)\n",
    "\n",
    "state_map.head(3)"
   ]
  },
  {
   "cell_type": "code",
   "execution_count": 5,
   "metadata": {},
   "outputs": [
    {
     "data": {
      "text/html": [
       "<div>\n",
       "<style scoped>\n",
       "    .dataframe tbody tr th:only-of-type {\n",
       "        vertical-align: middle;\n",
       "    }\n",
       "\n",
       "    .dataframe tbody tr th {\n",
       "        vertical-align: top;\n",
       "    }\n",
       "\n",
       "    .dataframe thead th {\n",
       "        text-align: right;\n",
       "    }\n",
       "</style>\n",
       "<table border=\"1\" class=\"dataframe\">\n",
       "  <thead>\n",
       "    <tr style=\"text-align: right;\">\n",
       "      <th></th>\n",
       "      <th>State</th>\n",
       "      <th>under_5</th>\n",
       "      <th>over_64</th>\n",
       "      <th>bachelors_degree</th>\n",
       "      <th>total</th>\n",
       "    </tr>\n",
       "  </thead>\n",
       "  <tbody>\n",
       "    <tr>\n",
       "      <th>0</th>\n",
       "      <td>Alabama</td>\n",
       "      <td>295811.997</td>\n",
       "      <td>741954.681</td>\n",
       "      <td>1095959.202</td>\n",
       "      <td>4849377</td>\n",
       "    </tr>\n",
       "    <tr>\n",
       "      <th>1</th>\n",
       "      <td>Alaska</td>\n",
       "      <td>54518.168</td>\n",
       "      <td>69252.808</td>\n",
       "      <td>202601.300</td>\n",
       "      <td>736732</td>\n",
       "    </tr>\n",
       "    <tr>\n",
       "      <th>2</th>\n",
       "      <td>Arizona</td>\n",
       "      <td>430814.976</td>\n",
       "      <td>1070305.956</td>\n",
       "      <td>1810769.196</td>\n",
       "      <td>6731484</td>\n",
       "    </tr>\n",
       "  </tbody>\n",
       "</table>\n",
       "</div>"
      ],
      "text/plain": [
       "     State     under_5      over_64  bachelors_degree    total\n",
       "0  Alabama  295811.997   741954.681       1095959.202  4849377\n",
       "1   Alaska   54518.168    69252.808        202601.300   736732\n",
       "2  Arizona  430814.976  1070305.956       1810769.196  6731484"
      ]
     },
     "execution_count": 5,
     "metadata": {},
     "output_type": "execute_result"
    }
   ],
   "source": [
    "# load demographic data on the states\n",
    "\n",
    "state_demographics = pd.read_csv(\"state_demographics.csv\")\n",
    "state_demographics.head(3)"
   ]
  },
  {
   "cell_type": "code",
   "execution_count": 6,
   "metadata": {},
   "outputs": [
    {
     "data": {
      "text/html": [
       "<div>\n",
       "<style scoped>\n",
       "    .dataframe tbody tr th:only-of-type {\n",
       "        vertical-align: middle;\n",
       "    }\n",
       "\n",
       "    .dataframe tbody tr th {\n",
       "        vertical-align: top;\n",
       "    }\n",
       "\n",
       "    .dataframe thead th {\n",
       "        text-align: right;\n",
       "    }\n",
       "</style>\n",
       "<table border=\"1\" class=\"dataframe\">\n",
       "  <thead>\n",
       "    <tr style=\"text-align: right;\">\n",
       "      <th></th>\n",
       "      <th>State</th>\n",
       "      <th>under_5</th>\n",
       "      <th>over_64</th>\n",
       "      <th>bachelors_degree</th>\n",
       "      <th>total</th>\n",
       "    </tr>\n",
       "  </thead>\n",
       "  <tbody>\n",
       "    <tr>\n",
       "      <th>0</th>\n",
       "      <td>ALABAMA</td>\n",
       "      <td>295811.997</td>\n",
       "      <td>741954.681</td>\n",
       "      <td>1.095959e+06</td>\n",
       "      <td>4849377</td>\n",
       "    </tr>\n",
       "    <tr>\n",
       "      <th>1</th>\n",
       "      <td>ALASKA</td>\n",
       "      <td>54518.168</td>\n",
       "      <td>69252.808</td>\n",
       "      <td>2.026013e+05</td>\n",
       "      <td>736732</td>\n",
       "    </tr>\n",
       "    <tr>\n",
       "      <th>2</th>\n",
       "      <td>ARIZONA</td>\n",
       "      <td>430814.976</td>\n",
       "      <td>1070305.956</td>\n",
       "      <td>1.810769e+06</td>\n",
       "      <td>6731484</td>\n",
       "    </tr>\n",
       "    <tr>\n",
       "      <th>3</th>\n",
       "      <td>ARKANSAS</td>\n",
       "      <td>192813.985</td>\n",
       "      <td>465719.933</td>\n",
       "      <td>5.962402e+05</td>\n",
       "      <td>2966369</td>\n",
       "    </tr>\n",
       "    <tr>\n",
       "      <th>4</th>\n",
       "      <td>CALIFORNIA</td>\n",
       "      <td>2522162.500</td>\n",
       "      <td>5005522.500</td>\n",
       "      <td>1.191237e+07</td>\n",
       "      <td>38802500</td>\n",
       "    </tr>\n",
       "  </tbody>\n",
       "</table>\n",
       "</div>"
      ],
      "text/plain": [
       "        State      under_5      over_64  bachelors_degree     total\n",
       "0     ALABAMA   295811.997   741954.681      1.095959e+06   4849377\n",
       "1      ALASKA    54518.168    69252.808      2.026013e+05    736732\n",
       "2     ARIZONA   430814.976  1070305.956      1.810769e+06   6731484\n",
       "3    ARKANSAS   192813.985   465719.933      5.962402e+05   2966369\n",
       "4  CALIFORNIA  2522162.500  5005522.500      1.191237e+07  38802500"
      ]
     },
     "execution_count": 6,
     "metadata": {},
     "output_type": "execute_result"
    }
   ],
   "source": [
    "# In order to join the DataFrames, we need to make sure the states have the same capitalization\n",
    "\n",
    "state_demographics2 = state_demographics.copy()\n",
    "state_demographics2[\"State\"] = state_demographics[\"State\"].apply(str.upper)\n",
    "\n",
    "state_demographics2.head()"
   ]
  },
  {
   "cell_type": "code",
   "execution_count": 7,
   "metadata": {},
   "outputs": [
    {
     "data": {
      "text/html": [
       "<div>\n",
       "<style scoped>\n",
       "    .dataframe tbody tr th:only-of-type {\n",
       "        vertical-align: middle;\n",
       "    }\n",
       "\n",
       "    .dataframe tbody tr th {\n",
       "        vertical-align: top;\n",
       "    }\n",
       "\n",
       "    .dataframe thead th {\n",
       "        text-align: right;\n",
       "    }\n",
       "</style>\n",
       "<table border=\"1\" class=\"dataframe\">\n",
       "  <thead>\n",
       "    <tr style=\"text-align: right;\">\n",
       "      <th></th>\n",
       "      <th>FID</th>\n",
       "      <th>Program</th>\n",
       "      <th>State_Code</th>\n",
       "      <th>State_Name</th>\n",
       "      <th>Flowing_St</th>\n",
       "      <th>FID_1</th>\n",
       "      <th>geometry</th>\n",
       "      <th>State</th>\n",
       "      <th>under_5</th>\n",
       "      <th>over_64</th>\n",
       "      <th>bachelors_degree</th>\n",
       "      <th>total</th>\n",
       "    </tr>\n",
       "  </thead>\n",
       "  <tbody>\n",
       "    <tr>\n",
       "      <th>0</th>\n",
       "      <td>1</td>\n",
       "      <td>PERMIT TRACKING</td>\n",
       "      <td>AL</td>\n",
       "      <td>ALABAMA</td>\n",
       "      <td>F</td>\n",
       "      <td>919</td>\n",
       "      <td>POLYGON ((-85.07007 31.9807, -85.11515 31.9074...</td>\n",
       "      <td>ALABAMA</td>\n",
       "      <td>295811.997</td>\n",
       "      <td>741954.681</td>\n",
       "      <td>1095959.202</td>\n",
       "      <td>4849377</td>\n",
       "    </tr>\n",
       "    <tr>\n",
       "      <th>1</th>\n",
       "      <td>2</td>\n",
       "      <td></td>\n",
       "      <td>AK</td>\n",
       "      <td>ALASKA</td>\n",
       "      <td>N</td>\n",
       "      <td>920</td>\n",
       "      <td>MULTIPOLYGON (((-161.33379 58.73325, -161.3824...</td>\n",
       "      <td>ALASKA</td>\n",
       "      <td>54518.168</td>\n",
       "      <td>69252.808</td>\n",
       "      <td>202601.300</td>\n",
       "      <td>736732</td>\n",
       "    </tr>\n",
       "    <tr>\n",
       "      <th>2</th>\n",
       "      <td>3</td>\n",
       "      <td>AZURITE</td>\n",
       "      <td>AZ</td>\n",
       "      <td>ARIZONA</td>\n",
       "      <td>F</td>\n",
       "      <td>921</td>\n",
       "      <td>POLYGON ((-114.52063 33.02771, -114.55909 33.0...</td>\n",
       "      <td>ARIZONA</td>\n",
       "      <td>430814.976</td>\n",
       "      <td>1070305.956</td>\n",
       "      <td>1810769.196</td>\n",
       "      <td>6731484</td>\n",
       "    </tr>\n",
       "  </tbody>\n",
       "</table>\n",
       "</div>"
      ],
      "text/plain": [
       "   FID          Program State_Code State_Name Flowing_St  FID_1  \\\n",
       "0    1  PERMIT TRACKING         AL    ALABAMA          F    919   \n",
       "1    2                          AK     ALASKA          N    920   \n",
       "2    3          AZURITE         AZ    ARIZONA          F    921   \n",
       "\n",
       "                                            geometry    State     under_5  \\\n",
       "0  POLYGON ((-85.07007 31.9807, -85.11515 31.9074...  ALABAMA  295811.997   \n",
       "1  MULTIPOLYGON (((-161.33379 58.73325, -161.3824...   ALASKA   54518.168   \n",
       "2  POLYGON ((-114.52063 33.02771, -114.55909 33.0...  ARIZONA  430814.976   \n",
       "\n",
       "       over_64  bachelors_degree    total  \n",
       "0   741954.681       1095959.202  4849377  \n",
       "1    69252.808        202601.300   736732  \n",
       "2  1070305.956       1810769.196  6731484  "
      ]
     },
     "execution_count": 7,
     "metadata": {},
     "output_type": "execute_result"
    }
   ],
   "source": [
    "# Join the demographic information on to the the USA map\n",
    "\n",
    "state_map_demo = state_map.merge(state_demographics2, \n",
    "                                 left_on = \"State_Name\", right_on = \"State\")\n",
    "state_map_demo.head(3)"
   ]
  },
  {
   "cell_type": "code",
   "execution_count": 8,
   "metadata": {},
   "outputs": [
    {
     "data": {
      "image/png": "[encoded data removed]",
      "text/plain": [
       "<Figure size 640x480 with 1 Axes>"
      ]
     },
     "metadata": {},
     "output_type": "display_data"
    }
   ],
   "source": [
    "# Let's plot the map \n",
    "\n",
    "state_map_demo.plot(column = \"under_5\", cmap='viridis');\n"
   ]
  },
  {
   "cell_type": "markdown",
   "metadata": {},
   "source": [
    "Is there anything [wrong with this map](https://xkcd.com/1138/)? "
   ]
  },
  {
   "cell_type": "code",
   "execution_count": 9,
   "metadata": {},
   "outputs": [
    {
     "data": {
      "text/html": [
       "<div>\n",
       "<style scoped>\n",
       "    .dataframe tbody tr th:only-of-type {\n",
       "        vertical-align: middle;\n",
       "    }\n",
       "\n",
       "    .dataframe tbody tr th {\n",
       "        vertical-align: top;\n",
       "    }\n",
       "\n",
       "    .dataframe thead th {\n",
       "        text-align: right;\n",
       "    }\n",
       "</style>\n",
       "<table border=\"1\" class=\"dataframe\">\n",
       "  <thead>\n",
       "    <tr style=\"text-align: right;\">\n",
       "      <th></th>\n",
       "      <th>FID</th>\n",
       "      <th>Program</th>\n",
       "      <th>State_Code</th>\n",
       "      <th>State_Name</th>\n",
       "      <th>Flowing_St</th>\n",
       "      <th>FID_1</th>\n",
       "      <th>geometry</th>\n",
       "      <th>State</th>\n",
       "      <th>under_5</th>\n",
       "      <th>over_64</th>\n",
       "      <th>bachelors_degree</th>\n",
       "      <th>total</th>\n",
       "      <th>percent_under_5</th>\n",
       "    </tr>\n",
       "  </thead>\n",
       "  <tbody>\n",
       "    <tr>\n",
       "      <th>0</th>\n",
       "      <td>1</td>\n",
       "      <td>PERMIT TRACKING</td>\n",
       "      <td>AL</td>\n",
       "      <td>ALABAMA</td>\n",
       "      <td>F</td>\n",
       "      <td>919</td>\n",
       "      <td>POLYGON ((-85.07007 31.9807, -85.11515 31.9074...</td>\n",
       "      <td>ALABAMA</td>\n",
       "      <td>295811.997</td>\n",
       "      <td>741954.681</td>\n",
       "      <td>1095959.202</td>\n",
       "      <td>4849377</td>\n",
       "      <td>6.1</td>\n",
       "    </tr>\n",
       "    <tr>\n",
       "      <th>1</th>\n",
       "      <td>2</td>\n",
       "      <td></td>\n",
       "      <td>AK</td>\n",
       "      <td>ALASKA</td>\n",
       "      <td>N</td>\n",
       "      <td>920</td>\n",
       "      <td>MULTIPOLYGON (((-161.33379 58.73325, -161.3824...</td>\n",
       "      <td>ALASKA</td>\n",
       "      <td>54518.168</td>\n",
       "      <td>69252.808</td>\n",
       "      <td>202601.300</td>\n",
       "      <td>736732</td>\n",
       "      <td>7.4</td>\n",
       "    </tr>\n",
       "    <tr>\n",
       "      <th>2</th>\n",
       "      <td>3</td>\n",
       "      <td>AZURITE</td>\n",
       "      <td>AZ</td>\n",
       "      <td>ARIZONA</td>\n",
       "      <td>F</td>\n",
       "      <td>921</td>\n",
       "      <td>POLYGON ((-114.52063 33.02771, -114.55909 33.0...</td>\n",
       "      <td>ARIZONA</td>\n",
       "      <td>430814.976</td>\n",
       "      <td>1070305.956</td>\n",
       "      <td>1810769.196</td>\n",
       "      <td>6731484</td>\n",
       "      <td>6.4</td>\n",
       "    </tr>\n",
       "  </tbody>\n",
       "</table>\n",
       "</div>"
      ],
      "text/plain": [
       "   FID          Program State_Code State_Name Flowing_St  FID_1  \\\n",
       "0    1  PERMIT TRACKING         AL    ALABAMA          F    919   \n",
       "1    2                          AK     ALASKA          N    920   \n",
       "2    3          AZURITE         AZ    ARIZONA          F    921   \n",
       "\n",
       "                                            geometry    State     under_5  \\\n",
       "0  POLYGON ((-85.07007 31.9807, -85.11515 31.9074...  ALABAMA  295811.997   \n",
       "1  MULTIPOLYGON (((-161.33379 58.73325, -161.3824...   ALASKA   54518.168   \n",
       "2  POLYGON ((-114.52063 33.02771, -114.55909 33.0...  ARIZONA  430814.976   \n",
       "\n",
       "       over_64  bachelors_degree    total  percent_under_5  \n",
       "0   741954.681       1095959.202  4849377              6.1  \n",
       "1    69252.808        202601.300   736732              7.4  \n",
       "2  1070305.956       1810769.196  6731484              6.4  "
      ]
     },
     "execution_count": 9,
     "metadata": {},
     "output_type": "execute_result"
    }
   ],
   "source": [
    "# Let's look at the proportion of people under the age of 5\n",
    "\n",
    "state_map_demo2 = state_map_demo.copy()\n",
    "\n",
    "state_map_demo2[\"percent_under_5\"] = 100 * state_map_demo[\"under_5\"]/state_map_demo[\"total\"]\n",
    "\n",
    "state_map_demo2.head(3)\n"
   ]
  },
  {
   "cell_type": "code",
   "execution_count": 10,
   "metadata": {},
   "outputs": [
    {
     "data": {
      "image/png": "[encoded data removed]",
      "text/plain": [
       "<Figure size 640x480 with 1 Axes>"
      ]
     },
     "metadata": {},
     "output_type": "display_data"
    }
   ],
   "source": [
    "# Let's plot the new map\n",
    "\n",
    "state_map_demo2.plot(column = \"percent_under_5\", cmap='viridis');\n"
   ]
  },
  {
   "cell_type": "code",
   "execution_count": 11,
   "metadata": {
    "scrolled": true
   },
   "outputs": [
    {
     "data": {
      "image/png": "[encoded data removed]",
      "text/plain": [
       "<Figure size 640x480 with 2 Axes>"
      ]
     },
     "metadata": {},
     "output_type": "display_data"
    }
   ],
   "source": [
    "# But what does it mean?\n",
    "state_map_demo2.plot(column = \"percent_under_5\", cmap='viridis',legend=True);\n"
   ]
  },
  {
   "cell_type": "markdown",
   "metadata": {},
   "source": [
    "## 1 B: Try it yourself at home...\n",
    "\n",
    "Let's do a little more practice creating maps but creating a choropleth map of the percentage of people who are over 64 in each state. \n",
    "\n",
    "Data with the state boundaries and the demographic information are loaded below. Please do the following steps:\n",
    "\n",
    "1. Join/merge the map data with the demographic data to create a new geoDataFrame called `state_map_demo`.\n",
    "2. Create a new column in `state_map_demo` called `percent_over_64` that has the percentage of people over 64 (i.e., we are normalizing our choropleth map).\n",
    "3. Plot the choropleth showing the percentage of people over 64. Does this map look like you would expect? \n"
   ]
  },
  {
   "cell_type": "code",
   "execution_count": 12,
   "metadata": {},
   "outputs": [
    {
     "name": "stdout",
     "output_type": "stream",
     "text": [
      "EPSG:4326\n"
     ]
    },
    {
     "data": {
      "text/html": [
       "<div>\n",
       "<style scoped>\n",
       "    .dataframe tbody tr th:only-of-type {\n",
       "        vertical-align: middle;\n",
       "    }\n",
       "\n",
       "    .dataframe tbody tr th {\n",
       "        vertical-align: top;\n",
       "    }\n",
       "\n",
       "    .dataframe thead th {\n",
       "        text-align: right;\n",
       "    }\n",
       "</style>\n",
       "<table border=\"1\" class=\"dataframe\">\n",
       "  <thead>\n",
       "    <tr style=\"text-align: right;\">\n",
       "      <th></th>\n",
       "      <th>FID</th>\n",
       "      <th>Program</th>\n",
       "      <th>State_Code</th>\n",
       "      <th>State_Name</th>\n",
       "      <th>Flowing_St</th>\n",
       "      <th>FID_1</th>\n",
       "      <th>geometry</th>\n",
       "    </tr>\n",
       "  </thead>\n",
       "  <tbody>\n",
       "    <tr>\n",
       "      <th>0</th>\n",
       "      <td>1</td>\n",
       "      <td>PERMIT TRACKING</td>\n",
       "      <td>AL</td>\n",
       "      <td>ALABAMA</td>\n",
       "      <td>F</td>\n",
       "      <td>919</td>\n",
       "      <td>POLYGON ((-85.07007 31.9807, -85.11515 31.9074...</td>\n",
       "    </tr>\n",
       "    <tr>\n",
       "      <th>1</th>\n",
       "      <td>2</td>\n",
       "      <td></td>\n",
       "      <td>AK</td>\n",
       "      <td>ALASKA</td>\n",
       "      <td>N</td>\n",
       "      <td>920</td>\n",
       "      <td>MULTIPOLYGON (((-161.33379 58.73325, -161.3824...</td>\n",
       "    </tr>\n",
       "    <tr>\n",
       "      <th>2</th>\n",
       "      <td>3</td>\n",
       "      <td>AZURITE</td>\n",
       "      <td>AZ</td>\n",
       "      <td>ARIZONA</td>\n",
       "      <td>F</td>\n",
       "      <td>921</td>\n",
       "      <td>POLYGON ((-114.52063 33.02771, -114.55909 33.0...</td>\n",
       "    </tr>\n",
       "  </tbody>\n",
       "</table>\n",
       "</div>"
      ],
      "text/plain": [
       "   FID          Program State_Code State_Name Flowing_St  FID_1  \\\n",
       "0    1  PERMIT TRACKING         AL    ALABAMA          F    919   \n",
       "1    2                          AK     ALASKA          N    920   \n",
       "2    3          AZURITE         AZ    ARIZONA          F    921   \n",
       "\n",
       "                                            geometry  \n",
       "0  POLYGON ((-85.07007 31.9807, -85.11515 31.9074...  \n",
       "1  MULTIPOLYGON (((-161.33379 58.73325, -161.3824...  \n",
       "2  POLYGON ((-114.52063 33.02771, -114.55909 33.0...  "
      ]
     },
     "execution_count": 12,
     "metadata": {},
     "output_type": "execute_result"
    }
   ],
   "source": [
    "import geopandas as gpd\n",
    "\n",
    "# The state boundaries data\n",
    "state_map = gpd.read_file(\"States_shapefile.geojson\")\n",
    "print(state_map.crs)\n",
    "state_map.head(3)"
   ]
  },
  {
   "cell_type": "code",
   "execution_count": 13,
   "metadata": {},
   "outputs": [
    {
     "data": {
      "text/html": [
       "<div>\n",
       "<style scoped>\n",
       "    .dataframe tbody tr th:only-of-type {\n",
       "        vertical-align: middle;\n",
       "    }\n",
       "\n",
       "    .dataframe tbody tr th {\n",
       "        vertical-align: top;\n",
       "    }\n",
       "\n",
       "    .dataframe thead th {\n",
       "        text-align: right;\n",
       "    }\n",
       "</style>\n",
       "<table border=\"1\" class=\"dataframe\">\n",
       "  <thead>\n",
       "    <tr style=\"text-align: right;\">\n",
       "      <th></th>\n",
       "      <th>State</th>\n",
       "      <th>under_5</th>\n",
       "      <th>over_64</th>\n",
       "      <th>bachelors_degree</th>\n",
       "      <th>total</th>\n",
       "    </tr>\n",
       "  </thead>\n",
       "  <tbody>\n",
       "    <tr>\n",
       "      <th>0</th>\n",
       "      <td>ALABAMA</td>\n",
       "      <td>295811.997</td>\n",
       "      <td>741954.681</td>\n",
       "      <td>1095959.202</td>\n",
       "      <td>4849377</td>\n",
       "    </tr>\n",
       "    <tr>\n",
       "      <th>1</th>\n",
       "      <td>ALASKA</td>\n",
       "      <td>54518.168</td>\n",
       "      <td>69252.808</td>\n",
       "      <td>202601.300</td>\n",
       "      <td>736732</td>\n",
       "    </tr>\n",
       "    <tr>\n",
       "      <th>2</th>\n",
       "      <td>ARIZONA</td>\n",
       "      <td>430814.976</td>\n",
       "      <td>1070305.956</td>\n",
       "      <td>1810769.196</td>\n",
       "      <td>6731484</td>\n",
       "    </tr>\n",
       "  </tbody>\n",
       "</table>\n",
       "</div>"
      ],
      "text/plain": [
       "     State     under_5      over_64  bachelors_degree    total\n",
       "0  ALABAMA  295811.997   741954.681       1095959.202  4849377\n",
       "1   ALASKA   54518.168    69252.808        202601.300   736732\n",
       "2  ARIZONA  430814.976  1070305.956       1810769.196  6731484"
      ]
     },
     "execution_count": 13,
     "metadata": {},
     "output_type": "execute_result"
    }
   ],
   "source": [
    "# The state demographic information \n",
    "state_demographics = pd.read_csv(\"state_demographics.csv\")\n",
    "state_demographics[\"State\"] = state_demographics[\"State\"].apply(str.upper)\n",
    "state_demographics.head(3)"
   ]
  },
  {
   "cell_type": "code",
   "execution_count": 14,
   "metadata": {},
   "outputs": [],
   "source": [
    "# Join/merge the state map with the state demographic data\n",
    "\n",
    "state_map_demo = state_map.merge(state_demographics, \n",
    "                                 left_on = \"State_Name\", right_on = \"State\", how = \"left\")"
   ]
  },
  {
   "cell_type": "code",
   "execution_count": 15,
   "metadata": {},
   "outputs": [],
   "source": [
    "# Add a new column called \"percent_over_64\" to \"normalize your map\"\n",
    "\n",
    "state_map_demo[\"percent_over_64\"] = 100 * state_map_demo[\"over_64\"]/state_map_demo[\"total\"]\n"
   ]
  },
  {
   "cell_type": "code",
   "execution_count": 16,
   "metadata": {},
   "outputs": [
    {
     "data": {
      "image/png": "[encoded data removed]",
      "text/plain": [
       "<Figure size 640x480 with 2 Axes>"
      ]
     },
     "metadata": {},
     "output_type": "display_data"
    }
   ],
   "source": [
    "# Plot the choropleth map\n",
    "\n",
    "state_map_demo.plot(column = \"percent_over_64\", cmap='viridis', legend = True,\n",
    "                   legend_kwds={'label': \"Life expectancy by Country\",\n",
    "                        'orientation': \"horizontal\"});\n"
   ]
  },
  {
   "cell_type": "markdown",
   "metadata": {},
   "source": [
    "## 2. Loops\n",
    "\n",
    "Loops allow us to repeat a process many times. They are particularly useful in conjuction with lists to process and store multiple values. \n"
   ]
  },
  {
   "cell_type": "code",
   "execution_count": 17,
   "metadata": {},
   "outputs": [
    {
     "name": "stdout",
     "output_type": "stream",
     "text": [
      "first\n",
      "second\n",
      "third\n",
      "forth\n"
     ]
    }
   ],
   "source": [
    "# Loop over items in a list\n",
    "a_list = [\"first\", \"second\", \"third\", \"forth\"]\n",
    "\n",
    "\n",
    "for item in a_list:\n",
    "    print(item)\n"
   ]
  },
  {
   "cell_type": "code",
   "execution_count": 18,
   "metadata": {},
   "outputs": [
    {
     "name": "stdout",
     "output_type": "stream",
     "text": [
      "0\n",
      "1\n",
      "2\n",
      "3\n",
      "4\n",
      "5\n",
      "6\n",
      "7\n",
      "8\n",
      "9\n"
     ]
    }
   ],
   "source": [
    "# Loop over numbers using the range() function\n",
    "\n",
    "for i in range(10):\n",
    "    print(i)\n"
   ]
  },
  {
   "cell_type": "code",
   "execution_count": 19,
   "metadata": {},
   "outputs": [
    {
     "name": "stdout",
     "output_type": "stream",
     "text": [
      "1\n",
      "4\n",
      "9\n",
      "16\n",
      "25\n",
      "36\n"
     ]
    }
   ],
   "source": [
    "# Can you print the squares of the numbers from 1 to 6? \n",
    "\n",
    "for i in range(1, 7): \n",
    "    print(i**2)"
   ]
  },
  {
   "cell_type": "markdown",
   "metadata": {},
   "source": [
    "We can use a loop to build up values in a list..."
   ]
  },
  {
   "cell_type": "code",
   "execution_count": 20,
   "metadata": {},
   "outputs": [
    {
     "data": {
      "text/plain": [
       "[1, 4, 9, 16, 25, 36]"
      ]
     },
     "execution_count": 20,
     "metadata": {},
     "output_type": "execute_result"
    }
   ],
   "source": [
    "# Create a list that has the squares of the numbers 1 to 6\n",
    "# hint: the .append() method will be useful\n",
    "\n",
    "my_squares = []\n",
    "\n",
    "for i in range(1, 7):\n",
    "    \n",
    "    my_squares.append(i**2)\n",
    "\n",
    "\n",
    "my_squares\n"
   ]
  },
  {
   "cell_type": "markdown",
   "metadata": {},
   "source": [
    "### Exercise 1\n",
    "\n",
    "Can you use loops to sum the numbers 1 to 10? \n",
    "\n",
    "Or, to use mathematical notation, can you compute $\\sum_{i=1}^{10} i$ ?\n"
   ]
  },
  {
   "cell_type": "code",
   "execution_count": 21,
   "metadata": {},
   "outputs": [
    {
     "data": {
      "text/plain": [
       "55"
      ]
     },
     "execution_count": 21,
     "metadata": {},
     "output_type": "execute_result"
    }
   ],
   "source": [
    "# Sum numbers from 1 to 10\n",
    "my_sum = 0\n",
    "\n",
    "for i in range(1, 11):\n",
    "    my_sum = my_sum + i\n",
    "\n",
    "my_sum"
   ]
  },
  {
   "cell_type": "markdown",
   "metadata": {},
   "source": [
    "### 3. Enumerate\n",
    "\n",
    "We can use enumerate(my_list) to get both values from a list and sequential index numbers.\n"
   ]
  },
  {
   "cell_type": "code",
   "execution_count": 22,
   "metadata": {},
   "outputs": [
    {
     "name": "stdout",
     "output_type": "stream",
     "text": [
      "0 first\n",
      "1 second\n",
      "2 third\n",
      "3 forth\n"
     ]
    }
   ],
   "source": [
    "# We can use enumerate(my_list) to get both values from a list \n",
    "# and sequential index numbers\n",
    "\n",
    "a_list = [\"first\", \"second\", \"third\", \"forth\"]\n",
    "\n",
    "for i, curr_val in enumerate(a_list):\n",
    "    print(str(i) + \" \" + curr_val)\n"
   ]
  },
  {
   "cell_type": "markdown",
   "metadata": {},
   "source": [
    "### zip function\n",
    "\n",
    "We can use `zip(list_1, list_2)` to get values from two lists in a for loop. \n"
   ]
  },
  {
   "cell_type": "code",
   "execution_count": 23,
   "metadata": {},
   "outputs": [
    {
     "name": "stdout",
     "output_type": "stream",
     "text": [
      "a x\n",
      "b y\n",
      "c z\n"
     ]
    }
   ],
   "source": [
    "list_1 = [\"a\", \"b\", \"c\"]\n",
    "list_2 = [\"x\", \"y\", \"z\"]\n",
    "\n",
    "for item1, item2 in zip(list_1, list_2):\n",
    "    print(item1, item2)\n"
   ]
  },
  {
   "cell_type": "markdown",
   "metadata": {},
   "source": [
    "### Exercise 2\n",
    "\n",
    "The code below extracts two lists that have the the high and low temperatures from 2014 in NYC. \n",
    "\n",
    "Please use for loops to create a list called `temp_range` that has the temperature range (high - low temperature) for each day.\n",
    "\n",
    "There are a few ways to do this, so see if you can come up with a solution that works. Try to do this without using numpy, and once you have a solution, see if you can get the same result using numpy. \n",
    "\n"
   ]
  },
  {
   "cell_type": "code",
   "execution_count": 24,
   "metadata": {},
   "outputs": [
    {
     "name": "stdout",
     "output_type": "stream",
     "text": [
      "[33.08, 33.08, 18.14, 29.12, 39.92]\n",
      "[24.26, 18.14, 9.14, 8.24, 27.14]\n"
     ]
    }
   ],
   "source": [
    "import pandas as pd\n",
    "import matplotlib.pyplot as plt\n",
    "\n",
    "bikes = pd.read_csv(\"daily_bike_totals.csv\", parse_dates = [0])\n",
    "bikes_2014 = bikes.query(\"date > '2013-12-31'\").query(\"date < '2015-01-01'\")\n",
    "\n",
    "max_temps = bikes_2014[\"max_temperature\"].to_list()\n",
    "min_temps = bikes_2014[\"min_temperature\"].to_list()\n",
    "\n",
    "print(max_temps[0:5])\n",
    "print(min_temps[0:5])"
   ]
  },
  {
   "cell_type": "code",
   "execution_count": 25,
   "metadata": {},
   "outputs": [
    {
     "data": {
      "image/png": "[encoded data removed]",
      "text/plain": [
       "<Figure size 640x480 with 1 Axes>"
      ]
     },
     "metadata": {},
     "output_type": "display_data"
    }
   ],
   "source": [
    "# Create a list called \"temp_range\" that has the temperature range for each day in 2014...\n",
    "\n",
    "# Start with an empty list\n",
    "temp_range = [];\n",
    "\n",
    "\n",
    "# Use a for loop to add the temperature range for each day\n",
    "for i in range(len(max_temps)):\n",
    "\n",
    "    curr_max = max_temps[i]\n",
    "    curr_min = min_temps[i]\n",
    "    temp_range.append(curr_max - curr_min)\n",
    "\n",
    "\n",
    "\n",
    "# Plot the range of temperatures\n",
    "plt.plot(temp_range);\n"
   ]
  },
  {
   "cell_type": "code",
   "execution_count": 26,
   "metadata": {},
   "outputs": [
    {
     "data": {
      "image/png": "[encoded data removed]",
      "text/plain": [
       "<Figure size 640x480 with 1 Axes>"
      ]
     },
     "metadata": {},
     "output_type": "display_data"
    }
   ],
   "source": [
    "# Alternative solution using the zip function...\n",
    "\n",
    "# Start with an empty list\n",
    "temp_range2 = [];\n",
    "\n",
    "\n",
    "# Use a for loop to add the temperature range for each day\n",
    "for curr_max, curr_min in zip(max_temps, min_temps):\n",
    "\n",
    "    temp_range2.append(curr_max - curr_min)\n",
    "\n",
    "\n",
    "\n",
    "# Plot the range of temperatures\n",
    "plt.plot(temp_range2);\n"
   ]
  },
  {
   "cell_type": "code",
   "execution_count": 27,
   "metadata": {},
   "outputs": [
    {
     "data": {
      "text/plain": [
       "np.int64(365)"
      ]
     },
     "execution_count": 27,
     "metadata": {},
     "output_type": "execute_result"
    }
   ],
   "source": [
    "# Can you do the same calculation using numpy arrays?  \n",
    "# Which is easier? \n",
    "import numpy as np\n",
    "\n",
    "temp_range_array = np.array(max_temps) - np.array(min_temps)\n",
    "\n",
    "\n",
    "# checking they are the same\n",
    "np.sum(temp_range_array == np.array(temp_range))\n"
   ]
  },
  {
   "cell_type": "markdown",
   "metadata": {},
   "source": [
    "## 4a. Review of comparisons\n",
    "\n",
    "Let's do a very quick review of mathematical and string comparisons in Python."
   ]
  },
  {
   "cell_type": "code",
   "execution_count": 28,
   "metadata": {},
   "outputs": [
    {
     "data": {
      "text/plain": [
       "True"
      ]
     },
     "execution_count": 28,
     "metadata": {},
     "output_type": "execute_result"
    }
   ],
   "source": [
    "# Basic math comparison\n",
    "3 > 1"
   ]
  },
  {
   "cell_type": "code",
   "execution_count": 29,
   "metadata": {},
   "outputs": [
    {
     "data": {
      "text/plain": [
       "bool"
      ]
     },
     "execution_count": 29,
     "metadata": {},
     "output_type": "execute_result"
    }
   ],
   "source": [
    "# Checking the type of a basic math comparison\n",
    "type(3 > 1)"
   ]
  },
  {
   "cell_type": "code",
   "execution_count": 30,
   "metadata": {},
   "outputs": [
    {
     "data": {
      "text/plain": [
       "True"
      ]
     },
     "execution_count": 30,
     "metadata": {},
     "output_type": "execute_result"
    }
   ],
   "source": [
    "# We use == to compare whether two items are equal (not 3 = 3)\n",
    "3 == 3"
   ]
  },
  {
   "cell_type": "code",
   "execution_count": 31,
   "metadata": {},
   "outputs": [
    {
     "data": {
      "text/plain": [
       "False"
      ]
     },
     "execution_count": 31,
     "metadata": {},
     "output_type": "execute_result"
    }
   ],
   "source": [
    "# We can use the `and` keyword to combine multiple logical statements \n",
    "n1 = 20\n",
    "n2 = 2\n",
    "\n",
    "n1 > 10 and n2 > 5"
   ]
  },
  {
   "cell_type": "code",
   "execution_count": 32,
   "metadata": {},
   "outputs": [
    {
     "data": {
      "text/plain": [
       "True"
      ]
     },
     "execution_count": 32,
     "metadata": {},
     "output_type": "execute_result"
    }
   ],
   "source": [
    "# We can also use the `or` keyword to combine multiple logical statements \n",
    "n1 > 10 or n2 > 5"
   ]
  },
  {
   "cell_type": "code",
   "execution_count": 33,
   "metadata": {},
   "outputs": [
    {
     "data": {
      "text/plain": [
       "True"
      ]
     },
     "execution_count": 33,
     "metadata": {},
     "output_type": "execute_result"
    }
   ],
   "source": [
    "# We can also compare strings\n",
    "\"my string\" == \"my string\""
   ]
  },
  {
   "cell_type": "code",
   "execution_count": 34,
   "metadata": {},
   "outputs": [
    {
     "data": {
      "text/plain": [
       "True"
      ]
     },
     "execution_count": 34,
     "metadata": {},
     "output_type": "execute_result"
    }
   ],
   "source": [
    "# Stings compare alphabetically\n",
    "\"cats\" < \"dogs\""
   ]
  },
  {
   "cell_type": "code",
   "execution_count": 35,
   "metadata": {},
   "outputs": [
    {
     "data": {
      "text/plain": [
       "True"
      ]
     },
     "execution_count": 35,
     "metadata": {},
     "output_type": "execute_result"
    }
   ],
   "source": [
    "# Shorter words occur earlier than longer words that have matching letters\n",
    "\"cat\" < \"catastrophe\""
   ]
  },
  {
   "cell_type": "markdown",
   "metadata": {},
   "source": [
    "## 4b. Conditional Statements \n",
    "\n",
    "Conditional statements allow use to excecute particular pieces of code when certain conditions are met; i.e., they execute a piece of code when a Boolean value is True. \n",
    "\n",
    "Let's explore!"
   ]
  },
  {
   "cell_type": "code",
   "execution_count": 36,
   "metadata": {},
   "outputs": [
    {
     "name": "stdout",
     "output_type": "stream",
     "text": [
      "Senior\n"
     ]
    }
   ],
   "source": [
    "num_semesters = 7\n",
    "\n",
    "if num_semesters <= 0:\n",
    "    print('Not a valid input')\n",
    "elif num_semesters <= 2:\n",
    "    print('First Year')\n",
    "elif num_semesters <= 4:\n",
    "    print('Sophomore')\n",
    "elif num_semesters <= 6:\n",
    "    print('Junior')\n",
    "elif num_semesters <= 8:\n",
    "    print('Senior')\n",
    "else:\n",
    "    print(\"NA\")\n"
   ]
  },
  {
   "cell_type": "code",
   "execution_count": 37,
   "metadata": {},
   "outputs": [
    {
     "name": "stdout",
     "output_type": "stream",
     "text": [
      "0\n",
      "Not a valid input\n",
      "1\n",
      "First Year\n",
      "2\n",
      "First Year\n",
      "3\n",
      "Sophomore\n",
      "4\n",
      "Sophomore\n",
      "5\n",
      "Junior\n",
      "6\n",
      "Junior\n",
      "7\n",
      "Senior\n",
      "8\n",
      "Senior\n",
      "9\n",
      "NA\n"
     ]
    }
   ],
   "source": [
    "# Let's look at a conditional statement in a loop\n",
    "\n",
    "for num_semesters in range(10):\n",
    "    \n",
    "    print(num_semesters)\n",
    "\n",
    "    if num_semesters <= 0:\n",
    "        print('Not a valid input')\n",
    "    elif num_semesters <= 2:\n",
    "        print('First Year')\n",
    "    elif num_semesters <= 4:\n",
    "        print('Sophomore')\n",
    "    elif num_semesters <= 6:\n",
    "        print('Junior')\n",
    "    elif num_semesters <= 8:\n",
    "        print('Senior')\n",
    "    else:\n",
    "        print(\"NA\")\n"
   ]
  },
  {
   "cell_type": "markdown",
   "metadata": {},
   "source": [
    "## 5. Functions!\n",
    "\n",
    "We have already used many functions in this class that are built into Python or are imported from different modules/packages. \n",
    "\n",
    "Let's now write some new functions outselves! \n"
   ]
  },
  {
   "cell_type": "code",
   "execution_count": 38,
   "metadata": {},
   "outputs": [],
   "source": [
    "# Write a function that doubles a value\n",
    "def double(x):\n",
    "    return x * 2"
   ]
  },
  {
   "cell_type": "code",
   "execution_count": 39,
   "metadata": {},
   "outputs": [
    {
     "data": {
      "text/plain": [
       "14"
      ]
     },
     "execution_count": 39,
     "metadata": {},
     "output_type": "execute_result"
    }
   ],
   "source": [
    "# Try the function out 1\n",
    "double(7)"
   ]
  },
  {
   "cell_type": "code",
   "execution_count": 40,
   "metadata": {},
   "outputs": [
    {
     "data": {
      "text/plain": [
       "10.0"
      ]
     },
     "execution_count": 40,
     "metadata": {},
     "output_type": "execute_result"
    }
   ],
   "source": [
    "# Try the function out 2\n",
    "double(15/3)"
   ]
  },
  {
   "cell_type": "code",
   "execution_count": 41,
   "metadata": {},
   "outputs": [
    {
     "data": {
      "text/plain": [
       "24"
      ]
     },
     "execution_count": 41,
     "metadata": {},
     "output_type": "execute_result"
    }
   ],
   "source": [
    "# Try the function out 3\n",
    "my_number = 12\n",
    "double(my_number)"
   ]
  },
  {
   "cell_type": "code",
   "execution_count": 42,
   "metadata": {},
   "outputs": [
    {
     "data": {
      "text/plain": [
       "3.0"
      ]
     },
     "execution_count": 42,
     "metadata": {},
     "output_type": "execute_result"
    }
   ],
   "source": [
    "# Try the function out 4\n",
    "double(my_number / 8)"
   ]
  },
  {
   "cell_type": "code",
   "execution_count": 43,
   "metadata": {},
   "outputs": [
    {
     "data": {
      "text/plain": [
       "array([ 6,  8, 10])"
      ]
     },
     "execution_count": 43,
     "metadata": {},
     "output_type": "execute_result"
    }
   ],
   "source": [
    "# Will this work?\n",
    "double(np.array([3, 4, 5]))"
   ]
  },
  {
   "cell_type": "code",
   "execution_count": 44,
   "metadata": {},
   "outputs": [
    {
     "data": {
      "text/plain": [
       "'datadata'"
      ]
     },
     "execution_count": 44,
     "metadata": {},
     "output_type": "execute_result"
    }
   ],
   "source": [
    "# Will this work? \n",
    "double('data')"
   ]
  },
  {
   "cell_type": "code",
   "execution_count": 45,
   "metadata": {},
   "outputs": [
    {
     "data": {
      "text/plain": [
       "2"
      ]
     },
     "execution_count": 45,
     "metadata": {},
     "output_type": "execute_result"
    }
   ],
   "source": [
    "# What about this? \n",
    "double(True)"
   ]
  },
  {
   "cell_type": "code",
   "execution_count": 46,
   "metadata": {},
   "outputs": [],
   "source": [
    "# \"local scope\"\n",
    "# x"
   ]
  },
  {
   "cell_type": "code",
   "execution_count": 47,
   "metadata": {},
   "outputs": [],
   "source": [
    "# Let's set x to 17 \n",
    "x = 17"
   ]
  },
  {
   "cell_type": "code",
   "execution_count": 48,
   "metadata": {},
   "outputs": [
    {
     "data": {
      "text/plain": [
       "4"
      ]
     },
     "execution_count": 48,
     "metadata": {},
     "output_type": "execute_result"
    }
   ],
   "source": [
    "# Double 2\n",
    "double(2)"
   ]
  },
  {
   "cell_type": "code",
   "execution_count": 49,
   "metadata": {},
   "outputs": [
    {
     "data": {
      "text/plain": [
       "17"
      ]
     },
     "execution_count": 49,
     "metadata": {},
     "output_type": "execute_result"
    }
   ],
   "source": [
    "# Did x change?\n",
    "x"
   ]
  },
  {
   "cell_type": "code",
   "execution_count": 50,
   "metadata": {},
   "outputs": [
    {
     "data": {
      "text/plain": [
       "34"
      ]
     },
     "execution_count": 50,
     "metadata": {},
     "output_type": "execute_result"
    }
   ],
   "source": [
    "# What if we double x? \n",
    "double(x)"
   ]
  },
  {
   "cell_type": "code",
   "execution_count": 51,
   "metadata": {},
   "outputs": [
    {
     "data": {
      "text/plain": [
       "17"
      ]
     },
     "execution_count": 51,
     "metadata": {},
     "output_type": "execute_result"
    }
   ],
   "source": [
    "# Did x change?\n",
    "x"
   ]
  },
  {
   "cell_type": "markdown",
   "metadata": {},
   "source": [
    "### Function extras: docstrings\n",
    "\n",
    "When writing functions that will be used by other people (or your future self) it is important to write some documentation describing how your function works. In Python, this type of documentation is called a \"docstring\". The text in a docstring is in triple quotes which allows for multi-line comments.\n",
    "\n",
    "There are a number of [convensions](https://peps.python.org/pep-0257/) surrounding on how to write a docstring, including: \n",
    "\n",
    "- The doc string line should begin with a capital letter and end with a period.\n",
    "- The first line should be a short description.\n",
    "- If there are more lines in the documentation string, the second line should be blank, visually separating the summary from the rest of the description.\n",
    "- The following lines should be one or more paragraphs describing the object’s calling conventions, its side effects, etc.\n"
   ]
  },
  {
   "cell_type": "code",
   "execution_count": 52,
   "metadata": {},
   "outputs": [],
   "source": [
    "def double(x):\n",
    "    \"\"\"Take a number and doubles it.\n",
    "    \n",
    "    Parameters:\n",
    "    x (int): A number that should be doubled\n",
    "    \n",
    "    Returns:\n",
    "    int: The numbers that is doubled\n",
    "    \n",
    "    \"\"\"\n",
    "    return x * 2"
   ]
  },
  {
   "cell_type": "code",
   "execution_count": 53,
   "metadata": {},
   "outputs": [
    {
     "data": {
      "text/plain": [
       "\u001b[0;31mSignature:\u001b[0m  \u001b[0mdouble\u001b[0m\u001b[0;34m(\u001b[0m\u001b[0mx\u001b[0m\u001b[0;34m)\u001b[0m\u001b[0;34m\u001b[0m\u001b[0;34m\u001b[0m\u001b[0m\n",
       "\u001b[0;31mDocstring:\u001b[0m\n",
       "Take a number and doubles it.\n",
       "\n",
       "Parameters:\n",
       "x (int): A number that should be doubled\n",
       "\n",
       "Returns:\n",
       "int: The numbers that is doubled\n",
       "\u001b[0;31mFile:\u001b[0m      /var/folders/_5/xc897jbx4p365zpzqq1xwttx8qnj14/T/ipykernel_98105/4122166559.py\n",
       "\u001b[0;31mType:\u001b[0m      function"
      ]
     },
     "metadata": {},
     "output_type": "display_data"
    }
   ],
   "source": [
    "# View the docstring\n",
    "? double"
   ]
  },
  {
   "cell_type": "markdown",
   "metadata": {},
   "source": [
    "## Multiple arguments and default values\n",
    "\n",
    "We can also write functions that take multiple arguments and we can set particular arguments to have default values that are used if no value for an argument is given. \n",
    "\n",
    "Let's explore this...\n",
    "\n"
   ]
  },
  {
   "cell_type": "code",
   "execution_count": 54,
   "metadata": {},
   "outputs": [],
   "source": [
    "# Define powerit function \n",
    "def powerit(x, pow):\n",
    "    return x**pow"
   ]
  },
  {
   "cell_type": "code",
   "execution_count": 55,
   "metadata": {},
   "outputs": [
    {
     "data": {
      "text/plain": [
       "8"
      ]
     },
     "execution_count": 55,
     "metadata": {},
     "output_type": "execute_result"
    }
   ],
   "source": [
    "# Use the function \n",
    "powerit(2, 3)"
   ]
  },
  {
   "cell_type": "code",
   "execution_count": 56,
   "metadata": {},
   "outputs": [],
   "source": [
    "# Try the function with a single argument\n",
    "#powerit(2)"
   ]
  },
  {
   "cell_type": "code",
   "execution_count": 57,
   "metadata": {},
   "outputs": [],
   "source": [
    "# Set a default argument value\n",
    "\n",
    "def powerit(x, pow = 3):\n",
    "    return x**pow"
   ]
  },
  {
   "cell_type": "code",
   "execution_count": 58,
   "metadata": {},
   "outputs": [
    {
     "data": {
      "text/plain": [
       "8"
      ]
     },
     "execution_count": 58,
     "metadata": {},
     "output_type": "execute_result"
    }
   ],
   "source": [
    "# Try the new function with a single argument\n",
    "powerit(2)"
   ]
  },
  {
   "cell_type": "code",
   "execution_count": 59,
   "metadata": {},
   "outputs": [
    {
     "data": {
      "text/plain": [
       "32"
      ]
     },
     "execution_count": 59,
     "metadata": {},
     "output_type": "execute_result"
    }
   ],
   "source": [
    "# Try the function with two arguments\n",
    "powerit(2, 5)"
   ]
  },
  {
   "cell_type": "markdown",
   "metadata": {},
   "source": [
    "![higher powers](powers.jpg)"
   ]
  },
  {
   "cell_type": "markdown",
   "metadata": {},
   "source": [
    "## Multiple return values \n",
    "\n",
    "We can also write funciton that can return multiple values. We can do this by returning a tuple. \n",
    "\n",
    "Recall, tuples are a basic data structure in Python that is like a list. However, unlike lists, elements in tuples are \"immutable\" meaning that once we create a tuple, we can not modify the values in the tuple.\n",
    "\n",
    "We create tuples by using values in parentheses separated by commas:\n",
    "\n",
    "`my_tuple = (10, 20, 30)`\n",
    "\n",
    "Let's explore tuples now... "
   ]
  },
  {
   "cell_type": "code",
   "execution_count": 60,
   "metadata": {},
   "outputs": [
    {
     "data": {
      "text/plain": [
       "(10, 20, 30)"
      ]
     },
     "execution_count": 60,
     "metadata": {},
     "output_type": "execute_result"
    }
   ],
   "source": [
    "# Recall tuples\n",
    "my_tuple = (10, 20, 30)\n",
    "\n",
    "my_tuple"
   ]
  },
  {
   "cell_type": "code",
   "execution_count": 61,
   "metadata": {},
   "outputs": [
    {
     "data": {
      "text/plain": [
       "20"
      ]
     },
     "execution_count": 61,
     "metadata": {},
     "output_type": "execute_result"
    }
   ],
   "source": [
    "# We can access elements of the tuple using square brackets (the same as lists)\n",
    "my_tuple[1]"
   ]
  },
  {
   "cell_type": "code",
   "execution_count": 62,
   "metadata": {},
   "outputs": [],
   "source": [
    "# Unlike a list, we can't reassign values in a tuple \n",
    "#my_tuple[1] = 50"
   ]
  },
  {
   "cell_type": "code",
   "execution_count": 63,
   "metadata": {},
   "outputs": [
    {
     "data": {
      "text/plain": [
       "30"
      ]
     },
     "execution_count": 63,
     "metadata": {},
     "output_type": "execute_result"
    }
   ],
   "source": [
    "# We extract values from tuples into regular names using \"tuple unpacking\"\n",
    "\n",
    "val1, val2, val3 = my_tuple\n",
    "\n",
    "\n",
    "val3"
   ]
  },
  {
   "cell_type": "markdown",
   "metadata": {},
   "source": [
    "Let's create a function `power23(x)` that returns a number squared and a number cubed. "
   ]
  },
  {
   "cell_type": "code",
   "execution_count": 64,
   "metadata": {},
   "outputs": [],
   "source": [
    "# Create a function that returns a value squared and cubed\n",
    "\n",
    "def sqr_and_cube(x):\n",
    "    \n",
    "    return (x**2, x**3)"
   ]
  },
  {
   "cell_type": "code",
   "execution_count": 65,
   "metadata": {},
   "outputs": [
    {
     "data": {
      "text/plain": [
       "(4, 8)"
      ]
     },
     "execution_count": 65,
     "metadata": {},
     "output_type": "execute_result"
    }
   ],
   "source": [
    "sqr_and_cube(2)"
   ]
  },
  {
   "cell_type": "code",
   "execution_count": 66,
   "metadata": {},
   "outputs": [
    {
     "name": "stdout",
     "output_type": "stream",
     "text": [
      "4\n",
      "8\n"
     ]
    }
   ],
   "source": [
    "# We can use \"tuple unpacking\" to assign both outputs to different names\n",
    "squared, cubed = sqr_and_cube(2)  \n",
    "\n",
    "print(squared)\n",
    "print(cubed)"
   ]
  },
  {
   "cell_type": "markdown",
   "metadata": {},
   "source": [
    "## Passing functions as input arguments\n",
    "\n",
    "We can also pass functions as input arguments to other functions. Let's explore this..."
   ]
  },
  {
   "cell_type": "code",
   "execution_count": 67,
   "metadata": {},
   "outputs": [],
   "source": [
    "def compute_on_my_array(stat_function):\n",
    "    \n",
    "    my_array = np.array([21, 44, 54, 23, 25, 32])\n",
    "    \n",
    "    calculated_val = stat_function(my_array)\n",
    "    \n",
    "    return calculated_val"
   ]
  },
  {
   "cell_type": "code",
   "execution_count": 68,
   "metadata": {},
   "outputs": [
    {
     "data": {
      "text/plain": [
       "np.float64(33.166666666666664)"
      ]
     },
     "execution_count": 68,
     "metadata": {},
     "output_type": "execute_result"
    }
   ],
   "source": [
    "# Apply the np.mean function to my_array\n",
    "compute_on_my_array(np.mean)"
   ]
  },
  {
   "cell_type": "code",
   "execution_count": 69,
   "metadata": {},
   "outputs": [
    {
     "data": {
      "text/plain": [
       "np.int64(199)"
      ]
     },
     "execution_count": 69,
     "metadata": {},
     "output_type": "execute_result"
    }
   ],
   "source": [
    "# Apply the np.sum function to my_array\n",
    "compute_on_my_array(np.sum)"
   ]
  },
  {
   "cell_type": "code",
   "execution_count": 70,
   "metadata": {},
   "outputs": [
    {
     "data": {
      "text/plain": [
       "(array([ 441, 1936, 2916,  529,  625, 1024]),\n",
       " array([  9261,  85184, 157464,  12167,  15625,  32768]))"
      ]
     },
     "execution_count": 70,
     "metadata": {},
     "output_type": "execute_result"
    }
   ],
   "source": [
    "# Apply power23 to my_array\n",
    "compute_on_my_array(sqr_and_cube)"
   ]
  },
  {
   "attachments": {},
   "cell_type": "markdown",
   "metadata": {},
   "source": [
    "## 6. Additional practice writing functions\n",
    "\n",
    "As additional pracice, let's write a function that will mimic flipping coins. This function will be useful when we start talking about statistical inference. \n",
    "\n",
    "In particular, let's write a function called `flip_coins(n, prob)` which will simulate flipping a coin `n` times where:\n",
    "- `n` is the number of times we have flipped the coin\n",
    "- `prob` is the probability that each coin flip will return \"head\"\n",
    "\n",
    "The function should return the number of \"heads\" that occurred from flipping the coin `n` times; i.e., it should return a number between 0, which means no heads occurred, and `n` which means a \"head\" occurred on every flip. \n",
    "\n",
    "When writing functions, it is often useful to write the bulk of the code outside of a function and then turn in into a function by wrapping your code in a `def` statement. Let's go through a few steps of writing this function now. \n"
   ]
  },
  {
   "cell_type": "markdown",
   "metadata": {},
   "source": [
    "#### Step 1: Generating random numbers between 0 and 1\n",
    "\n",
    "We can use the numpy function `np.random.rand(n)` to generate `n` random numbers. Please create a name called `n` and set it equal to 500 to simulate 500 random coin flips. Then use the name `n`, along with the `np.random.rand(n)` to generate 500 random numbers between 0 and 1. Save these random numbers to the name `rand_nums`. \n",
    "\n",
    "Finally, to see what these numbers look like, visualize `rand_nums` using a histogram. \n"
   ]
  },
  {
   "cell_type": "code",
   "execution_count": 71,
   "metadata": {},
   "outputs": [
    {
     "name": "stdout",
     "output_type": "stream",
     "text": [
      "[0.19621043 0.03823711 0.44856742 0.78079404 0.12097013 0.84513602\n",
      " 0.11677979 0.9958976  0.29989462 0.77651631]\n"
     ]
    },
    {
     "data": {
      "image/png": "[encoded data removed]",
      "text/plain": [
       "<Figure size 640x480 with 1 Axes>"
      ]
     },
     "metadata": {},
     "output_type": "display_data"
    }
   ],
   "source": [
    "# Use np.random.rand() to generate n = 500 random numbers between 0 and 1, and visualize them as a histogram. \n",
    "\n",
    "n = 500\n",
    "\n",
    "rand_nums = np.random.rand(n)\n",
    "\n",
    "print(rand_nums[0:10])\n",
    "\n",
    "plt.hist(rand_nums, edgecolor = \"k\");\n"
   ]
  },
  {
   "cell_type": "markdown",
   "metadata": {},
   "source": [
    "#### Step 2: Count the number of \"heads\"\n",
    "\n",
    "Next create a name called `prob` which has the probability that a coin flip is a \"head\". Let's set `prob` to be equal to .5 to simulate flipping a fair coin. Then see how many of the `rand_nums` are less than the `prob` value to see how many of your coin flips were \"head\"; i.e., use `np.sum()` to count how many of your coin flips were heads. \n",
    "\n"
   ]
  },
  {
   "cell_type": "code",
   "execution_count": 72,
   "metadata": {},
   "outputs": [
    {
     "data": {
      "text/plain": [
       "np.int64(261)"
      ]
     },
     "execution_count": 72,
     "metadata": {},
     "output_type": "execute_result"
    }
   ],
   "source": [
    "# Set prob to .5 and count how many values are greater than prob\n",
    "\n",
    "prob = .5\n",
    "\n",
    "np.sum(rand_nums <= prob)"
   ]
  },
  {
   "cell_type": "markdown",
   "metadata": {},
   "source": [
    "#### Step 3: Creating the function flip_coins(n, prob)\n",
    "\n",
    "Now write the function `flip_coins(n, prob)` by taking the code you wrote in the previous two steps and turning it into a function. \n",
    "\n",
    "Then try out the function a few times and see how the number of \"heads\" you get varies from simulation to simulation, and also experiment with different values for the arguments `n` and `prob`. \n"
   ]
  },
  {
   "cell_type": "code",
   "execution_count": 73,
   "metadata": {},
   "outputs": [
    {
     "data": {
      "text/plain": [
       "np.int64(234)"
      ]
     },
     "execution_count": 73,
     "metadata": {},
     "output_type": "execute_result"
    }
   ],
   "source": [
    "# Create a function flip_coins(n, prob) that generates n random numbers and returns how many are less than prob\n",
    "\n",
    "def flip_coins(n, prob):\n",
    "    rand_nums = np.random.rand(n)\n",
    "    num_heads = np.sum(rand_nums <= prob)\n",
    "    return num_heads\n",
    "    \n",
    "\n",
    "flip_coins(500, .5)"
   ]
  },
  {
   "cell_type": "markdown",
   "metadata": {},
   "source": [
    "#### Step 4: Adding an additional argument to the function \n",
    "\n",
    "Let's add an additional parameter to the `flip_coins` function called `return_prop` which has a default value of `False`; i.e., the function should now be `flip_coins(n, prob, return_prop = False)`. If the `return_prop` is set to `True` that it should return the proportion of coin flips that were heads rather than the number of coin flips that were heads. \n",
    "\n",
    "Hint: Adding a conditional statement to your function could be useful. \n",
    "\n"
   ]
  },
  {
   "cell_type": "code",
   "execution_count": 74,
   "metadata": {},
   "outputs": [
    {
     "name": "stdout",
     "output_type": "stream",
     "text": [
      "259\n",
      "0.532\n"
     ]
    }
   ],
   "source": [
    "# Add an argument return_prop that when set to True will return the proporton of coin flips that were heads (rather than the number of heads)\n",
    "\n",
    "def flip_coins(n, prob, return_prop = False):\n",
    "    \n",
    "    rand_nums = np.random.rand(n)\n",
    "    num_heads = np.sum(rand_nums <= prob)\n",
    "    \n",
    "    if return_prop:\n",
    "        return num_heads/n\n",
    "    else:\n",
    "        return num_heads\n",
    "    \n",
    "    \n",
    "print(flip_coins(500, .5))\n",
    "print(flip_coins(500, .5, True))\n"
   ]
  }
 ],
 "metadata": {
  "anaconda-cloud": {},
  "kernelspec": {
   "display_name": "Python [conda env:ydata_2025spring_v1] *",
   "language": "python",
   "name": "conda-env-ydata_2025spring_v1-py"
  },
  "language_info": {
   "codemirror_mode": {
    "name": "ipython",
    "version": 3
   },
   "file_extension": ".py",
   "mimetype": "text/x-python",
   "name": "python",
   "nbconvert_exporter": "python",
   "pygments_lexer": "ipython3",
   "version": "3.13.2"
  }
 },
 "nbformat": 4,
 "nbformat_minor": 4
}
