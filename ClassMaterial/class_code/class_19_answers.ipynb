{
 "cells": [
  {
   "cell_type": "markdown",
   "metadata": {},
   "source": [
    "# Class 19: Hypothesis tests continued\n",
    "\n",
    "Plan for today:\n",
    "- Hypothesis tests for assessing causality (comparing two proportions)\n",
    "- Hypothesis tests for comparing two means\n",
    "- Hypothesis tests for correlation\n",
    "- Two-sided hypothesis tests\n"
   ]
  },
  {
   "cell_type": "code",
   "execution_count": 38,
   "metadata": {},
   "outputs": [
    {
     "name": "stdout",
     "output_type": "stream",
     "text": [
      "The file `bta.csv` already exists.\n",
      "If you would like to download a new copy of the file, please rename the existing copy of the file.\n",
      "The file `babies.csv` already exists.\n",
      "If you would like to download a new copy of the file, please rename the existing copy of the file.\n",
      "The file `amazon.csv` already exists.\n",
      "If you would like to download a new copy of the file, please rename the existing copy of the file.\n"
     ]
    }
   ],
   "source": [
    "import YData\n",
    "\n",
    "# YData.download.download_class_code(19)   # get class code    \n",
    "# YData.download.download_class_code(19, TRUE) # get the code with the answers \n",
    "\n",
    "# YData.download.download_class_file('project_template.ipynb', 'homework')  # downloads the class project template \n",
    "# YData.download_homework(8)  # downloads the 8th homework \n",
    "\n",
    "YData.download_data(\"bta.csv\")\n",
    "YData.download_data(\"babies.csv\")\n",
    "YData.download_data(\"amazon.csv\")"
   ]
  },
  {
   "cell_type": "markdown",
   "metadata": {},
   "source": [
    "If you are using colabs, you should run the code below."
   ]
  },
  {
   "cell_type": "code",
   "execution_count": 39,
   "metadata": {},
   "outputs": [],
   "source": [
    "# !pip install https://github.com/lederman/YData_package/tarball/master\n",
    "# from google.colab import drive\n",
    "# drive.mount('/content/drive')"
   ]
  },
  {
   "cell_type": "code",
   "execution_count": 40,
   "metadata": {},
   "outputs": [],
   "source": [
    "import pandas as pd\n",
    "import numpy as np\n",
    "import matplotlib.pyplot as plt\n",
    "import seaborn as sns\n",
    "\n",
    "%matplotlib inline\n"
   ]
  },
  {
   "cell_type": "markdown",
   "metadata": {},
   "source": [
    "## 0. Warmup\n",
    "\n",
    "\n",
    "Recall our in-class experiment of predicting a coin flips. Let's do our hypothesis test.\n",
    "\n",
    "We are not deciding on medicine, just if someone here has magical powers, wo let's take p=0.07 as our cutoff.\n",
    "\n"
   ]
  },
  {
   "cell_type": "markdown",
   "metadata": {},
   "source": [
    "#### Step 1: State the null and alternative hypothesis\n",
    "\n",
    "Equal probability that the coin matches the prediction:\n",
    "\n",
    "$H_0: \\pi = 0.5$\n",
    "\n",
    "$H_A: \\pi \\neq 0.5$"
   ]
  },
  {
   "cell_type": "markdown",
   "metadata": {},
   "source": [
    "#### Step 2: Calculate the observed statistic of interest\n",
    "\n",
    "$4$ coin flips results matched the prediction exactly:\n",
    "\n",
    "$\\hat{p} = 1$\n"
   ]
  },
  {
   "cell_type": "code",
   "execution_count": 41,
   "metadata": {},
   "outputs": [],
   "source": [
    "prop = 4/4"
   ]
  },
  {
   "cell_type": "markdown",
   "metadata": {},
   "source": [
    "#### Step 3: Create the null distribution \n",
    "\n",
    "We need to create a null distribution, which is the distribution of statistics we would expect to get if the null hypothesis is true. \n",
    "\n",
    "**Question**: about what percent of the coin tosses would we expect to match the prediction if the null hypothesis were true? \n",
    "\n",
    "**Answer**: 50%\n",
    "\n",
    "Let's create simulated data that is consistent with this!\n",
    "\n",
    "**There are a few models we can build for our experiment, they are mostly equivalent if we assume a fair coin, but this can be a little subtle.** "
   ]
  },
  {
   "cell_type": "code",
   "execution_count": 42,
   "metadata": {},
   "outputs": [
    {
     "name": "stdout",
     "output_type": "stream",
     "text": [
      "3\n",
      "0.25\n"
     ]
    }
   ],
   "source": [
    "# function we had before\n",
    "# Add an argument return_prop that when set to True will return the proporton of coin flips that were heads (rather than the number of heads)\n",
    "\n",
    "def flip_coins(n, prob, return_prop = False):\n",
    "    \n",
    "    rand_nums = np.random.rand(n)\n",
    "    num_heads = np.sum(rand_nums <= prob)\n",
    "    \n",
    "    if return_prop:\n",
    "        return num_heads/n\n",
    "    else:\n",
    "        return num_heads\n",
    "    \n",
    "    \n",
    "print(flip_coins(4, .5))\n",
    "print(flip_coins(4, .5, True))"
   ]
  },
  {
   "cell_type": "code",
   "execution_count": 43,
   "metadata": {},
   "outputs": [
    {
     "name": "stdout",
     "output_type": "stream",
     "text": [
      "0.5\n"
     ]
    }
   ],
   "source": [
    "# Let's write a version for this experiment\n",
    "\n",
    "def match_flip_coins(myflips):\n",
    "    \n",
    "    rand_nums = np.random.rand(len(myflips))\n",
    "    is_head = rand_nums <= 0.5\n",
    "    \n",
    "    is_match = (is_head == myflips)\n",
    "    num_match = is_match.sum()\n",
    "\n",
    "    return num_match/len(myflips)\n",
    "\n",
    "\n",
    "print(match_flip_coins(np.array([1, 0, 1, 0])))\n",
    "\n",
    "# This turns out to be equivalent to the previous code (under some assumptions). Try to compare the distributions and think why this is the case?\n"
   ]
  },
  {
   "cell_type": "code",
   "execution_count": 44,
   "metadata": {},
   "outputs": [],
   "source": [
    "# Let's generate a null distribution \n",
    "\n",
    "null_dist = []\n",
    "\n",
    "for i in range(10000):\n",
    "    simulated_guess = (np.random.rand(4) <= 0.5)\n",
    "    simulated_null_prop = match_flip_coins(simulated_guess)\n",
    "    null_dist.append(simulated_null_prop)"
   ]
  },
  {
   "cell_type": "code",
   "execution_count": 45,
   "metadata": {},
   "outputs": [
    {
     "data": {
      "image/png": "[encoded data removed]",
      "text/plain": [
       "<Figure size 640x480 with 1 Axes>"
      ]
     },
     "metadata": {},
     "output_type": "display_data"
    }
   ],
   "source": [
    "# visualize the null distribution \n",
    "\n",
    "plt.hist(null_dist, edgecolor = \"black\", bins = 20) #, range = (.4, .6));\n",
    "plt.plot(prop, 30, '.', markersize = 30, color = \"red\");"
   ]
  },
  {
   "cell_type": "markdown",
   "metadata": {},
   "source": [
    "#### Step 4: Calculate the p-value \n",
    "\n",
    "Calculate the proportion of points in the null distribution that are more extreme than the observed statistic. \n"
   ]
  },
  {
   "cell_type": "code",
   "execution_count": 46,
   "metadata": {},
   "outputs": [
    {
     "name": "stdout",
     "output_type": "stream",
     "text": [
      "[False False False False False]\n"
     ]
    },
    {
     "data": {
      "text/plain": [
       "np.float64(0.0613)"
      ]
     },
     "execution_count": 46,
     "metadata": {},
     "output_type": "execute_result"
    }
   ],
   "source": [
    "# Calculate the p-value\n",
    "\n",
    "# create a Boolean vector indicating whether each p-hat in the null distribution \n",
    "# was greater than the observed proportion \n",
    "stats_more_extreme = np.array(null_dist) >= prop\n",
    "\n",
    "print(stats_more_extreme[0:5])\n",
    "\n",
    "# calculate the p-value \n",
    "p_value = np.mean(stats_more_extreme)\n",
    "\n",
    "p_value"
   ]
  },
  {
   "cell_type": "markdown",
   "metadata": {},
   "source": [
    "#### Step 5: Make a decision\n",
    "\n",
    "Since the p-value is sufficiently small - it is kind of unlikely that our statistic come from the null distribution. Thus we will reject the null hypothesis and conclude that we have a person with magical power in class!\n",
    "\n",
    "\n",
    "***Or do we?***\n"
   ]
  },
  {
   "cell_type": "code",
   "execution_count": null,
   "metadata": {},
   "outputs": [],
   "source": []
  },
  {
   "cell_type": "markdown",
   "metadata": {},
   "source": [
    "## 1. Hypothesis test assessing causal relationships\n",
    "\n",
    "To get at causality we can run a Randomized Controlled Trial (RTC), where have of the participants are randomly assigned to a \"treatment group\" that receives an intervention and the other half of participants are put in a \"control group\" which receives a placebo. If the treatment group shows a an improvement over the control group that is larger than what is expected by chance, this indicates that the treatment **causes** an improvement. \n",
    "\n",
    "\n",
    "#### Botulinum Toxin A (BTA) as a treatment to chronic back pain\n",
    "\n",
    "A study by Foster et al (2001) examined whether Botulinum Toxin A (BTA) was an effective treatment for chronic back pain.\n",
    "\n",
    "In the study, participants were randomly assigned to be in a treatment or control group: \n",
    "- 15 in the treatment group\n",
    "- 16 in the control group (normal saline)\n",
    "\n",
    "Trials were run double-blind (neither doctors nor patients knew which group they were in)\n",
    "\n",
    "Result from the study were coded as:\n",
    "  - 1 indicates pain relief\n",
    "  - 0 indicates lack of pain relief \n",
    "\n",
    "\n",
    "Let's run a hypothesis test to see if BTA causes a decrease in back pain."
   ]
  },
  {
   "cell_type": "markdown",
   "metadata": {},
   "source": [
    "### Step 1: State the null and alternative hypotheses\n",
    "\n",
    "\n",
    "$H_0$: $\\pi_{treat} =  \\pi_{control}$   or    $H_0$: $\\pi_{treat} -  \\pi_{control} = 0$ \n",
    "\n",
    "$H_A$: $\\pi_{control} < \\pi_{treat}$    or    $H_0$: $\\pi_{treat} -  \\pi_{control} < 0$ \n",
    "\n",
    "\n",
    "\n",
    "Where $\\pi_{treat}$ and $\\pi_{control}$ and the population proportions of people who experienced back pain relief after receiving the BTA or control respectively. \n"
   ]
  },
  {
   "cell_type": "markdown",
   "metadata": {},
   "source": [
    "### Step 2: Calculate the observed statistic\n",
    "\n",
    "The code below loads the data from the study. We can use the difference in proportions  $\\hat{p}_{treat} - \\hat{p}_{control}$  as our observed statistic. \n",
    "\n",
    "Let's calculate the observe statistic and save it to the name `obs_stat`.\n"
   ]
  },
  {
   "cell_type": "code",
   "execution_count": 47,
   "metadata": {},
   "outputs": [
    {
     "data": {
      "application/vnd.microsoft.datawrangler.viewer.v0+json": {
       "columns": [
        {
         "name": "index",
         "rawType": "int64",
         "type": "integer"
        },
        {
         "name": "Group",
         "rawType": "object",
         "type": "string"
        },
        {
         "name": "Result",
         "rawType": "float64",
         "type": "float"
        }
       ],
       "conversionMethod": "pd.DataFrame",
       "ref": "58b0675e-e46d-4ee2-a3dc-f6d9419b4476",
       "rows": [
        [
         "24",
         "Treatment",
         "1.0"
        ],
        [
         "21",
         "Treatment",
         "1.0"
        ],
        [
         "3",
         "Control",
         "0.0"
        ],
        [
         "14",
         "Control",
         "0.0"
        ],
        [
         "9",
         "Control",
         "0.0"
        ],
        [
         "22",
         "Treatment",
         "1.0"
        ],
        [
         "12",
         "Control",
         "0.0"
        ],
        [
         "28",
         "Treatment",
         "0.0"
        ],
        [
         "6",
         "Control",
         "0.0"
        ],
        [
         "10",
         "Control",
         "0.0"
        ],
        [
         "0",
         "Control",
         "1.0"
        ],
        [
         "13",
         "Control",
         "0.0"
        ],
        [
         "18",
         "Treatment",
         "1.0"
        ],
        [
         "1",
         "Control",
         "1.0"
        ],
        [
         "17",
         "Treatment",
         "1.0"
        ],
        [
         "16",
         "Treatment",
         "1.0"
        ],
        [
         "7",
         "Control",
         "0.0"
        ],
        [
         "8",
         "Control",
         "0.0"
        ],
        [
         "25",
         "Treatment",
         "0.0"
        ],
        [
         "20",
         "Treatment",
         "1.0"
        ],
        [
         "11",
         "Control",
         "0.0"
        ],
        [
         "26",
         "Treatment",
         "0.0"
        ],
        [
         "2",
         "Control",
         "0.0"
        ],
        [
         "27",
         "Treatment",
         "0.0"
        ],
        [
         "4",
         "Control",
         "0.0"
        ],
        [
         "5",
         "Control",
         "0.0"
        ],
        [
         "15",
         "Control",
         "0.0"
        ],
        [
         "19",
         "Treatment",
         "1.0"
        ],
        [
         "29",
         "Treatment",
         "0.0"
        ],
        [
         "23",
         "Treatment",
         "1.0"
        ],
        [
         "30",
         "Treatment",
         "0.0"
        ]
       ],
       "shape": {
        "columns": 2,
        "rows": 31
       }
      },
      "text/html": [
       "<div>\n",
       "<style scoped>\n",
       "    .dataframe tbody tr th:only-of-type {\n",
       "        vertical-align: middle;\n",
       "    }\n",
       "\n",
       "    .dataframe tbody tr th {\n",
       "        vertical-align: top;\n",
       "    }\n",
       "\n",
       "    .dataframe thead th {\n",
       "        text-align: right;\n",
       "    }\n",
       "</style>\n",
       "<table border=\"1\" class=\"dataframe\">\n",
       "  <thead>\n",
       "    <tr style=\"text-align: right;\">\n",
       "      <th></th>\n",
       "      <th>Group</th>\n",
       "      <th>Result</th>\n",
       "    </tr>\n",
       "  </thead>\n",
       "  <tbody>\n",
       "    <tr>\n",
       "      <th>24</th>\n",
       "      <td>Treatment</td>\n",
       "      <td>1.0</td>\n",
       "    </tr>\n",
       "    <tr>\n",
       "      <th>21</th>\n",
       "      <td>Treatment</td>\n",
       "      <td>1.0</td>\n",
       "    </tr>\n",
       "    <tr>\n",
       "      <th>3</th>\n",
       "      <td>Control</td>\n",
       "      <td>0.0</td>\n",
       "    </tr>\n",
       "    <tr>\n",
       "      <th>14</th>\n",
       "      <td>Control</td>\n",
       "      <td>0.0</td>\n",
       "    </tr>\n",
       "    <tr>\n",
       "      <th>9</th>\n",
       "      <td>Control</td>\n",
       "      <td>0.0</td>\n",
       "    </tr>\n",
       "    <tr>\n",
       "      <th>22</th>\n",
       "      <td>Treatment</td>\n",
       "      <td>1.0</td>\n",
       "    </tr>\n",
       "    <tr>\n",
       "      <th>12</th>\n",
       "      <td>Control</td>\n",
       "      <td>0.0</td>\n",
       "    </tr>\n",
       "    <tr>\n",
       "      <th>28</th>\n",
       "      <td>Treatment</td>\n",
       "      <td>0.0</td>\n",
       "    </tr>\n",
       "    <tr>\n",
       "      <th>6</th>\n",
       "      <td>Control</td>\n",
       "      <td>0.0</td>\n",
       "    </tr>\n",
       "    <tr>\n",
       "      <th>10</th>\n",
       "      <td>Control</td>\n",
       "      <td>0.0</td>\n",
       "    </tr>\n",
       "    <tr>\n",
       "      <th>0</th>\n",
       "      <td>Control</td>\n",
       "      <td>1.0</td>\n",
       "    </tr>\n",
       "    <tr>\n",
       "      <th>13</th>\n",
       "      <td>Control</td>\n",
       "      <td>0.0</td>\n",
       "    </tr>\n",
       "    <tr>\n",
       "      <th>18</th>\n",
       "      <td>Treatment</td>\n",
       "      <td>1.0</td>\n",
       "    </tr>\n",
       "    <tr>\n",
       "      <th>1</th>\n",
       "      <td>Control</td>\n",
       "      <td>1.0</td>\n",
       "    </tr>\n",
       "    <tr>\n",
       "      <th>17</th>\n",
       "      <td>Treatment</td>\n",
       "      <td>1.0</td>\n",
       "    </tr>\n",
       "    <tr>\n",
       "      <th>16</th>\n",
       "      <td>Treatment</td>\n",
       "      <td>1.0</td>\n",
       "    </tr>\n",
       "    <tr>\n",
       "      <th>7</th>\n",
       "      <td>Control</td>\n",
       "      <td>0.0</td>\n",
       "    </tr>\n",
       "    <tr>\n",
       "      <th>8</th>\n",
       "      <td>Control</td>\n",
       "      <td>0.0</td>\n",
       "    </tr>\n",
       "    <tr>\n",
       "      <th>25</th>\n",
       "      <td>Treatment</td>\n",
       "      <td>0.0</td>\n",
       "    </tr>\n",
       "    <tr>\n",
       "      <th>20</th>\n",
       "      <td>Treatment</td>\n",
       "      <td>1.0</td>\n",
       "    </tr>\n",
       "    <tr>\n",
       "      <th>11</th>\n",
       "      <td>Control</td>\n",
       "      <td>0.0</td>\n",
       "    </tr>\n",
       "    <tr>\n",
       "      <th>26</th>\n",
       "      <td>Treatment</td>\n",
       "      <td>0.0</td>\n",
       "    </tr>\n",
       "    <tr>\n",
       "      <th>2</th>\n",
       "      <td>Control</td>\n",
       "      <td>0.0</td>\n",
       "    </tr>\n",
       "    <tr>\n",
       "      <th>27</th>\n",
       "      <td>Treatment</td>\n",
       "      <td>0.0</td>\n",
       "    </tr>\n",
       "    <tr>\n",
       "      <th>4</th>\n",
       "      <td>Control</td>\n",
       "      <td>0.0</td>\n",
       "    </tr>\n",
       "    <tr>\n",
       "      <th>5</th>\n",
       "      <td>Control</td>\n",
       "      <td>0.0</td>\n",
       "    </tr>\n",
       "    <tr>\n",
       "      <th>15</th>\n",
       "      <td>Control</td>\n",
       "      <td>0.0</td>\n",
       "    </tr>\n",
       "    <tr>\n",
       "      <th>19</th>\n",
       "      <td>Treatment</td>\n",
       "      <td>1.0</td>\n",
       "    </tr>\n",
       "    <tr>\n",
       "      <th>29</th>\n",
       "      <td>Treatment</td>\n",
       "      <td>0.0</td>\n",
       "    </tr>\n",
       "    <tr>\n",
       "      <th>23</th>\n",
       "      <td>Treatment</td>\n",
       "      <td>1.0</td>\n",
       "    </tr>\n",
       "    <tr>\n",
       "      <th>30</th>\n",
       "      <td>Treatment</td>\n",
       "      <td>0.0</td>\n",
       "    </tr>\n",
       "  </tbody>\n",
       "</table>\n",
       "</div>"
      ],
      "text/plain": [
       "        Group  Result\n",
       "24  Treatment     1.0\n",
       "21  Treatment     1.0\n",
       "3     Control     0.0\n",
       "14    Control     0.0\n",
       "9     Control     0.0\n",
       "22  Treatment     1.0\n",
       "12    Control     0.0\n",
       "28  Treatment     0.0\n",
       "6     Control     0.0\n",
       "10    Control     0.0\n",
       "0     Control     1.0\n",
       "13    Control     0.0\n",
       "18  Treatment     1.0\n",
       "1     Control     1.0\n",
       "17  Treatment     1.0\n",
       "16  Treatment     1.0\n",
       "7     Control     0.0\n",
       "8     Control     0.0\n",
       "25  Treatment     0.0\n",
       "20  Treatment     1.0\n",
       "11    Control     0.0\n",
       "26  Treatment     0.0\n",
       "2     Control     0.0\n",
       "27  Treatment     0.0\n",
       "4     Control     0.0\n",
       "5     Control     0.0\n",
       "15    Control     0.0\n",
       "19  Treatment     1.0\n",
       "29  Treatment     0.0\n",
       "23  Treatment     1.0\n",
       "30  Treatment     0.0"
      ]
     },
     "execution_count": 47,
     "metadata": {},
     "output_type": "execute_result"
    }
   ],
   "source": [
    "bta = pd.read_csv('bta.csv')\n",
    "bta.sample(frac = 1)"
   ]
  },
  {
   "cell_type": "code",
   "execution_count": 48,
   "metadata": {},
   "outputs": [
    {
     "data": {
      "application/vnd.microsoft.datawrangler.viewer.v0+json": {
       "columns": [
        {
         "name": "Group",
         "rawType": "object",
         "type": "string"
        },
        {
         "name": "Result",
         "rawType": "float64",
         "type": "float"
        }
       ],
       "conversionMethod": "pd.DataFrame",
       "ref": "a112bfb2-ddfa-4cd6-a19a-b7b3f4c5a496",
       "rows": [
        [
         "Control",
         "0.125"
        ],
        [
         "Treatment",
         "0.6"
        ]
       ],
       "shape": {
        "columns": 1,
        "rows": 2
       }
      },
      "text/html": [
       "<div>\n",
       "<style scoped>\n",
       "    .dataframe tbody tr th:only-of-type {\n",
       "        vertical-align: middle;\n",
       "    }\n",
       "\n",
       "    .dataframe tbody tr th {\n",
       "        vertical-align: top;\n",
       "    }\n",
       "\n",
       "    .dataframe thead th {\n",
       "        text-align: right;\n",
       "    }\n",
       "</style>\n",
       "<table border=\"1\" class=\"dataframe\">\n",
       "  <thead>\n",
       "    <tr style=\"text-align: right;\">\n",
       "      <th></th>\n",
       "      <th>Result</th>\n",
       "    </tr>\n",
       "    <tr>\n",
       "      <th>Group</th>\n",
       "      <th></th>\n",
       "    </tr>\n",
       "  </thead>\n",
       "  <tbody>\n",
       "    <tr>\n",
       "      <th>Control</th>\n",
       "      <td>0.125</td>\n",
       "    </tr>\n",
       "    <tr>\n",
       "      <th>Treatment</th>\n",
       "      <td>0.600</td>\n",
       "    </tr>\n",
       "  </tbody>\n",
       "</table>\n",
       "</div>"
      ],
      "text/plain": [
       "           Result\n",
       "Group            \n",
       "Control     0.125\n",
       "Treatment   0.600"
      ]
     },
     "execution_count": 48,
     "metadata": {},
     "output_type": "execute_result"
    }
   ],
   "source": [
    "# create a DataFrame with the proportion of people in the treatment and control groups that have pain relief \n",
    "\n",
    "results_table = bta.groupby(\"Group\").mean()\n",
    "\n",
    "results_table"
   ]
  },
  {
   "cell_type": "code",
   "execution_count": 49,
   "metadata": {},
   "outputs": [
    {
     "data": {
      "text/plain": [
       "np.float64(0.475)"
      ]
     },
     "execution_count": 49,
     "metadata": {},
     "output_type": "execute_result"
    }
   ],
   "source": [
    "# calculate the difference\n",
    "obs_stat_series = results_table.loc[\"Treatment\"] - results_table.loc[\"Control\"]\n",
    "\n",
    "# extract the value from a series to \n",
    "obs_stat = obs_stat_series.iloc[0]\n",
    "\n",
    "obs_stat"
   ]
  },
  {
   "cell_type": "code",
   "execution_count": 50,
   "metadata": {},
   "outputs": [
    {
     "data": {
      "text/plain": [
       "np.float64(0.475)"
      ]
     },
     "execution_count": 50,
     "metadata": {},
     "output_type": "execute_result"
    }
   ],
   "source": [
    "# let's write a function to make it easy to get statistic values\n",
    "\n",
    "def get_prop_diff(bta_data):\n",
    "    \n",
    "    group_means = bta_data.groupby(\"Group\").mean()\n",
    "    \n",
    "    the_difference = group_means.loc[\"Treatment\"] - group_means.loc[\"Control\"]\n",
    "    \n",
    "    return the_difference.iloc[0]\n",
    "\n",
    "\n",
    "# Try the function out\n",
    "get_prop_diff(bta)\n"
   ]
  },
  {
   "cell_type": "markdown",
   "metadata": {},
   "source": [
    "### Step 3: Create the null distribution \n",
    "\n",
    "To create the null distribution, we need to create statistics consistent with the null hypothesis. \n",
    "\n",
    "In this example, if the null hypothesis was true, then there would be no difference between the treatment and control group. Thus, under the null hypothesis, we can shuffle the group labels and get equally valid statistics. \n",
    "\n",
    "Let's create one statistic consistent with the null distribution to understand the process. We can then repeat this 10,000 times to get a full null distribution. "
   ]
  },
  {
   "cell_type": "code",
   "execution_count": 51,
   "metadata": {},
   "outputs": [
    {
     "data": {
      "application/vnd.microsoft.datawrangler.viewer.v0+json": {
       "columns": [
        {
         "name": "index",
         "rawType": "int64",
         "type": "integer"
        },
        {
         "name": "Group",
         "rawType": "object",
         "type": "string"
        },
        {
         "name": "Result",
         "rawType": "float64",
         "type": "float"
        }
       ],
       "conversionMethod": "pd.DataFrame",
       "ref": "a5e125cb-74f7-4766-9058-37a7596f781f",
       "rows": [
        [
         "0",
         "Control",
         "1.0"
        ],
        [
         "1",
         "Control",
         "1.0"
        ],
        [
         "2",
         "Treatment",
         "0.0"
        ],
        [
         "3",
         "Control",
         "0.0"
        ],
        [
         "4",
         "Treatment",
         "0.0"
        ]
       ],
       "shape": {
        "columns": 2,
        "rows": 5
       }
      },
      "text/html": [
       "<div>\n",
       "<style scoped>\n",
       "    .dataframe tbody tr th:only-of-type {\n",
       "        vertical-align: middle;\n",
       "    }\n",
       "\n",
       "    .dataframe tbody tr th {\n",
       "        vertical-align: top;\n",
       "    }\n",
       "\n",
       "    .dataframe thead th {\n",
       "        text-align: right;\n",
       "    }\n",
       "</style>\n",
       "<table border=\"1\" class=\"dataframe\">\n",
       "  <thead>\n",
       "    <tr style=\"text-align: right;\">\n",
       "      <th></th>\n",
       "      <th>Group</th>\n",
       "      <th>Result</th>\n",
       "    </tr>\n",
       "  </thead>\n",
       "  <tbody>\n",
       "    <tr>\n",
       "      <th>0</th>\n",
       "      <td>Control</td>\n",
       "      <td>1.0</td>\n",
       "    </tr>\n",
       "    <tr>\n",
       "      <th>1</th>\n",
       "      <td>Control</td>\n",
       "      <td>1.0</td>\n",
       "    </tr>\n",
       "    <tr>\n",
       "      <th>2</th>\n",
       "      <td>Treatment</td>\n",
       "      <td>0.0</td>\n",
       "    </tr>\n",
       "    <tr>\n",
       "      <th>3</th>\n",
       "      <td>Control</td>\n",
       "      <td>0.0</td>\n",
       "    </tr>\n",
       "    <tr>\n",
       "      <th>4</th>\n",
       "      <td>Treatment</td>\n",
       "      <td>0.0</td>\n",
       "    </tr>\n",
       "  </tbody>\n",
       "</table>\n",
       "</div>"
      ],
      "text/plain": [
       "       Group  Result\n",
       "0    Control     1.0\n",
       "1    Control     1.0\n",
       "2  Treatment     0.0\n",
       "3    Control     0.0\n",
       "4  Treatment     0.0"
      ]
     },
     "execution_count": 51,
     "metadata": {},
     "output_type": "execute_result"
    }
   ],
   "source": [
    "# shuffle the data \n",
    "\n",
    "shuff_bta = bta.copy()\n",
    "shuff_bta['Group'] = np.random.permutation(bta[\"Group\"])\n",
    "\n",
    "shuff_bta.head()\n"
   ]
  },
  {
   "cell_type": "code",
   "execution_count": 52,
   "metadata": {},
   "outputs": [
    {
     "data": {
      "text/plain": [
       "np.float64(0.08750000000000002)"
      ]
     },
     "execution_count": 52,
     "metadata": {},
     "output_type": "execute_result"
    }
   ],
   "source": [
    "# get one statistic consistent with the null distribution \n",
    "\n",
    "get_prop_diff(shuff_bta)"
   ]
  },
  {
   "cell_type": "code",
   "execution_count": 53,
   "metadata": {},
   "outputs": [
    {
     "name": "stdout",
     "output_type": "stream",
     "text": [
      "CPU times: user 2.06 s, sys: 16.6 ms, total: 2.07 s\n",
      "Wall time: 2.12 s\n"
     ]
    }
   ],
   "source": [
    "%%time\n",
    "\n",
    "# create a full null distribution \n",
    "\n",
    "null_dist = []\n",
    "\n",
    "for i in range(10000):\n",
    "    \n",
    "    shuff_bta['Group'] = np.random.permutation(bta[\"Group\"])\n",
    "    \n",
    "    shuff_stat = get_prop_diff(shuff_bta)\n",
    "    \n",
    "    null_dist.append(shuff_stat)\n"
   ]
  },
  {
   "cell_type": "code",
   "execution_count": 54,
   "metadata": {},
   "outputs": [
    {
     "data": {
      "image/png": "[encoded data removed]",
      "text/plain": [
       "<Figure size 640x480 with 1 Axes>"
      ]
     },
     "metadata": {},
     "output_type": "display_data"
    }
   ],
   "source": [
    "# visualize the null distribution \n",
    "\n",
    "plt.hist(null_dist, edgecolor = \"black\", bins = 100);\n",
    "\n",
    "\n",
    "# put a line at the observed statistic value\n",
    "\n",
    "plt.axvline(obs_stat, color = \"red\");\n",
    "plt.xlabel(\"prop treat - prop control\");\n",
    "plt.ylabel(\"Count\");"
   ]
  },
  {
   "cell_type": "markdown",
   "metadata": {},
   "source": [
    "### Step 4: Calculate the p-value\n",
    "\n",
    "The p-value is the proportion of points in the null distribution that are more extreme than the observed statistic. \n"
   ]
  },
  {
   "cell_type": "code",
   "execution_count": 55,
   "metadata": {},
   "outputs": [
    {
     "data": {
      "text/plain": [
       "np.float64(0.0076)"
      ]
     },
     "execution_count": 55,
     "metadata": {},
     "output_type": "execute_result"
    }
   ],
   "source": [
    "p_value = np.mean(np.array(null_dist) >= obs_stat)\n",
    "\n",
    "p_value"
   ]
  },
  {
   "cell_type": "markdown",
   "metadata": {},
   "source": [
    "### Step 5: Draw a conclusion\n",
    "\n",
    "Since the p-value is less than the typical significance level of 0.05, we can reject the null hypothesis. Because the participants were **randomly assigned to the treatment and control groups**, we canconclude that BTA does **cause** pain relief at a higher rate than the placebo. "
   ]
  },
  {
   "cell_type": "markdown",
   "metadata": {},
   "source": [
    "<br>\n",
    "<center>\n",
    "<img src=\"https://image.spreadshirtmedia.com/image-server/v1/compositions/T347A2PA4306PT17X24Y42D1035176833W20392H24471/views/1,width=550,height=550,appearanceId=2,backgroundColor=000000,noPt=true/ok-but-first-botox-fillers-botox-funny-botox-womens-t-shirt.jpg\" alt=\"botox\" style=\"width: 200px;\"/>\n",
    "</center>\n",
    "<br>"
   ]
  },
  {
   "cell_type": "markdown",
   "metadata": {},
   "source": [
    "## 2. Hypothesis test for two means: Smoking and baby weights\n",
    "\n",
    "The Child Health and Development Studies investigate a range of topics. One study, in particular, considered all pregnancies between 1960 and 1967 among women in the Kaiser Foundation Health Plan in the San Francisco East Bay area.\n",
    "\n",
    "Let's examine this data to see if the average weight of babies of babies is different depending on whether the mother of the baby smokes. \n"
   ]
  },
  {
   "cell_type": "markdown",
   "metadata": {},
   "source": [
    "### Step 1: State the null and alternative hypotheses\n",
    "\n",
    "\n",
    "$H_0$: $\\mu_{non-smoke} =  \\mu_{smokes}$   or    $H_0$: $\\mu_{non-smoke} -  \\mu_{smokes} = 0$ \n",
    "\n",
    "$H_A$: $\\mu_{non-smoke} >  \\mu_{smokes}$   or    $H_0$: $\\mu_{non-smoke} -  \\mu_{smokes} > 0$ \n",
    "\n",
    "\n",
    "Where $\\mu_{non-smoke}$ and $\\mu_{smoke}$ are the population means of babies born to mothers who did not smoke and who smoked."
   ]
  },
  {
   "cell_type": "markdown",
   "metadata": {},
   "source": [
    "### Step 2: Calculate the observed statistic\n",
    "\n",
    "The code below loads the data from the study. The two relevant columns are:\n",
    "- `bwt`: The birth weight of the baby in ounces\n",
    "- `smokes`: whether the mother smokes (1) or does not smoke (0)\n",
    "\n",
    "More information about the data is available at: https://www.openintro.org/data/index.php?data=babies"
   ]
  },
  {
   "cell_type": "code",
   "execution_count": 56,
   "metadata": {},
   "outputs": [
    {
     "data": {
      "application/vnd.microsoft.datawrangler.viewer.v0+json": {
       "columns": [
        {
         "name": "index",
         "rawType": "int64",
         "type": "integer"
        },
        {
         "name": "case",
         "rawType": "int64",
         "type": "integer"
        },
        {
         "name": "bwt",
         "rawType": "int64",
         "type": "integer"
        },
        {
         "name": "gestation",
         "rawType": "float64",
         "type": "float"
        },
        {
         "name": "parity",
         "rawType": "int64",
         "type": "integer"
        },
        {
         "name": "age",
         "rawType": "float64",
         "type": "float"
        },
        {
         "name": "height",
         "rawType": "float64",
         "type": "float"
        },
        {
         "name": "weight",
         "rawType": "float64",
         "type": "float"
        },
        {
         "name": "smoke",
         "rawType": "float64",
         "type": "float"
        }
       ],
       "conversionMethod": "pd.DataFrame",
       "ref": "43b9ac68-52eb-4f41-8953-110afc7d757d",
       "rows": [
        [
         "0",
         "1",
         "120",
         "284.0",
         "0",
         "27.0",
         "62.0",
         "100.0",
         "0.0"
        ],
        [
         "1",
         "2",
         "113",
         "282.0",
         "0",
         "33.0",
         "64.0",
         "135.0",
         "0.0"
        ],
        [
         "2",
         "3",
         "128",
         "279.0",
         "0",
         "28.0",
         "64.0",
         "115.0",
         "1.0"
        ],
        [
         "3",
         "4",
         "123",
         null,
         "0",
         "36.0",
         "69.0",
         "190.0",
         "0.0"
        ],
        [
         "4",
         "5",
         "108",
         "282.0",
         "0",
         "23.0",
         "67.0",
         "125.0",
         "1.0"
        ]
       ],
       "shape": {
        "columns": 8,
        "rows": 5
       }
      },
      "text/html": [
       "<div>\n",
       "<style scoped>\n",
       "    .dataframe tbody tr th:only-of-type {\n",
       "        vertical-align: middle;\n",
       "    }\n",
       "\n",
       "    .dataframe tbody tr th {\n",
       "        vertical-align: top;\n",
       "    }\n",
       "\n",
       "    .dataframe thead th {\n",
       "        text-align: right;\n",
       "    }\n",
       "</style>\n",
       "<table border=\"1\" class=\"dataframe\">\n",
       "  <thead>\n",
       "    <tr style=\"text-align: right;\">\n",
       "      <th></th>\n",
       "      <th>case</th>\n",
       "      <th>bwt</th>\n",
       "      <th>gestation</th>\n",
       "      <th>parity</th>\n",
       "      <th>age</th>\n",
       "      <th>height</th>\n",
       "      <th>weight</th>\n",
       "      <th>smoke</th>\n",
       "    </tr>\n",
       "  </thead>\n",
       "  <tbody>\n",
       "    <tr>\n",
       "      <th>0</th>\n",
       "      <td>1</td>\n",
       "      <td>120</td>\n",
       "      <td>284.0</td>\n",
       "      <td>0</td>\n",
       "      <td>27.0</td>\n",
       "      <td>62.0</td>\n",
       "      <td>100.0</td>\n",
       "      <td>0.0</td>\n",
       "    </tr>\n",
       "    <tr>\n",
       "      <th>1</th>\n",
       "      <td>2</td>\n",
       "      <td>113</td>\n",
       "      <td>282.0</td>\n",
       "      <td>0</td>\n",
       "      <td>33.0</td>\n",
       "      <td>64.0</td>\n",
       "      <td>135.0</td>\n",
       "      <td>0.0</td>\n",
       "    </tr>\n",
       "    <tr>\n",
       "      <th>2</th>\n",
       "      <td>3</td>\n",
       "      <td>128</td>\n",
       "      <td>279.0</td>\n",
       "      <td>0</td>\n",
       "      <td>28.0</td>\n",
       "      <td>64.0</td>\n",
       "      <td>115.0</td>\n",
       "      <td>1.0</td>\n",
       "    </tr>\n",
       "    <tr>\n",
       "      <th>3</th>\n",
       "      <td>4</td>\n",
       "      <td>123</td>\n",
       "      <td>NaN</td>\n",
       "      <td>0</td>\n",
       "      <td>36.0</td>\n",
       "      <td>69.0</td>\n",
       "      <td>190.0</td>\n",
       "      <td>0.0</td>\n",
       "    </tr>\n",
       "    <tr>\n",
       "      <th>4</th>\n",
       "      <td>5</td>\n",
       "      <td>108</td>\n",
       "      <td>282.0</td>\n",
       "      <td>0</td>\n",
       "      <td>23.0</td>\n",
       "      <td>67.0</td>\n",
       "      <td>125.0</td>\n",
       "      <td>1.0</td>\n",
       "    </tr>\n",
       "  </tbody>\n",
       "</table>\n",
       "</div>"
      ],
      "text/plain": [
       "   case  bwt  gestation  parity   age  height  weight  smoke\n",
       "0     1  120      284.0       0  27.0    62.0   100.0    0.0\n",
       "1     2  113      282.0       0  33.0    64.0   135.0    0.0\n",
       "2     3  128      279.0       0  28.0    64.0   115.0    1.0\n",
       "3     4  123        NaN       0  36.0    69.0   190.0    0.0\n",
       "4     5  108      282.0       0  23.0    67.0   125.0    1.0"
      ]
     },
     "execution_count": 56,
     "metadata": {},
     "output_type": "execute_result"
    }
   ],
   "source": [
    "babies = pd.read_csv(\"babies.csv\")\n",
    "\n",
    "babies.head()"
   ]
  },
  {
   "cell_type": "markdown",
   "metadata": {},
   "source": [
    "To simplify the analysis, create a new DataFrame called `babies2` that only has the smoke and bwt columns. "
   ]
  },
  {
   "cell_type": "code",
   "execution_count": 57,
   "metadata": {},
   "outputs": [
    {
     "data": {
      "application/vnd.microsoft.datawrangler.viewer.v0+json": {
       "columns": [
        {
         "name": "index",
         "rawType": "int64",
         "type": "integer"
        },
        {
         "name": "smoke",
         "rawType": "float64",
         "type": "float"
        },
        {
         "name": "bwt",
         "rawType": "int64",
         "type": "integer"
        }
       ],
       "conversionMethod": "pd.DataFrame",
       "ref": "b3c885c5-5fe2-49d8-a98f-45ed81fe8794",
       "rows": [
        [
         "0",
         "0.0",
         "120"
        ],
        [
         "1",
         "0.0",
         "113"
        ],
        [
         "2",
         "1.0",
         "128"
        ]
       ],
       "shape": {
        "columns": 2,
        "rows": 3
       }
      },
      "text/html": [
       "<div>\n",
       "<style scoped>\n",
       "    .dataframe tbody tr th:only-of-type {\n",
       "        vertical-align: middle;\n",
       "    }\n",
       "\n",
       "    .dataframe tbody tr th {\n",
       "        vertical-align: top;\n",
       "    }\n",
       "\n",
       "    .dataframe thead th {\n",
       "        text-align: right;\n",
       "    }\n",
       "</style>\n",
       "<table border=\"1\" class=\"dataframe\">\n",
       "  <thead>\n",
       "    <tr style=\"text-align: right;\">\n",
       "      <th></th>\n",
       "      <th>smoke</th>\n",
       "      <th>bwt</th>\n",
       "    </tr>\n",
       "  </thead>\n",
       "  <tbody>\n",
       "    <tr>\n",
       "      <th>0</th>\n",
       "      <td>0.0</td>\n",
       "      <td>120</td>\n",
       "    </tr>\n",
       "    <tr>\n",
       "      <th>1</th>\n",
       "      <td>0.0</td>\n",
       "      <td>113</td>\n",
       "    </tr>\n",
       "    <tr>\n",
       "      <th>2</th>\n",
       "      <td>1.0</td>\n",
       "      <td>128</td>\n",
       "    </tr>\n",
       "  </tbody>\n",
       "</table>\n",
       "</div>"
      ],
      "text/plain": [
       "   smoke  bwt\n",
       "0    0.0  120\n",
       "1    0.0  113\n",
       "2    1.0  128"
      ]
     },
     "execution_count": 57,
     "metadata": {},
     "output_type": "execute_result"
    }
   ],
   "source": [
    "# create a DataFrame called babies2 that has only the smoke and bwt columns\n",
    "babies2 = babies[[\"smoke\", \"bwt\"]]\n",
    "babies2.head(3)"
   ]
  },
  {
   "cell_type": "markdown",
   "metadata": {},
   "source": [
    "Let's have our observed statistic be the different of sample means  $\\bar{x}_{non-smoke} - \\bar{x}_{smoke}$.  \n",
    "\n",
    "Please calculate this observe statistic and save it to the name `obs_stat`.\n"
   ]
  },
  {
   "cell_type": "code",
   "execution_count": 58,
   "metadata": {},
   "outputs": [
    {
     "data": {
      "application/vnd.microsoft.datawrangler.viewer.v0+json": {
       "columns": [
        {
         "name": "smoke",
         "rawType": "float64",
         "type": "float"
        },
        {
         "name": "bwt",
         "rawType": "float64",
         "type": "float"
        }
       ],
       "conversionMethod": "pd.DataFrame",
       "ref": "29f00d25-c1bb-4bfc-abf0-1ddc93fbb0f5",
       "rows": [
        [
         "0.0",
         "123.04716981132076"
        ],
        [
         "1.0",
         "114.10950413223141"
        ]
       ],
       "shape": {
        "columns": 1,
        "rows": 2
       }
      },
      "text/html": [
       "<div>\n",
       "<style scoped>\n",
       "    .dataframe tbody tr th:only-of-type {\n",
       "        vertical-align: middle;\n",
       "    }\n",
       "\n",
       "    .dataframe tbody tr th {\n",
       "        vertical-align: top;\n",
       "    }\n",
       "\n",
       "    .dataframe thead th {\n",
       "        text-align: right;\n",
       "    }\n",
       "</style>\n",
       "<table border=\"1\" class=\"dataframe\">\n",
       "  <thead>\n",
       "    <tr style=\"text-align: right;\">\n",
       "      <th></th>\n",
       "      <th>bwt</th>\n",
       "    </tr>\n",
       "    <tr>\n",
       "      <th>smoke</th>\n",
       "      <th></th>\n",
       "    </tr>\n",
       "  </thead>\n",
       "  <tbody>\n",
       "    <tr>\n",
       "      <th>0.0</th>\n",
       "      <td>123.047170</td>\n",
       "    </tr>\n",
       "    <tr>\n",
       "      <th>1.0</th>\n",
       "      <td>114.109504</td>\n",
       "    </tr>\n",
       "  </tbody>\n",
       "</table>\n",
       "</div>"
      ],
      "text/plain": [
       "              bwt\n",
       "smoke            \n",
       "0.0    123.047170\n",
       "1.0    114.109504"
      ]
     },
     "execution_count": 58,
     "metadata": {},
     "output_type": "execute_result"
    }
   ],
   "source": [
    "results_table = babies2.groupby(\"smoke\").mean()\n",
    "results_table"
   ]
  },
  {
   "cell_type": "code",
   "execution_count": 59,
   "metadata": {},
   "outputs": [
    {
     "data": {
      "text/plain": [
       "np.float64(8.93766567908935)"
      ]
     },
     "execution_count": 59,
     "metadata": {},
     "output_type": "execute_result"
    }
   ],
   "source": [
    "\n",
    "obs_stat_series = results_table.iloc[0] - results_table.iloc[1]\n",
    "\n",
    "obs_stat = obs_stat_series.iloc[0]\n",
    "\n",
    "obs_stat"
   ]
  },
  {
   "cell_type": "markdown",
   "metadata": {},
   "source": [
    "To make the rest of the analysis easier, write a function `get_diff_baby_weights(babies_df)` that will take a DataFrame `babies_df` that has smoke and btw information will return the difference in the means of babies that have mothers who to not smoke and those who do smoke. \n",
    "\n",
    "Also, test the function to make sure it give the same observed statistic you calculated above"
   ]
  },
  {
   "cell_type": "code",
   "execution_count": 60,
   "metadata": {},
   "outputs": [
    {
     "data": {
      "text/plain": [
       "np.float64(8.93766567908935)"
      ]
     },
     "execution_count": 60,
     "metadata": {},
     "output_type": "execute_result"
    }
   ],
   "source": [
    "def get_diff_baby_weights(babies_df):\n",
    "    \n",
    "    results_table = babies_df.groupby(\"smoke\").mean()\n",
    "    obs_stat_series = results_table.iloc[0] - results_table.iloc[1]\n",
    "    return obs_stat_series.iloc[0]\n",
    "\n",
    "\n",
    "# get that the function works\n",
    "\n",
    "get_diff_baby_weights(babies2)\n"
   ]
  },
  {
   "cell_type": "markdown",
   "metadata": {},
   "source": [
    "### Step 3: Create the null distribution \n",
    "\n",
    "Now let's create a null distribution that has 10,000 statistics that are consistent with the null hypothesis. \n",
    "\n",
    "In this example, if the null hypothesis was true, then there would be no difference between the smoking mothers and the non-smoking mothers. Thus, under the null hypothesis, we can shuffle the group labels and get equally valid statistics. \n",
    "\n",
    "Let's create one statistic consistent with the null distribution to understand the process. We can then repeat this 10,000 times to get a full null distribution. "
   ]
  },
  {
   "cell_type": "code",
   "execution_count": 61,
   "metadata": {},
   "outputs": [
    {
     "data": {
      "text/plain": [
       "np.float64(-0.3595097012764228)"
      ]
     },
     "execution_count": 61,
     "metadata": {},
     "output_type": "execute_result"
    }
   ],
   "source": [
    "# shuffle the data \n",
    "\n",
    "shuff_babies = babies2.copy()\n",
    "shuff_babies['smoke'] = np.random.permutation(shuff_babies[\"smoke\"])\n",
    "\n",
    "get_diff_baby_weights(shuff_babies)\n"
   ]
  },
  {
   "cell_type": "code",
   "execution_count": 62,
   "metadata": {},
   "outputs": [
    {
     "name": "stdout",
     "output_type": "stream",
     "text": [
      "CPU times: user 2.32 s, sys: 26.1 ms, total: 2.34 s\n",
      "Wall time: 2.55 s\n"
     ]
    }
   ],
   "source": [
    "%%time\n",
    "\n",
    "# create a full null distribution \n",
    "\n",
    "null_dist = []\n",
    "\n",
    "for i in range(10000):  \n",
    "    \n",
    "    shuff_babies['smoke'] = np.random.permutation(shuff_babies[\"smoke\"])\n",
    "    \n",
    "    shuff_stat = get_diff_baby_weights(shuff_babies)\n",
    "    \n",
    "    null_dist.append(shuff_stat)\n"
   ]
  },
  {
   "cell_type": "code",
   "execution_count": 63,
   "metadata": {},
   "outputs": [
    {
     "data": {
      "image/png": "[encoded data removed]",
      "text/plain": [
       "<Figure size 640x480 with 1 Axes>"
      ]
     },
     "metadata": {},
     "output_type": "display_data"
    }
   ],
   "source": [
    "# visualize the null distribution \n",
    "\n",
    "plt.hist(null_dist, edgecolor = \"black\", bins = 100);\n",
    "\n",
    "\n",
    "# put a line at the observed statistic value\n",
    "\n",
    "plt.axvline(obs_stat, color = \"red\");\n",
    "plt.xlabel(\"prop treat - prop control\");\n",
    "plt.ylabel(\"Count\");"
   ]
  },
  {
   "cell_type": "markdown",
   "metadata": {},
   "source": [
    "### Step 4: Calculate the p-value\n",
    "\n",
    "The p-value is the proportion of points in the null distribution that are more extreme than the observed statistic. \n"
   ]
  },
  {
   "cell_type": "code",
   "execution_count": 64,
   "metadata": {},
   "outputs": [
    {
     "data": {
      "text/plain": [
       "np.float64(0.0)"
      ]
     },
     "execution_count": 64,
     "metadata": {},
     "output_type": "execute_result"
    }
   ],
   "source": [
    "p_value = np.mean(np.array(null_dist) >= obs_stat)\n",
    "\n",
    "p_value"
   ]
  },
  {
   "cell_type": "markdown",
   "metadata": {},
   "source": [
    "### Step 5: Draw a conclusion\n",
    "\n",
    "Since the p-value is less than the typical significance level of 0.05, we can reject the null hypothesis. This we conclude there is a difference between in the average weight of babies born to mothers who smoke compared to mothers who do not smoke. \n",
    "\n",
    "However, because this was an observational study, where mothers were **not** randomly assigned to treatment and control groups, we can conclude that smoking does causes babies to have less weight when they are born. In particular, it is possible there could be other \"lurking/confounding\" variables that cause both the mothers to smoke, and the babies to have less weight. "
   ]
  },
  {
   "cell_type": "markdown",
   "metadata": {},
   "source": [
    "<br>\n",
    "<center>\n",
    "<img src=\"https://i.ytimg.com/vi/x4c_wI6kQyE/maxresdefault.jpg\" alt=\"smoking\" style=\"width: 300px;\"/>\n",
    "</center>\n",
    "<br>"
   ]
  },
  {
   "cell_type": "markdown",
   "metadata": {},
   "source": [
    "## 3. Hypothesis tests for correlation\n",
    "\n",
    "Let's run a hypothesis tests for correlation to see if books that have more pages cost more! \n"
   ]
  },
  {
   "cell_type": "markdown",
   "metadata": {},
   "source": [
    "### Step 1: State the null and alternative hypotheses\n",
    "\n",
    "**In words** \n",
    "\n",
    "Null hypthesis: There is no correlation between the number of pages in a book and the cost of the book. \n",
    "\n",
    "Alternative hypothesis: Books that have more pages cost more. \n",
    "\n",
    "**In symbols**\n",
    "\n",
    "$H_0$: $\\rho = 0$  \n",
    "\n",
    "$H_A$: $\\rho > 0$  \n"
   ]
  },
  {
   "cell_type": "markdown",
   "metadata": {},
   "source": [
    "### Step 2: Calculate the observed statistic\n",
    "\n",
    "Data on 230 books from Amazon.com are loaded below. Let's calculate the observed correlation ($r$) between the number of pages in the book (`NumPages`) and the listed price (`List.Price`). \n",
    "\n",
    "To make your life easier, first just reduce the data set to only the `NumPages` and `List.Price` columns and save this to a DataFrame called `amazon_smaller`. Then use `amazon_smaller` for the rest of this problem\n"
   ]
  },
  {
   "cell_type": "code",
   "execution_count": 65,
   "metadata": {},
   "outputs": [
    {
     "data": {
      "application/vnd.microsoft.datawrangler.viewer.v0+json": {
       "columns": [
        {
         "name": "index",
         "rawType": "int64",
         "type": "integer"
        },
        {
         "name": "Title",
         "rawType": "object",
         "type": "string"
        },
        {
         "name": "Author",
         "rawType": "object",
         "type": "string"
        },
        {
         "name": "List.Price",
         "rawType": "float64",
         "type": "float"
        },
        {
         "name": "Amazon.Price",
         "rawType": "float64",
         "type": "float"
        },
        {
         "name": "Hard..Paper",
         "rawType": "object",
         "type": "string"
        },
        {
         "name": "NumPages",
         "rawType": "int64",
         "type": "integer"
        },
        {
         "name": "Publisher",
         "rawType": "object",
         "type": "string"
        },
        {
         "name": "Pub.year",
         "rawType": "float64",
         "type": "float"
        },
        {
         "name": "ISBN.10",
         "rawType": "object",
         "type": "string"
        },
        {
         "name": "Height",
         "rawType": "float64",
         "type": "float"
        },
        {
         "name": "Width",
         "rawType": "float64",
         "type": "float"
        },
        {
         "name": "Thick",
         "rawType": "float64",
         "type": "float"
        },
        {
         "name": "Weight..oz.",
         "rawType": "float64",
         "type": "float"
        }
       ],
       "conversionMethod": "pd.DataFrame",
       "ref": "90de70be-0b41-4935-9382-5d390c94d6e8",
       "rows": [
        [
         "0",
         "1,001 Facts that Will Scare the S#*t Out of You: The Ultimate Bathroom Reader",
         "Cary McNeal",
         "12.95",
         "5.18",
         "P",
         "304",
         "Adams Media",
         "2010.0",
         "1605506249",
         "7.8",
         "5.5",
         "0.8",
         "11.2"
        ],
        [
         "1",
         "21: Bringing Down the House - Movie Tie-In: The Inside Story of Six M.I.T. Students Who Took Vegas for Millions",
         "Ben Mezrich",
         "15.0",
         "10.2",
         "P",
         "273",
         "Free Press",
         "2008.0",
         "1416564195",
         "8.4",
         "5.5",
         "0.7",
         "7.2"
        ],
        [
         "2",
         "100 Best-Loved Poems (Dover Thrift Editions)",
         "Smith",
         "1.5",
         "1.5",
         "P",
         "96",
         "Dover Publications",
         "1995.0",
         "486285537",
         "8.3",
         "5.2",
         "0.3",
         "4.0"
        ]
       ],
       "shape": {
        "columns": 13,
        "rows": 3
       }
      },
      "text/html": [
       "<div>\n",
       "<style scoped>\n",
       "    .dataframe tbody tr th:only-of-type {\n",
       "        vertical-align: middle;\n",
       "    }\n",
       "\n",
       "    .dataframe tbody tr th {\n",
       "        vertical-align: top;\n",
       "    }\n",
       "\n",
       "    .dataframe thead th {\n",
       "        text-align: right;\n",
       "    }\n",
       "</style>\n",
       "<table border=\"1\" class=\"dataframe\">\n",
       "  <thead>\n",
       "    <tr style=\"text-align: right;\">\n",
       "      <th></th>\n",
       "      <th>Title</th>\n",
       "      <th>Author</th>\n",
       "      <th>List.Price</th>\n",
       "      <th>Amazon.Price</th>\n",
       "      <th>Hard..Paper</th>\n",
       "      <th>NumPages</th>\n",
       "      <th>Publisher</th>\n",
       "      <th>Pub.year</th>\n",
       "      <th>ISBN.10</th>\n",
       "      <th>Height</th>\n",
       "      <th>Width</th>\n",
       "      <th>Thick</th>\n",
       "      <th>Weight..oz.</th>\n",
       "    </tr>\n",
       "  </thead>\n",
       "  <tbody>\n",
       "    <tr>\n",
       "      <th>0</th>\n",
       "      <td>1,001 Facts that Will Scare the S#*t Out of Yo...</td>\n",
       "      <td>Cary McNeal</td>\n",
       "      <td>12.95</td>\n",
       "      <td>5.18</td>\n",
       "      <td>P</td>\n",
       "      <td>304</td>\n",
       "      <td>Adams Media</td>\n",
       "      <td>2010.0</td>\n",
       "      <td>1605506249</td>\n",
       "      <td>7.8</td>\n",
       "      <td>5.5</td>\n",
       "      <td>0.8</td>\n",
       "      <td>11.2</td>\n",
       "    </tr>\n",
       "    <tr>\n",
       "      <th>1</th>\n",
       "      <td>21: Bringing Down the House - Movie Tie-In: Th...</td>\n",
       "      <td>Ben Mezrich</td>\n",
       "      <td>15.00</td>\n",
       "      <td>10.20</td>\n",
       "      <td>P</td>\n",
       "      <td>273</td>\n",
       "      <td>Free Press</td>\n",
       "      <td>2008.0</td>\n",
       "      <td>1416564195</td>\n",
       "      <td>8.4</td>\n",
       "      <td>5.5</td>\n",
       "      <td>0.7</td>\n",
       "      <td>7.2</td>\n",
       "    </tr>\n",
       "    <tr>\n",
       "      <th>2</th>\n",
       "      <td>100 Best-Loved Poems (Dover Thrift Editions)</td>\n",
       "      <td>Smith</td>\n",
       "      <td>1.50</td>\n",
       "      <td>1.50</td>\n",
       "      <td>P</td>\n",
       "      <td>96</td>\n",
       "      <td>Dover Publications</td>\n",
       "      <td>1995.0</td>\n",
       "      <td>486285537</td>\n",
       "      <td>8.3</td>\n",
       "      <td>5.2</td>\n",
       "      <td>0.3</td>\n",
       "      <td>4.0</td>\n",
       "    </tr>\n",
       "  </tbody>\n",
       "</table>\n",
       "</div>"
      ],
      "text/plain": [
       "                                               Title       Author  List.Price  \\\n",
       "0  1,001 Facts that Will Scare the S#*t Out of Yo...  Cary McNeal       12.95   \n",
       "1  21: Bringing Down the House - Movie Tie-In: Th...  Ben Mezrich       15.00   \n",
       "2       100 Best-Loved Poems (Dover Thrift Editions)        Smith        1.50   \n",
       "\n",
       "   Amazon.Price Hard..Paper  NumPages           Publisher  Pub.year  \\\n",
       "0          5.18           P       304         Adams Media    2010.0   \n",
       "1         10.20           P       273          Free Press    2008.0   \n",
       "2          1.50           P        96  Dover Publications    1995.0   \n",
       "\n",
       "      ISBN.10  Height  Width  Thick  Weight..oz.  \n",
       "0  1605506249     7.8    5.5    0.8         11.2  \n",
       "1  1416564195     8.4    5.5    0.7          7.2  \n",
       "2   486285537     8.3    5.2    0.3          4.0  "
      ]
     },
     "execution_count": 65,
     "metadata": {},
     "output_type": "execute_result"
    }
   ],
   "source": [
    "amazon = pd.read_csv(\"amazon.csv\")\n",
    "\n",
    "amazon.head(3)"
   ]
  },
  {
   "cell_type": "code",
   "execution_count": 66,
   "metadata": {},
   "outputs": [
    {
     "data": {
      "text/plain": [
       "0.21455197256312525"
      ]
     },
     "execution_count": 66,
     "metadata": {},
     "output_type": "execute_result"
    }
   ],
   "source": [
    "import statistics\n",
    "\n",
    "amazon_smaller = amazon[[\"NumPages\", \"List.Price\"]]\n",
    "\n",
    "obs_stat = statistics.correlation(amazon_smaller.NumPages, amazon_smaller[\"List.Price\"])\n",
    "\n",
    "obs_stat"
   ]
  },
  {
   "cell_type": "markdown",
   "metadata": {},
   "source": [
    "### Step 3: Create the null distribution \n",
    "\n",
    "How can we create one statistic consistent with the null hypothesis? \n",
    "\n",
    "See if you can create one statistic consistent with the null distribution below. Once you have done that, create the full null distribution!\n",
    "\n"
   ]
  },
  {
   "cell_type": "code",
   "execution_count": 67,
   "metadata": {},
   "outputs": [
    {
     "data": {
      "text/plain": [
       "np.float64(0.13880389395950885)"
      ]
     },
     "execution_count": 67,
     "metadata": {},
     "output_type": "execute_result"
    }
   ],
   "source": [
    "# Create one statistic consistent with the null distribution\n",
    "statistics.correlation(amazon_smaller.NumPages, np.random.permutation(amazon_smaller[\"List.Price\"]))\n"
   ]
  },
  {
   "cell_type": "code",
   "execution_count": 68,
   "metadata": {},
   "outputs": [
    {
     "name": "stdout",
     "output_type": "stream",
     "text": [
      "CPU times: user 863 ms, sys: 32.6 ms, total: 895 ms\n",
      "Wall time: 914 ms\n"
     ]
    }
   ],
   "source": [
    "%%time\n",
    "\n",
    "# Create the full null distribution\n",
    "\n",
    "null_dist = []\n",
    "\n",
    "for i in range(10000):  \n",
    "        \n",
    "    shuff_stat = statistics.correlation(amazon_smaller.NumPages, \n",
    "                                        np.random.permutation(amazon_smaller[\"List.Price\"]))\n",
    "    \n",
    "    null_dist.append(shuff_stat)\n",
    "\n"
   ]
  },
  {
   "cell_type": "code",
   "execution_count": 69,
   "metadata": {},
   "outputs": [
    {
     "data": {
      "image/png": "[encoded data removed]",
      "text/plain": [
       "<Figure size 640x480 with 1 Axes>"
      ]
     },
     "metadata": {},
     "output_type": "display_data"
    }
   ],
   "source": [
    "# visualize the null distribution \n",
    "\n",
    "plt.hist(null_dist, edgecolor = \"black\", bins = 100);\n",
    "\n",
    "\n",
    "# put a line at the observed statistic value\n",
    "\n",
    "plt.axvline(obs_stat, color = \"red\");\n",
    "plt.xlabel(\"r\");\n",
    "plt.ylabel(\"Count\");"
   ]
  },
  {
   "cell_type": "markdown",
   "metadata": {},
   "source": [
    "### Step 4: Calculate the p-value\n"
   ]
  },
  {
   "cell_type": "code",
   "execution_count": 70,
   "metadata": {},
   "outputs": [
    {
     "data": {
      "text/plain": [
       "np.float64(0.0011)"
      ]
     },
     "execution_count": 70,
     "metadata": {},
     "output_type": "execute_result"
    }
   ],
   "source": [
    "p_value = np.mean(np.array(null_dist) >= obs_stat)\n",
    "\n",
    "p_value"
   ]
  },
  {
   "cell_type": "markdown",
   "metadata": {},
   "source": [
    "### Step 5: Draw a conclusion\n",
    "\n",
    "The p-value is small (less than the convensional level of 0.05) so we would reject the null hypothesis and conclude that there is a correlation between the number of pages in a book and the price of a book at the population level. \n"
   ]
  },
  {
   "cell_type": "markdown",
   "metadata": {},
   "source": [
    "## 4. Visualizing hypothesis tests for correlation\n",
    "\n",
    "We can also run a visual hypothesis test for correlation by creating a visual lineup that displays several scatter plots of shuffled data and one scatter plot of the real data. If you can tell which plot contains the real (unshuffled) data, this corresponds to being able to reject the null hypothesis. \n"
   ]
  },
  {
   "cell_type": "code",
   "execution_count": 71,
   "metadata": {},
   "outputs": [
    {
     "data": {
      "image/png": "[encoded data removed]",
      "text/plain": [
       "<Figure size 2500x2000 with 20 Axes>"
      ]
     },
     "metadata": {},
     "output_type": "display_data"
    }
   ],
   "source": [
    "def create_lineup(the_data): \n",
    "    \n",
    "    real_plot_num = np.random.permutation(range(20))[0]\n",
    "    lineup_data = pd.DataFrame()\n",
    "    \n",
    "    for i in range(20):\n",
    "        \n",
    "        if i == real_plot_num:\n",
    "            curr_data = the_data.copy()\n",
    "        \n",
    "        else:\n",
    "            curr_data = pd.DataFrame(the_data.iloc[:, 1], the_data.iloc[:, 0]).reset_index()\n",
    "            curr_data[curr_data.columns[1]] = np.random.permutation(curr_data[curr_data.columns[1]])\n",
    "        \n",
    "        curr_data.loc[:, \"Lineup\"] = i\n",
    "        lineup_data = pd.concat([lineup_data, curr_data])\n",
    "        \n",
    "    lineup_data = lineup_data.reset_index()\n",
    "\n",
    "    sns.set_context(\"paper\", rc={\"axes.labelsize\":20})   \n",
    "    sns.relplot(lineup_data, x = lineup_data.columns[1], y = lineup_data.columns[2], col = \"Lineup\", col_wrap=5); \n",
    "\n",
    "    return real_plot_num\n",
    "\n",
    "\n",
    "the_answer = create_lineup(amazon_smaller)\n",
    "\n"
   ]
  },
  {
   "cell_type": "code",
   "execution_count": 72,
   "metadata": {},
   "outputs": [
    {
     "name": "stdout",
     "output_type": "stream",
     "text": [
      "0\n"
     ]
    }
   ],
   "source": [
    "# display the answer\n",
    "print(the_answer)\n",
    "# the_answer\n"
   ]
  },
  {
   "cell_type": "markdown",
   "metadata": {},
   "source": [
    "## 5. Two-sided hypothesis test\n",
    "\n",
    "Sometime in hypothesis testing we don't know the direction of an effect, we only know that the null hypothesis is incorrect. \n",
    "\n",
    "In these circumstances, we write our alternative hypothesis such that we state that the parameter value is not equal to the value specified by the null hypothesis.\n",
    "\n",
    "For the baby weight example, we would write our hypotheses as:\n",
    "\n",
    "$H_0$: $\\mu_{non-smoke} =  \\mu_{smokes}$   or    $H_0$: $\\mu_{non-smoke} -  \\mu_{smokes} = 0$ \n",
    "\n",
    "i.e., the null hypothesis is the same as before.\n",
    "\n",
    "$H_A$: $\\mu_{non-smoke} \\ne  \\mu_{smokes}$   or    $H_0$: $\\mu_{non-smoke} -  \\mu_{smokes} \\ne 0$ \n",
    "\n",
    "We now use not equal to ($\\ne$) in our alternative hypothesis.\n",
    "\n",
    "\n",
    "To calculate the p-value, we need to look at the values more extreme than the observed statistic in in both tails. \n",
    "\n"
   ]
  },
  {
   "cell_type": "code",
   "execution_count": 73,
   "metadata": {},
   "outputs": [
    {
     "data": {
      "image/png": "[encoded data removed]",
      "text/plain": [
       "<Figure size 640x480 with 1 Axes>"
      ]
     },
     "metadata": {},
     "output_type": "display_data"
    }
   ],
   "source": [
    "# visualize the null distribution \n",
    "\n",
    "plt.hist(null_dist, edgecolor = \"black\", bins = 100);\n",
    "\n",
    "\n",
    "# put lines showing values more extreme than the observed statistic\n",
    "\n",
    "plt.axvline(obs_stat, color = \"red\");\n",
    "plt.axvline(-1 * obs_stat, color = \"red\");\n",
    "\n",
    "plt.xlabel(\"Null statistic value\");\n",
    "plt.ylabel(\"Count\");\n"
   ]
  },
  {
   "cell_type": "markdown",
   "metadata": {},
   "source": [
    "When calculating the p-value, we need to get the proportion of statistics in the null distribution that are more extreme than the observed statistic from both tails."
   ]
  },
  {
   "cell_type": "code",
   "execution_count": 74,
   "metadata": {},
   "outputs": [
    {
     "data": {
      "text/plain": [
       "np.float64(0.0013000000000000002)"
      ]
     },
     "execution_count": 74,
     "metadata": {},
     "output_type": "execute_result"
    }
   ],
   "source": [
    "p_value_right = np.mean(np.array(null_dist) >= obs_stat)\n",
    "p_value_left = np.mean(np.array(null_dist) <= -1 * obs_stat)\n",
    "\n",
    "p_value = p_value_right + p_value_left\n",
    "\n",
    "p_value \n"
   ]
  }
 ],
 "metadata": {
  "anaconda-cloud": {},
  "kernelspec": {
   "display_name": "ydata_2025spring_v1",
   "language": "python",
   "name": "python3"
  },
  "language_info": {
   "codemirror_mode": {
    "name": "ipython",
    "version": 3
   },
   "file_extension": ".py",
   "mimetype": "text/x-python",
   "name": "python",
   "nbconvert_exporter": "python",
   "pygments_lexer": "ipython3",
   "version": "3.13.2"
  }
 },
 "nbformat": 4,
 "nbformat_minor": 4
}
