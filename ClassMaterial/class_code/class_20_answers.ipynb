{
 "cells": [
  {
   "cell_type": "markdown",
   "metadata": {},
   "source": [
    "# Class 20: Hypothesis tests and Confidence intervals\n",
    "\n",
    "Plan for today:\n",
    "- Hypothesis tests for correlation\n",
    "- Visual hypothesis tests\n",
    "- Two-sided hypothesis tests\n",
    "- Confidence intervals\n"
   ]
  },
  {
   "cell_type": "code",
   "execution_count": 1,
   "metadata": {},
   "outputs": [
    {
     "name": "stdout",
     "output_type": "stream",
     "text": [
      "The file `babies.csv` already exists.\n",
      "If you would like to download a new copy of the file, please rename the existing copy of the file.\n",
      "The file `amazon.csv` already exists.\n",
      "If you would like to download a new copy of the file, please rename the existing copy of the file.\n"
     ]
    }
   ],
   "source": [
    "import YData\n",
    "\n",
    "# YData.download.download_class_code(20)   # get class code    \n",
    "# YData.download.download_class_code(20, TRUE) # get the code with the answers \n",
    "\n",
    "YData.download_data(\"babies.csv\")\n",
    "\n",
    "YData.download_data(\"amazon.csv\")"
   ]
  },
  {
   "cell_type": "markdown",
   "metadata": {},
   "source": [
    "If you are using colabs, you should run the code below."
   ]
  },
  {
   "cell_type": "code",
   "execution_count": 2,
   "metadata": {},
   "outputs": [],
   "source": [
    "# !pip install https://github.com/lederman/YData_package/tarball/master\n",
    "# from google.colab import drive\n",
    "# drive.mount('/content/drive')"
   ]
  },
  {
   "cell_type": "code",
   "execution_count": 3,
   "metadata": {},
   "outputs": [],
   "source": [
    "import pandas as pd\n",
    "import numpy as np\n",
    "import matplotlib.pyplot as plt\n",
    "import seaborn as sns\n",
    "\n",
    "%matplotlib inline\n"
   ]
  },
  {
   "cell_type": "code",
   "execution_count": null,
   "metadata": {},
   "outputs": [],
   "source": []
  },
  {
   "cell_type": "markdown",
   "metadata": {},
   "source": [
    "## 1. Hypothesis test for two means: Smoking and baby weights\n",
    "\n",
    "The Child Health and Development Studies investigate a range of topics. One study, in particular, considered all pregnancies between 1960 and 1967 among women in the Kaiser Foundation Health Plan in the San Francisco East Bay area.\n",
    "\n",
    "Let's examine this data to see if the average weight of babies of babies is different depending on whether the mother of the baby smokes. \n"
   ]
  },
  {
   "cell_type": "markdown",
   "metadata": {},
   "source": [
    "### Step 1: State the null and alternative hypotheses\n",
    "\n",
    "\n",
    "$H_0$: $\\mu_{non-smoke} =  \\mu_{smokes}$   or    $H_0$: $\\mu_{non-smoke} -  \\mu_{smokes} = 0$ \n",
    "\n",
    "$H_A$: $\\mu_{non-smoke} >  \\mu_{smokes}$   or    $H_0$: $\\mu_{non-smoke} -  \\mu_{smokes} > 0$ \n",
    "\n",
    "\n",
    "Where $\\mu_{non-smoke}$ and $\\mu_{smoke}$ are the population means of babies born to mothers who did not smoke and who smoked."
   ]
  },
  {
   "cell_type": "markdown",
   "metadata": {},
   "source": [
    "### Step 2: Calculate the observed statistic\n",
    "\n",
    "The code below loads the data from the study. The two relevant columns are:\n",
    "- `bwt`: The birth weight of the baby in ounces\n",
    "- `smokes`: whether the mother smokes (1) or does not smoke (0)\n",
    "\n",
    "More information about the data is available at: https://www.openintro.org/data/index.php?data=babies"
   ]
  },
  {
   "cell_type": "code",
   "execution_count": 4,
   "metadata": {},
   "outputs": [
    {
     "data": {
      "application/vnd.microsoft.datawrangler.viewer.v0+json": {
       "columns": [
        {
         "name": "index",
         "rawType": "int64",
         "type": "integer"
        },
        {
         "name": "case",
         "rawType": "int64",
         "type": "integer"
        },
        {
         "name": "bwt",
         "rawType": "int64",
         "type": "integer"
        },
        {
         "name": "gestation",
         "rawType": "float64",
         "type": "float"
        },
        {
         "name": "parity",
         "rawType": "int64",
         "type": "integer"
        },
        {
         "name": "age",
         "rawType": "float64",
         "type": "float"
        },
        {
         "name": "height",
         "rawType": "float64",
         "type": "float"
        },
        {
         "name": "weight",
         "rawType": "float64",
         "type": "float"
        },
        {
         "name": "smoke",
         "rawType": "float64",
         "type": "float"
        }
       ],
       "conversionMethod": "pd.DataFrame",
       "ref": "d1e7d8c3-973d-4146-a931-b10d28b8b950",
       "rows": [
        [
         "0",
         "1",
         "120",
         "284.0",
         "0",
         "27.0",
         "62.0",
         "100.0",
         "0.0"
        ],
        [
         "1",
         "2",
         "113",
         "282.0",
         "0",
         "33.0",
         "64.0",
         "135.0",
         "0.0"
        ],
        [
         "2",
         "3",
         "128",
         "279.0",
         "0",
         "28.0",
         "64.0",
         "115.0",
         "1.0"
        ],
        [
         "3",
         "4",
         "123",
         null,
         "0",
         "36.0",
         "69.0",
         "190.0",
         "0.0"
        ],
        [
         "4",
         "5",
         "108",
         "282.0",
         "0",
         "23.0",
         "67.0",
         "125.0",
         "1.0"
        ]
       ],
       "shape": {
        "columns": 8,
        "rows": 5
       }
      },
      "text/html": [
       "<div>\n",
       "<style scoped>\n",
       "    .dataframe tbody tr th:only-of-type {\n",
       "        vertical-align: middle;\n",
       "    }\n",
       "\n",
       "    .dataframe tbody tr th {\n",
       "        vertical-align: top;\n",
       "    }\n",
       "\n",
       "    .dataframe thead th {\n",
       "        text-align: right;\n",
       "    }\n",
       "</style>\n",
       "<table border=\"1\" class=\"dataframe\">\n",
       "  <thead>\n",
       "    <tr style=\"text-align: right;\">\n",
       "      <th></th>\n",
       "      <th>case</th>\n",
       "      <th>bwt</th>\n",
       "      <th>gestation</th>\n",
       "      <th>parity</th>\n",
       "      <th>age</th>\n",
       "      <th>height</th>\n",
       "      <th>weight</th>\n",
       "      <th>smoke</th>\n",
       "    </tr>\n",
       "  </thead>\n",
       "  <tbody>\n",
       "    <tr>\n",
       "      <th>0</th>\n",
       "      <td>1</td>\n",
       "      <td>120</td>\n",
       "      <td>284.0</td>\n",
       "      <td>0</td>\n",
       "      <td>27.0</td>\n",
       "      <td>62.0</td>\n",
       "      <td>100.0</td>\n",
       "      <td>0.0</td>\n",
       "    </tr>\n",
       "    <tr>\n",
       "      <th>1</th>\n",
       "      <td>2</td>\n",
       "      <td>113</td>\n",
       "      <td>282.0</td>\n",
       "      <td>0</td>\n",
       "      <td>33.0</td>\n",
       "      <td>64.0</td>\n",
       "      <td>135.0</td>\n",
       "      <td>0.0</td>\n",
       "    </tr>\n",
       "    <tr>\n",
       "      <th>2</th>\n",
       "      <td>3</td>\n",
       "      <td>128</td>\n",
       "      <td>279.0</td>\n",
       "      <td>0</td>\n",
       "      <td>28.0</td>\n",
       "      <td>64.0</td>\n",
       "      <td>115.0</td>\n",
       "      <td>1.0</td>\n",
       "    </tr>\n",
       "    <tr>\n",
       "      <th>3</th>\n",
       "      <td>4</td>\n",
       "      <td>123</td>\n",
       "      <td>NaN</td>\n",
       "      <td>0</td>\n",
       "      <td>36.0</td>\n",
       "      <td>69.0</td>\n",
       "      <td>190.0</td>\n",
       "      <td>0.0</td>\n",
       "    </tr>\n",
       "    <tr>\n",
       "      <th>4</th>\n",
       "      <td>5</td>\n",
       "      <td>108</td>\n",
       "      <td>282.0</td>\n",
       "      <td>0</td>\n",
       "      <td>23.0</td>\n",
       "      <td>67.0</td>\n",
       "      <td>125.0</td>\n",
       "      <td>1.0</td>\n",
       "    </tr>\n",
       "  </tbody>\n",
       "</table>\n",
       "</div>"
      ],
      "text/plain": [
       "   case  bwt  gestation  parity   age  height  weight  smoke\n",
       "0     1  120      284.0       0  27.0    62.0   100.0    0.0\n",
       "1     2  113      282.0       0  33.0    64.0   135.0    0.0\n",
       "2     3  128      279.0       0  28.0    64.0   115.0    1.0\n",
       "3     4  123        NaN       0  36.0    69.0   190.0    0.0\n",
       "4     5  108      282.0       0  23.0    67.0   125.0    1.0"
      ]
     },
     "execution_count": 4,
     "metadata": {},
     "output_type": "execute_result"
    }
   ],
   "source": [
    "babies = pd.read_csv(\"babies.csv\")\n",
    "\n",
    "babies.head()"
   ]
  },
  {
   "cell_type": "markdown",
   "metadata": {},
   "source": [
    "To simplify the analysis, create a new DataFrame called `babies2` that only has the smoke and bwt columns. "
   ]
  },
  {
   "cell_type": "code",
   "execution_count": 5,
   "metadata": {},
   "outputs": [
    {
     "data": {
      "application/vnd.microsoft.datawrangler.viewer.v0+json": {
       "columns": [
        {
         "name": "index",
         "rawType": "int64",
         "type": "integer"
        },
        {
         "name": "smoke",
         "rawType": "float64",
         "type": "float"
        },
        {
         "name": "bwt",
         "rawType": "int64",
         "type": "integer"
        }
       ],
       "conversionMethod": "pd.DataFrame",
       "ref": "5935fb5c-9ec9-404c-9e1f-f0d26b3a0ed5",
       "rows": [
        [
         "0",
         "0.0",
         "120"
        ],
        [
         "1",
         "0.0",
         "113"
        ],
        [
         "2",
         "1.0",
         "128"
        ]
       ],
       "shape": {
        "columns": 2,
        "rows": 3
       }
      },
      "text/html": [
       "<div>\n",
       "<style scoped>\n",
       "    .dataframe tbody tr th:only-of-type {\n",
       "        vertical-align: middle;\n",
       "    }\n",
       "\n",
       "    .dataframe tbody tr th {\n",
       "        vertical-align: top;\n",
       "    }\n",
       "\n",
       "    .dataframe thead th {\n",
       "        text-align: right;\n",
       "    }\n",
       "</style>\n",
       "<table border=\"1\" class=\"dataframe\">\n",
       "  <thead>\n",
       "    <tr style=\"text-align: right;\">\n",
       "      <th></th>\n",
       "      <th>smoke</th>\n",
       "      <th>bwt</th>\n",
       "    </tr>\n",
       "  </thead>\n",
       "  <tbody>\n",
       "    <tr>\n",
       "      <th>0</th>\n",
       "      <td>0.0</td>\n",
       "      <td>120</td>\n",
       "    </tr>\n",
       "    <tr>\n",
       "      <th>1</th>\n",
       "      <td>0.0</td>\n",
       "      <td>113</td>\n",
       "    </tr>\n",
       "    <tr>\n",
       "      <th>2</th>\n",
       "      <td>1.0</td>\n",
       "      <td>128</td>\n",
       "    </tr>\n",
       "  </tbody>\n",
       "</table>\n",
       "</div>"
      ],
      "text/plain": [
       "   smoke  bwt\n",
       "0    0.0  120\n",
       "1    0.0  113\n",
       "2    1.0  128"
      ]
     },
     "execution_count": 5,
     "metadata": {},
     "output_type": "execute_result"
    }
   ],
   "source": [
    "# create a DataFrame called babies2 that has only the smoke and bwt columns\n",
    "babies2 = babies[[\"smoke\", \"bwt\"]]\n",
    "babies2.head(3)"
   ]
  },
  {
   "cell_type": "markdown",
   "metadata": {},
   "source": [
    "Let's have our observed statistic be the different of sample means  $\\bar{x}_{non-smoke} - \\bar{x}_{smoke}$.  \n",
    "\n",
    "Please calculate this observe statistic and save it to the name `obs_stat`.\n"
   ]
  },
  {
   "cell_type": "code",
   "execution_count": 6,
   "metadata": {},
   "outputs": [
    {
     "data": {
      "application/vnd.microsoft.datawrangler.viewer.v0+json": {
       "columns": [
        {
         "name": "smoke",
         "rawType": "float64",
         "type": "float"
        },
        {
         "name": "bwt",
         "rawType": "float64",
         "type": "float"
        }
       ],
       "conversionMethod": "pd.DataFrame",
       "ref": "51856cbf-eaec-4e18-a358-5c2776c34540",
       "rows": [
        [
         "0.0",
         "123.04716981132076"
        ],
        [
         "1.0",
         "114.10950413223141"
        ]
       ],
       "shape": {
        "columns": 1,
        "rows": 2
       }
      },
      "text/html": [
       "<div>\n",
       "<style scoped>\n",
       "    .dataframe tbody tr th:only-of-type {\n",
       "        vertical-align: middle;\n",
       "    }\n",
       "\n",
       "    .dataframe tbody tr th {\n",
       "        vertical-align: top;\n",
       "    }\n",
       "\n",
       "    .dataframe thead th {\n",
       "        text-align: right;\n",
       "    }\n",
       "</style>\n",
       "<table border=\"1\" class=\"dataframe\">\n",
       "  <thead>\n",
       "    <tr style=\"text-align: right;\">\n",
       "      <th></th>\n",
       "      <th>bwt</th>\n",
       "    </tr>\n",
       "    <tr>\n",
       "      <th>smoke</th>\n",
       "      <th></th>\n",
       "    </tr>\n",
       "  </thead>\n",
       "  <tbody>\n",
       "    <tr>\n",
       "      <th>0.0</th>\n",
       "      <td>123.047170</td>\n",
       "    </tr>\n",
       "    <tr>\n",
       "      <th>1.0</th>\n",
       "      <td>114.109504</td>\n",
       "    </tr>\n",
       "  </tbody>\n",
       "</table>\n",
       "</div>"
      ],
      "text/plain": [
       "              bwt\n",
       "smoke            \n",
       "0.0    123.047170\n",
       "1.0    114.109504"
      ]
     },
     "execution_count": 6,
     "metadata": {},
     "output_type": "execute_result"
    }
   ],
   "source": [
    "results_table = babies2.groupby(\"smoke\").mean()\n",
    "results_table"
   ]
  },
  {
   "cell_type": "code",
   "execution_count": 7,
   "metadata": {},
   "outputs": [
    {
     "data": {
      "text/plain": [
       "np.float64(8.93766567908935)"
      ]
     },
     "execution_count": 7,
     "metadata": {},
     "output_type": "execute_result"
    }
   ],
   "source": [
    "\n",
    "obs_stat_series = results_table.iloc[0] - results_table.iloc[1]\n",
    "\n",
    "obs_stat = obs_stat_series.iloc[0]\n",
    "\n",
    "obs_stat"
   ]
  },
  {
   "cell_type": "markdown",
   "metadata": {},
   "source": [
    "To make the rest of the analysis easier, write a function `get_diff_baby_weights(babies_df)` that will take a DataFrame `babies_df` that has smoke and btw information will return the difference in the means of babies that have mothers who to not smoke and those who do smoke. \n",
    "\n",
    "Also, test the function to make sure it give the same observed statistic you calculated above"
   ]
  },
  {
   "cell_type": "code",
   "execution_count": 8,
   "metadata": {},
   "outputs": [
    {
     "data": {
      "text/plain": [
       "np.float64(8.93766567908935)"
      ]
     },
     "execution_count": 8,
     "metadata": {},
     "output_type": "execute_result"
    }
   ],
   "source": [
    "def get_diff_baby_weights(babies_df):\n",
    "    \n",
    "    results_table = babies_df.groupby(\"smoke\").mean()\n",
    "    obs_stat_series = results_table.iloc[0] - results_table.iloc[1]\n",
    "    return obs_stat_series.iloc[0]\n",
    "\n",
    "\n",
    "# get that the function works\n",
    "\n",
    "get_diff_baby_weights(babies2)\n"
   ]
  },
  {
   "cell_type": "markdown",
   "metadata": {},
   "source": [
    "### Step 3: Create the null distribution \n",
    "\n",
    "Now let's create a null distribution that has 10,000 statistics that are consistent with the null hypothesis. \n",
    "\n",
    "In this example, if the null hypothesis was true, then there would be no difference between the smoking mothers and the non-smoking mothers. Thus, under the null hypothesis, we can shuffle the group labels and get equally valid statistics. \n",
    "\n",
    "Let's create one statistic consistent with the null distribution to understand the process. We can then repeat this 10,000 times to get a full null distribution. "
   ]
  },
  {
   "cell_type": "code",
   "execution_count": 9,
   "metadata": {},
   "outputs": [
    {
     "data": {
      "text/plain": [
       "np.float64(1.3294312891225388)"
      ]
     },
     "execution_count": 9,
     "metadata": {},
     "output_type": "execute_result"
    }
   ],
   "source": [
    "# shuffle the data \n",
    "\n",
    "shuff_babies = babies2.copy()\n",
    "shuff_babies['smoke'] = np.random.permutation(shuff_babies[\"smoke\"])\n",
    "\n",
    "get_diff_baby_weights(shuff_babies)\n"
   ]
  },
  {
   "cell_type": "code",
   "execution_count": 10,
   "metadata": {},
   "outputs": [
    {
     "name": "stdout",
     "output_type": "stream",
     "text": [
      "CPU times: user 2.24 s, sys: 4.84 ms, total: 2.24 s\n",
      "Wall time: 2.25 s\n"
     ]
    }
   ],
   "source": [
    "%%time\n",
    "\n",
    "# create a full null distribution \n",
    "\n",
    "null_dist = []\n",
    "\n",
    "for i in range(10000):  \n",
    "    \n",
    "    shuff_babies['smoke'] = np.random.permutation(shuff_babies[\"smoke\"])\n",
    "    \n",
    "    shuff_stat = get_diff_baby_weights(shuff_babies)\n",
    "    \n",
    "    null_dist.append(shuff_stat)\n"
   ]
  },
  {
   "cell_type": "code",
   "execution_count": 11,
   "metadata": {},
   "outputs": [
    {
     "data": {
      "image/png": "[encoded data removed]",
      "text/plain": [
       "<Figure size 640x480 with 1 Axes>"
      ]
     },
     "metadata": {},
     "output_type": "display_data"
    }
   ],
   "source": [
    "# visualize the null distribution \n",
    "\n",
    "plt.hist(null_dist, edgecolor = \"black\", bins = 100);\n",
    "\n",
    "\n",
    "# put a line at the observed statistic value\n",
    "\n",
    "plt.axvline(obs_stat, color = \"red\");\n",
    "plt.xlabel(\"prop treat - prop control\");\n",
    "plt.ylabel(\"Count\");"
   ]
  },
  {
   "cell_type": "markdown",
   "metadata": {},
   "source": [
    "### Step 4: Calculate the p-value\n",
    "\n",
    "The p-value is the proportion of points in the null distribution that are more extreme than the observed statistic. \n"
   ]
  },
  {
   "cell_type": "code",
   "execution_count": 12,
   "metadata": {},
   "outputs": [
    {
     "data": {
      "text/plain": [
       "np.float64(0.0)"
      ]
     },
     "execution_count": 12,
     "metadata": {},
     "output_type": "execute_result"
    }
   ],
   "source": [
    "p_value = np.mean(np.array(null_dist) >= obs_stat)\n",
    "\n",
    "p_value"
   ]
  },
  {
   "cell_type": "markdown",
   "metadata": {},
   "source": [
    "### Step 5: Draw a conclusion\n",
    "\n",
    "Since the p-value is less than the typical significance level of 0.05, we can reject the null hypothesis. This we conclude there is a difference between in the average weight of babies born to mothers who smoke compared to mothers who do not smoke. \n",
    "\n",
    "However, because this was an observational study, where mothers were **not** randomly assigned to treatment and control groups, we can conclude that smoking does causes babies to have less weight when they are born. In particular, it is possible there could be other \"lurking/confounding\" variables that cause both the mothers to smoke, and the babies to have less weight. "
   ]
  },
  {
   "cell_type": "markdown",
   "metadata": {},
   "source": [
    "<br>\n",
    "<center>\n",
    "<img src=\"https://i.ytimg.com/vi/x4c_wI6kQyE/maxresdefault.jpg\" alt=\"smoking\" style=\"width: 300px;\"/>\n",
    "</center>\n",
    "<br>"
   ]
  },
  {
   "cell_type": "markdown",
   "metadata": {},
   "source": [
    "## 2. Hypothesis tests for correlation\n",
    "\n",
    "Let's run a hypothesis tests for correlation to see if books that have more pages cost more! \n"
   ]
  },
  {
   "cell_type": "markdown",
   "metadata": {},
   "source": [
    "### Step 1: State the null and alternative hypotheses\n",
    "\n",
    "**In words** \n",
    "\n",
    "Null hypthesis: There is no correlation between the number of pages in a book and the cost of the book. \n",
    "\n",
    "Alternative hypothesis: Books that have more pages cost more. \n",
    "\n",
    "**In symbols**\n",
    "\n",
    "$H_0$: $\\rho = 0$  \n",
    "\n",
    "$H_A$: $\\rho > 0$  \n"
   ]
  },
  {
   "cell_type": "markdown",
   "metadata": {},
   "source": [
    "### Step 2: Calculate the observed statistic\n",
    "\n",
    "Data on 230 books from Amazon.com are loaded below. Let's calculate the observed correlation ($r$) between the number of pages in the book (`NumPages`) and the listed price (`List.Price`). \n",
    "\n",
    "To make your life easier, first just reduce the data set to only the `NumPages` and `List.Price` columns and save this to a DataFrame called `amazon_smaller`. Then use `amazon_smaller` for the rest of this problem\n"
   ]
  },
  {
   "cell_type": "code",
   "execution_count": 13,
   "metadata": {},
   "outputs": [
    {
     "data": {
      "application/vnd.microsoft.datawrangler.viewer.v0+json": {
       "columns": [
        {
         "name": "index",
         "rawType": "int64",
         "type": "integer"
        },
        {
         "name": "Title",
         "rawType": "object",
         "type": "string"
        },
        {
         "name": "Author",
         "rawType": "object",
         "type": "string"
        },
        {
         "name": "List.Price",
         "rawType": "float64",
         "type": "float"
        },
        {
         "name": "Amazon.Price",
         "rawType": "float64",
         "type": "float"
        },
        {
         "name": "Hard..Paper",
         "rawType": "object",
         "type": "string"
        },
        {
         "name": "NumPages",
         "rawType": "int64",
         "type": "integer"
        },
        {
         "name": "Publisher",
         "rawType": "object",
         "type": "string"
        },
        {
         "name": "Pub.year",
         "rawType": "float64",
         "type": "float"
        },
        {
         "name": "ISBN.10",
         "rawType": "object",
         "type": "string"
        },
        {
         "name": "Height",
         "rawType": "float64",
         "type": "float"
        },
        {
         "name": "Width",
         "rawType": "float64",
         "type": "float"
        },
        {
         "name": "Thick",
         "rawType": "float64",
         "type": "float"
        },
        {
         "name": "Weight..oz.",
         "rawType": "float64",
         "type": "float"
        }
       ],
       "conversionMethod": "pd.DataFrame",
       "ref": "876ad35d-f257-4291-8831-d6e2cc6c862e",
       "rows": [
        [
         "0",
         "1,001 Facts that Will Scare the S#*t Out of You: The Ultimate Bathroom Reader",
         "Cary McNeal",
         "12.95",
         "5.18",
         "P",
         "304",
         "Adams Media",
         "2010.0",
         "1605506249",
         "7.8",
         "5.5",
         "0.8",
         "11.2"
        ],
        [
         "1",
         "21: Bringing Down the House - Movie Tie-In: The Inside Story of Six M.I.T. Students Who Took Vegas for Millions",
         "Ben Mezrich",
         "15.0",
         "10.2",
         "P",
         "273",
         "Free Press",
         "2008.0",
         "1416564195",
         "8.4",
         "5.5",
         "0.7",
         "7.2"
        ],
        [
         "2",
         "100 Best-Loved Poems (Dover Thrift Editions)",
         "Smith",
         "1.5",
         "1.5",
         "P",
         "96",
         "Dover Publications",
         "1995.0",
         "486285537",
         "8.3",
         "5.2",
         "0.3",
         "4.0"
        ]
       ],
       "shape": {
        "columns": 13,
        "rows": 3
       }
      },
      "text/html": [
       "<div>\n",
       "<style scoped>\n",
       "    .dataframe tbody tr th:only-of-type {\n",
       "        vertical-align: middle;\n",
       "    }\n",
       "\n",
       "    .dataframe tbody tr th {\n",
       "        vertical-align: top;\n",
       "    }\n",
       "\n",
       "    .dataframe thead th {\n",
       "        text-align: right;\n",
       "    }\n",
       "</style>\n",
       "<table border=\"1\" class=\"dataframe\">\n",
       "  <thead>\n",
       "    <tr style=\"text-align: right;\">\n",
       "      <th></th>\n",
       "      <th>Title</th>\n",
       "      <th>Author</th>\n",
       "      <th>List.Price</th>\n",
       "      <th>Amazon.Price</th>\n",
       "      <th>Hard..Paper</th>\n",
       "      <th>NumPages</th>\n",
       "      <th>Publisher</th>\n",
       "      <th>Pub.year</th>\n",
       "      <th>ISBN.10</th>\n",
       "      <th>Height</th>\n",
       "      <th>Width</th>\n",
       "      <th>Thick</th>\n",
       "      <th>Weight..oz.</th>\n",
       "    </tr>\n",
       "  </thead>\n",
       "  <tbody>\n",
       "    <tr>\n",
       "      <th>0</th>\n",
       "      <td>1,001 Facts that Will Scare the S#*t Out of Yo...</td>\n",
       "      <td>Cary McNeal</td>\n",
       "      <td>12.95</td>\n",
       "      <td>5.18</td>\n",
       "      <td>P</td>\n",
       "      <td>304</td>\n",
       "      <td>Adams Media</td>\n",
       "      <td>2010.0</td>\n",
       "      <td>1605506249</td>\n",
       "      <td>7.8</td>\n",
       "      <td>5.5</td>\n",
       "      <td>0.8</td>\n",
       "      <td>11.2</td>\n",
       "    </tr>\n",
       "    <tr>\n",
       "      <th>1</th>\n",
       "      <td>21: Bringing Down the House - Movie Tie-In: Th...</td>\n",
       "      <td>Ben Mezrich</td>\n",
       "      <td>15.00</td>\n",
       "      <td>10.20</td>\n",
       "      <td>P</td>\n",
       "      <td>273</td>\n",
       "      <td>Free Press</td>\n",
       "      <td>2008.0</td>\n",
       "      <td>1416564195</td>\n",
       "      <td>8.4</td>\n",
       "      <td>5.5</td>\n",
       "      <td>0.7</td>\n",
       "      <td>7.2</td>\n",
       "    </tr>\n",
       "    <tr>\n",
       "      <th>2</th>\n",
       "      <td>100 Best-Loved Poems (Dover Thrift Editions)</td>\n",
       "      <td>Smith</td>\n",
       "      <td>1.50</td>\n",
       "      <td>1.50</td>\n",
       "      <td>P</td>\n",
       "      <td>96</td>\n",
       "      <td>Dover Publications</td>\n",
       "      <td>1995.0</td>\n",
       "      <td>486285537</td>\n",
       "      <td>8.3</td>\n",
       "      <td>5.2</td>\n",
       "      <td>0.3</td>\n",
       "      <td>4.0</td>\n",
       "    </tr>\n",
       "  </tbody>\n",
       "</table>\n",
       "</div>"
      ],
      "text/plain": [
       "                                               Title       Author  List.Price  \\\n",
       "0  1,001 Facts that Will Scare the S#*t Out of Yo...  Cary McNeal       12.95   \n",
       "1  21: Bringing Down the House - Movie Tie-In: Th...  Ben Mezrich       15.00   \n",
       "2       100 Best-Loved Poems (Dover Thrift Editions)        Smith        1.50   \n",
       "\n",
       "   Amazon.Price Hard..Paper  NumPages           Publisher  Pub.year  \\\n",
       "0          5.18           P       304         Adams Media    2010.0   \n",
       "1         10.20           P       273          Free Press    2008.0   \n",
       "2          1.50           P        96  Dover Publications    1995.0   \n",
       "\n",
       "      ISBN.10  Height  Width  Thick  Weight..oz.  \n",
       "0  1605506249     7.8    5.5    0.8         11.2  \n",
       "1  1416564195     8.4    5.5    0.7          7.2  \n",
       "2   486285537     8.3    5.2    0.3          4.0  "
      ]
     },
     "execution_count": 13,
     "metadata": {},
     "output_type": "execute_result"
    }
   ],
   "source": [
    "amazon = pd.read_csv(\"amazon.csv\")\n",
    "\n",
    "amazon.head(3)"
   ]
  },
  {
   "cell_type": "code",
   "execution_count": 14,
   "metadata": {},
   "outputs": [
    {
     "data": {
      "text/plain": [
       "0.21455197256312525"
      ]
     },
     "execution_count": 14,
     "metadata": {},
     "output_type": "execute_result"
    }
   ],
   "source": [
    "import statistics\n",
    "\n",
    "amazon_smaller = amazon[[\"NumPages\", \"List.Price\"]]\n",
    "\n",
    "obs_stat = statistics.correlation(amazon_smaller.NumPages, amazon_smaller[\"List.Price\"])\n",
    "\n",
    "obs_stat"
   ]
  },
  {
   "cell_type": "markdown",
   "metadata": {},
   "source": [
    "### Step 3: Create the null distribution \n",
    "\n",
    "How can we create one statistic consistent with the null hypothesis? \n",
    "\n",
    "See if you can create one statistic consistent with the null distribution below. Once you have done that, create the full null distribution!\n",
    "\n"
   ]
  },
  {
   "cell_type": "code",
   "execution_count": 15,
   "metadata": {},
   "outputs": [
    {
     "data": {
      "text/plain": [
       "np.float64(0.03566357323927486)"
      ]
     },
     "execution_count": 15,
     "metadata": {},
     "output_type": "execute_result"
    }
   ],
   "source": [
    "# Create one statistic consistent with the null distribution\n",
    "statistics.correlation(amazon_smaller.NumPages, np.random.permutation(amazon_smaller[\"List.Price\"]))\n"
   ]
  },
  {
   "cell_type": "code",
   "execution_count": 16,
   "metadata": {},
   "outputs": [
    {
     "name": "stdout",
     "output_type": "stream",
     "text": [
      "CPU times: user 857 ms, sys: 28.5 ms, total: 886 ms\n",
      "Wall time: 888 ms\n"
     ]
    }
   ],
   "source": [
    "%%time\n",
    "\n",
    "# Create the full null distribution\n",
    "\n",
    "null_dist = []\n",
    "\n",
    "for i in range(10000):  \n",
    "        \n",
    "    shuff_stat = statistics.correlation(amazon_smaller.NumPages, \n",
    "                                        np.random.permutation(amazon_smaller[\"List.Price\"]))\n",
    "    \n",
    "    null_dist.append(shuff_stat)\n",
    "\n"
   ]
  },
  {
   "cell_type": "code",
   "execution_count": 17,
   "metadata": {},
   "outputs": [
    {
     "data": {
      "image/png": "[encoded data removed]",
      "text/plain": [
       "<Figure size 640x480 with 1 Axes>"
      ]
     },
     "metadata": {},
     "output_type": "display_data"
    }
   ],
   "source": [
    "# visualize the null distribution \n",
    "\n",
    "plt.hist(null_dist, edgecolor = \"black\", bins = 100);\n",
    "\n",
    "\n",
    "# put a line at the observed statistic value\n",
    "\n",
    "plt.axvline(obs_stat, color = \"red\");\n",
    "plt.xlabel(\"r\");\n",
    "plt.ylabel(\"Count\");"
   ]
  },
  {
   "cell_type": "markdown",
   "metadata": {},
   "source": [
    "### Step 4: Calculate the p-value\n"
   ]
  },
  {
   "cell_type": "code",
   "execution_count": 18,
   "metadata": {},
   "outputs": [
    {
     "data": {
      "text/plain": [
       "np.float64(0.0012)"
      ]
     },
     "execution_count": 18,
     "metadata": {},
     "output_type": "execute_result"
    }
   ],
   "source": [
    "p_value = np.mean(np.array(null_dist) >= obs_stat)\n",
    "\n",
    "p_value"
   ]
  },
  {
   "cell_type": "markdown",
   "metadata": {},
   "source": [
    "### Step 5: Draw a conclusion\n",
    "\n",
    "The p-value is small (less than the convensional level of 0.05) so we would reject the null hypothesis and conclude that there is a correlation between the number of pages in a book and the price of a book at the population level. \n"
   ]
  },
  {
   "cell_type": "markdown",
   "metadata": {},
   "source": [
    "## 3. Visualizing hypothesis tests for correlation\n",
    "\n",
    "We can also run a visual hypothesis test for correlation by creating a visual lineup that displays several scatter plots of shuffled data and one scatter plot of the real data. If you can tell which plot contains the real (unshuffled) data, this corresponds to being able to reject the null hypothesis. \n"
   ]
  },
  {
   "cell_type": "code",
   "execution_count": 19,
   "metadata": {},
   "outputs": [
    {
     "data": {
      "image/png": "[encoded data removed]",
      "text/plain": [
       "<Figure size 2500x2000 with 20 Axes>"
      ]
     },
     "metadata": {},
     "output_type": "display_data"
    }
   ],
   "source": [
    "# np.random.seed(123)\n",
    "\n",
    "def create_lineup(the_data): \n",
    "    \n",
    "    real_plot_num = np.random.permutation(range(20))[0]\n",
    "    lineup_data = pd.DataFrame()\n",
    "    \n",
    "    for i in range(20):\n",
    "        \n",
    "        if i == real_plot_num:\n",
    "            curr_data = the_data.copy()\n",
    "        \n",
    "        else:\n",
    "            curr_data = pd.DataFrame(the_data.iloc[:, 1], the_data.iloc[:, 0]).reset_index()\n",
    "            curr_data[curr_data.columns[1]] = np.random.permutation(curr_data[curr_data.columns[1]])\n",
    "        \n",
    "        curr_data.loc[:, \"Lineup\"] = i\n",
    "        lineup_data = pd.concat([lineup_data, curr_data])\n",
    "        \n",
    "    lineup_data = lineup_data.reset_index()\n",
    "\n",
    "    sns.set_context(\"paper\", rc={\"axes.labelsize\":20})   \n",
    "    sns.relplot(lineup_data, x = lineup_data.columns[1], y = lineup_data.columns[2], col = \"Lineup\", col_wrap=5); \n",
    "\n",
    "    return real_plot_num\n",
    "\n",
    "\n",
    "the_answer = create_lineup(amazon_smaller)\n",
    "\n"
   ]
  },
  {
   "cell_type": "code",
   "execution_count": 20,
   "metadata": {},
   "outputs": [],
   "source": [
    "# display the answer\n",
    "\n",
    "# the_answer\n"
   ]
  },
  {
   "cell_type": "markdown",
   "metadata": {},
   "source": [
    "## 4. Two-sided hypothesis test\n",
    "\n",
    "Sometime in hypothesis testing we don't know the direction of an effect, we only know that the null hypothesis is incorrect. \n",
    "\n",
    "In these circumstances, we write our alternative hypothesis such that we state that the parameter value is not equal to the value specified by the null hypothesis.\n",
    "\n",
    "For the testing whether there is a correlation between the number of pages in a book and price we can write our hypotheses as:\n",
    "\n",
    "$H_0: \\rho = 0$   \n",
    "\n",
    "i.e., the null hypothesis is the same as before.\n",
    "\n",
    "$H_A: \\rho \\ne 0$\n",
    "\n",
    "We now use not equal to ($\\ne$) in our alternative hypothesis.  \n",
    "\n",
    "To calculate the p-value, we need to look at the values more extreme than the observed statistic in in both tails. "
   ]
  },
  {
   "cell_type": "code",
   "execution_count": 21,
   "metadata": {},
   "outputs": [
    {
     "data": {
      "image/png": "[encoded data removed]",
      "text/plain": [
       "<Figure size 640x480 with 1 Axes>"
      ]
     },
     "metadata": {},
     "output_type": "display_data"
    }
   ],
   "source": [
    "# visualize the null distribution \n",
    "\n",
    "plt.hist(null_dist, edgecolor = \"black\", bins = 100);\n",
    "\n",
    "\n",
    "# put lines showing values more extreme than the observed statistic\n",
    "\n",
    "plt.axvline(obs_stat, color = \"red\");\n",
    "plt.axvline(-1 * obs_stat, color = \"red\");\n",
    "\n",
    "plt.xlabel(\"Null statistic value\");\n",
    "plt.ylabel(\"Count\");\n"
   ]
  },
  {
   "cell_type": "markdown",
   "metadata": {},
   "source": [
    "When calculating the p-value, we need to get the proportion of statistics in the null distribution that are more extreme than the observed statistic from both tails."
   ]
  },
  {
   "cell_type": "code",
   "execution_count": 22,
   "metadata": {},
   "outputs": [
    {
     "data": {
      "text/plain": [
       "np.float64(0.0012)"
      ]
     },
     "execution_count": 22,
     "metadata": {},
     "output_type": "execute_result"
    }
   ],
   "source": [
    "p_value_right = np.mean(np.array(null_dist) >= obs_stat)\n",
    "p_value_left = np.mean(np.array(null_dist) <= -1 * obs_stat)\n",
    "\n",
    "p_value = p_value_right + p_value_left\n",
    "\n",
    "p_value \n"
   ]
  },
  {
   "cell_type": "markdown",
   "metadata": {},
   "source": [
    "## 5. Using hypothesis tests to generate confidence intervals\n",
    "\n",
    "There are several methods we that can be used to calculate confidence intervals, including using a computational method called the \"bootstrap\" and using \"parametric methods\" that involve using probability distributions. If you take a traditional introductory statistics class you will learn some of these methods.\n",
    "\n",
    "Below we use a less conventional method to calculate confidence intervals by looking at all parameters values that a hypothesis test fails to reject (at the p-value < 0.05 level). As you will see, the method gives similar results to other methods, although it requires a bit more computation time.\n",
    "\n",
    "As an example, let's create a confidence interval for the population proportion of movies $\\pi$ that pass the Bechdel test. As is the case for all confidence intervals, this confidence interval gives a range of plausible values that likely contains the true population proportion $\\pi$.\n"
   ]
  },
  {
   "cell_type": "code",
   "execution_count": 23,
   "metadata": {},
   "outputs": [
    {
     "data": {
      "text/plain": [
       "np.float64(0.5150501672240803)"
      ]
     },
     "execution_count": 23,
     "metadata": {},
     "output_type": "execute_result"
    }
   ],
   "source": [
    "# To start, let's use a function that generates a statistic p-hat that is consistent with a particular population parameter value pi\n",
    "\n",
    "def generate_proportion(n, prob_heads):\n",
    "    \n",
    "    random_sample = np.random.rand(n) <= prob_heads\n",
    "    return np.mean(random_sample)\n",
    "\n",
    "generate_proportion(1794, .5)\n",
    "\n"
   ]
  },
  {
   "cell_type": "code",
   "execution_count": 24,
   "metadata": {},
   "outputs": [],
   "source": [
    "# The function below calculates a p-value for the Bechdel data based on a particular pi value that is specified in a null hypothesis.\n",
    "# (i.e., it is a function that encapsulates the hypothesis test you ran in class 20).\n",
    "\n",
    "\n",
    "def get_Bechdel_pvalue(null_hypothesis_pi, plot_null_dist = False):\n",
    "    \n",
    "    \n",
    "    # The observed p-hat value\n",
    "    prop_passed = 803/1794\n",
    "    \n",
    "    \n",
    "    # Generate the null distribution \n",
    "    null_dist = []\n",
    "    \n",
    "    for i in range(10000):    \n",
    "        null_dist.append(generate_proportion(1794, null_hypothesis_pi))\n",
    "    \n",
    "    \n",
    "    # Calculate a \"two-tailed\" p-value which is the proportion of statistcs more extreme than the observed statistic\n",
    "\n",
    "    statistic_deviation = np.abs(null_hypothesis_pi - prop_passed)  # distance between p-hat and pi_0\n",
    "    \n",
    "    pval_left = np.mean(np.array(null_dist) <= null_hypothesis_pi - statistic_deviation)\n",
    "    pval_right = np.mean(np.array(null_dist) >= null_hypothesis_pi + statistic_deviation)    \n",
    "    \n",
    "    p_value = pval_left + pval_right\n",
    "\n",
    "\n",
    "    \n",
    "    # plot the null distribution and lines indicating values more extreme than the observed statistic \n",
    "    if plot_null_dist:\n",
    "        \n",
    "        plt.hist(null_dist, edgecolor = \"black\", bins = 30);\n",
    "        plt.axvline(null_hypothesis_pi - statistic_deviation, color = \"red\");\n",
    "        plt.axvline(null_hypothesis_pi + statistic_deviation, color = \"red\");\n",
    "        plt.axvline(null_hypothesis_pi, color = \"yellow\");\n",
    "\n",
    "        \n",
    "        plt.title(\"Pi-null is: \" + str(null_hypothesis_pi) + \"      \"  +\n",
    "                  \"p-value is: \" + str(round(p_value, 5)))\n",
    "      \n",
    "    # return the p-value\n",
    "    return p_value\n",
    "    \n"
   ]
  },
  {
   "cell_type": "code",
   "execution_count": 25,
   "metadata": {},
   "outputs": [
    {
     "data": {
      "text/plain": [
       "np.float64(0.8492999999999999)"
      ]
     },
     "execution_count": 25,
     "metadata": {},
     "output_type": "execute_result"
    },
    {
     "data": {
      "image/png": "[encoded data removed]",
      "text/plain": [
       "<Figure size 640x480 with 1 Axes>"
      ]
     },
     "metadata": {},
     "output_type": "display_data"
    },
    {
     "data": {
      "image/png": "[encoded data removed]",
      "text/plain": [
       "<Figure size 640x480 with 1 Axes>"
      ]
     },
     "metadata": {},
     "output_type": "display_data"
    }
   ],
   "source": [
    "# test the function with the value H0: pi = .5  (as we did in class 20)\n",
    "get_Bechdel_pvalue(.5, True)\n",
    "\n",
    "\n",
    "# test the function with the value H0: pi = .45\n",
    "plt.figure()\n",
    "get_Bechdel_pvalue(.45, True)"
   ]
  },
  {
   "cell_type": "code",
   "execution_count": 26,
   "metadata": {},
   "outputs": [
    {
     "data": {
      "text/plain": [
       "array([0.4  , 0.405, 0.41 , 0.415, 0.42 , 0.425, 0.43 , 0.435, 0.44 ,\n",
       "       0.445, 0.45 , 0.455, 0.46 , 0.465, 0.47 , 0.475, 0.48 , 0.485,\n",
       "       0.49 , 0.495])"
      ]
     },
     "execution_count": 26,
     "metadata": {},
     "output_type": "execute_result"
    }
   ],
   "source": [
    "# create a range range of H0: pi = x  values\n",
    "\n",
    "possible_null_pis = np.round(np.arange(.4, .5, .005), 5)\n",
    "\n",
    "possible_null_pis    \n"
   ]
  },
  {
   "cell_type": "code",
   "execution_count": 27,
   "metadata": {},
   "outputs": [
    {
     "name": "stdout",
     "output_type": "stream",
     "text": [
      "CPU times: user 1.57 s, sys: 10.9 ms, total: 1.58 s\n",
      "Wall time: 1.6 s\n"
     ]
    }
   ],
   "source": [
    "%%time\n",
    "\n",
    "\n",
    "# get the p-value for a range of H0: pi = x  values\n",
    "\n",
    "\n",
    "pvalues = []\n",
    "\n",
    "for null_pi in possible_null_pis:\n",
    "    \n",
    "    curr_pvalue = get_Bechdel_pvalue(null_pi)\n",
    "    \n",
    "    pvalues.append(curr_pvalue)\n",
    "\n"
   ]
  },
  {
   "cell_type": "code",
   "execution_count": 28,
   "metadata": {},
   "outputs": [
    {
     "data": {
      "application/vnd.microsoft.datawrangler.viewer.v0+json": {
       "columns": [
        {
         "name": "index",
         "rawType": "int64",
         "type": "integer"
        },
        {
         "name": "pi",
         "rawType": "float64",
         "type": "float"
        },
        {
         "name": "p-values",
         "rawType": "float64",
         "type": "float"
        },
        {
         "name": "non-significant",
         "rawType": "bool",
         "type": "boolean"
        }
       ],
       "conversionMethod": "pd.DataFrame",
       "ref": "f2120c00-95e0-41e3-9ba4-2656c8e27554",
       "rows": [
        [
         "0",
         "0.4",
         "0.0",
         "False"
        ],
        [
         "1",
         "0.405",
         "0.00039999999999999996",
         "False"
        ],
        [
         "2",
         "0.41",
         "0.0017000000000000001",
         "False"
        ],
        [
         "3",
         "0.415",
         "0.004699999999999999",
         "False"
        ],
        [
         "4",
         "0.42",
         "0.0167",
         "False"
        ],
        [
         "5",
         "0.425",
         "0.0529",
         "True"
        ],
        [
         "6",
         "0.43",
         "0.13169999999999998",
         "True"
        ],
        [
         "7",
         "0.435",
         "0.2853",
         "True"
        ],
        [
         "8",
         "0.44",
         "0.5206999999999999",
         "True"
        ],
        [
         "9",
         "0.445",
         "0.8315999999999999",
         "True"
        ],
        [
         "10",
         "0.45",
         "0.8489",
         "True"
        ],
        [
         "11",
         "0.455",
         "0.5419",
         "True"
        ],
        [
         "12",
         "0.46",
         "0.2893",
         "True"
        ],
        [
         "13",
         "0.465",
         "0.14350000000000002",
         "True"
        ],
        [
         "14",
         "0.47",
         "0.0606",
         "True"
        ],
        [
         "15",
         "0.475",
         "0.0204",
         "False"
        ],
        [
         "16",
         "0.48",
         "0.0052",
         "False"
        ],
        [
         "17",
         "0.485",
         "0.001",
         "False"
        ],
        [
         "18",
         "0.49",
         "0.00039999999999999996",
         "False"
        ],
        [
         "19",
         "0.495",
         "0.0001",
         "False"
        ]
       ],
       "shape": {
        "columns": 3,
        "rows": 20
       }
      },
      "text/html": [
       "<div>\n",
       "<style scoped>\n",
       "    .dataframe tbody tr th:only-of-type {\n",
       "        vertical-align: middle;\n",
       "    }\n",
       "\n",
       "    .dataframe tbody tr th {\n",
       "        vertical-align: top;\n",
       "    }\n",
       "\n",
       "    .dataframe thead th {\n",
       "        text-align: right;\n",
       "    }\n",
       "</style>\n",
       "<table border=\"1\" class=\"dataframe\">\n",
       "  <thead>\n",
       "    <tr style=\"text-align: right;\">\n",
       "      <th></th>\n",
       "      <th>pi</th>\n",
       "      <th>p-values</th>\n",
       "      <th>non-significant</th>\n",
       "    </tr>\n",
       "  </thead>\n",
       "  <tbody>\n",
       "    <tr>\n",
       "      <th>0</th>\n",
       "      <td>0.400</td>\n",
       "      <td>0.0000</td>\n",
       "      <td>False</td>\n",
       "    </tr>\n",
       "    <tr>\n",
       "      <th>1</th>\n",
       "      <td>0.405</td>\n",
       "      <td>0.0004</td>\n",
       "      <td>False</td>\n",
       "    </tr>\n",
       "    <tr>\n",
       "      <th>2</th>\n",
       "      <td>0.410</td>\n",
       "      <td>0.0017</td>\n",
       "      <td>False</td>\n",
       "    </tr>\n",
       "    <tr>\n",
       "      <th>3</th>\n",
       "      <td>0.415</td>\n",
       "      <td>0.0047</td>\n",
       "      <td>False</td>\n",
       "    </tr>\n",
       "    <tr>\n",
       "      <th>4</th>\n",
       "      <td>0.420</td>\n",
       "      <td>0.0167</td>\n",
       "      <td>False</td>\n",
       "    </tr>\n",
       "    <tr>\n",
       "      <th>5</th>\n",
       "      <td>0.425</td>\n",
       "      <td>0.0529</td>\n",
       "      <td>True</td>\n",
       "    </tr>\n",
       "    <tr>\n",
       "      <th>6</th>\n",
       "      <td>0.430</td>\n",
       "      <td>0.1317</td>\n",
       "      <td>True</td>\n",
       "    </tr>\n",
       "    <tr>\n",
       "      <th>7</th>\n",
       "      <td>0.435</td>\n",
       "      <td>0.2853</td>\n",
       "      <td>True</td>\n",
       "    </tr>\n",
       "    <tr>\n",
       "      <th>8</th>\n",
       "      <td>0.440</td>\n",
       "      <td>0.5207</td>\n",
       "      <td>True</td>\n",
       "    </tr>\n",
       "    <tr>\n",
       "      <th>9</th>\n",
       "      <td>0.445</td>\n",
       "      <td>0.8316</td>\n",
       "      <td>True</td>\n",
       "    </tr>\n",
       "    <tr>\n",
       "      <th>10</th>\n",
       "      <td>0.450</td>\n",
       "      <td>0.8489</td>\n",
       "      <td>True</td>\n",
       "    </tr>\n",
       "    <tr>\n",
       "      <th>11</th>\n",
       "      <td>0.455</td>\n",
       "      <td>0.5419</td>\n",
       "      <td>True</td>\n",
       "    </tr>\n",
       "    <tr>\n",
       "      <th>12</th>\n",
       "      <td>0.460</td>\n",
       "      <td>0.2893</td>\n",
       "      <td>True</td>\n",
       "    </tr>\n",
       "    <tr>\n",
       "      <th>13</th>\n",
       "      <td>0.465</td>\n",
       "      <td>0.1435</td>\n",
       "      <td>True</td>\n",
       "    </tr>\n",
       "    <tr>\n",
       "      <th>14</th>\n",
       "      <td>0.470</td>\n",
       "      <td>0.0606</td>\n",
       "      <td>True</td>\n",
       "    </tr>\n",
       "    <tr>\n",
       "      <th>15</th>\n",
       "      <td>0.475</td>\n",
       "      <td>0.0204</td>\n",
       "      <td>False</td>\n",
       "    </tr>\n",
       "    <tr>\n",
       "      <th>16</th>\n",
       "      <td>0.480</td>\n",
       "      <td>0.0052</td>\n",
       "      <td>False</td>\n",
       "    </tr>\n",
       "    <tr>\n",
       "      <th>17</th>\n",
       "      <td>0.485</td>\n",
       "      <td>0.0010</td>\n",
       "      <td>False</td>\n",
       "    </tr>\n",
       "    <tr>\n",
       "      <th>18</th>\n",
       "      <td>0.490</td>\n",
       "      <td>0.0004</td>\n",
       "      <td>False</td>\n",
       "    </tr>\n",
       "    <tr>\n",
       "      <th>19</th>\n",
       "      <td>0.495</td>\n",
       "      <td>0.0001</td>\n",
       "      <td>False</td>\n",
       "    </tr>\n",
       "  </tbody>\n",
       "</table>\n",
       "</div>"
      ],
      "text/plain": [
       "       pi  p-values  non-significant\n",
       "0   0.400    0.0000            False\n",
       "1   0.405    0.0004            False\n",
       "2   0.410    0.0017            False\n",
       "3   0.415    0.0047            False\n",
       "4   0.420    0.0167            False\n",
       "5   0.425    0.0529             True\n",
       "6   0.430    0.1317             True\n",
       "7   0.435    0.2853             True\n",
       "8   0.440    0.5207             True\n",
       "9   0.445    0.8316             True\n",
       "10  0.450    0.8489             True\n",
       "11  0.455    0.5419             True\n",
       "12  0.460    0.2893             True\n",
       "13  0.465    0.1435             True\n",
       "14  0.470    0.0606             True\n",
       "15  0.475    0.0204            False\n",
       "16  0.480    0.0052            False\n",
       "17  0.485    0.0010            False\n",
       "18  0.490    0.0004            False\n",
       "19  0.495    0.0001            False"
      ]
     },
     "execution_count": 28,
     "metadata": {},
     "output_type": "execute_result"
    }
   ],
   "source": [
    "# view the p-values \n",
    "# convention calls a p-value < 0.05 is \"statistically significant\" indicating a pi imcompatible with the null hypothesis\n",
    "# our confidence interval is all pi values that are not statistically significant (i.e., pi values that are consistent with particular H0)\n",
    "\n",
    "pvalue_df = pd.DataFrame({\"pi\": possible_null_pis, \n",
    "                          \"p-values\": pvalues,\n",
    "                          \"non-significant\": np.array(pvalues) > .05})\n",
    "\n",
    "pvalue_df\n"
   ]
  },
  {
   "cell_type": "code",
   "execution_count": 29,
   "metadata": {},
   "outputs": [
    {
     "data": {
      "image/png": "[encoded data removed]",
      "text/plain": [
       "<Figure size 500x500 with 1 Axes>"
      ]
     },
     "metadata": {},
     "output_type": "display_data"
    }
   ],
   "source": [
    "# plot p-values as as function of H0 pi's\n",
    "\n",
    "sns.relplot(pvalue_df, x = 'pi', y = 'p-values');\n",
    "plt.xticks(rotation=90);\n",
    "plt.axhline(.05, color = \"red\");\n",
    "\n",
    "plt.plot(pvalue_df['pi'], pvalue_df['non-significant'], color = \"green\");\n"
   ]
  },
  {
   "cell_type": "code",
   "execution_count": 30,
   "metadata": {},
   "outputs": [
    {
     "data": {
      "text/plain": [
       "array([0.425, 0.43 , 0.435, 0.44 , 0.445, 0.45 , 0.455, 0.46 , 0.465,\n",
       "       0.47 ])"
      ]
     },
     "execution_count": 30,
     "metadata": {},
     "output_type": "execute_result"
    }
   ],
   "source": [
    "# Get all plausible Pi values\n",
    "fail_to_reject_pis = possible_null_pis[np.array(pvalues) >= .05]\n",
    "\n",
    "fail_to_reject_pis"
   ]
  },
  {
   "cell_type": "code",
   "execution_count": 31,
   "metadata": {},
   "outputs": [
    {
     "data": {
      "text/plain": [
       "(np.float64(0.425), np.float64(0.47))"
      ]
     },
     "execution_count": 31,
     "metadata": {},
     "output_type": "execute_result"
    }
   ],
   "source": [
    "# get the CI as the max and min plausible pi values \n",
    "\n",
    "(min(fail_to_reject_pis), max(fail_to_reject_pis))\n"
   ]
  },
  {
   "cell_type": "code",
   "execution_count": 32,
   "metadata": {},
   "outputs": [
    {
     "data": {
      "text/plain": [
       "(0.425, 0.471)"
      ]
     },
     "execution_count": 32,
     "metadata": {},
     "output_type": "execute_result"
    }
   ],
   "source": [
    "# using the statsmodels package to compute a confidence interval for a proportion\n",
    "\n",
    "import statsmodels.api as sm\n",
    "\n",
    "ci_low, ci_upp = sm.stats.proportion_confint(803, 1794, alpha=0.05, method='normal')\n",
    "(round(ci_low, 3), round(ci_upp, 3))\n"
   ]
  }
 ],
 "metadata": {
  "anaconda-cloud": {},
  "kernelspec": {
   "display_name": "ydata_2025spring_v1",
   "language": "python",
   "name": "python3"
  },
  "language_info": {
   "codemirror_mode": {
    "name": "ipython",
    "version": 3
   },
   "file_extension": ".py",
   "mimetype": "text/x-python",
   "name": "python",
   "nbconvert_exporter": "python",
   "pygments_lexer": "ipython3",
   "version": "3.13.2"
  }
 },
 "nbformat": 4,
 "nbformat_minor": 4
}
