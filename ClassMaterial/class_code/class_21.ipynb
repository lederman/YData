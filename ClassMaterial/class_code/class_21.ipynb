{
 "cells": [
  {
   "cell_type": "markdown",
   "metadata": {},
   "source": [
    "# Class 21: Intro to Machine Learning\n",
    "\n",
    "Plan for today:\n",
    "- Creating confidence intervals\n",
    "- Introduction to Machine Learning\n"
   ]
  },
  {
   "cell_type": "code",
   "execution_count": null,
   "metadata": {},
   "outputs": [],
   "source": [
    "import YData\n",
    "\n",
    "# YData.download.download_class_code(21)   # get class code    \n",
    "# YData.download.download_class_code(21, TRUE) # get the code with the answers \n",
    "\n",
    "# YData.download.download_homework(9)  # downloads the homework \n"
   ]
  },
  {
   "cell_type": "markdown",
   "metadata": {},
   "source": [
    "If you are using colabs, you should uncomment and run the code below."
   ]
  },
  {
   "cell_type": "code",
   "execution_count": null,
   "metadata": {},
   "outputs": [],
   "source": [
    "# !pip install https://github.com/lederman/YData_package/tarball/master\n",
    "# from google.colab import drive\n",
    "# drive.mount('/content/drive')"
   ]
  },
  {
   "cell_type": "code",
   "execution_count": null,
   "metadata": {},
   "outputs": [],
   "source": [
    "import statistics\n",
    "import pandas as pd\n",
    "import numpy as np\n",
    "import seaborn as sns\n",
    "import plotly.express as px\n",
    "from urllib.request import urlopen\n",
    "\n",
    "import matplotlib.pyplot as plt\n",
    "%matplotlib inline"
   ]
  },
  {
   "cell_type": "markdown",
   "metadata": {},
   "source": [
    "## 1. Intro to Machine Learning:  Features (X) and labels (y)\n",
    "\n",
    "In supervised machine learning, we use a computer algorithm called a \"pattern classifier\" to learn relationships between a set of features X, and a label y. When the classifier is given new examples X, it can then make new predictions y. \n"
   ]
  },
  {
   "cell_type": "code",
   "execution_count": null,
   "metadata": {},
   "outputs": [],
   "source": [
    "penguins = sns.load_dataset(\"penguins\")\n",
    "\n",
    "penguins = penguins.dropna()\n",
    "\n",
    "penguins = penguins.sample(frac = 1)\n",
    "\n",
    "penguins.head()"
   ]
  },
  {
   "cell_type": "code",
   "execution_count": null,
   "metadata": {},
   "outputs": [],
   "source": [
    "# Let's explore how many different members there are of each species in our data set? \n",
    "\n",
    "species_counts = ...\n",
    "\n",
    "species_counts\n"
   ]
  },
  {
   "cell_type": "markdown",
   "metadata": {},
   "source": [
    "#### Questions: \n",
    "\n",
    "1. If we had to guess the species of the penguin without knowing any of the penguin's features, species of penguin should we guess? \n",
    "A: Always guess Adelie\n",
    "\n",
    "\n",
    "2. If we were to following the optimal guessing strategy, what percent of our guess would be correct (i.e., what would our classification accuracy be)? \n"
   ]
  },
  {
   "cell_type": "code",
   "execution_count": null,
   "metadata": {},
   "outputs": [],
   "source": [
    "..."
   ]
  },
  {
   "cell_type": "markdown",
   "metadata": {},
   "source": [
    "To begin the classification process, let's store the features (X) and the labels (y) in separate names called `X_penguin_features` and `y_penguin_labels` respectively. "
   ]
  },
  {
   "cell_type": "code",
   "execution_count": null,
   "metadata": {},
   "outputs": [],
   "source": [
    "# get the features and the labels\n",
    "\n",
    "X_penguin_features = penguins[['bill_length_mm', \n",
    "                               'bill_depth_mm',\n",
    "                               'flipper_length_mm', \n",
    "                               'body_mass_g']]\n",
    "\n",
    "y_penguin_labels = penguins['species']\n"
   ]
  },
  {
   "cell_type": "markdown",
   "metadata": {},
   "source": [
    "## 2. k-Nearest Neighbors classifier\n",
    "\n",
    "\n",
    "To explore classification, let's use a k-Nearest Neighbors classifier to predict the species of a penguin based on particular features the penguin has such as the penguin's bill length and body mass. \n",
    "\n",
    "Let's construct a K-Nearest Neighbor classifier (KNN) using 5 neighbors for predictions (i.e., k = 5 so we are using a 5-Nearest Neighbor classifier). \n",
    "\n",
    "We can do this using the `KNeighborsClassifier(n_neighbors = )` function.  \n"
   ]
  },
  {
   "cell_type": "code",
   "execution_count": null,
   "metadata": {},
   "outputs": [],
   "source": [
    "from sklearn.neighbors import KNeighborsClassifier\n",
    "\n",
    "# Construct a classifier a 5 nearest neighbor classifier\n",
    "knn = ...\n"
   ]
  },
  {
   "cell_type": "markdown",
   "metadata": {},
   "source": [
    "Let's now train the classifier (the KNN classifier just stores the data during training)\n"
   ]
  },
  {
   "cell_type": "code",
   "execution_count": null,
   "metadata": {},
   "outputs": [],
   "source": [
    "# “train” the classifier (which for a KNN classifier just involves memorizing the training data)\n",
    "\n",
    "..."
   ]
  },
  {
   "cell_type": "markdown",
   "metadata": {},
   "source": [
    "Let's now use the classifier to make predictions"
   ]
  },
  {
   "cell_type": "code",
   "execution_count": null,
   "metadata": {},
   "outputs": [],
   "source": [
    "# make predictions\n",
    "penguin_preditions = ..."
   ]
  },
  {
   "cell_type": "markdown",
   "metadata": {},
   "source": [
    "Let's get the prediction (classificaton accuracy) which is the proportion of predictions that are correct"
   ]
  },
  {
   "cell_type": "code",
   "execution_count": null,
   "metadata": {},
   "outputs": [],
   "source": [
    "# get the classification accuracy\n",
    "..."
   ]
  },
  {
   "cell_type": "markdown",
   "metadata": {},
   "source": [
    "Let's repeat our analysis with k = 1 to see what happens..."
   ]
  },
  {
   "cell_type": "code",
   "execution_count": null,
   "metadata": {},
   "outputs": [],
   "source": [
    "# What happens if k = 1?\n",
    "\n",
    "# construct a classifier\n",
    "knn = KNeighborsClassifier(n_neighbors = 1) \n",
    "\n",
    "# “train” the classifier (which for a KNN classifier just involves memorizing the training data)\n",
    "...\n",
    "\n",
    "# make predictions\n",
    "...\n",
    "\n",
    "# get classification accuracy\n",
    "..."
   ]
  },
  {
   "cell_type": "markdown",
   "metadata": {},
   "source": [
    "Do we believe we have a perfect classifier???\n"
   ]
  },
  {
   "cell_type": "markdown",
   "metadata": {},
   "source": [
    "## 3. Cross-validation\n",
    "\n",
    "To avoid over-fitting, we need to split our data into a training and test set. \n",
    "\n",
    "The classifier \"learns\" the relationship between features (X) and labels (y) on the **training set**.\n",
    "\n",
    "The classifier makes predictions on the features (X) of the **test set**. \n",
    "\n",
    "We compare the classifier's predictions on the test features (X) to the actual labels y, to get a more accuracy assessment of the **classification accuracy**.\n",
    "\n",
    "\n",
    "Let's try this now...\n",
    "\n"
   ]
  },
  {
   "cell_type": "code",
   "execution_count": null,
   "metadata": {},
   "outputs": [],
   "source": [
    "# manually create a training with 250 examples, and a test set that has the rest of the data\n",
    "\n",
    "...\n",
    "\n",
    "print(X_train_manual.shape)\n",
    "print(X_test_manual.shape)\n"
   ]
  },
  {
   "cell_type": "code",
   "execution_count": null,
   "metadata": {},
   "outputs": [],
   "source": [
    "from sklearn.model_selection import train_test_split\n",
    "\n",
    "# split data into a training and test set\n",
    "\n",
    "X_train, X_test, y_train, y_test = ....\n",
    "\n",
    "\n",
    "print(X_train.shape)\n",
    "print(X_test.shape)\n",
    "\n",
    "X_train.head(3)\n"
   ]
  },
  {
   "cell_type": "code",
   "execution_count": null,
   "metadata": {},
   "outputs": [],
   "source": [
    "from sklearn.neighbors import KNeighborsClassifier\n",
    "\n",
    "\n",
    "# construct a classifier\n",
    "knn = ...\n",
    "\n",
    "# “train” the classifier (which for a KNN classifier just involves memorizing the training data)\n",
    "...\n",
    "\n"
   ]
  },
  {
   "cell_type": "code",
   "execution_count": null,
   "metadata": {},
   "outputs": [],
   "source": [
    "# get the predictions\n",
    "\n",
    "penguin_preditions = ...\n",
    "\n",
    "penguin_preditions"
   ]
  },
  {
   "cell_type": "code",
   "execution_count": null,
   "metadata": {},
   "outputs": [],
   "source": [
    "# Get the prediction accuracy \n",
    "\n",
    "...\n"
   ]
  },
  {
   "cell_type": "code",
   "execution_count": null,
   "metadata": {},
   "outputs": [],
   "source": [
    "# Test the classifier on the test set using the .score() method\n",
    "\n",
    "..."
   ]
  },
  {
   "cell_type": "code",
   "execution_count": null,
   "metadata": {},
   "outputs": [],
   "source": [
    "# What happens if we test the classifier on the training set? \n",
    "\n",
    "...\n"
   ]
  },
  {
   "cell_type": "markdown",
   "metadata": {},
   "source": [
    "### K-fold cross-validation\n",
    "\n",
    "In k-fold cross-validation we split our data into k-parts (note, the k here has no relation to the k in k-Nearest Neighbor - it is just that k is a frequent letter to use in math to denote integer values).  \n",
    "\n",
    "To run a k-fold cross-validation analysis, we train the classifier on k-1 parts of the data and test it on the remaining part. We repeat this process k times to get k classification accuracies. We then take the average of these results as our estimate of our overall classification accuracy. \n",
    "\n",
    "We can use the scikit-learn `cross_val_score()` to easily do this...\n"
   ]
  },
  {
   "cell_type": "code",
   "execution_count": null,
   "metadata": {},
   "outputs": [],
   "source": [
    "from sklearn.model_selection import cross_val_score\n",
    "\n",
    "knn = ...\n",
    "\n",
    "# do 5-fold cross-validation\n",
    "scores = ...\n",
    "\n",
    "print(scores)\n",
    "\n",
    "print(scores.mean())"
   ]
  },
  {
   "cell_type": "markdown",
   "metadata": {},
   "source": [
    "## 4. Other classifiers\n",
    "\n",
    "Many other types of classifiers that have been created. Scikit-learn makes it very easy to try out a range of classifiers. \n",
    "\n",
    "Let's explore the Support Vector Machine, and Random Forest Classifier on our penguin data..."
   ]
  },
  {
   "cell_type": "code",
   "execution_count": null,
   "metadata": {},
   "outputs": [],
   "source": [
    "# Suppress ConvergenceWarning if we need it.\n",
    "#import warnings\n",
    "#from sklearn.exceptions import ConvergenceWarning\n",
    "#warnings.filterwarnings(\"ignore\", category=ConvergenceWarning)\n",
    "#warnings.filterwarnings(\"ignore\", category=FutureWarning)\n",
    "\n",
    "\n",
    "# Try a support vector machine (SVM)\n",
    "\n",
    "from sklearn.svm import LinearSVC\n",
    "\n",
    "svm = ...\n",
    "\n",
    "scores = cross_val_score(svm, X_penguin_features,  y_penguin_labels, cv = 5)\n",
    "\n",
    "print(scores.mean())"
   ]
  },
  {
   "cell_type": "code",
   "execution_count": null,
   "metadata": {},
   "outputs": [],
   "source": [
    "# Try a random forest\n",
    "\n",
    "from sklearn.ensemble import RandomForestClassifier\n",
    "\n",
    "random_forest = ...\n",
    "\n",
    "scores = cross_val_score(random_forest, X_penguin_features,  y_penguin_labels, cv = 5)\n",
    "\n",
    "print(scores.mean())"
   ]
  },
  {
   "cell_type": "code",
   "execution_count": null,
   "metadata": {},
   "outputs": [],
   "source": []
  },
  {
   "cell_type": "markdown",
   "metadata": {},
   "source": [
    "## 5. Building the KNN classifier\n",
    "\n",
    "So far we have used the KNN classifier (and a few other classifiers). Let's now see if we can write code that will implement the KNN classifier.\n",
    "\n",
    "We will do this by writing a several helper functions that build on each other. These functions are: \n",
    "\n",
    "1. `euclid_dist(x1, x2)`: finds the Euclidean distance between two points `x1` and `x2`\n",
    "\n",
    "2. `get_labels_and_distances(test_point, X_train_features, y_train_labels)`: This function finds the distance between a test point and all the training points. It returns a DataFrame with the distance from all training points and the training labels for each point.\n",
    "\n",
    "3. `classify_point(test_point, k, X_train_features, y_train_labels)`: Classifies which class a test point belongs to\n",
    "\n",
    "4. `classify_all_test_data(X_test_data, k, X_train_features, y_train_labels)`: Classifiers which class all test points below to.\n"
   ]
  },
  {
   "cell_type": "markdown",
   "metadata": {},
   "source": [
    "Let's start by writing a function that can get the Euclidean distance between two points `x` and `z`: \n",
    "\n",
    "$$dist(x, z) = \\sqrt{\\Sigma_{i = 1}^d (x_i - z_i)^2)}$$\n"
   ]
  },
  {
   "cell_type": "code",
   "execution_count": null,
   "metadata": {},
   "outputs": [],
   "source": [
    "def euclid_dist(x1, x2):\n",
    "    return ...\n",
    "\n",
    "\n",
    "# test our function \n",
    "my_vec1 = np.array([1, 2, 3, 4])\n",
    "my_vec2 = np.array([2, 3, 4, 5])\n",
    "\n",
    "euclid_dist(my_vec1, my_vec2)"
   ]
  },
  {
   "cell_type": "code",
   "execution_count": null,
   "metadata": {},
   "outputs": [],
   "source": [
    "# Let's now write a function that returns the labels and distances \n",
    "# between a training point and all the test points\n",
    "\n",
    "\n",
    "def get_labels_and_distances(test_point, X_train_features, y_train_labels):\n",
    "    ...\n",
    "\n",
    "\n",
    "\n",
    "# test our code \n",
    "\n",
    "test_data_point = X_test.iloc[0]\n",
    "test_label = y_test.iloc[0]\n",
    "\n",
    "labels_and_distances = get_labels_and_distances(test_data_point, X_train, y_train)\n",
    "\n",
    "labels_and_distances.head(5)"
   ]
  },
  {
   "cell_type": "code",
   "execution_count": null,
   "metadata": {},
   "outputs": [],
   "source": [
    "# get the k closest neighbors\n",
    "\n",
    "k = 5\n",
    "\n",
    "sorted_labels_dist = ..."
   ]
  },
  {
   "cell_type": "code",
   "execution_count": null,
   "metadata": {},
   "outputs": [],
   "source": [
    "# get the majority label\n",
    "\n",
    "..."
   ]
  },
  {
   "cell_type": "code",
   "execution_count": null,
   "metadata": {},
   "outputs": [],
   "source": [
    "# write a function to do the classification on a test point \n",
    "# by putting together all the pieces\n",
    "\n",
    "def classify_point(test_point, k, X_train_features, y_train_labels):\n",
    "    ...\n",
    "\n",
    "\n",
    "# test our classifier on one test point\n",
    "\n",
    "prediction = classify_point(test_data_point, 5, X_train, y_train)\n",
    "\n",
    "print(prediction)\n",
    "\n",
    "print(test_label)"
   ]
  },
  {
   "cell_type": "code",
   "execution_count": null,
   "metadata": {},
   "outputs": [],
   "source": [
    "# classify a full test set\n",
    "\n",
    "def classify_all_test_data(X_test_data, k, X_train_features, y_train_labels):\n",
    "    ...\n",
    "    \n",
    "\n",
    "\n",
    "# test the classifier on the whole test set    \n",
    "\n",
    "all_predictions = classify_all_test_data(X_test, 5, X_train, y_train)\n",
    "\n",
    "all_predictions\n"
   ]
  },
  {
   "cell_type": "code",
   "execution_count": null,
   "metadata": {},
   "outputs": [],
   "source": [
    "# get the classification accuracy\n",
    "\n",
    "np.mean(all_predictions == y_test)\n",
    "\n"
   ]
  },
  {
   "cell_type": "code",
   "execution_count": null,
   "metadata": {},
   "outputs": [],
   "source": []
  }
 ],
 "metadata": {
  "anaconda-cloud": {},
  "kernelspec": {
   "display_name": "ydata_2025spring_v1",
   "language": "python",
   "name": "python3"
  },
  "language_info": {
   "codemirror_mode": {
    "name": "ipython",
    "version": 3
   },
   "file_extension": ".py",
   "mimetype": "text/x-python",
   "name": "python",
   "nbconvert_exporter": "python",
   "pygments_lexer": "ipython3",
   "version": "3.13.2"
  }
 },
 "nbformat": 4,
 "nbformat_minor": 4
}
