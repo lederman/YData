{
 "cells": [
  {
   "cell_type": "markdown",
   "metadata": {},
   "source": [
    "# Class 22: Classification\n",
    "\n",
    "Plan for today:\n",
    "- Reivew/continuation of cross-validation\n",
    "- Other classifiers\n",
    "- Building a kNN classifier\n",
    "- Features normalization\n"
   ]
  },
  {
   "cell_type": "code",
   "execution_count": null,
   "metadata": {},
   "outputs": [],
   "source": [
    "import YData\n",
    "\n",
    "# YData.download.download_class_code(22)   # get class code    \n",
    "# YData.download.download_class_code(22, TRUE) # get the code with the answers \n",
    "\n"
   ]
  },
  {
   "cell_type": "markdown",
   "metadata": {},
   "source": [
    "If you are using google colabs, you should also uncomment and run the code below to mount the your google drive"
   ]
  },
  {
   "cell_type": "code",
   "execution_count": null,
   "metadata": {},
   "outputs": [],
   "source": [
    "# !pip install https://github.com/lederman/YData_package/tarball/master\n",
    "# from google.colab import drive\n",
    "# drive.mount('/content/drive')"
   ]
  },
  {
   "cell_type": "code",
   "execution_count": null,
   "metadata": {},
   "outputs": [],
   "source": [
    "import statistics\n",
    "import pandas as pd\n",
    "import numpy as np\n",
    "import seaborn as sns\n",
    "import plotly.express as px\n",
    "from urllib.request import urlopen\n",
    "\n",
    "import matplotlib.pyplot as plt\n",
    "%matplotlib inline"
   ]
  },
  {
   "cell_type": "markdown",
   "metadata": {},
   "source": [
    "## 1. Intro to Machine Learning:  Features (X) and labels (y)\n",
    "\n",
    "In supervised machine learning, we use a computer algorithm called a \"pattern classifier\" to learn relationships between a set of features X, and a label y. When the classifier is given new examples X, it can then make new predictions y. \n"
   ]
  },
  {
   "cell_type": "code",
   "execution_count": null,
   "metadata": {},
   "outputs": [],
   "source": [
    "penguins = sns.load_dataset(\"penguins\")\n",
    "\n",
    "penguins = penguins.dropna()\n",
    "\n",
    "penguins = penguins.sample(frac = 1)\n",
    "\n",
    "penguins.head()"
   ]
  },
  {
   "cell_type": "markdown",
   "metadata": {},
   "source": [
    "To begin the classification process, let's store the features (X) and the labels (y) in separate names called `X_penguin_features` and `y_penguin_labels` respectively. "
   ]
  },
  {
   "cell_type": "code",
   "execution_count": null,
   "metadata": {},
   "outputs": [],
   "source": [
    "# get the features and the labels\n",
    "\n",
    "X_penguin_features = penguins[['bill_length_mm', 'bill_depth_mm', 'flipper_length_mm', 'body_mass_g']]\n",
    "\n",
    "y_penguin_labels = penguins['species']\n"
   ]
  },
  {
   "cell_type": "markdown",
   "metadata": {},
   "source": [
    "## 2. Cross-validation\n",
    "\n",
    "To avoid over-fitting, we need to split our data into a training and test set. \n",
    "\n",
    "The classifier \"learns\" the relationship between features (X) and labels (y) on the **training set**.\n",
    "\n",
    "The classifier makes predictions on the features (X) of the **test set**. \n",
    "\n",
    "We compare the classifier's predictions on the test features (X) to the actual labels y, to get a more accuracy assessment of the **classification accuracy**.\n",
    "\n",
    "\n",
    "Let's try this now...\n",
    "\n"
   ]
  },
  {
   "cell_type": "markdown",
   "metadata": {},
   "source": [
    "We can also use the scikit-learn `train_test_split()` function to generate training and test splits of our data "
   ]
  },
  {
   "cell_type": "code",
   "execution_count": null,
   "metadata": {},
   "outputs": [],
   "source": [
    "from sklearn.model_selection import train_test_split\n",
    "\n",
    "# split data into a training and test set\n",
    "\n",
    "X_train, X_test, y_train, y_test = train_test_split(X_penguin_features,  \n",
    "                                                    y_penguin_labels, \n",
    "                                                    random_state = 0)\n",
    "\n",
    "print(X_train.shape)\n",
    "print(X_test.shape)\n",
    "\n",
    "X_train.head(3)\n"
   ]
  },
  {
   "cell_type": "code",
   "execution_count": null,
   "metadata": {},
   "outputs": [],
   "source": [
    "from sklearn.neighbors import KNeighborsClassifier\n",
    "\n",
    "\n",
    "# construct a classifier\n",
    "knn = KNeighborsClassifier(n_neighbors = 1) \n",
    "\n",
    "# “train” the classifier (which for a KNN classifier just involves memorizing the training data)\n",
    "knn.fit(X_train, y_train) \n",
    "\n"
   ]
  },
  {
   "cell_type": "code",
   "execution_count": null,
   "metadata": {},
   "outputs": [],
   "source": [
    "# get the predictions\n",
    "\n",
    "penguin_preditions = knn.predict(X_test)\n",
    "\n",
    "penguin_preditions"
   ]
  },
  {
   "cell_type": "code",
   "execution_count": null,
   "metadata": {},
   "outputs": [],
   "source": [
    "# Get the prediction accuracy \n",
    "\n",
    "np.mean(penguin_preditions == y_test)\n",
    "\n"
   ]
  },
  {
   "cell_type": "code",
   "execution_count": null,
   "metadata": {},
   "outputs": [],
   "source": [
    "# Test the classifier on the test set using the .score() method\n",
    "\n",
    "knn.score(X_test, y_test) # prediction accuracy on the test set"
   ]
  },
  {
   "cell_type": "code",
   "execution_count": null,
   "metadata": {},
   "outputs": [],
   "source": [
    "# What happens if we test the classifier on the training set? \n",
    "\n",
    "knn.score(X_train, y_train) # prediction accuracy on the training set\n",
    "\n"
   ]
  },
  {
   "cell_type": "markdown",
   "metadata": {},
   "source": [
    "### K-fold cross-validation\n",
    "\n",
    "In k-fold cross-validation we split our data into k-parts (note, the k here has no relation to the k in k-Nearest Neighbor - it is just that k is a frequent letter to use in math to denote integer values).  \n",
    "\n",
    "To run a k-fold cross-validation analysis, we train the classifier on k-1 parts of the data and test it on the remaining part. We repeat this process k times to get k classification accuracies. We then take the average of these results as our estimate of our overall classification accuracy. \n",
    "\n",
    "We can use the scikit-learn `cross_val_score()` to easily do this...\n"
   ]
  },
  {
   "cell_type": "code",
   "execution_count": null,
   "metadata": {},
   "outputs": [],
   "source": [
    "from sklearn.model_selection import cross_val_score\n",
    "\n",
    "knn = ...\n",
    "\n",
    "# do 5-fold cross-validation\n",
    "scores = ...\n",
    "\n",
    "print(scores)\n",
    "\n",
    "print(scores.mean())"
   ]
  },
  {
   "cell_type": "markdown",
   "metadata": {},
   "source": [
    "## 3. Other classifiers\n",
    "\n",
    "Many other types of classifiers that have been created. Scikit-learn makes it very easy to try out a range of classifiers. \n",
    "\n",
    "Let's explore the Support Vector Machine, and Random Forest Classifier on our penguin data...\n"
   ]
  },
  {
   "cell_type": "code",
   "execution_count": null,
   "metadata": {},
   "outputs": [],
   "source": [
    "# Suppress ConvergenceWarning - please ignore this code \n",
    "import warnings\n",
    "from sklearn.exceptions import ConvergenceWarning\n",
    "warnings.filterwarnings(\"ignore\", category=ConvergenceWarning)\n",
    "warnings.filterwarnings(\"ignore\", category=FutureWarning)\n",
    "\n",
    "\n",
    "# Try a support vector machine (SVM)\n",
    "\n",
    "from sklearn.svm import LinearSVC\n",
    "\n",
    "svm = LinearSVC()   # max_iter=10000\n",
    "\n",
    "scores = cross_val_score(svm, X_penguin_features,  y_penguin_labels, cv = 5)\n",
    "\n",
    "print(scores.mean())\n"
   ]
  },
  {
   "cell_type": "code",
   "execution_count": null,
   "metadata": {},
   "outputs": [],
   "source": [
    "# Try a random forest\n",
    "\n",
    "from sklearn.ensemble import RandomForestClassifier\n",
    "\n",
    "random_forest = RandomForestClassifier()\n",
    "\n",
    "scores = cross_val_score(random_forest, X_penguin_features,  y_penguin_labels, cv = 5)\n",
    "\n",
    "print(scores.mean())"
   ]
  },
  {
   "cell_type": "markdown",
   "metadata": {},
   "source": [
    "## 4. Building the KNN classifier\n",
    "\n",
    "So far we have used the KNN classifier (and a few other classifiers). Let's now see if we can write code that will implement the KNN classifier.\n",
    "\n",
    "We will do this by writing a several helper functions that build on each other. These functions are: \n",
    "\n",
    "1. `euclid_dist(x1, x2)`: finds the Euclidean distance between two points `x1` and `x2`\n",
    "\n",
    "2. `get_labels_and_distances(test_point, X_train_features, y_train_labels)`: This function finds the distance between a test point and all the training points. It returns a DataFrame with the distance from all training points and the training labels for each point.\n",
    "\n",
    "3. `classify_point(test_point, k, X_train_features, y_train_labels)`: Classifies which class a test point belongs to\n",
    "\n",
    "4. `classify_all_test_data(X_test_data, k, X_train_features, y_train_labels)`: Classifiers which class all test points below to.\n"
   ]
  },
  {
   "cell_type": "markdown",
   "metadata": {},
   "source": [
    "Let's start by writing a function that can get the Euclidean distance between two points `x` and `z`: \n",
    "\n",
    "$$dist(x, z) = \\sqrt{\\Sigma_{i = 1}^d (x_i - z_i)^2)}$$\n"
   ]
  },
  {
   "cell_type": "code",
   "execution_count": null,
   "metadata": {},
   "outputs": [],
   "source": [
    "def euclid_dist(x1, x2):\n",
    "    ...\n",
    "    \n",
    "\n",
    "\n",
    "# test our function \n",
    "my_vec1 = np.array([1, 2, 3, 4])\n",
    "my_vec2 = np.array([2, 3, 4, 5])\n",
    "\n",
    "euclid_dist(my_vec1, my_vec2)"
   ]
  },
  {
   "cell_type": "code",
   "execution_count": null,
   "metadata": {},
   "outputs": [],
   "source": [
    "# Let's now write a function that returns the labels and distances \n",
    "# between a training point and all the test points\n",
    "\n",
    "\n",
    "def get_labels_and_distances(test_point, X_train_features, y_train_labels):\n",
    "    ...\n",
    "\n",
    "\n",
    "\n",
    "# test our code \n",
    "\n",
    "test_data_point = X_test.iloc[0]\n",
    "test_label = y_test.iloc[0]\n",
    "\n",
    "labels_and_distances = get_labels_and_distances(test_data_point, X_train, y_train)\n",
    "\n",
    "labels_and_distances.head(5)"
   ]
  },
  {
   "cell_type": "code",
   "execution_count": null,
   "metadata": {},
   "outputs": [],
   "source": [
    "# get the k closest neighbors\n",
    "\n",
    "k = 5\n",
    "\n",
    "sorted_labels_dist = ...\n",
    "\n",
    "sorted_labels_dist"
   ]
  },
  {
   "cell_type": "code",
   "execution_count": null,
   "metadata": {},
   "outputs": [],
   "source": [
    "# get the majority label\n",
    "\n",
    "..."
   ]
  },
  {
   "cell_type": "code",
   "execution_count": null,
   "metadata": {},
   "outputs": [],
   "source": [
    "# write a function to do the classification on a test point \n",
    "# by putting together all the pieces\n",
    "\n",
    "def classify_point(test_point, k, X_train_features, y_train_labels):\n",
    "    \n",
    "    ...\n",
    "    \n",
    "    return ...\n",
    "\n",
    "\n",
    "# test our classifier on one test point\n",
    "\n",
    "prediction = classify_point(test_data_point, 5, X_train, y_train)\n",
    "\n",
    "print(prediction)\n",
    "\n",
    "print(test_label)"
   ]
  },
  {
   "cell_type": "code",
   "execution_count": null,
   "metadata": {},
   "outputs": [],
   "source": [
    "# classify a full test set\n",
    "\n",
    "def classify_all_test_data(X_test_data, k, X_train_features, y_train_labels):\n",
    "    \n",
    "    ...\n",
    "    \n",
    "\n",
    "\n",
    "# test the classifier on the whole test set    \n",
    "\n",
    "all_predictions = classify_all_test_data(X_test, 5, X_train, y_train)\n",
    "\n",
    "all_predictions\n"
   ]
  },
  {
   "cell_type": "code",
   "execution_count": null,
   "metadata": {},
   "outputs": [],
   "source": [
    "# get the classification accuracy\n",
    "\n",
    "np.mean(all_predictions == y_test)\n",
    "\n"
   ]
  },
  {
   "cell_type": "markdown",
   "metadata": {},
   "source": [
    "## 5. Feature normalization\n",
    "\n",
    "If you look at the features we have been using in our analyses, you will notice that they are on very different scales. This is quite problematic for a KNN classifier since the classifier is finding the distance between each data point, so features that have large values will dominate this distance. \n",
    "\n",
    "Let's explore the scales that different features have by looking at some descriptive statistics. In particular, let's go back to the manually created `X_train`, `X_test`, `y_train`, `y_test` to examine the scale that different features are measured on.\n"
   ]
  },
  {
   "cell_type": "code",
   "execution_count": null,
   "metadata": {},
   "outputs": [],
   "source": [
    "# Create the training and test splots of the data using train_test_split\n",
    "X_train, X_test, y_train, y_test = train_test_split(X_penguin_features,  \n",
    "                                                    y_penguin_labels, \n",
    "                                                    random_state = 0)\n",
    "\n",
    "# Get summary statistics of the training data using the .describe() method\n",
    "X_train.describe()"
   ]
  },
  {
   "cell_type": "markdown",
   "metadata": {},
   "source": [
    "Let's do a z-score transformation of our features which set the mean of the features to 0 and the standard deviation to 1. We can do this using the using the `StandardScaler()` object as follows: \n",
    "\n",
    "1. Create a new `StandardScaler()` object using `scalar = StandardScaler()` \n",
    "\n",
    "2. Have the `scalar` object learn the means and standard deviations of our training data by calling the `scalar.fit(X)` function on the training data.\n",
    "\n",
    "3. Use the fit `scalar` object to transform both the training and test features so that all features are on a similar scale by calling the `.transform(X)` method. \n"
   ]
  },
  {
   "cell_type": "code",
   "execution_count": null,
   "metadata": {},
   "outputs": [],
   "source": [
    "from sklearn.preprocessing import StandardScaler\n",
    "\n",
    "\n",
    "# learning the mean and standard deviations to scale the features\n",
    "\n",
    "scalar = StandardScaler()\n",
    "\n",
    "scalar.fit(X_train)\n"
   ]
  },
  {
   "cell_type": "code",
   "execution_count": null,
   "metadata": {},
   "outputs": [],
   "source": [
    "# z-score transform the features \n",
    "\n",
    "X_train_transformed = scalar.transform(X_train)\n",
    "X_test_transformed = scalar.transform(X_test)\n",
    "\n",
    "type(X_test_transformed)"
   ]
  },
  {
   "cell_type": "markdown",
   "metadata": {},
   "source": [
    "Let's now look at our transformed training data..."
   ]
  },
  {
   "cell_type": "code",
   "execution_count": null,
   "metadata": {},
   "outputs": [],
   "source": [
    "# view descriptive statistics on the transformed features\n",
    "\n",
    "X_train_transformed_df = pd.DataFrame(X_train_transformed, \n",
    "                                      columns = X_train.columns)\n",
    "\n",
    "X_train_transformed_df.describe()"
   ]
  },
  {
   "cell_type": "markdown",
   "metadata": {},
   "source": [
    "Let's see how our classification accuracy changes using the z-score transformed data"
   ]
  },
  {
   "cell_type": "code",
   "execution_count": null,
   "metadata": {},
   "outputs": [],
   "source": [
    "# apply KNN classification on the normalized features\n",
    "\n",
    "knn = KNeighborsClassifier(n_neighbors = 1) \n",
    "knn.fit(X_train_transformed, y_train)\n",
    "knn.score(X_test_transformed, y_test)"
   ]
  },
  {
   "cell_type": "markdown",
   "metadata": {},
   "source": [
    "In order to transform our features inside a cross-validation loop, we can set up a pipeline. This pipeline will do the following:\n",
    "\n",
    "1. It will split the data into a training and test set\n",
    "2. It will fit the transformation of the features on the training set (i.e., learn the means and standard deviations on the training set). \n",
    "3. It will apply a z-score transformation of the training and test set based on the features learned in step 2\n",
    "4. It will train the classifier on the transformed data\n",
    "5. It will measure the classification accuracy on the test data\n",
    "6. It will repeat this process k times, where k here refers to how many cross-validation splits we are using\n",
    "\n",
    "In order to do this in scikit-learn we can use a `Pipeline` object which sets up the stages of transformation and classification, along with a `KFold` object which will run the cross-validation.  "
   ]
  },
  {
   "cell_type": "code",
   "execution_count": null,
   "metadata": {},
   "outputs": [],
   "source": [
    "from sklearn.pipeline import Pipeline\n",
    "from sklearn.model_selection import KFold\n",
    "\n",
    "\n",
    "# create a pipeline for running cross-validation with feature normalization\n",
    "\n",
    "# components that go into the pipeline\n",
    "scalar = StandardScaler()\n",
    "knn = KNeighborsClassifier(n_neighbors = 1) \n",
    "cv = KFold(n_splits=5)\n",
    "\n",
    "# build the pipeline\n",
    "pipeline = Pipeline([('transformer', scalar), ('estimator', knn)])\n",
    "\n",
    "# get the cross-validation scores\n",
    "scores = cross_val_score(pipeline, \n",
    "                         X_penguin_features, \n",
    "                         y_penguin_labels, \n",
    "                         cv = cv)\n",
    "\n",
    "\n",
    "# print out the mean score over the 5 cross-validation splits\n",
    "scores.mean()"
   ]
  }
 ],
 "metadata": {
  "anaconda-cloud": {},
  "kernelspec": {
   "display_name": "ydata_2025spring_v1",
   "language": "python",
   "name": "python3"
  },
  "language_info": {
   "codemirror_mode": {
    "name": "ipython",
    "version": 3
   },
   "file_extension": ".py",
   "mimetype": "text/x-python",
   "name": "python",
   "nbconvert_exporter": "python",
   "pygments_lexer": "ipython3",
   "version": "3.13.2"
  }
 },
 "nbformat": 4,
 "nbformat_minor": 4
}
