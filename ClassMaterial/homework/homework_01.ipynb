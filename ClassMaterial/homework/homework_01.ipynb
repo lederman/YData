{
 "cells": [
  {
   "cell_type": "markdown",
   "metadata": {
    "id": "V7W0zBsnVk8A"
   },
   "source": [
    "# Homework 1: Intro to Python\n",
    "\n",
    "Welcome to homework 1!  Please complete this notebook by filling in the cells provided. \n",
    "\n",
    "**Recommended Reading:**\n",
    "- [Chapter 1: What is Data Science](https://matthew-brett.github.io/dsfe/chapters/01/what-is-data-science)\n",
    "- [Chapter 2: Programming in Python](https://matthew-brett.github.io/dsfe/chapters/02/to_code)\n",
    "\n",
    "For all problems that you must write explanations and sentences for, please provide your answer in the designated space. \n",
    "\n",
    "**Deadline:**\n",
    "\n",
    "This assignment is due **Sunday Jan 26th at 11pm.** You can turn in the assignment up to 24 hours late for 90% credit (after that, the homework will only be accepted with a Dean's Extension). \n",
    "\n",
    "Directly sharing answers is not okay, but discussing problems with the course staff or with other students is encouraged. Refer to the policies page to learn more about how to learn cooperatively.\n",
    "\n",
    "You should start early so that you have time to get help if you're stuck. The drop-in office hours schedule can be found on Canavs. You can also post questions or start discussions on Ed Discussion."
   ]
  },
  {
   "cell_type": "markdown",
   "metadata": {},
   "source": [
    "## Getting started\n",
    "\n",
    "In order to complete the homework, it is necessary to download a few files. Please run the code below **only once** to download data needed to complete the homework. To run the code, click in the cell below and press the play buttom (or press shift-enter). \n"
   ]
  },
  {
   "cell_type": "code",
   "execution_count": null,
   "metadata": {},
   "outputs": [],
   "source": [
    "# If you are running this notebook in Google Colab, please uncomment and run the following line of code\n",
    "# (if you are using the YCRC JupyterHub server or Anaconda on your own computer you can ignore it section).\n",
    "\n",
    "# !pip install https://github.com/lederman/YData_package/tarball/master"
   ]
  },
  {
   "cell_type": "code",
   "execution_count": null,
   "metadata": {},
   "outputs": [],
   "source": [
    "# Please run this code once to download the files you will need to complete the homework \n",
    "\n",
    "import YData \n",
    "\n",
    "YData.download.download_data(\"moby_dick.txt\")\n",
    "YData.download.download_data(\"okc_self_summaries.csv\")\n"
   ]
  },
  {
   "cell_type": "markdown",
   "metadata": {},
   "source": [
    "## 0. Quote and reaction\n",
    "\n",
    "This week's reading is a blog post from the dating website OkCupid about the \"The Big Lies People Tell In Online Dating\". Please read the [blog post](https://theblog.okcupid.com/the-big-lies-people-tell-in-online-dating-a9e3990d6ae2), and write down a quote that you find interesting. In the space below, write down the quote as well as a one paragraph description for why you thought the quote was interesting. \n",
    "\n",
    "There are other posts from this blog you might also find interesting. I would recommend you look at the original blog from ~2010 rather than the more recent blog posts as the older posts have a more data science focus, even if they are a bit dated (pun intended). "
   ]
  },
  {
   "cell_type": "markdown",
   "metadata": {},
   "source": [
    "**Question 0.1 (5 points)**  Please write down your \"quote and reaction\" here.\n",
    "\n",
    "*Quote:*  ...\n",
    "\n",
    "Reaction: ... "
   ]
  },
  {
   "cell_type": "markdown",
   "metadata": {
    "id": "WlDp07E4Vk8M"
   },
   "source": [
    "## 2. Names, Assignment Statements and Error Messages\n",
    "\n",
    "Let's now start looking at Python programming! \n",
    "\n",
    "When programming in Python one often makes mistakes which leads to the Python interpreter returning an error message. While at first these might look scary, soon you should be able to make sense of what the message is telling you and learn how to fix your code to remove the mistakes. \n",
    "\n",
    "Let's start by exploring some error messages! Please look at the code below and answer the question about what is causing the error message. \n"
   ]
  },
  {
   "cell_type": "markdown",
   "metadata": {
    "id": "OY2_QehbVk8M"
   },
   "source": [
    "**Question 2.1 (3 points)** When you run the following cell, Python produces a cryptic error message."
   ]
  },
  {
   "cell_type": "code",
   "execution_count": null,
   "metadata": {
    "colab": {
     "base_uri": "https://localhost:8080/",
     "height": 130
    },
    "executionInfo": {
     "elapsed": 178,
     "status": "error",
     "timestamp": 1642628350026,
     "user": {
      "displayName": "Ethan Meyers",
      "photoUrl": "https://lh3.googleusercontent.com/a/default-user=s64",
      "userId": "07248665459445774281"
     },
     "user_tz": 300
    },
    "id": "MNVw7LNUVk8M",
    "outputId": "2d0e5a5f-729b-4afd-e969-836f3e051b97"
   },
   "outputs": [],
   "source": [
    "4 = 2 + 2"
   ]
  },
  {
   "cell_type": "markdown",
   "metadata": {
    "id": "05HV4SHhVk8N"
   },
   "source": [
    "Choose the best explanation of what's wrong with the code, and then assign 1, 2, 3, or 4 to `names_q1` below to indicate your answer.\n",
    "\n",
    "1. Python is smart and already knows `4 = 2 + 2`.\n",
    "\n",
    "2. `4` is already a defined number, and it doesn't make sense to make a number be a name for something else. In Python, \"`x = 2 + 2`\" means \"assign `x` as the name for the value of `2 + 2`.\"\n",
    "\n",
    "3. It should be `2 + 2 = 4`.\n",
    "\n",
    "4. I don't get an error message. This is a trick question."
   ]
  },
  {
   "cell_type": "code",
   "execution_count": null,
   "metadata": {
    "id": "3YZQzGO-Vk8N"
   },
   "outputs": [],
   "source": [
    "# Answer\n",
    "names_q1 = ..."
   ]
  },
  {
   "cell_type": "markdown",
   "metadata": {
    "id": "pL4x19XFVk8N"
   },
   "source": [
    "**Question 2.2 (3 points)** When you run the following cell, Python will produce another cryptic error message."
   ]
  },
  {
   "cell_type": "code",
   "execution_count": null,
   "metadata": {
    "colab": {
     "base_uri": "https://localhost:8080/",
     "height": 130
    },
    "executionInfo": {
     "elapsed": 138,
     "status": "error",
     "timestamp": 1642628346773,
     "user": {
      "displayName": "Ethan Meyers",
      "photoUrl": "https://lh3.googleusercontent.com/a/default-user=s64",
      "userId": "07248665459445774281"
     },
     "user_tz": 300
    },
    "id": "XraFgm8OVk8N",
    "outputId": "507a3e9d-1e48-4ede-9401-8e4df180c1fe"
   },
   "outputs": [],
   "source": [
    "two = 3\n",
    "six = two plus two"
   ]
  },
  {
   "cell_type": "markdown",
   "metadata": {
    "id": "mzFSrP_WVk8O"
   },
   "source": [
    "Choose the best explanation of what's wrong with the code and assign 1, 2, 3, or 4 to `names_q2` below to indicate your answer.\n",
    "\n",
    "1. The `plus` operation only applies to numbers, not the word \"two\".\n",
    "\n",
    "2. The name \"two\" cannot be assigned to the number 3.\n",
    "\n",
    "3. Two plus two is four, not six.\n",
    "\n",
    "4. The name `plus` is not defined as an operator here. "
   ]
  },
  {
   "cell_type": "code",
   "execution_count": null,
   "metadata": {
    "id": "lRIxWwT9Vk8O"
   },
   "outputs": [],
   "source": [
    "# Answer\n",
    "names_q2 = ..."
   ]
  },
  {
   "cell_type": "markdown",
   "metadata": {
    "id": "Bf8whQlfVk8O"
   },
   "source": [
    "**Question 2.3 (3 point)** When you run the following cell, Python will, yet again, produce another cryptic error message."
   ]
  },
  {
   "cell_type": "code",
   "execution_count": null,
   "metadata": {
    "colab": {
     "base_uri": "https://localhost:8080/",
     "height": 200
    },
    "executionInfo": {
     "elapsed": 155,
     "status": "error",
     "timestamp": 1642628343885,
     "user": {
      "displayName": "Ethan Meyers",
      "photoUrl": "https://lh3.googleusercontent.com/a/default-user=s64",
      "userId": "07248665459445774281"
     },
     "user_tz": 300
    },
    "id": "XVecwpZZVk8O",
    "outputId": "4aa1675a-3631-4b84-b444-6cb76f34c47d"
   },
   "outputs": [],
   "source": [
    "x = print(5)\n",
    "y = x + 2"
   ]
  },
  {
   "cell_type": "markdown",
   "metadata": {
    "id": "gbeSPleoVk8O"
   },
   "source": [
    "Choose the best explanation of what's wrong with the code and assign 1, 2, 3, or 4 to `names_q3` below to indicate your answer.\n",
    "\n",
    "1. You cannot add the letter x with 2.\n",
    "\n",
    "2. The `print` operation is meant for displaying values to the programmer, not for assigning values.\n",
    "\n",
    "3. Python doesn't want `y` to be assigned.\n",
    "\n",
    "4. What error message?"
   ]
  },
  {
   "cell_type": "code",
   "execution_count": null,
   "metadata": {
    "executionInfo": {
     "elapsed": 255,
     "status": "ok",
     "timestamp": 1642628335361,
     "user": {
      "displayName": "Ethan Meyers",
      "photoUrl": "https://lh3.googleusercontent.com/a/default-user=s64",
      "userId": "07248665459445774281"
     },
     "user_tz": 300
    },
    "id": "U7tQFPUVVk8O"
   },
   "outputs": [],
   "source": [
    "# Answer\n",
    "names_q3 = ..."
   ]
  },
  {
   "cell_type": "markdown",
   "metadata": {
    "id": "rMiH5VKSVk8Q"
   },
   "source": [
    "## 3. Basic statistics: Differences between Universities\n"
   ]
  },
  {
   "cell_type": "markdown",
   "metadata": {
    "id": "757Dag_fVk8Q"
   },
   "source": [
    "**Question 3.1 (8 points)** Suppose you'd like to *quantify* how *dissimilar* two universities are, using three quantitative characteristics.  The US Department of Education data on [Yale](https://collegescorecard.ed.gov/school/?130794-Yale-University) and [Cal](https://collegescorecard.ed.gov/school/?110635-University-of-California-Berkeley) describes the following three traits (among many others):\n",
    "\n",
    "| Trait                                | Yale   | Cal    |\n",
    "|--------------------------------------|--------|--------|\n",
    "| Average annual cost to attend ($)    | 16,341 | 15,240 |\n",
    "| Graduation rate (percentage)         | 97     | 94     |\n",
    "| Socioeconomic Diversity (percentage) | 20     | 23     |\n",
    "\n",
    "You decide to define the dissimilarity between two universities as the maximum of the absolute values of the 3 differences in their respective trait values.\n",
    "\n",
    "Using this method, compute the dissimilarity between Yale and CAL. Name the result `dissimilarity`. Use a single expression (a single line of code) to compute the answer.  Let Python perform all the arithmetic (like subtracting 97 from 93) rather than simplifying the expression yourself. Be sure that the final answer is printed out in the .pdf file you upload to show that you have the correct answer. \n",
    "\n",
    "Hint: The built-in `abs()` function takes absolute values."
   ]
  },
  {
   "cell_type": "code",
   "execution_count": null,
   "metadata": {
    "colab": {
     "base_uri": "https://localhost:8080/"
    },
    "executionInfo": {
     "elapsed": 141,
     "status": "ok",
     "timestamp": 1642628673968,
     "user": {
      "displayName": "Ethan Meyers",
      "photoUrl": "https://lh3.googleusercontent.com/a/default-user=s64",
      "userId": "07248665459445774281"
     },
     "user_tz": 300
    },
    "id": "75jOjml0Vk8Q",
    "outputId": "bfdaf64d-7fc3-42fc-a424-634e811130cb"
   },
   "outputs": [],
   "source": [
    "# Answer\n",
    "dissimilarity = ...\n",
    "dissimilarity"
   ]
  },
  {
   "cell_type": "markdown",
   "metadata": {
    "deletable": false,
    "id": "3wCzxt2MVk8R",
    "manual_problem_id": "nearsightedness_1"
   },
   "source": [
    "## 4. Lists\n",
    "\n",
    "One of the most widely use data structure in Python is the list. As we discussed in class, lists can hold any type of item, and we can use the square brackets `[]` to create, set, and extract elements from lists. \n",
    "\n",
    "Let's explore a few simple practice exercieses using lists now!\n"
   ]
  },
  {
   "cell_type": "markdown",
   "metadata": {
    "deletable": false,
    "id": "TBeS0rPxVk8R",
    "manual_problem_id": "nearsightedness_1"
   },
   "source": [
    "**Question 4.1 (3 points)** \n",
    "\n",
    "To start, create a list called `colleges` that has the following 5 character strings in the order specified here: Branford, Davenport, Morse, Saybrook, and Trumbull. Also, check print out that your list has 5 elements by using the `len()` function.\n"
   ]
  },
  {
   "cell_type": "code",
   "execution_count": null,
   "metadata": {},
   "outputs": [],
   "source": [
    "# Answer:\n",
    "\n"
   ]
  },
  {
   "cell_type": "markdown",
   "metadata": {},
   "source": [
    "**Question 4.2 (3 points)** Now write one line of code that prints out the 3rd string in this list. "
   ]
  },
  {
   "cell_type": "code",
   "execution_count": null,
   "metadata": {},
   "outputs": [],
   "source": [
    "# Answer:\n"
   ]
  },
  {
   "cell_type": "markdown",
   "metadata": {},
   "source": [
    "**Question 4.3 (3 points)** Next, write one line of code that prints out a list that has every other item in the `colleges` list, starting with the first item; i.e., it should return the list that has Branford, Morse and Trumbull."
   ]
  },
  {
   "cell_type": "code",
   "execution_count": null,
   "metadata": {},
   "outputs": [],
   "source": [
    "# Answer:\n"
   ]
  },
  {
   "cell_type": "markdown",
   "metadata": {},
   "source": [
    "**Question 4.4 (3 points)** Finally, write one line of code that replaces the string \"Davenport\" with the string \"Silliman\", and print out this modified `colleges` list. \n",
    "\n",
    "In the answer section, report if this list of colleges seems better to you than the original list (or let us know if you don't have an opinion on this matter). \n"
   ]
  },
  {
   "cell_type": "code",
   "execution_count": null,
   "metadata": {},
   "outputs": [],
   "source": [
    "# Answer:\n"
   ]
  },
  {
   "cell_type": "markdown",
   "metadata": {},
   "source": [
    "<font color='red'> **ANSWER**: \n"
   ]
  },
  {
   "cell_type": "markdown",
   "metadata": {
    "deletable": false,
    "id": "EO1jtIv7Vk8R",
    "manual_problem_id": "nearsightedness_2"
   },
   "source": [
    "## 5. Character strings and text manipulation\n",
    "\n",
    "Many data science insights can be extracted from text. Additionally, frequently before one can analyze data, one needs to \"clean the data\" which means putting it into a more useable format, and text manipulation is often a large part of data cleaning. \n",
    "\n",
    "As, we discussed in class, text in Python is held in character strings. Let's explore some of the basics of manipulating character strings by looking at the book \"Moby-Dick\" which was written by Herman Melville and first published in 1851.\n",
    "\n",
    "The code below loads the whole book into Python as a single character string named `book_data`. It also prints the letters (i.e. characters) in the book using the `len()` function. You will analyze this `book_data` string in this part of the homework\n"
   ]
  },
  {
   "cell_type": "code",
   "execution_count": null,
   "metadata": {
    "deletable": false,
    "id": "OBipRaYXVk8R",
    "manual_problem_id": "nearsightedness_2"
   },
   "outputs": [],
   "source": [
    "file = open('moby_dick.txt', 'r', encoding=\"utf8\")\n",
    "book_data = file.read()\n",
    "\n",
    "# print the number of letters (i.e. characters) in the book\n",
    "len(book_data)"
   ]
  },
  {
   "cell_type": "markdown",
   "metadata": {
    "deletable": false,
    "id": "r_WfYxLvVk8R",
    "manual_problem_id": "nearsightedness_3"
   },
   "source": [
    "**Question 5.1 (3 points)** To start, print out the first 100 characters (i.e., letters) in the book. \n",
    "\n",
    "Hint: The syntax to do this is similar to printing out the first 100 items of a list. \n"
   ]
  },
  {
   "cell_type": "code",
   "execution_count": null,
   "metadata": {
    "deletable": false,
    "editable": true,
    "id": "coijsTshVk8R",
    "manual_problem_id": "nearsightedness_3",
    "slideshow": {
     "slide_type": ""
    },
    "tags": []
   },
   "outputs": [],
   "source": [
    "# Answer:\n"
   ]
  },
  {
   "cell_type": "markdown",
   "metadata": {},
   "source": [
    "**Question 5.2 (5 points)** Let's now examine how many chapters the book has. To do this, let's count how many times the substring \"\\nCHAPTER\" occurs in the book. In particular, we can use the `my_string.count(my_substring)` method where:\n",
    "\n",
    "- `my_string`: refers to the longer piece of text we want to seach through\n",
    "- `count()` is the name of the method we are using to count how many times `my_substring` occurs\n",
    "- `my_substring` is the string we are searching for and counting in the longer piece of text given by `my_string`\n",
    "\n",
    "Please go ahead and write one line of code that prints out how many times the string \"\\nCHAPTER\" occured in the text. \n"
   ]
  },
  {
   "cell_type": "code",
   "execution_count": null,
   "metadata": {},
   "outputs": [],
   "source": [
    "# Answer:\n"
   ]
  },
  {
   "cell_type": "markdown",
   "metadata": {},
   "source": [
    "**Question 5.3 (5 points)** The book Moby-Dick is a book about whaling. Please write code to count how often is the word 'whale' occurs in the book. Make sure your code counts the number of occurances of the string \"whale\" regardless of how it is capitalized; i.e., it should count \"whale\", \"Whale\", \"whAle\" etc. \n",
    "\n",
    "Try to make your code as short as possible (e.g., only one line of code). Hint: Think about ways to transform the text so you can easily detect the world \"whale\" regardless of the case. \n"
   ]
  },
  {
   "cell_type": "code",
   "execution_count": null,
   "metadata": {},
   "outputs": [],
   "source": [
    "# Answer:\n"
   ]
  },
  {
   "cell_type": "markdown",
   "metadata": {},
   "source": [
    "**Question 5.4 (5 points)**  Now split the book up into a list named `book_chapters`, where each item of the list consists of the text of one chapter of the book. \n",
    "\n",
    "Then, print out the length of the number of elements in the `book_chapters` list, which should be close to the number of chapters in the book. \n",
    "\n",
    "Hint: the `my_string.split(my_substring)` could be useful here. \n"
   ]
  },
  {
   "cell_type": "code",
   "execution_count": null,
   "metadata": {},
   "outputs": [],
   "source": [
    "# Answer:\n",
    "...\n",
    "\n",
    "len(book_chapters)\n"
   ]
  },
  {
   "cell_type": "markdown",
   "metadata": {},
   "source": [
    "**Question 5.5 (5 points)**  Next extract the text from the first chapter and store it in the name `chapter_1`. Then print out the first 500 characters of chapter 1. "
   ]
  },
  {
   "cell_type": "code",
   "execution_count": null,
   "metadata": {},
   "outputs": [],
   "source": [
    "# Answer:\n"
   ]
  },
  {
   "cell_type": "markdown",
   "metadata": {},
   "source": [
    "**Question 5.6 (5 points)** You will notice that when you print the first 500 characters there are a lot of \"\\n\" characters which correspond to a new line of text. Please write one line of code that removes these \"\\n\" characters from the text and saves the results back to the name `chapter_1`. Then print out the first 500 characters of chapter 1 again. "
   ]
  },
  {
   "cell_type": "code",
   "execution_count": null,
   "metadata": {},
   "outputs": [],
   "source": [
    "# Answer:\n",
    "\n"
   ]
  },
  {
   "cell_type": "markdown",
   "metadata": {},
   "source": [
    "## 6. Exploring text further (5 points)\n",
    "\n",
    "In part 1 of this homework you read an article analyzing data from the OkCupid website. Let's now look at some of this data ourselves! \n",
    "\n",
    "When filling out an OkCupid profile, users have to fill in a \"My self summary\" box where users describe themselves. An example of what an OkCupid profile looks like can be [seen here](https://veryhighbrow.com/wp-content/uploads/2015/04/3cfbd-screen2bshot2b2015-04-042bat2b4-42-372bpm.png?w=757&h=408)). \n",
    "\n",
    "The code below loads the respones that 54,456 OkCupid users wrote as their \"My self summary\" into a list of strings called `self_summaries`, where each string corresponds to one OkCupid user's \"My self summary\" response. Please explore the data and see if you can find anything interesting in it! Then, in the answer section write down anything interesting you find. \n",
    "\n",
    "**Note**: There is a fair amount freedom to the degree that you challenge yourself here, and we will be relatively relaxed on the grading of this question. If you find the questions in this homework were easy, feel free to read about additional features of Python and experiment with these features to challenge yourself and to come up with an more interesting answer. If you found the above homework challenging, then just come up with a simple analysis (e.g., a couple lines of code), and make sure you understand all the code we have covered in class so far. At the moment we are a bit limited in the types of analyses since we have just started learning the basics of Python, but soon we will learn more methods that will allow you to answer much more interesting questions. \n",
    "\n",
    "**Tip**: It could also be useful to join strings in the `self_summaries` list into a single string called `summaries_string`. You can do this using the following line of code `summaries_string = \" \".join(my_self_summaries)`. "
   ]
  },
  {
   "cell_type": "code",
   "execution_count": null,
   "metadata": {},
   "outputs": [],
   "source": [
    "import pandas as pd\n",
    "\n",
    "self_summaries = pd.read_csv(\"okc_self_summaries.csv\")[\"my_self_summary\"].to_list()\n"
   ]
  },
  {
   "cell_type": "code",
   "execution_count": null,
   "metadata": {},
   "outputs": [],
   "source": [
    "# Put your analysis code here\n",
    "# Answer:\n",
    "\n",
    "\n"
   ]
  },
  {
   "cell_type": "markdown",
   "metadata": {},
   "source": [
    "<font color='red'> **ANSWER**: Describe anything interesting that you found in your analysis here.\n",
    "\n"
   ]
  },
  {
   "cell_type": "markdown",
   "metadata": {
    "deletable": false,
    "id": "H5G9j4rxVk8S",
    "manual_problem_id": "nearsightedness_4"
   },
   "source": [
    "## 7. Reflection (3 points)\n",
    "\n",
    "Please reflect on how the homework went by going to Canvas, going to the Quizzes link, and clicking on \n",
    "Reflection on homework 1."
   ]
  },
  {
   "cell_type": "markdown",
   "metadata": {
    "deletable": false,
    "id": "lNYoHNjeVk8S",
    "manual_problem_id": "nearsightedness_4"
   },
   "source": [
    "## 8. Submission\n",
    "\n",
    "Once you're finished filling in and running all cells, you should submit your assignment as a .pdf on Gradescope. You can access Gradescope through Canvas on the left-side of the class home page. The problems in each homework assignment are numbered. **NOTE:** When submitting on Gradescope, please select the correct pages of your pdf that correspond to each problem. Failure to mark pages correctly will result in points being deducted from your homework score.\n",
    "\n",
    "If you are running Jupyter Notebooks through an Anaconda installation on your own computer, you can produce the .pdf by completing the following steps:  \n",
    "1.  Go to \"File\" at the top-left of your Jupyter Notebook\n",
    "2.  Under \"Download as\" (or \"Save and Export Notebook As...\") and select \"HTML (.html)\"\n",
    "3.  After the .html has downloaded, open it and then select \"File\" and \"Print\" (note you will not actually be printing)\n",
    "4.  From the print window, select the option to save as a .pdf\n",
    "\n",
    "If you are running the assignment in a Google Colabs, you can use the following instructions: \n",
    "1.  Go to \"File\" at the top-left of your Jupyter Notebook and select \"File\" and \"Print\" (note you will not actually be printing)\n",
    "2. From the print window, select the option to save as a .pdf\n",
    "3. Be sure to look over the pdf file to make sure all your code and written work is saved in a clear way.\n",
    "\n"
   ]
  },
  {
   "cell_type": "markdown",
   "metadata": {},
   "source": [
    "![whale](https://www.sru.edu//images/news/2018/November/111418a-Inline.jpg)"
   ]
  }
 ],
 "metadata": {
  "colab": {
   "collapsed_sections": [],
   "name": "hw01_sol.ipynb",
   "provenance": [
    {
     "file_id": "1u10xWcG7BLsUY4IeXRdARimb8IQu5TeS",
     "timestamp": 1642627884057
    }
   ]
  },
  "kernelspec": {
   "display_name": "Python [conda env:.conda-ydata_2025spring_v1] *",
   "language": "python",
   "name": "conda-env-.conda-ydata_2025spring_v1-py"
  },
  "language_info": {
   "codemirror_mode": {
    "name": "ipython",
    "version": 3
   },
   "file_extension": ".py",
   "mimetype": "text/x-python",
   "name": "python",
   "nbconvert_exporter": "python",
   "pygments_lexer": "ipython3",
   "version": "3.13.1"
  },
  "vscode": {
   "interpreter": {
    "hash": "210d09ee6027b787a7b7d165faad4b9ab2c78f82833dfb71164ab6525ec445c4"
   }
  }
 },
 "nbformat": 4,
 "nbformat_minor": 4
}
