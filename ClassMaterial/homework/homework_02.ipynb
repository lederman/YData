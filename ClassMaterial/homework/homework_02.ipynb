{
 "cells": [
  {
   "cell_type": "markdown",
   "id": "e26b3e6d-bc5c-4ace-b7dd-b8228d8ff338",
   "metadata": {},
   "source": [
    "# Homework 2: Descriptive statistics and plots\n",
    "\n",
    "Welcome to the second homework! Please complete this notebook by filling in the cells provided. For all problems that you must write explanations and sentences for, please provide your answer in the designated space. \n",
    "\n",
    "**Required Reading:**\n",
    "- [Excerpt from \"Data and the American Dream\"](https://github.com/lederman/YData/raw/main/ClassMaterial/reading/data_and_the_american_dream_reading.pdf)\n",
    "\n",
    "\n",
    "**Recommended Reading:**\n",
    "- [Chapter 2: Programming in Python](https://matthew-brett.github.io/dsfe/chapters/02/to_code)\n",
    "\n",
    "\n",
    "**Deadline:**\n",
    "\n",
    "This assignment is due <del>Friday Jan 31st</del> **Sunday Feb 2nd at 11pm.** You can turn in the assignment up to 24 hours late for 90% credit (after that, the homework will only be accepted with a dean's extension). \n",
    "\n",
    "Directly sharing answers is not okay, but discussing problems with the course staff or with other students is encouraged. Refer to the policies page to learn more about how to learn cooperatively.\n",
    "\n",
    "You should start early so that you have time to get help if you're stuck. The drop-in office hours schedule can be found on Canvas.  You can also post questions or start discussions on Ed Discussion."
   ]
  },
  {
   "cell_type": "markdown",
   "id": "578c843e-cfcc-4bb8-90b5-63c4619ee23c",
   "metadata": {},
   "source": [
    "## Getting started\n",
    "\n",
    "In order to complete the homework it is necessary to download a few files. Please run the code below **only once** to download data needed to complete the homework. To run the code, click in the cell below and press the play buttom (or press shift-enter). \n"
   ]
  },
  {
   "cell_type": "code",
   "execution_count": null,
   "id": "6e171730-163e-4a30-b83c-dc919d498829",
   "metadata": {},
   "outputs": [],
   "source": [
    "# If you are running this notebook in Google colab, please uncomment and run the following line.\n",
    "# (If you are using the YCRC JupyterHub server or running Anaconda on your own computer you can ignore this section).\n",
    "\n",
    "# !pip install https://github.com/lederman/YData_package/tarball/master"
   ]
  },
  {
   "cell_type": "code",
   "execution_count": 1,
   "id": "2e1a0f09-9fe2-4033-bd22-b0956d731906",
   "metadata": {},
   "outputs": [],
   "source": [
    "# Please run this code once to download the files you will need to complete the homework \n",
    "\n",
    "import YData \n",
    "\n",
    "YData.download.download_data(\"ACS_2017_sample_01.csv\")\n"
   ]
  },
  {
   "cell_type": "markdown",
   "id": "b93053c0-7259-41e6-95cd-e5c6c71dddb0",
   "metadata": {
    "id": "5QMtVeoHVk8H"
   },
   "source": [
    "## 1. The American Community Survey (ACS)\n",
    "\n",
    "The book \"Data and the American Dream\" by Matthew Holian replicates results from several published papers that analyzed the American Community Survey (ACS). Please read the excerpt from this book [found here](https://github.com/lederman/YData/raw/main/ClassMaterial/reading/data_and_the_american_dream_reading.pdf) in order to understand the ACS dataset, which is a dataset we will use on this, and a few subsequent homework assignments. \n",
    "\n",
    "While you are reading, please also write down one quote that you find interesting from the chapter. Then in the space below, write down the quote as well as a one paragraph description for why you thought the quote was interesting. "
   ]
  },
  {
   "cell_type": "markdown",
   "id": "52ec9a7e-70e1-4320-8a63-c58876bddc55",
   "metadata": {
    "id": "lp_jPUJmVk8M"
   },
   "source": [
    "**Question 1.1 (5 points)**  Please write down your \"quote and reaction\" here.\n",
    "\n",
    "*Quote:*  ...\n",
    "\n",
    "Reaction: ... \n",
    "\n"
   ]
  },
  {
   "cell_type": "markdown",
   "id": "c4bda4b5-26fb-4943-8c38-8355e44bc9ad",
   "metadata": {},
   "source": [
    "**Question 1.2 (6 points):** Please also write down 3 *interesting* quesitons that could potentially be addressed using the ACS data. "
   ]
  },
  {
   "cell_type": "markdown",
   "id": "f3c5b763-ee25-4d7a-8620-e8143109eb52",
   "metadata": {},
   "source": [
    "<font color='red'> \n",
    "\n",
    "**ANSWER**: \n",
    "  \n",
    "1. ...\n",
    "\n",
    "2. ...\n",
    "\n",
    "3. ...\n",
    "\n",
    "</font>"
   ]
  },
  {
   "cell_type": "markdown",
   "id": "2df289d8-ac79-41ee-ac25-fe6a65e4e138",
   "metadata": {},
   "source": [
    "## 2. Warmup: SAT or ACT? (5 points)\n",
    "\n",
    "SAT-Math scores are normally distributed with a mean of 500 and standard deviation of 100. ACT-Math scores are normally distributed with a mean of 18 and standard deviation of 6. \n",
    "\n",
    "A student has taken both tests. They scored 600 on the SAT-Math and 22 on the ACT-Math. Please calculate z-scores and print out these z-score values to \"show your work\". Then in the answer section, report which test score is most impressive. "
   ]
  },
  {
   "cell_type": "code",
   "execution_count": null,
   "id": "c6223b7b-5f1f-4f46-a869-58a361771f55",
   "metadata": {},
   "outputs": [],
   "source": [
    "# Answer:\n"
   ]
  },
  {
   "cell_type": "markdown",
   "id": "f3043ff9-5a3c-4d1a-813e-a6aff9fb33e3",
   "metadata": {},
   "source": [
    "<font color='red'> \n",
    "\n",
    "**ANSWER**: \n",
    "\n",
    "\n",
    "</font>"
   ]
  },
  {
   "cell_type": "markdown",
   "id": "198ae98c-569a-443a-9557-fe2dc3370356",
   "metadata": {
    "id": "T2j6gEFpVk8R"
   },
   "source": [
    "## 3. Analyzing categorical data using American Community Survey (ACS) data\n",
    "\n",
    "In part 1 of this homework you read an excerpt from \"Data and the American Dream\" which described the American Community Survey (ACS) data. Let's now calculate some statistics on this data. \n",
    "\n",
    "The code below loads ACS data from 10,000 randomly sampled participants into a \"pandas DataFrame\" which is a data structure that is useful for Table data (we will discuss pandas DataFrames in a couple of weeks). There is also code that converts this data into Python lists, which hopefully you are now familiar with. In particular, the code creates three lists which are:  \n",
    "\n",
    "- `hh_incomes`: contains the household income for each of the 10,000 randomly selected participants\n",
    "- `ages`: contains the ages for each of the 10,000 randomly selected participants\n",
    "- `sex`: contains the sex for each of the 10,000 randomly selected participants\n",
    "\n",
    "Note: these Python lists are in order, so that, for example, the first item of the `incomes` list comes from the same person as the first item in the `sex` list. \n"
   ]
  },
  {
   "cell_type": "code",
   "execution_count": 3,
   "id": "5c143781-a21c-406d-87d9-4b2cb5113a20",
   "metadata": {
    "id": "3wCzxt2MVk8R",
    "manual_problem_id": "nearsightedness_1"
   },
   "outputs": [
    {
     "data": {
      "text/html": [
       "<div>\n",
       "<style scoped>\n",
       "    .dataframe tbody tr th:only-of-type {\n",
       "        vertical-align: middle;\n",
       "    }\n",
       "\n",
       "    .dataframe tbody tr th {\n",
       "        vertical-align: top;\n",
       "    }\n",
       "\n",
       "    .dataframe thead th {\n",
       "        text-align: right;\n",
       "    }\n",
       "</style>\n",
       "<table border=\"1\" class=\"dataframe\">\n",
       "  <thead>\n",
       "    <tr style=\"text-align: right;\">\n",
       "      <th></th>\n",
       "      <th>YEAR</th>\n",
       "      <th>SAMPLE</th>\n",
       "      <th>SERIAL</th>\n",
       "      <th>CBSERIAL</th>\n",
       "      <th>NUMPREC</th>\n",
       "      <th>HHWT</th>\n",
       "      <th>HHTYPE</th>\n",
       "      <th>CLUSTER</th>\n",
       "      <th>CPI99</th>\n",
       "      <th>STATEFIP</th>\n",
       "      <th>...</th>\n",
       "      <th>CLASSWKR</th>\n",
       "      <th>CLASSWKRD</th>\n",
       "      <th>WKSWORK2</th>\n",
       "      <th>UHRSWORK</th>\n",
       "      <th>INCBUS00</th>\n",
       "      <th>INCEARN</th>\n",
       "      <th>SEI</th>\n",
       "      <th>MOVEDIN</th>\n",
       "      <th>QBPL</th>\n",
       "      <th>QINCWAGE</th>\n",
       "    </tr>\n",
       "  </thead>\n",
       "  <tbody>\n",
       "    <tr>\n",
       "      <th>0</th>\n",
       "      <td>2017</td>\n",
       "      <td>201701</td>\n",
       "      <td>250395</td>\n",
       "      <td>2017000834943</td>\n",
       "      <td>2</td>\n",
       "      <td>79</td>\n",
       "      <td>2</td>\n",
       "      <td>2017002503951</td>\n",
       "      <td>0.679</td>\n",
       "      <td>9</td>\n",
       "      <td>...</td>\n",
       "      <td>2</td>\n",
       "      <td>28</td>\n",
       "      <td>0</td>\n",
       "      <td>0</td>\n",
       "      <td>0</td>\n",
       "      <td>0</td>\n",
       "      <td>72</td>\n",
       "      <td>7</td>\n",
       "      <td>0</td>\n",
       "      <td>0</td>\n",
       "    </tr>\n",
       "    <tr>\n",
       "      <th>1</th>\n",
       "      <td>2017</td>\n",
       "      <td>201701</td>\n",
       "      <td>1062813</td>\n",
       "      <td>2017000532479</td>\n",
       "      <td>2</td>\n",
       "      <td>27</td>\n",
       "      <td>1</td>\n",
       "      <td>2017010628131</td>\n",
       "      <td>0.679</td>\n",
       "      <td>42</td>\n",
       "      <td>...</td>\n",
       "      <td>0</td>\n",
       "      <td>0</td>\n",
       "      <td>0</td>\n",
       "      <td>0</td>\n",
       "      <td>0</td>\n",
       "      <td>0</td>\n",
       "      <td>0</td>\n",
       "      <td>5</td>\n",
       "      <td>0</td>\n",
       "      <td>0</td>\n",
       "    </tr>\n",
       "    <tr>\n",
       "      <th>2</th>\n",
       "      <td>2017</td>\n",
       "      <td>201701</td>\n",
       "      <td>1235164</td>\n",
       "      <td>2017001001296</td>\n",
       "      <td>1</td>\n",
       "      <td>48</td>\n",
       "      <td>6</td>\n",
       "      <td>2017012351641</td>\n",
       "      <td>0.679</td>\n",
       "      <td>48</td>\n",
       "      <td>...</td>\n",
       "      <td>1</td>\n",
       "      <td>13</td>\n",
       "      <td>1</td>\n",
       "      <td>2</td>\n",
       "      <td>50</td>\n",
       "      <td>150</td>\n",
       "      <td>22</td>\n",
       "      <td>4</td>\n",
       "      <td>0</td>\n",
       "      <td>0</td>\n",
       "    </tr>\n",
       "    <tr>\n",
       "      <th>3</th>\n",
       "      <td>2017</td>\n",
       "      <td>201701</td>\n",
       "      <td>142278</td>\n",
       "      <td>2017000769070</td>\n",
       "      <td>3</td>\n",
       "      <td>50</td>\n",
       "      <td>1</td>\n",
       "      <td>2017001422781</td>\n",
       "      <td>0.679</td>\n",
       "      <td>6</td>\n",
       "      <td>...</td>\n",
       "      <td>2</td>\n",
       "      <td>22</td>\n",
       "      <td>3</td>\n",
       "      <td>35</td>\n",
       "      <td>0</td>\n",
       "      <td>17900</td>\n",
       "      <td>68</td>\n",
       "      <td>0</td>\n",
       "      <td>0</td>\n",
       "      <td>4</td>\n",
       "    </tr>\n",
       "    <tr>\n",
       "      <th>4</th>\n",
       "      <td>2017</td>\n",
       "      <td>201701</td>\n",
       "      <td>954089</td>\n",
       "      <td>2017000012970</td>\n",
       "      <td>5</td>\n",
       "      <td>15</td>\n",
       "      <td>1</td>\n",
       "      <td>2017009540891</td>\n",
       "      <td>0.679</td>\n",
       "      <td>39</td>\n",
       "      <td>...</td>\n",
       "      <td>1</td>\n",
       "      <td>13</td>\n",
       "      <td>2</td>\n",
       "      <td>21</td>\n",
       "      <td>1800</td>\n",
       "      <td>1800</td>\n",
       "      <td>26</td>\n",
       "      <td>0</td>\n",
       "      <td>0</td>\n",
       "      <td>0</td>\n",
       "    </tr>\n",
       "  </tbody>\n",
       "</table>\n",
       "<p>5 rows × 61 columns</p>\n",
       "</div>"
      ],
      "text/plain": [
       "   YEAR  SAMPLE   SERIAL       CBSERIAL  NUMPREC  HHWT  HHTYPE        CLUSTER  \\\n",
       "0  2017  201701   250395  2017000834943        2    79       2  2017002503951   \n",
       "1  2017  201701  1062813  2017000532479        2    27       1  2017010628131   \n",
       "2  2017  201701  1235164  2017001001296        1    48       6  2017012351641   \n",
       "3  2017  201701   142278  2017000769070        3    50       1  2017001422781   \n",
       "4  2017  201701   954089  2017000012970        5    15       1  2017009540891   \n",
       "\n",
       "   CPI99  STATEFIP  ...  CLASSWKR  CLASSWKRD  WKSWORK2  UHRSWORK  INCBUS00  \\\n",
       "0  0.679         9  ...         2         28         0         0         0   \n",
       "1  0.679        42  ...         0          0         0         0         0   \n",
       "2  0.679        48  ...         1         13         1         2        50   \n",
       "3  0.679         6  ...         2         22         3        35         0   \n",
       "4  0.679        39  ...         1         13         2        21      1800   \n",
       "\n",
       "   INCEARN  SEI  MOVEDIN  QBPL  QINCWAGE  \n",
       "0        0   72        7     0         0  \n",
       "1        0    0        5     0         0  \n",
       "2      150   22        4     0         0  \n",
       "3    17900   68        0     0         4  \n",
       "4     1800   26        0     0         0  \n",
       "\n",
       "[5 rows x 61 columns]"
      ]
     },
     "execution_count": 3,
     "metadata": {},
     "output_type": "execute_result"
    }
   ],
   "source": [
    "# This code loads the ACS data into a pandas DataFrame.\n",
    "# The cell contains code that hasn't been covered in the course yet but we will discuss it soon. \n",
    "\n",
    "import pandas as pd\n",
    "acs_data1 = pd.read_csv(\"ACS_2017_sample_01.csv\")\n",
    "acs_data1.head()\n"
   ]
  },
  {
   "cell_type": "code",
   "execution_count": null,
   "id": "b16ad97e-230a-443b-839a-585d92805a8d",
   "metadata": {
    "id": "TBeS0rPxVk8R",
    "manual_problem_id": "nearsightedness_1"
   },
   "outputs": [],
   "source": [
    "# This code converts pandas DataFrame data into Python lists so that we can analyze the data\n",
    "\n",
    "hh_incomes = acs_data1[\"HHINCOME\"].to_list()\n",
    "ages = acs_data1[\"AGE\"].to_list()\n",
    "sex = acs_data1[\"SEX\"].to_list()"
   ]
  },
  {
   "cell_type": "markdown",
   "id": "13331898-c99d-4f6f-b0f6-270589d4df6d",
   "metadata": {},
   "source": [
    "**Question 3.1 (3 points)** To start, let's get a little sense of the data. To do this, simply print the first 5 values from the `incomes`, `ages` and `sex` lists. Be sure to print exactly 5 elements."
   ]
  },
  {
   "cell_type": "code",
   "execution_count": null,
   "id": "4a0098eb-9478-4b62-afe8-72df47bfdead",
   "metadata": {
    "id": "EO1jtIv7Vk8R",
    "manual_problem_id": "nearsightedness_2"
   },
   "outputs": [],
   "source": [
    "# print the incomes, ages and sex of the first 5 people (and exactly 5)\n",
    "# Answer:\n",
    "\n"
   ]
  },
  {
   "cell_type": "markdown",
   "id": "56ac5b30-47fb-4e3d-92e1-a9e0b1b9546a",
   "metadata": {},
   "source": [
    "**Question 3.2 (4 points)** Let's now explore some categorical data related to the sex of individuals in our sample of data. Please create a name called `num_males` that has the number of males in the data set, and a name called `num_females` that has the number of females in the data set. Then print these values out to \"show your work\". \n",
    "\n",
    "Hint: Suppose you had a list called `my_list` with the following values: `my_list = [\"a\", \"b\", \"a\", \"a\", \"b\", \"a\", \"a\"]`. You could count how many times `\"a\"` occurs in this list using the following syntax: `my_list.count(\"a\")`\n"
   ]
  },
  {
   "cell_type": "code",
   "execution_count": null,
   "id": "409fcf98-0348-4ed6-9228-e4b08ea5ce3e",
   "metadata": {},
   "outputs": [],
   "source": [
    "# Answer:\n",
    "\n"
   ]
  },
  {
   "cell_type": "markdown",
   "id": "5c32ee84-7251-4028-b4dc-49feabe80aa9",
   "metadata": {},
   "source": [
    "**Question 3.3 (4 points)** Next let's calculate the *proportion* of people in our data sample who are female (recall that the proportion is the number in a category divided by the total number of items). Please calculate this value and print it out to \"show your work\". \n"
   ]
  },
  {
   "cell_type": "code",
   "execution_count": null,
   "id": "9d83596c-3bdc-4548-b1de-cef9428cc9c3",
   "metadata": {},
   "outputs": [],
   "source": [
    "# Answer\n"
   ]
  },
  {
   "cell_type": "markdown",
   "id": "8c27530f-a8cb-4cad-91ae-535212bc3baa",
   "metadata": {},
   "source": [
    "**Question 3.4 (4 points)** Now let's create a few visualizations of our categorical data. To start, please create a bar chart that plots the counts of the the number of males and females in the data set. As always, label your axes!"
   ]
  },
  {
   "cell_type": "code",
   "execution_count": null,
   "id": "735bb1a9-5264-46d2-b80d-f65b93904b7f",
   "metadata": {},
   "outputs": [],
   "source": [
    "import matplotlib.pyplot as plt\n",
    "%matplotlib inline\n",
    "\n",
    "#Answer:\n"
   ]
  },
  {
   "cell_type": "markdown",
   "id": "52b7ca75-7ff3-4d98-a15d-01750f79cf87",
   "metadata": {},
   "source": [
    "**Question 3.5 (5 points)** Finally, create a pie chart that displays the number of males and females. Also make sure that the sections of the pie chart are labeled to indicate which section corresponds to males and which corresponds to females. \n",
    "\n",
    "In the answer section below, report whether you think it is better to use a bar chart or a pie chart to visualize this data and explain your reason(s) why. "
   ]
  },
  {
   "cell_type": "code",
   "execution_count": null,
   "id": "5719263a-d9a2-4751-87f4-f081fb85dc30",
   "metadata": {},
   "outputs": [],
   "source": [
    "# Answer:\n"
   ]
  },
  {
   "cell_type": "markdown",
   "id": "13e53fbd-3e07-4153-bcf5-2bc590dfa758",
   "metadata": {},
   "source": [
    "<font color='red' >\n",
    "\n",
    "**ANSWER**: \n",
    "\n",
    "\n",
    "</font>"
   ]
  },
  {
   "cell_type": "markdown",
   "id": "de12ccd0-1102-4d8c-8a50-878e16ab498d",
   "metadata": {},
   "source": [
    "## 4. Exploring a single quantitative variable using the ACS data \n",
    "\n",
    "Let's continue to visualize and calculate statistics on quantiative data using our ACS data sample."
   ]
  },
  {
   "cell_type": "markdown",
   "id": "1fb1758e-086f-4356-9ee6-b06fdb9f6041",
   "metadata": {
    "id": "OBipRaYXVk8R",
    "manual_problem_id": "nearsightedness_2"
   },
   "source": [
    "**Question 4.1 (6 points)** To start, let's calculate the mean and the median of the `hh_incomes` values from our ACS data sample. \n",
    "\n",
    "To calculate the values of the mean and the median, we can use the `statistics` module which comes with current version of The Python Standard Library (if you are interested, a list of all the modules that come with current version of Python can be [found here](https://docs.python.org/3/library/)). The code below imports the `statistics` module, which will allow you to use the functions `statistics.mean()` and `statistics.median()` to calculate these statistics. \n",
    "\n",
    "Use the code section below to calculate and print these statistics. Then, in the text answer section below, report:\n",
    "1. The value of these statistics. \n",
    "2. Which gives a better sense of what one might describe as the \"typical\" income.\n",
    "3. Give (the most compelling) reason for why these statistics appear to be quite different using information from the \"Data and the American Dream\" reading. Creating a histogram of the income data could also be useful for gaining some insight into why the mean and median are different. \n"
   ]
  },
  {
   "cell_type": "code",
   "execution_count": null,
   "id": "3cbd1787-30e4-44ff-a623-ddb0ae6b8638",
   "metadata": {},
   "outputs": [],
   "source": [
    "import statistics"
   ]
  },
  {
   "cell_type": "code",
   "execution_count": null,
   "id": "a0a2ff0b-396a-4762-9319-1b478d1f4454",
   "metadata": {
    "id": "r_WfYxLvVk8R",
    "manual_problem_id": "nearsightedness_3"
   },
   "outputs": [],
   "source": [
    "# Answer:\n"
   ]
  },
  {
   "cell_type": "markdown",
   "id": "977e32b6-a76e-4145-b138-ae1013b7b34d",
   "metadata": {},
   "source": [
    "<font color='red'>\n",
    "\n",
    "**ANSWER**: \n",
    "\n",
    "\n",
    "    \n",
    "</font>\n"
   ]
  },
  {
   "cell_type": "markdown",
   "id": "ee40e0ed-51a1-46f3-bfce-86816211f75d",
   "metadata": {},
   "source": [
    "**Question 4.2 (8 points)** Now let's calculate the median **age** without using `median()` function. To do this, sort the values in the `ages` list using the list's `sort()` method, and then calculate the median from this sorted list. \n",
    "\n",
    "Note: the `list.sort()` method sorts the data \"in place\" where it overwrites the original data with the sorted data. If you wanted to keep the data in the original order, you would have to create a copy of the list using the lists' `copy()` method. You can sort in place here."
   ]
  },
  {
   "cell_type": "code",
   "execution_count": null,
   "id": "effc0d8b-d7e6-4ace-98a0-7427480948d8",
   "metadata": {},
   "outputs": [],
   "source": [
    "# Answer:\n"
   ]
  },
  {
   "cell_type": "markdown",
   "id": "d59032ce-006a-45cd-9dc1-2052ccb4352a",
   "metadata": {},
   "source": [
    "**Question 4.3 (3 points)** Finally, create a histogram of all the ages of people in the data set. As always, be sure to label your axes!\n"
   ]
  },
  {
   "cell_type": "code",
   "execution_count": null,
   "id": "0610154c-c1d1-43b2-af52-cefdeebbe2bd",
   "metadata": {},
   "outputs": [],
   "source": [
    "# Answer:\n",
    "\n"
   ]
  },
  {
   "cell_type": "markdown",
   "id": "8bb71b14-55eb-46b9-afd1-6da04a52c43c",
   "metadata": {},
   "source": [
    "## 5. Exploring the relationship between two quantitative variables using the ACS data \n",
    "\n",
    "Let's now visualize and calculate statistics on the relationship between two quantiative data using our ACS data sample. In particular, let's look at the relationship between the amount of rent paid and household income. \n",
    "\n",
    "To do this, we will *only use data from individual who pay rent, and who have a yearly household income of less than $200,000* (and all missing values will be omitted). \n",
    "\n",
    "The code below extracts lists that contain this information. In particular it creates the following lists:\n",
    "\n",
    "- `rent_amount`: The amount of rent paid\n",
    "- `hh_income_rent_payers`: The househould income of people who pay rent \n"
   ]
  },
  {
   "cell_type": "code",
   "execution_count": 4,
   "id": "fe555072-bef6-41b0-8973-c9bf16656e8c",
   "metadata": {},
   "outputs": [],
   "source": [
    "pays_rent_and_makes_under_200k = (acs_data1[\"RENT\"] != 0) &  (acs_data1[\"HHINCOME\"] < 200000)   # only respondants who pay rent\n",
    "\n",
    "rent_amount = acs_data1[\"RENT\"][pays_rent_and_makes_under_200k]  # amount of rent paid\n",
    "hh_income_rent_payers = acs_data1[\"HHINCOME\"][pays_rent_and_makes_under_200k]  # house hold income for those paying rent\n",
    "\n"
   ]
  },
  {
   "cell_type": "markdown",
   "id": "571a7857-a5ef-4e10-b314-1243f2135cd4",
   "metadata": {},
   "source": [
    "**Question 5.1 (3 points)** To start this question, please print out the number of people that are included in our `rent_amount` list (i.e., the number of people in our sample who paid rent and had a household income under $200,000)."
   ]
  },
  {
   "cell_type": "code",
   "execution_count": null,
   "id": "70e536b7-3cc2-4adc-929d-e46479fa688e",
   "metadata": {},
   "outputs": [],
   "source": [
    "# Answer:\n"
   ]
  },
  {
   "cell_type": "markdown",
   "id": "e72977cf-a900-45d0-a337-09bf6ab57752",
   "metadata": {},
   "source": [
    "**Question 5.2 (5 points)** Next, create a histogram of the amount of rent paid by individuals included in the `rent_amount` list. Make sure your histogram has 20 bins, and has black edges between the bars. \n",
    "\n",
    "From looking at the histogram, report in the answer section whether the mean or the median is larger?\n",
    "\n",
    "Reminder: As always, be sure to label your axes!\n"
   ]
  },
  {
   "cell_type": "code",
   "execution_count": null,
   "id": "c8be1b15-99a1-4a83-969c-eacdaab00216",
   "metadata": {},
   "outputs": [],
   "source": [
    "# Answer:\n",
    "\n"
   ]
  },
  {
   "cell_type": "markdown",
   "id": "03c53fad-ca6a-443f-8e12-e4e9bb79ab45",
   "metadata": {},
   "source": [
    "<font color='red'>\n",
    "\n",
    "**ANSWER**: \n",
    "\n",
    "</font>\n"
   ]
  },
  {
   "cell_type": "markdown",
   "id": "45108fd1-8ba9-4128-ae6b-1cb03c9a16d1",
   "metadata": {},
   "source": [
    "**Question 5.3 (5 points)** Now create a scatter plot where the household income is on the x-axis and the amount of rent paid is on the y-axis. <font color='red'>**Do not calculate the correlation yet**.</font> Instead, based on looking at this scatter plot, take your best guess at what would you think the correlation between household income and rent is. Then, in the answer section write down what your estimated correlation is.  \n",
    "\n",
    "Hint: If you're not confident in your ability to estimate correlations based on looking at scatter plots, you could try playing the [Guess the correlation game](https://www.stapplet.com/guesscorr.html)\n"
   ]
  },
  {
   "cell_type": "code",
   "execution_count": null,
   "id": "d855f77f-8e57-4069-b97f-f2a9d5f3ec58",
   "metadata": {},
   "outputs": [],
   "source": [
    "# Answer:\n"
   ]
  },
  {
   "cell_type": "markdown",
   "id": "5358adaa-a29c-4130-bdd3-a28e0b8b7f8b",
   "metadata": {},
   "source": [
    "<font color='red'>\n",
    "\n",
    "**ANSWER**: \n",
    "\n"
   ]
  },
  {
   "cell_type": "markdown",
   "id": "761a19c1-d9ed-4bcb-8585-a2f4bd51d38d",
   "metadata": {},
   "source": [
    "**Question 5.4 (5 points)** It is (likely) a bit hard to tell what the correlation is from looking at the scatter plot you created in the previous question. A few reasons that make it hard to read the prevouis scatter plot is because there is a lot of overplotting of the points and the rent values most frequently occur at particular values creating bands in the plot. Let's see if we can alleviate these problems and make the relationship a little easier to see by recreating out plot using the following additional arguments:\n",
    "\n",
    "1. Make each point in the scatter plot larger by setting the `markersize` argument to 50\n",
    "2. Make each point more transparent by setting the `alpha` argument to 0.01\n",
    "\n",
    "Once you created this plot, in the answer section: \n",
    "- Again write down in the answer section what your best guess of what you think the correlation between household income and rent is. \n",
    "- Briefly state if you think this new plot makes it easier to see the relationship. "
   ]
  },
  {
   "cell_type": "code",
   "execution_count": null,
   "id": "87bd3647-fbea-4aed-b4df-24972a4e6417",
   "metadata": {},
   "outputs": [],
   "source": [
    "# Answer\n"
   ]
  },
  {
   "cell_type": "markdown",
   "id": "1ac55128-3b3d-4e83-8625-a716f0a7af27",
   "metadata": {},
   "source": [
    "<font color='red'>\n",
    "\n",
    "**ANSWER**:  \n"
   ]
  },
  {
   "cell_type": "markdown",
   "id": "bf66b7e0-ff7c-4e80-95b6-0590c4f758da",
   "metadata": {},
   "source": [
    "**Question 5.5 (3 points)** Finally, please go ahead and actually calculate the correlation using the `statistics.correlation(x, y)` function. \n",
    "\n",
    "In the answer section, please briefly comment on whether you think your estimated correlations you reported above seemed good.\n"
   ]
  },
  {
   "cell_type": "code",
   "execution_count": null,
   "id": "4da83ab2-8ca2-411c-9247-454480ba6526",
   "metadata": {},
   "outputs": [],
   "source": [
    "# Answer\n"
   ]
  },
  {
   "cell_type": "markdown",
   "id": "2d369e67-3451-411f-9a6b-a61fed9f2916",
   "metadata": {},
   "source": [
    "<font color='red'>\n",
    "\n",
    "**ANSWER**: \n"
   ]
  },
  {
   "cell_type": "markdown",
   "id": "6d718b58-d360-4ad3-8e4b-19fca486ae5c",
   "metadata": {},
   "source": [
    "## Part 6: Explore your own question on the ACS data (5 points)\n",
    " \n",
    "In part 1 of this homework you wrote down three interesting questions that could be addressed using the ACS dataset. Now, please use Python to give some insight into one of the questions you posed by calculating statistics and/or creating plots of the data.   \n",
    "\n",
    "In the answer section below please describe: \n",
    "\n",
    "1. The question you are addressing\n",
    "2. How your analysis gives insight into the question\n",
    "3. Limitations of your analysis/plots.\n",
    "4. Any additional abilities you wish you had that would help you be able to better answer your question (e.g., you might wish you could limit the data to only a subset of the data, etc.). \n",
    "\n",
    "As always, be sure to \"show your work\" by printing out relevant values, and also make sure your code is easy to understand by *using meaningful names* and by *adding comments*. \n",
    "\n",
    "Notes: \n",
    "\n",
    "1. To better understand the data, please refer to the codebooks in \"Data and the American Dream\" the more comprehensive codebook found at: https://usa.ipums.org/usa/volii/codebooks.shtml. Also, note that sometimes the information in these cookbooks does not exactly correspond to the data we have, so if it is unclear what levels of particular variables mean, you can just say this when you describe your results. \n",
    "\n",
    "2. It could be useful to extract additional lists of data from the `acs_data1` DataFrame. For example, you might want to create a list that has the number of rooms in each person's house. To do this, please look at the code that created the list of `incomes`, `ages`, `sex` above, and if you can't figure it out please ask questions on Ed. Later in the semseter we will discuss exactly how this code works, but for how you can \"hack\" your way to creating relevant lists of data without fully understanding this one piece of code. \n",
    "\n",
    "3. There is a fair amount freedom to the degree that you challenge yourself here, and we will be relatively relaxed on the grading of this question. If you find the questions in this homework were easy, feel free to read about additional features of Python (e.g., how to change the colors in plots, etc.) and experiment with these features to challenge yourself. At the moment we are a bit limited in the types of analyses since we have just started learning the basics of Python, but soon we will learn more methods that will allow you to answer much more interesting questions. \n",
    "  "
   ]
  },
  {
   "cell_type": "code",
   "execution_count": null,
   "id": "aeae5c43-e303-4e05-9e30-2b03251eb36e",
   "metadata": {},
   "outputs": [],
   "source": [
    "#Answer:\n"
   ]
  },
  {
   "cell_type": "markdown",
   "id": "68a50d73-09d8-41d3-96a5-6b8dc1352c83",
   "metadata": {},
   "source": [
    "<font color='red'>\n",
    "\n",
    "**ANSWER**: \n",
    "    \n",
    "1. The question I am addressing is ...\n",
    "\n",
    "2. To address this question ...\n",
    "\n",
    "3.  ...\n",
    "\n",
    "</font>"
   ]
  },
  {
   "cell_type": "markdown",
   "id": "63f3efdf-44b6-4e20-8410-870aa4abb531",
   "metadata": {},
   "source": [
    "## 7. Reflection (3 points)\n",
    "\n",
    "Please reflect on how the homework went by going to Canvas, going to the Quizzes link, and clicking on *Reflection on homework 2*."
   ]
  },
  {
   "cell_type": "markdown",
   "id": "8e284763-019b-40e9-81fa-157929ed7918",
   "metadata": {},
   "source": [
    "## 8. Submission\n",
    "\n",
    "**Once you are done, restart the kernel and rerun your code. Make sure that everything still works! We will deduct points for not doing this.**\n",
    "\n",
    "Once you're finished filling in and running all cells, you should submit your assignment as a .pdf on Gradescope. You can access Gradescope through Canvas on the left-side of the class home page. The problems in each homework assignment are numbered. **NOTE:** When submitting on Gradescope, please select the correct pages of your pdf that correspond to each problem. Failure to mark pages correctly will result in points being deducted from your homework score.\n",
    "\n",
    "If you are running Jupyter Notebooks through an Anaconda installation on your own computer, you can produce the .pdf by completing the following steps:  \n",
    "1.  Go to \"File\" at the top-left of your Jupyter Notebook\n",
    "2.  Under \"Download as\" (or \"Save and Export Notebook As...\") and select \"HTML (.html)\"\n",
    "3.  After the .html has downloaded, open it and then select \"File\" and \"Print\" (note you will not actually be printing)\n",
    "4.  From the print window, select the option to save as a .pdf\n",
    "\n",
    "If you are running the assignment in a Google Colabs, you can use the following instructions: \n",
    "1.  Go to \"File\" at the top-left of your Jupyter Notebook and select \"File\" and \"Print\" (note you will not actually be printing)\n",
    "2. From the print window, select the option to save as a .pdf\n",
    "3. Be sure to look over the pdf file to make sure all your code and written work is saved in a clear way.\n",
    "\n"
   ]
  },
  {
   "cell_type": "code",
   "execution_count": null,
   "id": "b0e54b3e-26e0-4f4a-bb30-198baf6ab765",
   "metadata": {},
   "outputs": [],
   "source": []
  }
 ],
 "metadata": {
  "kernelspec": {
   "display_name": "Python 3 (ipykernel)",
   "language": "python",
   "name": "python3"
  },
  "language_info": {
   "codemirror_mode": {
    "name": "ipython",
    "version": 3
   },
   "file_extension": ".py",
   "mimetype": "text/x-python",
   "name": "python",
   "nbconvert_exporter": "python",
   "pygments_lexer": "ipython3",
   "version": "3.13.1"
  }
 },
 "nbformat": 4,
 "nbformat_minor": 5
}
