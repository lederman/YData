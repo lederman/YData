{
 "cells": [
  {
   "cell_type": "markdown",
   "metadata": {},
   "source": [
    "# Homework 3: Arrays computations - v2\n",
    "\n",
    "Welcome to the third homework! Please complete this notebook by filling in the cells provided. For all problems that you must write explanations and sentences for, please provide your answer in the designated space. \n",
    "\n",
    "**Recommended Reading**: \n",
    "\n",
    "* [Brett M (2020)](https://matthew-brett.github.io/dsfe/chapters/01/intro) sections 3.4-3.7.\n",
    "* Also see chapter 4 of [McKinney (2022)](https://wesmckinney.com/book/numpy-basics) as a reference for a lot more information. \n",
    "\n",
    "**Deadline:**\n",
    "\n",
    "This assignment is due <del>Friday Feb 7th</del> **Sunday Feb 9th at 11pm.** You can turn in the assignment up to 24 hours late for 90% credit (after that, the homework will only be accepted with a dean's excuse). \n",
    "\n",
    "Directly sharing answers is not okay, but discussing problems with the course staff or with other students is encouraged. Refer to the policies page to learn more about how to learn cooperatively.\n",
    "\n",
    "You should start early so that you have time to get help if you're stuck. The drop-in office hours schedule can be found on Canvas. You can also post questions or start discussions on Ed Discussion.\n"
   ]
  },
  {
   "cell_type": "markdown",
   "metadata": {},
   "source": [
    "## Getting started\n",
    "\n",
    "In order to complete the homework it is necessary to download a few files. Please run the code below **only once** to download data needed to complete the homework. To run the code, click in the cell below and press the play buttom (or press shift-enter). "
   ]
  },
  {
   "cell_type": "code",
   "execution_count": null,
   "metadata": {},
   "outputs": [],
   "source": [
    "# if you are running this notebook in colabs, please uncomment and run the following two lines\n",
    "# !pip install https://github.com/lederman/YData_package/tarball/master"
   ]
  },
  {
   "cell_type": "code",
   "execution_count": null,
   "metadata": {},
   "outputs": [],
   "source": [
    "# Please run this code once to download the files you will need to complete the homework \n",
    "\n",
    "import YData \n",
    "\n",
    "YData.download.download_data(\"ACS_2017_sample_01.csv\")\n",
    "YData.download.download_data(\"temperatures.csv\")\n",
    "YData.download.download_data(\"world_population.csv\")\n",
    "YData.download.download_data(\"old_faithful.csv\")\n",
    "\n",
    "YData.download_image(\"array_cumsum.png\")\n",
    "YData.download_image(\"array_diff.png\")\n",
    "YData.download_image(\"salovey.png\")"
   ]
  },
  {
   "cell_type": "markdown",
   "metadata": {},
   "source": [
    "## 0. Quote and reaction\n",
    "\n",
    "As you know, in class we have been analyzing data on movies related to the Bechdel test. This data comes from a FiveThirtyEight article [The Dollar-And_Cents Case aginst Hollywood's Exclusion of Women](https://fivethirtyeight.com/features/the-dollar-and-cents-case-against-hollywoods-exclusion-of-women/). To understand how the data set we have been analyzing was created, and to see how data journalists have analyzed this data, please read the original article. In the space below, please write down a quote you found of interest from the article along as well as a one paragraph description for why you thought the quote was interesting. \n"
   ]
  },
  {
   "cell_type": "markdown",
   "metadata": {},
   "source": [
    "**Question 0.1 (5 points)**  Please write down your \"quote and reaction\" here.\n",
    "\n",
    "*Quote:*  ...\n",
    "\n",
    "Reaction: ... "
   ]
  },
  {
   "cell_type": "code",
   "execution_count": null,
   "metadata": {},
   "outputs": [],
   "source": [
    "# This cell imports functions from packages we will use below.\n",
    "# Please run it each time you load the Jupyter notebook\n",
    "\n",
    "import numpy as np\n",
    "import pandas as pd\n",
    "import matplotlib.pyplot as plt\n",
    "from imageio.v3 import imread\n",
    "\n",
    "%matplotlib inline"
   ]
  },
  {
   "cell_type": "markdown",
   "metadata": {},
   "source": [
    "## 1. Creating Arrays\n"
   ]
  },
  {
   "cell_type": "markdown",
   "metadata": {},
   "source": [
    "**Question 1.1 (3 points)** Make a numpy array called `weird_numbers` containing the following numbers (in the given order):\n",
    "\n",
    "1. -2\n",
    "2. the sine of 1.2\n",
    "3. 3\n",
    "4. 5 to the power of the cosine of 1.2\n",
    "\n",
    "*Hint:* `sin()` and `cos()` are functions in the `np` module.  "
   ]
  },
  {
   "cell_type": "code",
   "execution_count": null,
   "metadata": {},
   "outputs": [],
   "source": [
    "# Answer:\n",
    "weird_numbers = ...\n",
    "weird_numbers"
   ]
  },
  {
   "cell_type": "markdown",
   "metadata": {},
   "source": [
    "**Question 1.2 (2 points)** Make a numpy array called `book_title_words` containing the following three strings: \"Eats\", \"Shoots\", and \"and Leaves\"."
   ]
  },
  {
   "cell_type": "code",
   "execution_count": null,
   "metadata": {},
   "outputs": [],
   "source": [
    "# Answer:\n",
    "book_title_words = ...\n",
    "book_title_words"
   ]
  },
  {
   "cell_type": "markdown",
   "metadata": {},
   "source": [
    "As we have previously discussed, strings have a method called `join`.  `join` takes one argument, an array of strings.  It returns a single string.  Specifically, the value of `a_string.join(an_array)` is a single string that's the [concatenation](https://en.wikipedia.org/wiki/Concatenation) (\"putting together\") of all the strings in `an_array`, **except** `a_string` is inserted in between each string. The `.join()` method works for ndarrays of strings as well as for lists of strings. Let's explore this now.\n",
    "\n",
    "**Question 1.3 (3 points)** Use the array `book_title_words` and the method `join` to make two strings:\n",
    "\n",
    "1. \"Eats, Shoots, and Leaves\" (call this one `with_commas`)\n",
    "2. \"Eats Shoots and Leaves\" (call this one `without_commas`)\n",
    "\n",
    "*Hint:* If you're not sure what `join` does, first try just calling, for example, `\"yale\".join(book_title_words)` ."
   ]
  },
  {
   "cell_type": "code",
   "execution_count": null,
   "metadata": {},
   "outputs": [],
   "source": [
    "# Answer:\n",
    "with_commas = ...\n",
    "without_commas = ..."
   ]
  },
  {
   "cell_type": "code",
   "execution_count": null,
   "metadata": {},
   "outputs": [],
   "source": [
    "# These lines are provided just to print out your answers.\n",
    "print('with_commas:', with_commas)\n",
    "print('without_commas:', without_commas)"
   ]
  },
  {
   "cell_type": "markdown",
   "metadata": {},
   "source": [
    "## 2. Basic Array Arithmetic\n"
   ]
  },
  {
   "cell_type": "markdown",
   "metadata": {},
   "source": [
    "**Question 2.1 (3 points)** Multiply each of the following numbers by 157: 42, 4224, 42422424, and -250.  For this question, **don't** use arrays."
   ]
  },
  {
   "cell_type": "code",
   "execution_count": null,
   "metadata": {},
   "outputs": [],
   "source": [
    "# Answer:\n",
    "...\n"
   ]
  },
  {
   "cell_type": "markdown",
   "metadata": {},
   "source": [
    "**Question 2.2 (3 points)** Now, do the same calculation, but using an array called `numbers` and only a single multiplication (`*`) operator.  Store the 4 results in an array named `products`."
   ]
  },
  {
   "cell_type": "code",
   "execution_count": null,
   "metadata": {},
   "outputs": [],
   "source": [
    "# Answer:\n",
    "..."
   ]
  },
  {
   "cell_type": "markdown",
   "metadata": {},
   "source": [
    "**Question 2.3 (3 points)** Oops, we made a typo!  Instead of 157, we wanted to multiply each number by 1577.  Compute the fixed products in the cell below using array arithmetic.  Notice that your job is really easy if you previously defined an array `numbers` containing the 4 numbers."
   ]
  },
  {
   "cell_type": "code",
   "execution_count": null,
   "metadata": {},
   "outputs": [],
   "source": [
    "# Answer:\n",
    "...\n",
    "\n",
    "fixed_products"
   ]
  },
  {
   "cell_type": "markdown",
   "metadata": {},
   "source": [
    "**Question 2.4 (4 points)** We've loaded an array of temperatures in the next cell.  Each number is the highest temperature observed on a day at a climate observation station, mostly from the US.  Since they're from the US government agency [NOAA](https://www.noaa.gov), all the temperatures are in Fahrenheit.  Convert them all to Celsius by first subtracting 32 from them, then multiplying the results by $\\frac{5}{9}$. Make sure to **ROUND** each result to the nearest integer using the `np.round` function."
   ]
  },
  {
   "cell_type": "code",
   "execution_count": null,
   "metadata": {},
   "outputs": [],
   "source": [
    "max_temperatures = np.array(pd.read_csv(\"temperatures.csv\")[\"Daily Max Temperature\"])"
   ]
  },
  {
   "cell_type": "code",
   "execution_count": null,
   "metadata": {},
   "outputs": [],
   "source": [
    "# Answer:\n",
    "celsius_max_temperatures = ...\n",
    "celsius_max_temperatures"
   ]
  },
  {
   "cell_type": "markdown",
   "metadata": {},
   "source": [
    "**Question 2.5 (4 points)** The cell below loads all the *lowest* temperatures from each day (in Fahrenheit).  Compute the size of the daily temperature range for each day.  That is, compute the difference between each daily maximum temperature and the corresponding daily minimum temperature.  **Keep your answer in Fahrenheit** Make sure **NOT** to round your answer for this question!"
   ]
  },
  {
   "cell_type": "code",
   "execution_count": null,
   "metadata": {},
   "outputs": [],
   "source": [
    "min_temperatures = np.array(pd.read_csv(\"temperatures.csv\")[\"Daily Min Temperature\"])"
   ]
  },
  {
   "cell_type": "code",
   "execution_count": null,
   "metadata": {},
   "outputs": [],
   "source": [
    "# Answer\n",
    "temperature_ranges = ...\n",
    "temperature_ranges"
   ]
  },
  {
   "cell_type": "markdown",
   "metadata": {},
   "source": [
    "## 3. World Population\n"
   ]
  },
  {
   "cell_type": "markdown",
   "metadata": {},
   "source": [
    "The cell below loads a table of estimates of the world population for different years, starting in 1950 and displays the first 4 rows of the data. The estimates come from the [US Census Bureau website](https://www.census.gov/en.html)."
   ]
  },
  {
   "cell_type": "code",
   "execution_count": null,
   "metadata": {},
   "outputs": [],
   "source": [
    "# Loading the data in a pandas DataFrame. We will discuss these DataFrames soon. \n",
    "world = pd.read_csv(\"world_population.csv\")[['Year', 'Population']]\n",
    "world.head(4)"
   ]
  },
  {
   "cell_type": "markdown",
   "metadata": {},
   "source": [
    "The name `population` is assigned to a numpy array of population estimates."
   ]
  },
  {
   "cell_type": "code",
   "execution_count": null,
   "metadata": {},
   "outputs": [],
   "source": [
    "population = np.array(world[\"Population\"])    \n",
    "population"
   ]
  },
  {
   "cell_type": "markdown",
   "metadata": {},
   "source": [
    "In this question, you will apply some built-in Numpy functions to this array. \n",
    "\n",
    "Note: if the images below do not appear, please close and reopen your Jupyter notebook. "
   ]
  },
  {
   "cell_type": "markdown",
   "metadata": {},
   "source": [
    "<img src=\"array_diff.png\" style=\"width: 600px;\"/>\n",
    "\n",
    "The difference function `np.diff` subtracts each element in an array by the element that preceeds it. As a result, the length of the array `np.diff` returns will always be one less than the length of the input array."
   ]
  },
  {
   "cell_type": "markdown",
   "metadata": {},
   "source": [
    "<img src=\"array_cumsum.png\" style=\"width: 700px;\"/>\n",
    "\n",
    "The cumulative sum function `np.cumsum` outputs an array of partial sums. For example, the third element in the output array corresponds to the sum of the first, second, and third elements."
   ]
  },
  {
   "cell_type": "markdown",
   "metadata": {},
   "source": [
    "**Question 3.1 (3 points)** Very often in data science, we are interested in understanding how values change with time. Use `np.diff` and `np.max` (or just `max`) to calculate the largest annual change in population between any two consecutive years."
   ]
  },
  {
   "cell_type": "code",
   "execution_count": null,
   "metadata": {},
   "outputs": [],
   "source": [
    "# Answer:\n",
    "largest_population_change = ...\n",
    "largest_population_change"
   ]
  },
  {
   "cell_type": "markdown",
   "metadata": {},
   "source": [
    "**Question 3.2 (8 points)** In class we discussed the *standard devation* as a statistic that can measure how much values vary. As you will recall, the formula for the standard deviation is: $$s = \\sqrt{\\frac{1}{n -1} \\sum_{i =1}^n (x_i - \\bar{x})^2 }$$.\n",
    "\n",
    "As you also recall, we can calculate the standard deviation in Python using either the `statistics` module's standard deviation function `statistics.stdev()` or using the numpy function `np.std()`. Let's now see if we can calcualte the standard deviation of the population size from year to use, *without using either of these functions*, and instead just using numpy operations. To do this, please complete the following steps:\n",
    "\n",
    "1. Calculate the mean (average) population size and store the result in the name `mean_pop`. Do this using only numpy operations as well; i.e., without using statistics.mean() or np.mean(). In other words, you can use any numpy functions EXCEPT np.mean() to do this.\n",
    "\n",
    "2. Create an array of values that has the yearly deviations, which are each year's population size minus the overall mean population size calculated across all years (i.e., the value you calculated in step 1). Store this result in the name `yearly_deviations`. \n",
    "\n",
    "3. Next calculate the sum of the squared deviations. To do this, first square all the yearly deviation values (to make them position) and then sum them together. Store the result in the name `sum_squared_deviations`.\n",
    "\n",
    "4. Divide this `sum_squared_deviations` by the total number of years in the data minus 1 (i.e., by $n - 1$). Save this result in the name `yearly_variance`.\n",
    "\n",
    "5. Finally, take the square root of the yearly variance to calculate the standard deviation and print out this value to \"show your work\". \n"
   ]
  },
  {
   "cell_type": "code",
   "execution_count": null,
   "metadata": {},
   "outputs": [],
   "source": [
    "# Answer:\n",
    "\n",
    "# Calculate the mean population size\n",
    "mean_pop = ...\n",
    "\n",
    "# Calculate the each year's deviation from the mean value\n",
    "yearly_deviations = ...\n",
    "\n",
    "# Calculate the sum of the squared deviations\n",
    "sum_squared_deviations = ...\n",
    "\n",
    "# Calculate the variance\n",
    "yearly_variance = ...\n",
    "\n",
    "# Print out the standard deviation\n",
    "...\n"
   ]
  },
  {
   "cell_type": "markdown",
   "metadata": {},
   "source": [
    "**Question 3.3 (5 points)** Now compare the value you calculated for the standard deviation in Question 3.2, with using the `np.std()` function and to the `statistics.stdev()` function.In particular, print out the standard deviation's calculated using both these functions in the cell below. \n",
    "\n",
    "In the answer section below, report if all these values the same (if they are different, you do not need to explain why, but if you're interested you can try using Google to see if you can come up with a reason). \n",
    "\n",
    "Note: In order to use the `statistics.stdev()` function the data must be in a list, rather than in a numpy array. You can convert a numpy array to a list using the `.tolist()` method on the numpy array. "
   ]
  },
  {
   "cell_type": "code",
   "execution_count": null,
   "metadata": {},
   "outputs": [],
   "source": [
    "import statistics"
   ]
  },
  {
   "cell_type": "code",
   "execution_count": null,
   "metadata": {},
   "outputs": [],
   "source": [
    "print(f\"np.std(): {np.std(population)}\".rjust(50))\n",
    "\n",
    "print(f\"statistics.stdev(): {statistics.stdev(population.tolist())}\".rjust(50))\n",
    "\n",
    "print(f\"np.std() with ddof = 1: {np.std(population, ddof =1)}\".rjust(50))"
   ]
  },
  {
   "cell_type": "markdown",
   "metadata": {},
   "source": [
    "<font color='red'> **ANSWER**: \n",
    "\n"
   ]
  },
  {
   "cell_type": "markdown",
   "metadata": {},
   "source": [
    "## 4. Old Faithful\n"
   ]
  },
  {
   "cell_type": "markdown",
   "metadata": {},
   "source": [
    "Old Faithful is a geyser in Yellowstone that erupts every 44 to 125 minutes (according to [Wikipedia](https://en.wikipedia.org/wiki/Old_Faithful)). People are [often told that the geyser erupts every hour](http://yellowstone.net/geysers/old-faithful/), but in fact the waiting time between eruptions is more variable. Let's take a look."
   ]
  },
  {
   "cell_type": "markdown",
   "metadata": {},
   "source": [
    "**Question 4.1 (3 points)** The first line below assigns `waiting_times` to an array of 272 consecutive waiting times between eruptions, taken from a classic 1938 dataset. Assign the names `shortest`, `longest`, and `average` so that the `print` statement is correct. (*Hint:* You can round average waiting time to 3 decimal places.)"
   ]
  },
  {
   "cell_type": "code",
   "execution_count": null,
   "metadata": {},
   "outputs": [],
   "source": [
    "waiting_times = np.array(pd.read_csv('old_faithful.csv')['waiting'].to_list())"
   ]
  },
  {
   "cell_type": "code",
   "execution_count": null,
   "metadata": {},
   "outputs": [],
   "source": [
    "# Answer:\n",
    "shortest = ...\n",
    "longest = ...\n",
    "average = ..."
   ]
  },
  {
   "cell_type": "code",
   "execution_count": null,
   "metadata": {},
   "outputs": [],
   "source": [
    "print(\"Old Faithful erupts every\", shortest, \"to\", longest, \"minutes and every\", average, \"minutes on average.\")"
   ]
  },
  {
   "cell_type": "markdown",
   "metadata": {},
   "source": [
    "**Question 4.2 (3 points)** Assign `biggest_decrease` to the biggest decrease in waiting time between two consecutive eruptions. For example, the third eruption occurred after 74 minutes and the fourth after 62 minutes, so the decrease in waiting time was 74 - 62 = 12 minutes. \n",
    "\n",
    "*Hint*:  The function you use may report positive or negative values.  You will have to determine if the biggest decrease corresponds to the highest or lowest value.  Ultimately, we want to return the absolute value of the biggest decrease so the final answer is positive."
   ]
  },
  {
   "cell_type": "code",
   "execution_count": null,
   "metadata": {},
   "outputs": [],
   "source": [
    "# Answer:\n",
    "\n",
    "biggest_decrease = ...\n",
    "biggest_decrease"
   ]
  },
  {
   "cell_type": "markdown",
   "metadata": {},
   "source": [
    "**Question 4.3 (4 points)** If you expected Old Faithful to erupt every hour, you would expect to wait a total of `60 * k` minutes to see `k` eruptions. Set `difference_from_expected` to an array with 272 elements, where the element at index `i` is the absolute difference between the expected and actual total amount of waiting time to see the first `i+1` eruptions. \n",
    "\n",
    "For example, since the first three waiting times are 79, 54, and 74, the total waiting time for 3 eruptions is 79 + 54 + 74 = 207. The expected waiting time for 3 eruptions is 60 * 3 = 180. Therefore, `difference_from_expected[2]` should be $|207 - 180| = 27$.\n",
    "\n",
    "*Hint*: You'll need to compare cumulative sum to a range. `np.cumsum` and `np.arange` might be useful."
   ]
  },
  {
   "cell_type": "code",
   "execution_count": null,
   "metadata": {},
   "outputs": [],
   "source": [
    "# Answer:\n",
    "difference_from_expected = ...\n",
    "difference_from_expected"
   ]
  },
  {
   "cell_type": "markdown",
   "metadata": {},
   "source": [
    "**Question 4.4 (4 points)** If instead you guess that each waiting time will be the same as the previous waiting time, how many minutes would your guess differ from the actual time, averaging over every wait time except the first one?\n",
    "\n",
    "For example, suppose we only had 4 waiting times which were the first for values in our `waiting_times` array; i.e., 79, 54, and 74, and 62. Then the average difference between your guesses and the actual waiting times would be $\\frac{|79-54|+ |54-74| + |74 - 62|}{3} = 19.0$."
   ]
  },
  {
   "cell_type": "code",
   "execution_count": null,
   "metadata": {},
   "outputs": [],
   "source": [
    "# Answer:\n",
    "average_error = ...\n",
    "average_error"
   ]
  },
  {
   "cell_type": "markdown",
   "metadata": {},
   "source": [
    "## 5. Selecting values through Boolean indexing\n",
    "\n",
    "As we discussed in class, one way to select elements is through Boolean indexing (also called Boolean masking). Suppose we have a ndarray of values called `my_array`. Then if we have an ndarray of Booleans called `my_booleans` that is the same size as `my_array`, then using `my_array[my_booleans]` will return all the values in `my_array` where the values of `my_booleans` are `True`. \n",
    "\n",
    "The code below loads the ACS data from homework 1 and creates lists for the earned income and sex variables. Let's explore how Boolean masking can be useful using this data.\n"
   ]
  },
  {
   "cell_type": "code",
   "execution_count": null,
   "metadata": {},
   "outputs": [],
   "source": [
    "acs_data1 = pd.read_csv(\"ACS_2017_sample_01.csv\")\n",
    "\n",
    "# This code converts polars DataFrame data into Python lists so that we can analyze the data\n",
    "earned_incomes = acs_data1[\"INCEARN\"].to_list()\n",
    "sex = acs_data1[\"SEX\"].to_list()\n",
    "\n",
    "acs_data1.head()"
   ]
  },
  {
   "cell_type": "markdown",
   "metadata": {},
   "source": [
    "**Question 5.1 (3 point)** To start with, please convert the `earned_incomes` list into an ndarray called `earned_incomes_array`. Likewise, convert the `sex` list into an array called `sex_array`. Hint: using the `np.array()` function could be helpful here. "
   ]
  },
  {
   "cell_type": "code",
   "execution_count": null,
   "metadata": {},
   "outputs": [],
   "source": [
    "# Answer:\n",
    "# create numpy arrays of our data\n",
    "earned_incomes_array = ...\n",
    "sex_array = ..."
   ]
  },
  {
   "cell_type": "markdown",
   "metadata": {},
   "source": [
    "**Question 5.2 (3 point)** Next, create an array of Booleans called `male_indicators` that has `True` values when the `sex_array` indicates a male, and `False` when the `sex_array` values indicates a female. Likewise create an array called `female_indicators` that has `True` values when the `sex_array` indicates a female, and `False` when the `sex_array` values indicates a male. Print the first 5 entries of the `female_indicators` array to show your code is working correctly. "
   ]
  },
  {
   "cell_type": "code",
   "execution_count": null,
   "metadata": {},
   "outputs": [],
   "source": [
    "# Answer:\n",
    "# get indicators for males and females\n",
    "male_indicators = ..\n",
    "female_indicators = ...\n",
    "\n",
    "..."
   ]
  },
  {
   "cell_type": "markdown",
   "metadata": {},
   "source": [
    "**Question 5.3 (4 point)**. Now let's create an ndarrays called `male_incomes` that has only the earned incomes from males. Likewise, create an ndarrays called `female_incomes` that has only the earned incomes from females. Print out the number of elements in both these arrays to show your code is working correctly. "
   ]
  },
  {
   "cell_type": "code",
   "execution_count": null,
   "metadata": {},
   "outputs": [],
   "source": [
    "# Answer:\n",
    "\n",
    "# get numpy arrays of males and females\n",
    "\n",
    "# get male incomes and female incomes\n",
    "male_incomes = ...\n",
    "female_incomes = ...\n",
    "\n",
    "print(male_incomes.shape)  # or len(male_incomes)\n",
    "print(female_incomes.shape)  # or len(male_incomes)"
   ]
  },
  {
   "cell_type": "markdown",
   "metadata": {},
   "source": [
    "**Question 5.4 (3 point)** Finally, print the mean earned incomes for males and for females and print these values (rounded to have no decimal places). "
   ]
  },
  {
   "cell_type": "code",
   "execution_count": null,
   "metadata": {},
   "outputs": [],
   "source": [
    "# Answer:\n",
    "\n",
    "# get mean values for male and female incomes\n",
    "mean_values = ...\n",
    "\n",
    "...\n"
   ]
  },
  {
   "cell_type": "markdown",
   "metadata": {},
   "source": [
    "## 6. Image manipulation\n",
    "\n",
    "As we also discussed in class, we can use Boolean indexing on higher dimensions ndarray, such as digital images. The code below loads a (slightly older) image of the former president of Yale, Peter Salovey. Let's explore Boolean masking and image manipulation on this image to make Salovey's mustache blue. \n",
    "\n",
    "To do this we will create a series of Boolean masks that isolate where Salovey's mustache is located; i.e., the final mask will be a matrix that is the size of the original image of Salovey, and will have values of `True` where his mustache is located, and `False` in regions that do not contain his mustache. We will then use this mask to turn the `True` pixel's blue. \n"
   ]
  },
  {
   "cell_type": "code",
   "execution_count": null,
   "metadata": {},
   "outputs": [],
   "source": [
    "salovey_img = imread(\"salovey.png\");\n",
    "plt.imshow(salovey_img);"
   ]
  },
  {
   "cell_type": "markdown",
   "metadata": {},
   "source": [
    "**Question 6.1 (3 point)** To start with please print out the size of the image in terms of its length, width and color depth, and also print out the total number of pixels in the image. "
   ]
  },
  {
   "cell_type": "code",
   "execution_count": null,
   "metadata": {},
   "outputs": [],
   "source": [
    "# Answer:\n",
    "\n",
    "# the length, width and color depth of the image\n",
    "...\n",
    "\n",
    "# the total number of pixels\n",
    "..."
   ]
  },
  {
   "cell_type": "markdown",
   "metadata": {},
   "source": [
    "**Question 6.2 (3 point):** Let's now create a grayscale image of Salovey. We can do this by averaging (i.e., take the mean) of the image over the 3rd dimension which is the color dimension using `np.mean(img, axis)` where `img` is our image and `axis` is the axis we are averaging over. \n",
    "\n",
    "Please take the mean over the color dimension and save the result to the name `salovey_mean`. Then use `plt.imshow(img, cmap = 'gray')` to display the grayscale image to show that your averaging worked correctly. "
   ]
  },
  {
   "cell_type": "code",
   "execution_count": null,
   "metadata": {},
   "outputs": [],
   "source": [
    "# Answer:\n",
    "\n",
    "# take the mean over the color dimenion of the image to create a gray scale image\n",
    "salovey_mean = ...\n",
    "\n",
    "# display the image\n",
    "..."
   ]
  },
  {
   "cell_type": "markdown",
   "metadata": {},
   "source": [
    "**Question 6.3 (3 point):**  Let's now create Boolean array called `dark_pixel_mask` that has all the dark pixels in the grayscale image marked as `True` and the light pixels marked as `False` We will call a pixel \"dark\" if it has a value less than 75. I.e., you will create an ndarray the same size as the grayscale image that has only Boolean values, where values are `True` if a grayscale pixel value at the corresponding location in the grayscale image had a value less than 75, and `False` otherwise. \n",
    "\n",
    "Once you have done this, again `plt.imshow()` to display the `dark_pixel_mask`. When displaying the `dark_pixel_mask`, use the `~` symbol to turn reverse the `True`'s and `False` which will make the dark pixels appear black (if you did this correctly, the dark pixels which should include Salovey's mustache). "
   ]
  },
  {
   "cell_type": "code",
   "execution_count": null,
   "metadata": {},
   "outputs": [],
   "source": [
    "# Answer:\n",
    "\n",
    "# create dark_pixel_mask\n",
    "dark_pixel_mask = ...\n",
    "\n",
    "# display the dark_pixel_mask image\n",
    "..."
   ]
  },
  {
   "cell_type": "markdown",
   "metadata": {},
   "source": [
    "**Question 6.4 (6 point):** Let's now create another image mask (i.e., a Boolean matrix) called `mustache_region_mask` that has a rectangle around where Salovey's mustache is located. \n",
    "\n",
    "To do this please use the folowing steps:\n",
    "\n",
    "1. Start by creating a Boolean mask called `mustache_region_mask` as a matrix of all zeros that is the same size as the `salovey_mean` image.\n",
    "\n",
    "2. Set the pixel values of `mustache_region_mask` to 1 in a rectangular region around where Salovey's mustache is located. \n",
    "\n",
    "3. Convert `mustache_region_mask` into a Boolean values. Hint: using the `.astype()` method will be useful for this.\n",
    "\n",
    "4. Display the `mustache_region_mask`, again using the `~` symbol to turn reverse the `True`'s and `False` which will make the dark pixels appear black. The image displayed should be a black rectangle at the location of where Salovey's mustache is located in the original/grayscale image. "
   ]
  },
  {
   "cell_type": "code",
   "execution_count": null,
   "metadata": {},
   "outputs": [],
   "source": [
    "# Answer:\n",
    "\n",
    "# create a matrix of all 0's \n",
    "mustache_region_mask = ...\n",
    "\n",
    "# set the region around the mustache to the value of 1\n",
    "...\n",
    "\n",
    "# convert to Booleans\n",
    "mustache_region_mask = ...\n",
    "\n",
    "# show the mask\n",
    "..."
   ]
  },
  {
   "cell_type": "markdown",
   "metadata": {},
   "source": [
    "**Question 6.5 (3 point):** Now let's create a mask called `mustache_mask` that isolates just the mustache. To do this, simply multiply the `mustache_region_mask` by the `dark_pixel_mask`. \n",
    "\n",
    "Once you have created the `mustache_mask` again using the `~` symbol to turn reverse the `True`'s and `False` and display the mask, which should just contain the mustache (it won't be perfect but should be pretty close).  "
   ]
  },
  {
   "cell_type": "code",
   "execution_count": null,
   "metadata": {},
   "outputs": [],
   "source": [
    "# Answer:\n",
    "\n",
    "# create a mask of just mustache by multiplying the rectangular mask with the binary mask\n",
    "mustache_mask = ...\n",
    "\n",
    "# show the mustache_mask\n",
    "..."
   ]
  },
  {
   "cell_type": "markdown",
   "metadata": {},
   "source": [
    "**Question 6.6 (5 point):** We are now ready to turn Salovey's mustache \"Bulldog blue\". To do this please complete the following steps:\n",
    "\n",
    "1. The code below create a copy of the picture of Salovey and extracts the pixels in the red channel to a matrix called `r_image`. Please also extract the pixels in the blue and green channels to matrices called `g_image` and `b_image`.\n",
    "\n",
    "2. \"Bulldog blue\" has has an RGB value of (0, 47, 108). Use the `mustache_mask` to set the `r_image`, `b_image` and `g_image` pixels values to the RGB values that will make Salovey's mustache blue. The code below shows you to do this for the `r_image` so please just do this for the `b_image` and `g_image`. \n",
    "\n",
    "3. The code below combines the `r_image`, `g_image` and `b_image` matrices together into a single RGB image and displays the image. You do not need to change anything to this code. If your code is correct, then you should see a blue mustache!\n"
   ]
  },
  {
   "cell_type": "code",
   "execution_count": null,
   "metadata": {},
   "outputs": [],
   "source": [
    "# Answer:\n",
    "\n",
    "# extract the RGB image channels\n",
    "...\n",
    "\n",
    "# use the mustache_mask to make the appropriate pixels in the r_image, \n",
    "# b_image, and g_image matrices the appropriate values\n",
    "...\n"
   ]
  },
  {
   "cell_type": "code",
   "execution_count": null,
   "metadata": {},
   "outputs": [],
   "source": [
    "# combine the RGB channels together into a single image and show the result\n",
    "# you do not need to change these lines of code\n",
    "blue_stash = np.dstack((r_image, g_image, b_image))\n",
    "plt.imshow(blue_stash);\n",
    "plt.axis('off');"
   ]
  },
  {
   "cell_type": "markdown",
   "metadata": {},
   "source": [
    "## 7. Reflection (3 points)\n",
    "\n",
    "Please reflect on how the homework went by going to Canvas, going to the Quizzes link, and clicking on Reflection on homework 3.\n",
    "\n"
   ]
  },
  {
   "cell_type": "markdown",
   "metadata": {},
   "source": [
    "## 8. Submission\n",
    "\n",
    "Once you're finished filling in and running all cells, you should submit your assignment as a .pdf on Gradescope. You can access Gradescope through Canvas on the left-side of the class home page. The problems in each homework assignment are numbered. **NOTE:** When submitting on Gradescope, please select the correct pages of your pdf that correspond to each problem. Failure to mark pages correctly will result in points being deducted from your homework score.\n",
    "\n",
    "**Make sure that you rerun your code before submitting your work! Restart the kernel and rerun all the cells.**\n",
    "\n",
    "\n",
    "If you are running Jupyter Notebooks through an Anaconda installation on your own computer, you can produce the .pdf by completing the following steps:  \n",
    "1.  Go to \"File\" at the top-left of your Jupyter Notebook\n",
    "2.  Under \"Download as\" (or \"Save and Export Notebook As...\") and select \"HTML (.html)\"\n",
    "3.  After the .html has downloaded, open it and then select \"File\" and \"Print\" (note you will not actually be printing)\n",
    "4.  From the print window, select the option to save as a .pdf\n",
    "\n",
    "If you are running the assignment in a Google Colabs, you can use the following instructions: \n",
    "1.  Go to \"File\" at the top-left of your Jupyter Notebook and select \"File\" and \"Print\" (note you will not actually be printing)\n",
    "2. From the print window, select the option to save as a .pdf\n",
    "3. Be sure to look over the pdf file to make sure all your code and written work is saved in a clear way."
   ]
  },
  {
   "cell_type": "code",
   "execution_count": null,
   "metadata": {},
   "outputs": [],
   "source": []
  }
 ],
 "metadata": {
  "kernelspec": {
   "display_name": "Python [conda env:.conda-ydata_2025spring_v1] *",
   "language": "python",
   "name": "conda-env-.conda-ydata_2025spring_v1-py"
  },
  "language_info": {
   "codemirror_mode": {
    "name": "ipython",
    "version": 3
   },
   "file_extension": ".py",
   "mimetype": "text/x-python",
   "name": "python",
   "nbconvert_exporter": "python",
   "pygments_lexer": "ipython3",
   "version": "3.13.1"
  }
 },
 "nbformat": 4,
 "nbformat_minor": 4
}
