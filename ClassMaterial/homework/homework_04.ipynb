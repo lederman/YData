{
 "cells": [
  {
   "cell_type": "markdown",
   "metadata": {},
   "source": [
    "# Homework 4: Tables and data manipulation - v2\n",
    "\n",
    "Welcome to the fourth homework! \n",
    "\n",
    "In this homework you will practice manipulating data in Tables. Please complete this notebook by filling in the cells provided. "
   ]
  },
  {
   "cell_type": "markdown",
   "metadata": {},
   "source": [
    "**Deadline:**\n",
    "\n",
    "This assignment is due **Sunday Feb 16th at 11pm.** You can turn in the assignment up to 24 hours late for 90% credit (after that, the homework will only be accepted with a dean's excuse). \n",
    "\n",
    "Directly sharing answers is not okay, but discussing problems with the course staff or with other students is encouraged. *You are not allowed to use chatGPT to answer any questions on the homework*. If your answers include code that we have not discussed in class that is copied from chatGPT, this will be considered a violation of academic dishonesty and will face disciplinary action.\n",
    "\n",
    "You should start early so that you have time to get help if you're stuck. The drop-in office hours schedule can be found on Canvas.  You can also post questions or start discussions on Ed Discussion."
   ]
  },
  {
   "cell_type": "markdown",
   "metadata": {},
   "source": [
    "## Getting started\n",
    "\n",
    "In order to complete the homework, it is necessary to download a few files. Please run the code below **only once** to download data needed to complete the homework. To run the code, click in the cell below and press the play button (or press shift-enter). "
   ]
  },
  {
   "cell_type": "code",
   "execution_count": null,
   "metadata": {},
   "outputs": [],
   "source": [
    "# if you are running this notebook in colabs, please uncomment and run the following two lines\n",
    "# !pip install https://github.com/lederman/YData_package/tarball/master"
   ]
  },
  {
   "cell_type": "code",
   "execution_count": null,
   "metadata": {},
   "outputs": [],
   "source": [
    "# Please run this code once to download the files you will need to complete the homework \n",
    "\n",
    "import YData \n",
    "\n",
    "YData.download.download_data(\"ACS_2017_sample_01.csv\")\n",
    "YData.download.download_data(\"ACS_major_codes.tsv\")\n",
    "YData.download.download_data(\"2018_Central_Park_Squirrel_Census.csv\")\n",
    "    "
   ]
  },
  {
   "cell_type": "markdown",
   "metadata": {},
   "source": [
    "## 0. Quote and reaction\n",
    "\n",
    "This week's reading is from the website FiveThirtyEight and discusses which college majors make the most money. We will do a similar analysis, with slightly different data, on this homework. Please read the [blog post](https://fivethirtyeight.com/features/the-economic-guide-to-picking-a-college-major/), and write down a quote that you find interesting. In the space below, write down the quote as well as a one paragraph description for why you thought the quote was interesting. \n",
    " "
   ]
  },
  {
   "cell_type": "markdown",
   "metadata": {},
   "source": [
    "**Question 0.1 (5 points)**  Please write down your \"quote and reaction\" here.\n",
    "\n",
    "*Quote:*  ...\n",
    "\n",
    "Reaction: ... "
   ]
  },
  {
   "cell_type": "code",
   "execution_count": null,
   "metadata": {},
   "outputs": [],
   "source": [
    "# This cell imports functions from packages we will use below.\n",
    "# Please run it each time you load the Jupyter notebook\n",
    "\n",
    "import numpy as np\n",
    "import pandas as pd\n",
    "import matplotlib.pyplot as plt\n",
    "\n",
    "%matplotlib inline"
   ]
  },
  {
   "cell_type": "markdown",
   "metadata": {},
   "source": [
    "## 1. Squirrels of New York\n",
    "\n",
    "Have you ever wondered how many squirrels are in New York City parks, where they are located, and what they are up to? Well some people have, and those people created [The Squirrel Census](https://www.thesquirrelcensus.com/) which contains information about squirrels sightings in New York City (NYC). \n",
    "\n",
    "Let's look at data on squirrels in [Central Park](https://en.wikipedia.org/wiki/Central_Park) that was [collected in 2018](https://data.cityofnewyork.us/Environment/2018-Central-Park-Squirrel-Census-Squirrel-Data/vfnx-vebw).\n",
    "\n",
    "People living in NYC are often very busy so they can sometimes seem indifferent to their surroundings. But is this true of squirrels living in NYC too? Let's examine this important question and also see if squirrel indifference varies depending on the color of their fur. \n",
    "\n"
   ]
  },
  {
   "cell_type": "code",
   "execution_count": null,
   "metadata": {},
   "outputs": [],
   "source": [
    "\n",
    "squirrel_data = pd.read_csv(\"2018_Central_Park_Squirrel_Census.csv\")\n"
   ]
  },
  {
   "cell_type": "markdown",
   "metadata": {},
   "source": [
    "**Question 1.1 (3 points)** The code in the cell above loads the data as a panda DataFrame. As a first step in analyzing data, it is always a good idea to take a quick visual inspection of the data. \n",
    "\n",
    "Please do the following as an initial exploration of the data: \n",
    "- Print out the shape of the data\n",
    "- Print out the first 3 rows of the DataFrame. \n",
    "\n",
    "Hint: the `.head()` method will be useful for the last problem.\n"
   ]
  },
  {
   "cell_type": "code",
   "execution_count": null,
   "metadata": {},
   "outputs": [],
   "source": [
    "# Answer:\n"
   ]
  },
  {
   "cell_type": "markdown",
   "metadata": {},
   "source": [
    "**Question 1.2 (4 points)**  For a first set of analyses, let's look at the Indifferent column, which describes whether a squirrel was indifferent to the presence of the human observer.  \n",
    "\n",
    "Please extract the `Indifferent` column as a Series and save it to the name `squirrel_indifference`. Also print out the dtype to show the type of data that is stored in the Series. \n"
   ]
  },
  {
   "cell_type": "code",
   "execution_count": null,
   "metadata": {},
   "outputs": [],
   "source": [
    "# Answer:\n"
   ]
  },
  {
   "cell_type": "markdown",
   "metadata": {},
   "source": [
    "**Question 1.3 (4 points)**: Let's now look at the following questions: \n",
    "\n",
    "1. How many squirrels are there in total? \n",
    "2. How many squirrels are indifferent?  \n",
    "3. What proportion of squirrels are indifferent? \n",
    "\n",
    "Please print out numbers that show the answers to these questions. For the proportion, *round your answer to 3 decimal places*. In the answer section below, answer the above questions in complete sentences using the numbers. \n",
    "\n",
    "Hint: As you recall, series are like ndarrays so we can use many of the same ndarray functions we have previously used. "
   ]
  },
  {
   "cell_type": "code",
   "execution_count": null,
   "metadata": {},
   "outputs": [],
   "source": [
    "# Answer:\n"
   ]
  },
  {
   "cell_type": "markdown",
   "metadata": {},
   "source": [
    "<font color='red'>**Answers**\n",
    "\n",
    "\n",
    "</font>\n"
   ]
  },
  {
   "cell_type": "markdown",
   "metadata": {},
   "source": [
    "**Question 1.4 (4 points)**: For the next set of questions, let's look at whether the proportion of squirrels that are indifferent differs for squirrels with different fur colors. \n",
    "\n",
    "To start, please extract a DataFrame that has just two columns: \n",
    "\n",
    "1. `The Primary Fur Color`: The main fur color of each squirrel\n",
    "2. `Indifferent`: Whether the squirrel was indifferent\n",
    "\n",
    "Save this DataFrame to the name `squirrel_fur` and display the first 2 rows of this DataFrame below.\n"
   ]
  },
  {
   "cell_type": "code",
   "execution_count": null,
   "metadata": {},
   "outputs": [],
   "source": [
    "# Answer\n"
   ]
  },
  {
   "cell_type": "markdown",
   "metadata": {},
   "source": [
    "**Question 1.5 (4 points)**: Let's now count how many squirrels there are of each color. \n",
    "\n",
    "Please create a DataFrame called `color_count_mislabeled` which has the counts of how many squirrels are of each color. Once you have calculated this, display the `color_count_mislabeled` DataFrame below. \n",
    "\n",
    "Hint: The `.groupby()` and `.count()` methods should be useful here. \n"
   ]
  },
  {
   "cell_type": "code",
   "execution_count": null,
   "metadata": {},
   "outputs": [],
   "source": [
    "# Answer\n",
    "\n",
    "\n"
   ]
  },
  {
   "cell_type": "markdown",
   "metadata": {},
   "source": [
    "**Question 1.6 (4 points)**: If you look at the `color_count_mislabeled` DataFrame you created in the previous question, you will notice that the column that contains the counts of each squirrel is titled `Indifferent`. This is a poor name choice since it really contains the counts of squirrels of each color and has nothing to do with whether the squirrels were indifferent. Let's rename it so that the column is called as `Count`. \n",
    "\n",
    "Recall that to relabel a column, we can create a dictionary where the keys are the old column names, and the values are the new column names. For example, if we wanted to replace the column name `old_column` with the name `new_column` we would create a dictionary that had the values `{\"old_column\": \"new_column\"}`. Once we create a dictionary that can relabel a column name, we can update the column name using the method: `my_df.rename(columns = new_name_dictionary)`.\n",
    "\n",
    "Please go ahead and rename the column `Indifferent` column to be called `Count` in the `color_count_mislabeled` DataFrame. Save the new DataFrame in the name `color_count` and display this DataFrame to show you have the correct answer. \n",
    "\n"
   ]
  },
  {
   "cell_type": "code",
   "execution_count": null,
   "metadata": {},
   "outputs": [],
   "source": [
    "# Answer:\n",
    "\n"
   ]
  },
  {
   "cell_type": "markdown",
   "metadata": {},
   "source": [
    "**Question 1.7 (4 points)**: Now let's get the total number of squirrels that are reported in the `color_count` DataFrame by summing the values in the (newly renamed) `Count` column. \n",
    "\n",
    "Please print this number below. In the answer section, in 1-3 sentences, report why this number is different from the number of rows in the original `squirrel_data` DataFrame that you reported in question 1.1. \n"
   ]
  },
  {
   "cell_type": "code",
   "execution_count": null,
   "metadata": {},
   "outputs": [],
   "source": [
    "# Answer\n",
    "\n"
   ]
  },
  {
   "cell_type": "markdown",
   "metadata": {},
   "source": [
    "<font color='red'>**Answer**: \n",
    "\n",
    "\n",
    "\n",
    "</font>\n"
   ]
  },
  {
   "cell_type": "markdown",
   "metadata": {},
   "source": [
    "**Question 1.8 (4 points)**: Now let's count how many squirrels of each color are indifferent. To do this, use the `.groupby()` and `.sum()` methods. Save the results in the name `indifferent_color_count`, and print out this DataFrame to show your work. \n",
    "\n",
    "In the answer section, in 1-3 sentences describe why the `sum()` method gives the total number of squirrels that are *indifferent* (as opposed to, for example, using the `count()` method which returns the total number of squirrels regardless of whether they are indifferent). \n",
    "\n",
    "Hint: think about what type of values the `sum()` function is summing over. \n"
   ]
  },
  {
   "cell_type": "code",
   "execution_count": null,
   "metadata": {},
   "outputs": [],
   "source": [
    "# Answer\n",
    "\n",
    "\n"
   ]
  },
  {
   "cell_type": "markdown",
   "metadata": {},
   "source": [
    "<font color='red'>**Answer**:\n",
    "\n",
    "\n",
    "\n",
    "</font>"
   ]
  },
  {
   "cell_type": "markdown",
   "metadata": {},
   "source": [
    "**Question 1.9 (4 points)**: Let's now join the `color_count` and `indifferent_color_count` DataFrames together to get one table that has information about both the total number of squirrels of each color and number of indifferent squirrels of each color. \n",
    "\n",
    "Since the `color_count` and `indifferent_color_count` DataFrames both have the same Index values (due the fact that the same column was passed to the `.groupby` method), we can simply use the `.join()` method to join these tables together. \n",
    "\n",
    "Please join these DataFrames together and save the result to a DataFrame called `counts_joined`. Print this DataFrame so we can see the answer. \n"
   ]
  },
  {
   "cell_type": "code",
   "execution_count": null,
   "metadata": {},
   "outputs": [],
   "source": [
    "# Answer\n",
    "\n"
   ]
  },
  {
   "cell_type": "markdown",
   "metadata": {},
   "source": [
    "**Question 1.10 (4 points)**: Now let's use the `counts_joined` DataFrame to calculate the proportion of squirrels of each color that are indifferent. \n",
    "\n",
    "Save the results to a Series called `prop_indifferent` and print out the Series to show you have the correct answer. \n"
   ]
  },
  {
   "cell_type": "code",
   "execution_count": null,
   "metadata": {},
   "outputs": [],
   "source": [
    "# Answer\n"
   ]
  },
  {
   "cell_type": "markdown",
   "metadata": {},
   "source": [
    "**Question 1.11 (4 points)**: Let's now add these proportions values as a new column to our `counts_joined` DataFrame. Please do this and print out the `counts_joined` DataFrame to show it has the correct 3 columns. "
   ]
  },
  {
   "cell_type": "code",
   "execution_count": null,
   "metadata": {},
   "outputs": [],
   "source": [
    "# Answer\n",
    "\n"
   ]
  },
  {
   "cell_type": "markdown",
   "metadata": {},
   "source": [
    "**Question 1.12 (4 points)**: From looking at the `counts_joined` DataFrame you printed out in the previous question, you will notice that the proportion of squirrels that are indifferent differs for the three colors of squirrels. However, you will also notice that these proportions are only slightly different. \n",
    "\n",
    "In the answer section, in 1-3 sentences, state whether you think there is a real difference between the proportion of squirrels that are indifferent depending on the color of their fur, or whether these results are due to the random sample of squirrels that were observed; e.g., if NYC residents went out and observed another set of ~3,000 squirrels, do you think the highest proportion of squirrels that were indifferent would again be the gray squirrels? \n",
    "\n",
    "Note: This type of question is what statistical analyses are useful for. We will explore this type of analysis in the second half of the semester."
   ]
  },
  {
   "cell_type": "markdown",
   "metadata": {},
   "source": [
    "<font color='red'> **Answer**\n",
    "\n",
    "\n",
    "</font>"
   ]
  },
  {
   "cell_type": "markdown",
   "metadata": {},
   "source": [
    "## Recreating the FiveThirtyEight college major's analysis\n",
    "\n",
    "Let's now recreate the analysis that was done in the FiveThirtyEight article that you read on part 0 of this homework. In particular, we will use our sample of the ACS data to calculate average income of different college majors. \n",
    "\n",
    "Note: the ACS data has different categories of majors compared to the FiveThirtyEight data, so our results will be a bit different from the article (also our data is more recent). \n"
   ]
  },
  {
   "cell_type": "markdown",
   "metadata": {},
   "source": [
    "**Question 2.1 (2 points)**: Let's start in the usual way. The code below loads the ACS data and stores the results in the name `acs_data`. Please display the first 3 rows of this data in the cell below. \n"
   ]
  },
  {
   "cell_type": "code",
   "execution_count": null,
   "metadata": {},
   "outputs": [],
   "source": [
    "acs_data = pd.read_csv(\"ACS_2017_sample_01.csv\")"
   ]
  },
  {
   "cell_type": "code",
   "execution_count": null,
   "metadata": {},
   "outputs": [],
   "source": [
    "# Answer:\n",
    "\n"
   ]
  },
  {
   "cell_type": "markdown",
   "metadata": {},
   "source": [
    "**Question 2.2 (4 points):** As you are aware, there are many columns in our ACS data. To make the data easier to manage, let's reduce the data to only the two columns we care about which are:\n",
    "\n",
    "- `DEGFIELD`: A code indicating which field of study an individual majored in\n",
    "- `INCEARN`: The earned income an individual made\n",
    "\n",
    "Create a DataFrame called `acs_data2` that only has data from these columns, and print the first 3 rows to show your code worked. \n"
   ]
  },
  {
   "cell_type": "code",
   "execution_count": null,
   "metadata": {},
   "outputs": [],
   "source": [
    "# Answer\n",
    "\n"
   ]
  },
  {
   "cell_type": "markdown",
   "metadata": {},
   "source": [
    "**Question 2.3 (4 points):**  Let's now look at how many unique majors there are in our data. Please print out an ndarray that contains all the unique major numbers. Also print out the number of unique majors there are.\n",
    "\n",
    "Hint: `np.unique()` could be useful here. "
   ]
  },
  {
   "cell_type": "code",
   "execution_count": null,
   "metadata": {},
   "outputs": [],
   "source": [
    "# Answer\n",
    "\n"
   ]
  },
  {
   "cell_type": "markdown",
   "metadata": {},
   "source": [
    "**Question 2.4 (2 points)**: As you will have noticed, identifying college majors by a numeric code makes the data hard to interpret. A large part of Data Science consists of converting this type of more raw data, into more meaningful names using codebooks. A codebook that explains what these numeric codes mean can be [found here](https://usa.ipums.org/usa-action/variables/DEGFIELD#codes_section). \n",
    "\n",
    "Fortunately, someone has made this process converting codes to more meaningful names easier for you by creating a file with this codebook information!\n",
    "\n",
    "The codebook is loaded as a DataFrame named `major_codes` in the cell below. Please print out the first 5 rows of this codebook DataFrame. \n"
   ]
  },
  {
   "cell_type": "code",
   "execution_count": null,
   "metadata": {},
   "outputs": [],
   "source": [
    "major_codes = pd.read_csv(\"ACS_major_codes.tsv\", sep = \"\\t\")\n",
    "\n",
    "# Answer\n",
    "\n",
    "\n"
   ]
  },
  {
   "cell_type": "markdown",
   "metadata": {},
   "source": [
    "**Question 2.5 (5 points)**:  Let's now join the names in the `major_codes` DataFrame onto the `acs_data2` DataFrame, so that each row of the `acs_data2` has a more meaningful major name as well as just a numeric code. \n",
    "\n",
    "Since we are joining our DataFrames based on values in a *column* (rather than based on Index values) we will use the `.merge()` method. Some arguments that will be useful when using the `.merge()` method are: \n",
    "- `left_on`: The name of the column in the left DataFrame\n",
    "- `right_on`: The name of the column on the right DataFrame\n",
    "- `how`: whether it should be a \"left\", \"right\", \"inner\", \"outer\", etc. \n",
    "\n",
    "Save the results of the joined DataFrame in the name `acs_data3` and print out the first three rows of the DataFrame to show your work. \n",
    "\n",
    "Hint: Think carefully about what type of join you would like to do, and then use `how` and the other column names appropriately.\n",
    "\n"
   ]
  },
  {
   "cell_type": "code",
   "execution_count": null,
   "metadata": {},
   "outputs": [],
   "source": [
    "# Answer\n"
   ]
  },
  {
   "cell_type": "markdown",
   "metadata": {},
   "source": [
    "**Question 2.6 (4 points)**: Let's rename some of the columns in our DataFrame to have more meaningful names. In particular, please rename: \n",
    "\n",
    "- \"INCEARN\" to be \"Income\"\n",
    "- \"Label\" to be \"Major\"\n",
    "\n",
    "Save the results to the name `acs_data4` and as always, print the first 3 rows. \n",
    "\n",
    "Hint: Recall from your analysis of the squirrel data that you can rename columns using a dictionary and the `.rename(columns = rename_dictionary)` method.\n"
   ]
  },
  {
   "cell_type": "code",
   "execution_count": null,
   "metadata": {},
   "outputs": [],
   "source": [
    "# Answer\n",
    "\n"
   ]
  },
  {
   "cell_type": "markdown",
   "metadata": {},
   "source": [
    "**Question 2.7 (4 points)**: Now that we have meaningful names in our DataFrame, let's get rid of the college major codes which we will no longer need. \n",
    "\n",
    "Please create a DataFrame called `acs_data5` that has only the \"Income\" and \"Major\" columns, and print the first 3 rows.\n"
   ]
  },
  {
   "cell_type": "code",
   "execution_count": null,
   "metadata": {},
   "outputs": [],
   "source": [
    "# Answer\n",
    "\n"
   ]
  },
  {
   "cell_type": "markdown",
   "metadata": {},
   "source": [
    "**Question 2.8 (5 points)**: Now let's compute the mean and median salaries separately for each major. Let's also get the counts of how many people we have in our data for each major. \n",
    "\n",
    "To do this, you can group the input DataFrame ('acs_data5') by major. Then use the `.agg()` method where you specify tuples indicating the column you want to apply a function to, and the function you want to use. For example, we could use code in the form:\n",
    "\n",
    "<pre>\n",
    "my_aggregated_results = input_df.groupby(\"grouping_col_name\").agg(\n",
    "    output_col_name1 =('column_to_summarize1', 'statistic_name1'),\n",
    "    output_col_name2 =('column_to_summarize2', 'statistic_name2'),\n",
    "    output_col_name3 =('column_to_summarize3', 'statistic_name3'),\n",
    "\n",
    ")\n",
    "</pre>\n",
    "\n",
    "Where:\n",
    "- `input_df`: is the DataFrame we want to get summary statistics from\n",
    "- `\"grouping_col_name\"`: is the column we want to use to group our input_df DataFrame\n",
    "- `output_col_name1`: is the name of the column where we want to save the statistic we calculate\n",
    "- `'column_to_summarize1'` is the name of column we want to use to get our statistic from\n",
    "- `'statistic_name1'` is the name of the statistic function we want to apply\n",
    "- same for `output_col_name2`, `column_to_summarize2`, etc. \n",
    "\n",
    "Please create a DataFrame called `major_stats` that has the count, mean, and median for each college major area; i.e., `major_stats` should have an index which is the college major area, and there should be three columns called `count`, `mean` and `median` which corresponds to statistical summaries of the `acs_data5` DataFrame. As always, show the first 3 rows of the results to show your work. \n"
   ]
  },
  {
   "cell_type": "code",
   "execution_count": null,
   "metadata": {},
   "outputs": [],
   "source": [
    "# Answer\n",
    "\n"
   ]
  },
  {
   "cell_type": "markdown",
   "metadata": {},
   "source": [
    "**Question 2.9 (4 points)**: You will notice from looking at the `major_stats` DataFrame that the decimal places in the data make the values in the DataFrame hard to read. To deal with this we could round the data, but an even nicer way to make the data legible is to convert all values into integers. \n",
    "\n",
    "Please convert all the values in the data frame to integers and save the results to a DataFrame called `major_stats2`. As always, \"show your work\".  \n",
    "\n",
    "Hint: the `.astype()` method could be useful here.\n"
   ]
  },
  {
   "cell_type": "code",
   "execution_count": null,
   "metadata": {},
   "outputs": [],
   "source": [
    "# Answer\n",
    "\n"
   ]
  },
  {
   "cell_type": "markdown",
   "metadata": {},
   "source": [
    "**Question 2.10 (5 points)**: You will also notice from looking at the `count` column that there are some majors where there were only a few people in our dataset that had that major. Because of these small numbers, our statistics for these majors will be unreliable. \n",
    "\n",
    "While we could deal with this issue here by looking at a larger dataset (rather than just a smaller random sample), for the sake of simplicity, let's just remove all majors that have counts less than 30. \n",
    "\n",
    "Please create a DataFrame called `major_stats3` that only has rows from `major_stats2` where there were more than 30 or more majors in our dataset. Print the results to show your work. \n",
    "\n",
    "Hint: Boolean masking could be useful here!"
   ]
  },
  {
   "cell_type": "code",
   "execution_count": null,
   "metadata": {},
   "outputs": [],
   "source": [
    "# Answer\n",
    "\n"
   ]
  },
  {
   "cell_type": "markdown",
   "metadata": {},
   "source": [
    "**Question 2.11 (5 points)**: Finally, let's sort our data to see which majors make the most money!  \n",
    "\n",
    "Please sort the data based on the mean income level. In particular, sort the data so that majors that make the most money appear at the top of the DataFrame. Save it to the name `major_stats4`, and then print the full DataFrame to see which majors make the most money. \n",
    "\n",
    "In the answer section, report if there might be some upsides to suffering through these homework problems in order to learn more Data Science.\n"
   ]
  },
  {
   "cell_type": "code",
   "execution_count": null,
   "metadata": {},
   "outputs": [],
   "source": [
    "# Answer\n"
   ]
  },
  {
   "cell_type": "markdown",
   "metadata": {},
   "source": [
    "<font color='red'>**Answer**\n",
    "\n",
    "\n",
    "</font>"
   ]
  },
  {
   "cell_type": "markdown",
   "metadata": {},
   "source": [
    "## 3. Answer another question on the ACS data or another dataset (6 points)\n",
    "\n",
    "Now that you have a new set of skills manipulating DataFrames, try again to answer another interesting question on the ACS data. This could be one of the questions you initially posed on the second homework, or a new question. \n",
    "\n",
    "Alternatively, you are welcome to find another dataset on the Internet (e.g., in a .csv file), and then show an analysis on that dataset. This could be a useful first step in beginning to think about the project you will do for the class. A list of places you can find data is on Canvas under the Data sources link. "
   ]
  },
  {
   "cell_type": "code",
   "execution_count": null,
   "metadata": {},
   "outputs": [],
   "source": [
    "# Answer. \n",
    "# You can add additional cells."
   ]
  },
  {
   "cell_type": "markdown",
   "metadata": {},
   "source": [
    "## 4. Reflection (3 points)\n",
    "\n",
    "Please reflect on how the homework went by going to Canvas, going to the Quizzes link, and clicking on \n",
    "reflection on homework 4.\n"
   ]
  },
  {
   "cell_type": "markdown",
   "metadata": {},
   "source": [
    "## 5. Submission\n",
    "\n",
    "Please submit your assignment as a .pdf on Gradescope. You can access Gradescope through Canvas on the left hand side of the class home page. The problems in each homework assignment are numbered. **NOTE:** When submitting on Gradescope, please select the correct pages of your pdf that correspond to each problem. **Failure to mark pages correctly will result in points being deducted from your homework score.**\n",
    "\n",
    "If you are running Jupyter Notebooks through an Anaconda installation on your own computer, you can produce the .pdf by completing the following steps:  \n",
    "1.  Go to \"File\" at the top-left of your Jupyter Notebook\n",
    "2.  Under \"Download as\", select \"HTML (.html)\"\n",
    "3.  After the .html has downloaded, open it and then select \"File\" and \"Print\" (note you will not actually be printing)\n",
    "4.  From the print window, select the option to save as a .pdf\n",
    "\n",
    "If you are running the assignment in a Google Colabs, you can use the following instructions: \n",
    "1.  Go to \"File\" at the top-left of your Jupyter Notebook and select \"File\" and \"Print\" (note you will not actually be printing)\n",
    "2. From the print window, select the option to save as a .pdf\n",
    "3. Be sure to look over the pdf file to make sure all your code and written work is saved in a clear way. \n"
   ]
  },
  {
   "cell_type": "markdown",
   "metadata": {},
   "source": [
    "<img src=\"https://i.chzbgr.com/full/9480006400/hE22C0C2B/animal-cant-stop-wont-stop\" width=\"300\"/>"
   ]
  }
 ],
 "metadata": {
  "kernelspec": {
   "display_name": "Python [conda env:.conda-ydata_2025spring_v1] *",
   "language": "python",
   "name": "conda-env-.conda-ydata_2025spring_v1-py"
  },
  "language_info": {
   "codemirror_mode": {
    "name": "ipython",
    "version": 3
   },
   "file_extension": ".py",
   "mimetype": "text/x-python",
   "name": "python",
   "nbconvert_exporter": "python",
   "pygments_lexer": "ipython3",
   "version": "3.13.1"
  }
 },
 "nbformat": 4,
 "nbformat_minor": 4
}
