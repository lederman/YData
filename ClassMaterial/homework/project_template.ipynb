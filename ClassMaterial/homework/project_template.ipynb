{
 "cells": [
  {
   "cell_type": "markdown",
   "metadata": {},
   "source": [
    "# 2025 Template - v01 "
   ]
  },
  {
   "cell_type": "markdown",
   "metadata": {},
   "source": [
    "## Class project: Add your title here\n",
    "\n",
    "\n",
    "\n",
    "<br>\n",
    "\n",
    "This is a template for creating your class project report. It (loosely) lays out the sections that should be in your report and describes a little about these sections. There is a lot of flexibility to deviate from this structure, so please just use this outline as a starting point and add sections as needed to best address your question of interest. For example, interweaving more visualizations and analyses could work well. \n",
    "\n",
    "Your report should be between 6-10 pages long and should contain:\n",
    "\n",
    "    1. Introduction: \n",
    "      a. What is question you are addressing? \n",
    "      b. Why is the question important?\n",
    "      c. Where did you get the data?\n",
    "      d. What other analyses that been done on the data?\n",
    "      \n",
    "    2. Visualizations of the data: one or more plots\n",
    "    \n",
    "    3. Analyses: Using pandas to extract insights from your data (and for your final submission, possibly including hypothesis tests or machine learning results)\n",
    "    \n",
    "    4. Conclusions: what you found, future directions, etc.\n",
    "    \n",
    "    5. Reflection  (also do be done on Canvas): \n",
    "       a. What went well? \n",
    "       b. What did you struggle with?\n",
    "       c. What analyses did you do that you are not including?\n",
    "       d. For the first draft - any thoughts about things to change/extensions for your final submission\n",
    "\n",
    "If there is additional code or data you would like to include with your report, you can append the full code for your analysis in an appendix section at the end of the document, and then include only the most important pieces of code in the body of the report. For example, you can exclude details of data cleaning from the body of the report, but include anything of central to your analyses, and also any information about particular choices you made that might affect the results and why you made those choices (e.g., explain if data was excluded and why, etc.). Including extra code in a .py file and then importing it as a module is the best way to include extra code. You can also create a GitHub page and add a link to it in your report. \n",
    "\n",
    "Please make your report look good by paying attention to details. Please delete all instruction when you turn in the report and only keep the relevant sections. \n",
    "\n",
    "A polished draft of your is due March 30th. A \"peer review\" will occur the following week, where you will give and receive feedback on 3 project reports from other students (more instructions about how to review projects will be given at that time). Once you receive your peer review you will revise your project and submit the final project on April 27th.  \n",
    "\n",
    "\n",
    "<br>\n"
   ]
  },
  {
   "cell_type": "markdown",
   "metadata": {},
   "source": [
    "## Introduction \n",
    "\n",
    "\n",
    "Write a few paragraphs describing:\n",
    "\n",
    "1. The problem you are addressing and why the problem is interesting.\n",
    "\n",
    "2. Where you got the data from, including a link to the website where you got the data if applicable. \n",
    "\n",
    "3. What other analyses have already been done with the data, and possibly links to other analyses. \n",
    "\n"
   ]
  },
  {
   "cell_type": "markdown",
   "metadata": {},
   "source": [
    "## Data wrangling: change the subtitle here to be more descriptive of what you are doing in this section\n",
    "\n",
    "\n",
    "Briefly discuss how you got the data into shape for your analyses. You can include some code here, although extensive data cleaning code should be put in an appendix at the end of the document. \n",
    "\n"
   ]
  },
  {
   "cell_type": "code",
   "execution_count": 1,
   "metadata": {},
   "outputs": [],
   "source": [
    "# Show the analyses you did here\n",
    "\n",
    "# Breaking this up to multiple cells with multiple descriptions of what you did is a good idea\n",
    "\n"
   ]
  },
  {
   "cell_type": "markdown",
   "metadata": {},
   "source": [
    "## Visualize the data: Change the subtitle here to describe what you are plotting etc.\n",
    " \n",
    "\n",
    "Create visualizations of your data and findings. Describe the plots, what they show, and how they give insight into your the question you are addressing. Include the code to create these plots in the Python sections belows. You can also discuss the plots after the code. Finally, be sure to make plots as clear as possible by having clear axis labels, legends, captions etc., so that it is easy for the reader to quickly understand the central information being conveyed. \n",
    "\n"
   ]
  },
  {
   "cell_type": "code",
   "execution_count": 2,
   "metadata": {},
   "outputs": [],
   "source": [
    "# Show the analyses you did here\n",
    "\n",
    "# Breaking this up to multiple cells with multiple descriptions of what you did is probably a good idea\n",
    "\n"
   ]
  },
  {
   "cell_type": "markdown",
   "metadata": {},
   "source": [
    "## Analyses: subtitle about the analyses/models you are using \n",
    "\n",
    "Include other analyses here, including extracting insights using pandas and also potentially including hypothesis tests and machine learning methods in the final version of your project once we have disucssed these methods in class. \n"
   ]
  },
  {
   "cell_type": "code",
   "execution_count": 6,
   "metadata": {},
   "outputs": [],
   "source": [
    "# Show the analyses you did here\n",
    "\n",
    "# Breaking this up to multiple cells with multiple descriptions of what you did is a good idea\n",
    "\n"
   ]
  },
  {
   "cell_type": "markdown",
   "metadata": {},
   "source": [
    "## Conclusions\n",
    "\n",
    "Write a few paragraphs summarizing what you found, how the findings address your question of interest, and possible future directions. Please make sure describe your conclusions in an intuitive way, and make sure that your argument is strong and backed by solid evidence from your data. \n"
   ]
  },
  {
   "cell_type": "markdown",
   "metadata": {},
   "source": [
    "## Reflection\n",
    "  \n",
    "\n",
    "Write a few paragraphs describing what went well with this project and what was more difficult. Also describe any additional analyses you tried that you did not end up including in this report, and approximately how much time you spend working the project. \n",
    "\n",
    "Finally, please go to Canvas and answer a few questions related to how the project went.\n",
    "\n"
   ]
  },
  {
   "cell_type": "markdown",
   "metadata": {},
   "source": [
    "## Appendix (optional)\n",
    "\n",
    "If there is additional code you would like to include (in order to keep your project report 10 pages or less) you can include it here. Additionally, you could create a GitHub page that has all the working code and data for your analyses (this could be beneficial later as well if you want to show this to future employers, etc.).  \n",
    "\n"
   ]
  }
 ],
 "metadata": {
  "kernelspec": {
   "display_name": "Python [conda env:.conda-ydata_2025spring_v1] *",
   "language": "python",
   "name": "conda-env-.conda-ydata_2025spring_v1-py"
  },
  "language_info": {
   "codemirror_mode": {
    "name": "ipython",
    "version": 3
   },
   "file_extension": ".py",
   "mimetype": "text/x-python",
   "name": "python",
   "nbconvert_exporter": "python",
   "pygments_lexer": "ipython3",
   "version": "3.13.1"
  }
 },
 "nbformat": 4,
 "nbformat_minor": 4
}
