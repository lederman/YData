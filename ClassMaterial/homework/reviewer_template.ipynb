{
 "cells": [
  {
   "cell_type": "markdown",
   "id": "dab84b34",
   "metadata": {},
   "source": [
    "# Reviewer template\n",
    "\n",
    "This is a template for reviewing class projects. Please fill out the sections below to review a project, and then email your review to person whose project it is. Also upload a pdf of each of your reviews to Gradescope. \n",
    "\n",
    "Remeber, these reviews are not annoymous so be sure to be positive in your review, but also be critical in order to help make the author's project stronger for their final submission. \n",
    "\n",
    "\n",
    "#### Project writer name:\n",
    "#### Project writer email address:\n",
    "\n",
    "#### Reviewer name: \n",
    "#### Reviwer email address:\n",
    "\n"
   ]
  },
  {
   "cell_type": "markdown",
   "id": "36af4713",
   "metadata": {},
   "source": [
    "# Summary\n",
    "\n",
    "Please write a one paragraph (~3-6 sentence) summary of the project here. You should summarize the main goals and findings of the project.\n",
    "\n",
    "\n",
    "\n",
    "## 1. Overall strengths and weaknesses \n",
    "\n",
    "Please write 1-2 paragraphs that describe overall what you think the strengths and weakness are of the project. In particular, mention what you found interesting about the results, which analyses/visualizations you found convincing, and what could be done to potentially make the project stronger. \n",
    "\n",
    "\n",
    "\n",
    "## 2. Major revisions\n",
    "\n",
    "Add bullet points of items that you think should definitely be changed for the final submission of the project. \n",
    "\n",
    "\n",
    "\n",
    "\n",
    "## 3. Minor revisions \n",
    "\n",
    "\n",
    "Add bullet points of items that are more minor, but that would be good to change for the final submission of the project. \n",
    "\n",
    "\n",
    "\n",
    "\n",
    "\n",
    "## 3. Rubric score\n",
    "\n",
    "Please write a score for the project based on the project rubric that is on Canvas. For any items where there would be a point deduction, please cut and paste a bullet point for that item in the \"Items for ponts take off\" section below. \n",
    "\n",
    "\n",
    "\n",
    "\n",
    "#### Rubric items where points would be taken off if not addressed: \n",
    "\n",
    "- Item 1\n",
    "- Item 2 \n",
    "- ...\n",
    "\n",
    "\n",
    "\n",
    "### Total score:   xx/90\n",
    "\n",
    "\n",
    "\n"
   ]
  }
 ],
 "metadata": {
  "kernelspec": {
   "display_name": "Python [conda env:.conda-ydata_2025spring_v1] *",
   "language": "python",
   "name": "conda-env-.conda-ydata_2025spring_v1-py"
  },
  "language_info": {
   "codemirror_mode": {
    "name": "ipython",
    "version": 3
   },
   "file_extension": ".py",
   "mimetype": "text/x-python",
   "name": "python",
   "nbconvert_exporter": "python",
   "pygments_lexer": "ipython3",
   "version": "3.13.1"
  }
 },
 "nbformat": 4,
 "nbformat_minor": 5
}
