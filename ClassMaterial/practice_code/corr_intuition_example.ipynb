{
 "cells": [
  {
   "cell_type": "code",
   "execution_count": 1,
   "id": "a03c2dad-3bba-486f-9a42-4b79b106549d",
   "metadata": {},
   "outputs": [
    {
     "name": "stdout",
     "output_type": "stream",
     "text": [
      "Original correlation between X and Y: -0.025362535103725745\n",
      "Correlation between X and permuted Y: 0.02694562027843106\n"
     ]
    }
   ],
   "source": [
    "import numpy as np\n",
    "\n",
    "# Set the number of samples you want\n",
    "n_samples = 1000\n",
    "\n",
    "# Generate two independent random variables X and Y\n",
    "X = np.random.normal(0, 1, n_samples)  # X ~ N(0, 1)\n",
    "Y = np.random.normal(0, 1, n_samples)  # Y ~ N(0, 1)\n",
    "\n",
    "# Check the correlation between X and Y\n",
    "original_correlation = np.corrcoef(X, Y)[0, 1]\n",
    "print(f\"Original correlation between X and Y: {original_correlation}\")\n",
    "\n",
    "# Now permute Y randomly\n",
    "Y_permuted = np.random.permutation(Y)\n",
    "\n",
    "# Check the correlation between X and permuted Y\n",
    "permuted_correlation = np.corrcoef(X, Y_permuted)[0, 1]\n",
    "print(f\"Correlation between X and permuted Y: {permuted_correlation}\")\n"
   ]
  },
  {
   "cell_type": "code",
   "execution_count": null,
   "id": "6639ba98-450b-4f45-a00d-d85a23b0cc3e",
   "metadata": {},
   "outputs": [],
   "source": []
  },
  {
   "cell_type": "code",
   "execution_count": null,
   "id": "1c034ba5-67e1-450e-a708-d403426d4a11",
   "metadata": {},
   "outputs": [],
   "source": []
  }
 ],
 "metadata": {
  "kernelspec": {
   "display_name": "Python 3 (ipykernel)",
   "language": "python",
   "name": "python3"
  },
  "language_info": {
   "codemirror_mode": {
    "name": "ipython",
    "version": 3
   },
   "file_extension": ".py",
   "mimetype": "text/x-python",
   "name": "python",
   "nbconvert_exporter": "python",
   "pygments_lexer": "ipython3",
   "version": "3.13.1"
  }
 },
 "nbformat": 4,
 "nbformat_minor": 5
}
