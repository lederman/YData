{
 "cells": [
  {
   "cell_type": "code",
   "execution_count": 1,
   "id": "bb9aefee-81cf-40c0-ac24-12da2525e2dc",
   "metadata": {},
   "outputs": [],
   "source": [
    "import YData\n",
    "import pandas as pd"
   ]
  },
  {
   "cell_type": "code",
   "execution_count": 2,
   "id": "da0175de-cdad-4ddc-a58e-06a80ca7e17e",
   "metadata": {},
   "outputs": [],
   "source": [
    "# GDP (in trillions USD) and Population of various counrties in 2024 as per IMF. \n",
    "\n",
    "GDP = {\n",
    "            'Country' : ['USA', 'Canada', 'France', 'Australia', 'India', 'China'],\n",
    "            'GDP' : [28.78, 2.24, 3.13, 1.79, 3.94, 18.53]\n",
    "            }\n",
    "\n",
    "POP = {\n",
    "            'Country': ['USA', 'India', 'Russia', 'England', 'Germany', 'China'],\n",
    "            'Population': [345427000, 1450940000, 144820000, 69138200, 84552200, 1419320000]\n",
    "            }\n",
    "\n",
    "GDP_df = pd.DataFrame(GDP)\n",
    "POP_df = pd.DataFrame(POP)\n",
    "\n",
    "\n",
    "GDP_df = GDP_df.set_index(\"Country\")\n",
    "POP_df = POP_df.set_index(\"Country\")\n",
    "\n",
    "\n",
    "\n"
   ]
  },
  {
   "cell_type": "code",
   "execution_count": 3,
   "id": "74beca9e-c256-4b37-a8c6-43a430e3777b",
   "metadata": {},
   "outputs": [
    {
     "data": {
      "text/html": [
       "<div>\n",
       "<style scoped>\n",
       "    .dataframe tbody tr th:only-of-type {\n",
       "        vertical-align: middle;\n",
       "    }\n",
       "\n",
       "    .dataframe tbody tr th {\n",
       "        vertical-align: top;\n",
       "    }\n",
       "\n",
       "    .dataframe thead th {\n",
       "        text-align: right;\n",
       "    }\n",
       "</style>\n",
       "<table border=\"1\" class=\"dataframe\">\n",
       "  <thead>\n",
       "    <tr style=\"text-align: right;\">\n",
       "      <th></th>\n",
       "      <th>GDP</th>\n",
       "    </tr>\n",
       "    <tr>\n",
       "      <th>Country</th>\n",
       "      <th></th>\n",
       "    </tr>\n",
       "  </thead>\n",
       "  <tbody>\n",
       "    <tr>\n",
       "      <th>USA</th>\n",
       "      <td>28.78</td>\n",
       "    </tr>\n",
       "    <tr>\n",
       "      <th>Canada</th>\n",
       "      <td>2.24</td>\n",
       "    </tr>\n",
       "    <tr>\n",
       "      <th>France</th>\n",
       "      <td>3.13</td>\n",
       "    </tr>\n",
       "    <tr>\n",
       "      <th>Australia</th>\n",
       "      <td>1.79</td>\n",
       "    </tr>\n",
       "    <tr>\n",
       "      <th>India</th>\n",
       "      <td>3.94</td>\n",
       "    </tr>\n",
       "    <tr>\n",
       "      <th>China</th>\n",
       "      <td>18.53</td>\n",
       "    </tr>\n",
       "  </tbody>\n",
       "</table>\n",
       "</div>"
      ],
      "text/plain": [
       "             GDP\n",
       "Country         \n",
       "USA        28.78\n",
       "Canada      2.24\n",
       "France      3.13\n",
       "Australia   1.79\n",
       "India       3.94\n",
       "China      18.53"
      ]
     },
     "metadata": {},
     "output_type": "display_data"
    },
    {
     "data": {
      "text/html": [
       "<div>\n",
       "<style scoped>\n",
       "    .dataframe tbody tr th:only-of-type {\n",
       "        vertical-align: middle;\n",
       "    }\n",
       "\n",
       "    .dataframe tbody tr th {\n",
       "        vertical-align: top;\n",
       "    }\n",
       "\n",
       "    .dataframe thead th {\n",
       "        text-align: right;\n",
       "    }\n",
       "</style>\n",
       "<table border=\"1\" class=\"dataframe\">\n",
       "  <thead>\n",
       "    <tr style=\"text-align: right;\">\n",
       "      <th></th>\n",
       "      <th>Population</th>\n",
       "    </tr>\n",
       "    <tr>\n",
       "      <th>Country</th>\n",
       "      <th></th>\n",
       "    </tr>\n",
       "  </thead>\n",
       "  <tbody>\n",
       "    <tr>\n",
       "      <th>USA</th>\n",
       "      <td>345427000</td>\n",
       "    </tr>\n",
       "    <tr>\n",
       "      <th>India</th>\n",
       "      <td>1450940000</td>\n",
       "    </tr>\n",
       "    <tr>\n",
       "      <th>Russia</th>\n",
       "      <td>144820000</td>\n",
       "    </tr>\n",
       "    <tr>\n",
       "      <th>England</th>\n",
       "      <td>69138200</td>\n",
       "    </tr>\n",
       "    <tr>\n",
       "      <th>Germany</th>\n",
       "      <td>84552200</td>\n",
       "    </tr>\n",
       "    <tr>\n",
       "      <th>China</th>\n",
       "      <td>1419320000</td>\n",
       "    </tr>\n",
       "  </tbody>\n",
       "</table>\n",
       "</div>"
      ],
      "text/plain": [
       "         Population\n",
       "Country            \n",
       "USA       345427000\n",
       "India    1450940000\n",
       "Russia    144820000\n",
       "England    69138200\n",
       "Germany    84552200\n",
       "China    1419320000"
      ]
     },
     "metadata": {},
     "output_type": "display_data"
    }
   ],
   "source": [
    "# Display DataFrames GDP_df and POP_df. \n",
    "\n",
    "display(GDP_df, POP_df)"
   ]
  },
  {
   "cell_type": "code",
   "execution_count": null,
   "id": "e2c2fa67-af24-470d-8bc0-7df084f52935",
   "metadata": {},
   "outputs": [],
   "source": []
  },
  {
   "cell_type": "markdown",
   "id": "9e94cf8c-b02e-4234-85a1-a0126d107674",
   "metadata": {},
   "source": [
    "# Level 1"
   ]
  },
  {
   "cell_type": "markdown",
   "id": "f73d7310-74a4-4dc1-8579-d32f7f458f30",
   "metadata": {},
   "source": [
    "##### Do `GDP_df` and `POP_df` have a common (meaningful) index ?\n",
    "##### Answer: \n",
    "\n",
    "\n",
    "##### Based on your answer above, what should we use `.join()` or `.merge()` ?\n",
    "##### Answer: \n",
    "\n",
    "##### To avoid confusion, let us call `GDP_df` to be the \"left\" DataFrame and `POP_df` to be the \"right\" DataFrame. "
   ]
  },
  {
   "cell_type": "code",
   "execution_count": 14,
   "id": "758d3ee9-02c7-4d04-9b3f-a50d99db4ace",
   "metadata": {},
   "outputs": [],
   "source": [
    "# Write a one line code to join/merge GDP_df and POP_df so that all the information in GDP_df remains intact. \n",
    "# Store the new DataFrame as join_1_df. \n",
    "\n",
    "\n"
   ]
  },
  {
   "cell_type": "code",
   "execution_count": 15,
   "id": "68a0895b-6a2f-4ad1-98c4-c27898a57163",
   "metadata": {},
   "outputs": [],
   "source": [
    "# Write a one line code to join/merge GDP_df and POP_df so that all the information in POP_df remains intact. \n",
    "# Store the new DataFrame as join_2_df. \n",
    "\n"
   ]
  },
  {
   "cell_type": "code",
   "execution_count": 16,
   "id": "55767d53-60c9-409c-aa19-76767fc897af",
   "metadata": {},
   "outputs": [],
   "source": [
    "# Write a one line code to join/merge GDP_df and POP_df so that all the information in both the DataFrames is preserved. \n",
    "# Store the new DataFrame as join_3_df. \n",
    "\n"
   ]
  },
  {
   "cell_type": "code",
   "execution_count": 17,
   "id": "ecd0d6db-94a7-4b83-9062-1612be2b9ded",
   "metadata": {},
   "outputs": [],
   "source": [
    "# Write a one line code to join/merge GDP_df and POP_df so that only the common information is preserved. \n",
    "# Store the new DataFrame as join_4_df. \n"
   ]
  },
  {
   "cell_type": "markdown",
   "id": "a6ac0496-4473-44a1-8f58-eb39852a77da",
   "metadata": {},
   "source": [
    "# Level 2"
   ]
  },
  {
   "cell_type": "code",
   "execution_count": 8,
   "id": "eef1a638-ee25-43b3-a1f5-39cfcd3cd003",
   "metadata": {},
   "outputs": [
    {
     "data": {
      "text/html": [
       "<div>\n",
       "<style scoped>\n",
       "    .dataframe tbody tr th:only-of-type {\n",
       "        vertical-align: middle;\n",
       "    }\n",
       "\n",
       "    .dataframe tbody tr th {\n",
       "        vertical-align: top;\n",
       "    }\n",
       "\n",
       "    .dataframe thead th {\n",
       "        text-align: right;\n",
       "    }\n",
       "</style>\n",
       "<table border=\"1\" class=\"dataframe\">\n",
       "  <thead>\n",
       "    <tr style=\"text-align: right;\">\n",
       "      <th></th>\n",
       "      <th>Country</th>\n",
       "      <th>GDP</th>\n",
       "    </tr>\n",
       "  </thead>\n",
       "  <tbody>\n",
       "    <tr>\n",
       "      <th>0</th>\n",
       "      <td>USA</td>\n",
       "      <td>28.78</td>\n",
       "    </tr>\n",
       "    <tr>\n",
       "      <th>1</th>\n",
       "      <td>Canada</td>\n",
       "      <td>2.24</td>\n",
       "    </tr>\n",
       "    <tr>\n",
       "      <th>2</th>\n",
       "      <td>France</td>\n",
       "      <td>3.13</td>\n",
       "    </tr>\n",
       "    <tr>\n",
       "      <th>3</th>\n",
       "      <td>Australia</td>\n",
       "      <td>1.79</td>\n",
       "    </tr>\n",
       "    <tr>\n",
       "      <th>4</th>\n",
       "      <td>India</td>\n",
       "      <td>3.94</td>\n",
       "    </tr>\n",
       "    <tr>\n",
       "      <th>5</th>\n",
       "      <td>China</td>\n",
       "      <td>18.53</td>\n",
       "    </tr>\n",
       "  </tbody>\n",
       "</table>\n",
       "</div>"
      ],
      "text/plain": [
       "     Country    GDP\n",
       "0        USA  28.78\n",
       "1     Canada   2.24\n",
       "2     France   3.13\n",
       "3  Australia   1.79\n",
       "4      India   3.94\n",
       "5      China  18.53"
      ]
     },
     "metadata": {},
     "output_type": "display_data"
    },
    {
     "data": {
      "text/html": [
       "<div>\n",
       "<style scoped>\n",
       "    .dataframe tbody tr th:only-of-type {\n",
       "        vertical-align: middle;\n",
       "    }\n",
       "\n",
       "    .dataframe tbody tr th {\n",
       "        vertical-align: top;\n",
       "    }\n",
       "\n",
       "    .dataframe thead th {\n",
       "        text-align: right;\n",
       "    }\n",
       "</style>\n",
       "<table border=\"1\" class=\"dataframe\">\n",
       "  <thead>\n",
       "    <tr style=\"text-align: right;\">\n",
       "      <th></th>\n",
       "      <th>Country</th>\n",
       "      <th>Population</th>\n",
       "    </tr>\n",
       "  </thead>\n",
       "  <tbody>\n",
       "    <tr>\n",
       "      <th>0</th>\n",
       "      <td>USA</td>\n",
       "      <td>345427000</td>\n",
       "    </tr>\n",
       "    <tr>\n",
       "      <th>1</th>\n",
       "      <td>India</td>\n",
       "      <td>1450940000</td>\n",
       "    </tr>\n",
       "    <tr>\n",
       "      <th>2</th>\n",
       "      <td>Russia</td>\n",
       "      <td>144820000</td>\n",
       "    </tr>\n",
       "    <tr>\n",
       "      <th>3</th>\n",
       "      <td>England</td>\n",
       "      <td>69138200</td>\n",
       "    </tr>\n",
       "    <tr>\n",
       "      <th>4</th>\n",
       "      <td>Germany</td>\n",
       "      <td>84552200</td>\n",
       "    </tr>\n",
       "    <tr>\n",
       "      <th>5</th>\n",
       "      <td>China</td>\n",
       "      <td>1419320000</td>\n",
       "    </tr>\n",
       "  </tbody>\n",
       "</table>\n",
       "</div>"
      ],
      "text/plain": [
       "   Country  Population\n",
       "0      USA   345427000\n",
       "1    India  1450940000\n",
       "2   Russia   144820000\n",
       "3  England    69138200\n",
       "4  Germany    84552200\n",
       "5    China  1419320000"
      ]
     },
     "metadata": {},
     "output_type": "display_data"
    }
   ],
   "source": [
    "# Let us modify GDP_df and POP_df. \n",
    "\n",
    "GDP_new_df = GDP_df.reset_index()\n",
    "POP_new_df = POP_df.reset_index()\n",
    "\n",
    "\n",
    "display(GDP_new_df, POP_new_df)"
   ]
  },
  {
   "cell_type": "markdown",
   "id": "d479fcba-b103-4f30-9055-f725614e3368",
   "metadata": {},
   "source": [
    "##### Do `GDP_new_df` and `POP_new_df` have a common (meaningful) index ?\n",
    "##### Answer: \n",
    "\n",
    "\n",
    "##### Based on your answer above, what should we use `.join()` or `.merge()` ?\n",
    "##### Answer: \n",
    "\n",
    "##### To avoid confusion, let us call `GDP_new_df` to be the \"left\" DataFrame and `POP_new_df` to be the \"right\" DataFrame. "
   ]
  },
  {
   "cell_type": "code",
   "execution_count": 18,
   "id": "5d82d8a2-b940-4859-8ecc-d405eac60c59",
   "metadata": {},
   "outputs": [],
   "source": [
    "# Write a one line code to join/merge GDP_new_df and POP_new_df so that all the information in GDP_new_df remains intact. \n",
    "# Store the new DataFrame as merge_1_df. \n",
    "\n",
    "\n"
   ]
  },
  {
   "cell_type": "code",
   "execution_count": 10,
   "id": "e242e15d-178c-4874-8abb-1ca93ab4b58e",
   "metadata": {},
   "outputs": [],
   "source": [
    "# Next try how = \"right\" option in the above code. \n",
    "\n",
    "\n",
    "\n",
    "\n",
    "\n",
    "\n",
    "\n",
    "# Now try how = \"outer\" option in the above code. \n",
    "\n",
    "\n",
    "\n",
    "\n",
    "\n",
    "\n",
    "\n",
    "# Finally try how = \"inner\" option in the above code. \n",
    "\n",
    "\n",
    "\n",
    "\n"
   ]
  },
  {
   "cell_type": "markdown",
   "id": "1c4deec9-dba2-4fea-8094-35e989c6e5f7",
   "metadata": {},
   "source": [
    "# Level 3"
   ]
  },
  {
   "cell_type": "code",
   "execution_count": 11,
   "id": "7ef4e828-cabe-4796-b815-18efae2eb895",
   "metadata": {},
   "outputs": [
    {
     "data": {
      "text/html": [
       "<div>\n",
       "<style scoped>\n",
       "    .dataframe tbody tr th:only-of-type {\n",
       "        vertical-align: middle;\n",
       "    }\n",
       "\n",
       "    .dataframe tbody tr th {\n",
       "        vertical-align: top;\n",
       "    }\n",
       "\n",
       "    .dataframe thead th {\n",
       "        text-align: right;\n",
       "    }\n",
       "</style>\n",
       "<table border=\"1\" class=\"dataframe\">\n",
       "  <thead>\n",
       "    <tr style=\"text-align: right;\">\n",
       "      <th></th>\n",
       "      <th>country_name</th>\n",
       "      <th>GDP</th>\n",
       "    </tr>\n",
       "  </thead>\n",
       "  <tbody>\n",
       "    <tr>\n",
       "      <th>0</th>\n",
       "      <td>USA</td>\n",
       "      <td>28.78</td>\n",
       "    </tr>\n",
       "    <tr>\n",
       "      <th>1</th>\n",
       "      <td>Canada</td>\n",
       "      <td>2.24</td>\n",
       "    </tr>\n",
       "    <tr>\n",
       "      <th>2</th>\n",
       "      <td>France</td>\n",
       "      <td>3.13</td>\n",
       "    </tr>\n",
       "    <tr>\n",
       "      <th>3</th>\n",
       "      <td>Australia</td>\n",
       "      <td>1.79</td>\n",
       "    </tr>\n",
       "    <tr>\n",
       "      <th>4</th>\n",
       "      <td>India</td>\n",
       "      <td>3.94</td>\n",
       "    </tr>\n",
       "    <tr>\n",
       "      <th>5</th>\n",
       "      <td>China</td>\n",
       "      <td>18.53</td>\n",
       "    </tr>\n",
       "  </tbody>\n",
       "</table>\n",
       "</div>"
      ],
      "text/plain": [
       "  country_name    GDP\n",
       "0          USA  28.78\n",
       "1       Canada   2.24\n",
       "2       France   3.13\n",
       "3    Australia   1.79\n",
       "4        India   3.94\n",
       "5        China  18.53"
      ]
     },
     "execution_count": 11,
     "metadata": {},
     "output_type": "execute_result"
    }
   ],
   "source": [
    "# Let us change the column name \"Country\" to \"country_name\" for the GDP_new_df DataFrame. \n",
    "# Store your answer as GDP_newest_df. \n",
    "\n",
    "GDP_newest_df = GDP_new_df.rename(columns = {\"Country\": \"country_name\"})\n",
    "\n",
    "GDP_newest_df\n"
   ]
  },
  {
   "cell_type": "markdown",
   "id": "9538c87b-7987-418d-bf43-81358f88832a",
   "metadata": {},
   "source": [
    "##### Do `GDP_newest_df` and `POP_new_df` have a common (meaningful) index ?\n",
    "##### Answer: \n",
    "\n",
    "\n",
    "##### Based on your answer above, what should be use `.join()` or `.merge()` ?\n",
    "##### Answer: \n",
    "\n",
    "##### To avoid confusion, let us call `GDP_newest_df` to be the \"left\" DataFrame and `POP_new_df` to be the \"right\" DataFrame. "
   ]
  },
  {
   "cell_type": "code",
   "execution_count": 19,
   "id": "4d495854-e29a-4dee-9b80-7d943728258f",
   "metadata": {},
   "outputs": [],
   "source": [
    "# Write a one line code to join/merge GDP_newest_df and POP_new_df so that all the information in GDP_newest_df remains intact. \n",
    "# Store the new DataFrame as merge_2_df. \n",
    "\n",
    "\n",
    "\n"
   ]
  },
  {
   "cell_type": "code",
   "execution_count": null,
   "id": "183ffe57-c690-4293-a4fa-4c86ba221a10",
   "metadata": {},
   "outputs": [],
   "source": []
  },
  {
   "cell_type": "code",
   "execution_count": 13,
   "id": "4c44d03f-afd9-4ca6-a2a2-92a26eee252a",
   "metadata": {},
   "outputs": [],
   "source": [
    "# Next try how = \"right\" option in the above code. \n",
    "\n",
    "\n",
    "\n",
    "\n",
    "\n",
    "\n",
    "\n",
    "# Now try how = \"outer\" option in the above code. \n",
    "\n",
    "\n",
    "\n",
    "\n",
    "\n",
    "\n",
    "\n",
    "# Finally try how = \"inner\" option in the above code. \n",
    "\n",
    "\n",
    "\n",
    "\n"
   ]
  }
 ],
 "metadata": {
  "kernelspec": {
   "display_name": "Python 3 (ipykernel)",
   "language": "python",
   "name": "python3"
  },
  "language_info": {
   "codemirror_mode": {
    "name": "ipython",
    "version": 3
   },
   "file_extension": ".py",
   "mimetype": "text/x-python",
   "name": "python",
   "nbconvert_exporter": "python",
   "pygments_lexer": "ipython3",
   "version": "3.13.1"
  }
 },
 "nbformat": 4,
 "nbformat_minor": 5
}
