{
 "cells": [
  {
   "cell_type": "markdown",
   "id": "a6d125f7-e6a2-4922-807b-f5277c21c67c",
   "metadata": {},
   "source": [
    "# Practice Session 1"
   ]
  },
  {
   "cell_type": "markdown",
   "id": "5beca053-eff1-4935-87d4-4a70bfaaf8ca",
   "metadata": {},
   "source": [
    "Welcome to (Preceptor) Practice Session 1! \n",
    "Please complete this notebook by filling in the cells provided. "
   ]
  },
  {
   "cell_type": "code",
   "execution_count": 14,
   "id": "32fee334-18a7-460f-9db2-261d417506f3",
   "metadata": {},
   "outputs": [],
   "source": [
    "import YData\n",
    "\n",
    "\n",
    "\n",
    "##### Download Practice Notebook. ####\n",
    "#YData.download_practice_code(1)             Without Answers. \n",
    "#YData.download_practice_code(1, True)      With Answers (won't work until Friday eve).\n",
    "\n",
    "\n",
    "\n",
    "\n",
    "#### Download Data. ####\n",
    "#YData.download_data('book_mark_twain.txt')\n",
    "\n",
    "\n",
    "\n",
    "\n",
    "\n",
    "\n"
   ]
  },
  {
   "cell_type": "markdown",
   "id": "1d5a6c0e-124e-48f1-b929-cce1142a2e3c",
   "metadata": {},
   "source": [
    "## 1. Names, Assignment Statements and Error Messages"
   ]
  },
  {
   "cell_type": "markdown",
   "id": "0674cb56-2101-43ff-8bec-a5ac994c501a",
   "metadata": {},
   "source": [
    "Question 1.1: What is wrong with the following code?"
   ]
  },
  {
   "cell_type": "code",
   "execution_count": 5,
   "id": "42e0d746-2d54-4647-93e4-c94c2e38d16c",
   "metadata": {
    "scrolled": true
   },
   "outputs": [
    {
     "ename": "SyntaxError",
     "evalue": "invalid syntax (3086352036.py, line 1)",
     "output_type": "error",
     "traceback": [
      "\u001b[0;36m  Cell \u001b[0;32mIn[5], line 1\u001b[0;36m\u001b[0m\n\u001b[0;31m    x = ydata 123\u001b[0m\n\u001b[0m              ^\u001b[0m\n\u001b[0;31mSyntaxError\u001b[0m\u001b[0;31m:\u001b[0m invalid syntax\n"
     ]
    }
   ],
   "source": [
    "x = ydata 123"
   ]
  },
  {
   "cell_type": "markdown",
   "id": "fe7e88ca-b48d-4b5a-bc42-71dbddec9298",
   "metadata": {},
   "source": [
    "Answer 1.1: "
   ]
  },
  {
   "cell_type": "markdown",
   "id": "c92184bc-ea10-4692-8ab0-33f1a6a96105",
   "metadata": {},
   "source": [
    "Question 1.2: What is wrong with the following code?"
   ]
  },
  {
   "cell_type": "code",
   "execution_count": 9,
   "id": "8337f0f6-5a44-4fa2-b7a8-35ac0b5c2868",
   "metadata": {},
   "outputs": [
    {
     "ename": "NameError",
     "evalue": "name 'q' is not defined",
     "output_type": "error",
     "traceback": [
      "\u001b[0;31m---------------------------------------------------------------------------\u001b[0m",
      "\u001b[0;31mNameError\u001b[0m                                 Traceback (most recent call last)",
      "Cell \u001b[0;32mIn[9], line 1\u001b[0m\n\u001b[0;32m----> 1\u001b[0m u \u001b[38;5;241m=\u001b[39m x \u001b[38;5;241m*\u001b[39m \u001b[43mq\u001b[49m\n",
      "\u001b[0;31mNameError\u001b[0m: name 'q' is not defined"
     ]
    }
   ],
   "source": [
    "u = x * q"
   ]
  },
  {
   "cell_type": "markdown",
   "id": "75ce040a-1b9f-476a-acdc-1a03d39050e4",
   "metadata": {},
   "source": [
    "Answer 1.2: "
   ]
  },
  {
   "cell_type": "markdown",
   "id": "233e552c-e0d2-4477-966b-96d46856443f",
   "metadata": {},
   "source": [
    "Question 1.3: What is wrong with the following code?"
   ]
  },
  {
   "cell_type": "code",
   "execution_count": 13,
   "id": "6541b5da-f7e4-4fd0-8a01-76f45ddcdb38",
   "metadata": {},
   "outputs": [
    {
     "ename": "TypeError",
     "evalue": "bad operand type for abs(): 'str'",
     "output_type": "error",
     "traceback": [
      "\u001b[0;31m---------------------------------------------------------------------------\u001b[0m",
      "\u001b[0;31mTypeError\u001b[0m                                 Traceback (most recent call last)",
      "Cell \u001b[0;32mIn[13], line 1\u001b[0m\n\u001b[0;32m----> 1\u001b[0m \u001b[38;5;28;43mabs\u001b[39;49m\u001b[43m(\u001b[49m\u001b[38;5;124;43m\"\u001b[39;49m\u001b[38;5;124;43mhello\u001b[39;49m\u001b[38;5;124;43m\"\u001b[39;49m\u001b[43m)\u001b[49m\n",
      "\u001b[0;31mTypeError\u001b[0m: bad operand type for abs(): 'str'"
     ]
    }
   ],
   "source": [
    "abs(\"hello\")\n"
   ]
  },
  {
   "cell_type": "markdown",
   "id": "4be7e36c-9a2d-4311-88d0-a0839197fc97",
   "metadata": {},
   "source": [
    "Answer 1.3: "
   ]
  },
  {
   "cell_type": "markdown",
   "id": "2cf9134b-94ef-464b-ad1b-0eaebdcbac4b",
   "metadata": {},
   "source": [
    "Question 1.4: Write one line code to check if 4.1 is an int or a float."
   ]
  },
  {
   "cell_type": "code",
   "execution_count": null,
   "id": "8a4b33d2-6640-4cd5-906a-b69a4ffd7104",
   "metadata": {},
   "outputs": [],
   "source": []
  },
  {
   "cell_type": "markdown",
   "id": "c199e967-4442-4ec5-ba97-f9415a1201f1",
   "metadata": {},
   "source": [
    "Question 1.5: Round 4.1 to the nearest integer and store your answer as `x`."
   ]
  },
  {
   "cell_type": "code",
   "execution_count": null,
   "id": "254a9ffa-7abb-4529-b619-675d89efbe00",
   "metadata": {},
   "outputs": [],
   "source": []
  },
  {
   "cell_type": "markdown",
   "id": "9f15117d-8854-4149-8bbd-028569ff53fa",
   "metadata": {},
   "source": [
    "Question 1.6: Write one line code to check if `x` from the previous step is a float or an int. "
   ]
  },
  {
   "cell_type": "code",
   "execution_count": null,
   "id": "2247cb6b-5810-4601-8348-83ff48c5d387",
   "metadata": {},
   "outputs": [],
   "source": []
  },
  {
   "cell_type": "markdown",
   "id": "5157eb14-1f50-4a72-9b6b-b6f44e6569f9",
   "metadata": {},
   "source": [
    "# 2. Basic Statistics "
   ]
  },
  {
   "cell_type": "markdown",
   "id": "c563d21c-e480-40ff-b685-e95a0bbccbc1",
   "metadata": {},
   "source": [
    "Let us try to compute (estimate) the volume of Earth. \n",
    "You may use the following data:\n",
    "- The equatorial radius of Earth is 3963.2 miles.\n",
    "- The polar radius of Earth is 3949.9 miles.\n",
    "\n",
    "Also, recall volume `V` is given by the formula $ V = \\frac{4}{3} \\pi r^3 $ where $r$ is the radius. \n",
    "\n",
    "\n",
    "\n",
    "Data source: https://sciencing.com/what-volume-earth-4689019.html"
   ]
  },
  {
   "cell_type": "markdown",
   "id": "e592f797-f08f-426f-b68d-51a60d4bea0f",
   "metadata": {},
   "source": [
    "Question 2.1: Let us first compute the average radius and store our answer as `r`."
   ]
  },
  {
   "cell_type": "code",
   "execution_count": null,
   "id": "4dc294af-c36b-484f-b651-2b5113358b3b",
   "metadata": {},
   "outputs": [],
   "source": []
  },
  {
   "cell_type": "markdown",
   "id": "0cdd9536-d862-43d8-836d-810b18db83e9",
   "metadata": {},
   "source": [
    "Question 2.2: Now compute volume using the formula above and save your answer as `V`. (you may use $ \\pi = 3.14 $)"
   ]
  },
  {
   "cell_type": "code",
   "execution_count": null,
   "id": "83420f91-1992-46c3-a7dc-d6d8b66da958",
   "metadata": {},
   "outputs": [],
   "source": []
  },
  {
   "cell_type": "markdown",
   "id": "42620cd9-ef6a-4554-8d7b-25dfcdbd58e8",
   "metadata": {},
   "source": [
    "Question 2.3: Round your answer to two decimal places. "
   ]
  },
  {
   "cell_type": "code",
   "execution_count": null,
   "id": "6edbe1d6-be17-4b31-9d26-8aa2160b4777",
   "metadata": {},
   "outputs": [],
   "source": []
  },
  {
   "cell_type": "markdown",
   "id": "c9da6100-d0e8-479c-8d79-5d8f56ea6ddf",
   "metadata": {},
   "source": [
    "# 3. Lists"
   ]
  },
  {
   "cell_type": "markdown",
   "id": "6b191079-2772-4830-863e-f13481f65c66",
   "metadata": {},
   "source": [
    "One of the most widely use data structures in Python is the list. As we discussed in class, lists can hold any type of item, and we can use square brackets `[]` to create, set, and extract elements from lists."
   ]
  },
  {
   "cell_type": "markdown",
   "id": "606d250b-cbe5-4032-aa82-5b8b1bc067d3",
   "metadata": {},
   "source": [
    "Question 3.1: Create a list called `ivy` consisting of 8 items (strings) in the order specified here: Dartmouth, Harvard, Brown, Yale, Columbia, Cornell, UPenn, and Princeton. "
   ]
  },
  {
   "cell_type": "code",
   "execution_count": null,
   "id": "3071d8e1-bec0-4106-87b0-0aef9e25131f",
   "metadata": {},
   "outputs": [],
   "source": []
  },
  {
   "cell_type": "markdown",
   "id": "1131948e-014d-470a-8fe9-49be22602c24",
   "metadata": {},
   "source": [
    "Question 3.2: Write code to print the list and count the number of objects it contains."
   ]
  },
  {
   "cell_type": "code",
   "execution_count": null,
   "id": "5b0ec211-29cf-4bbf-a322-b7a500740e10",
   "metadata": {},
   "outputs": [],
   "source": []
  },
  {
   "cell_type": "code",
   "execution_count": null,
   "id": "23ab6a44-3db9-4c80-b503-13b7569d4dd0",
   "metadata": {},
   "outputs": [],
   "source": []
  },
  {
   "cell_type": "markdown",
   "id": "8aeeec89-e6b4-4a3f-8e7e-df08d5b0b119",
   "metadata": {},
   "source": [
    "Question 3.3: Write one line code to extract the third item in the list.  "
   ]
  },
  {
   "cell_type": "code",
   "execution_count": null,
   "id": "a861bbf9-53b6-49e5-ad02-13b6a9020483",
   "metadata": {},
   "outputs": [],
   "source": []
  },
  {
   "cell_type": "markdown",
   "id": "050c922f-b55b-40ab-a996-efc513cd2f35",
   "metadata": {},
   "source": [
    "Question 3.4: Write one line code to extract all the items from Harvard through UPenn. "
   ]
  },
  {
   "cell_type": "code",
   "execution_count": null,
   "id": "cb309f26-21da-48d9-90f1-d5a77f042938",
   "metadata": {},
   "outputs": [],
   "source": []
  },
  {
   "cell_type": "markdown",
   "id": "8ddc50f1-72e8-4e5e-9089-78c53705f9a2",
   "metadata": {},
   "source": [
    "Question 3.5: Write a one line code to extract all the items but the last item in the list. "
   ]
  },
  {
   "cell_type": "code",
   "execution_count": null,
   "id": "490cf4ca-4f49-4d41-9597-72f6adee5cbc",
   "metadata": {},
   "outputs": [],
   "source": []
  },
  {
   "cell_type": "markdown",
   "id": "1f4e231d-16a2-4a76-aa6d-57ee8beb35f5",
   "metadata": {},
   "source": [
    "Question 3.6: Write a one line code to extract all the items starting from Brown. "
   ]
  },
  {
   "cell_type": "code",
   "execution_count": null,
   "id": "51f0dfe8-d410-454e-8367-e047f72953c3",
   "metadata": {},
   "outputs": [],
   "source": []
  },
  {
   "cell_type": "markdown",
   "id": "852ee8e3-cf37-499b-b93e-41ac2cc7ab74",
   "metadata": {},
   "source": [
    "Question 3.7: Write a one line code to replace the string 'Dartmouth' with 'MIT' in the list. Then print out the modified list. "
   ]
  },
  {
   "cell_type": "code",
   "execution_count": null,
   "id": "7e105b14-d2c9-4649-a63f-64831f0e6186",
   "metadata": {},
   "outputs": [],
   "source": []
  },
  {
   "cell_type": "code",
   "execution_count": null,
   "id": "a9c39190-8c3b-4497-96c3-0cd18ffc7a55",
   "metadata": {},
   "outputs": [],
   "source": []
  },
  {
   "cell_type": "markdown",
   "id": "de770384-05ba-4209-83e1-31053b6dd02e",
   "metadata": {},
   "source": [
    "Question 3.8: Write a one line to add Dartmouth back to the list. "
   ]
  },
  {
   "cell_type": "code",
   "execution_count": null,
   "id": "8f770abf-19df-4b14-90ec-a9a991cd3126",
   "metadata": {},
   "outputs": [],
   "source": []
  },
  {
   "cell_type": "markdown",
   "id": "2297fb68-b640-4730-84d7-cfe9a21303e7",
   "metadata": {},
   "source": [
    "Question 3.9: Wtie a one line code to add Yale at the end of the list. "
   ]
  },
  {
   "cell_type": "code",
   "execution_count": null,
   "id": "e71c79ac-74fc-4e24-957f-842b888bfb85",
   "metadata": {},
   "outputs": [],
   "source": []
  },
  {
   "cell_type": "markdown",
   "id": "7ec2cd18-954a-4029-a5a0-9a7e752b5ba8",
   "metadata": {},
   "source": [
    "Question 3.10: Write a one line code to count the number of times Yale appears in the above list. "
   ]
  },
  {
   "cell_type": "code",
   "execution_count": null,
   "id": "6d1794d5-dbcc-48bb-8500-7d5e988f9cf3",
   "metadata": {},
   "outputs": [],
   "source": []
  },
  {
   "cell_type": "markdown",
   "id": "eb785512-3c6f-4941-adac-9467e3e9ceac",
   "metadata": {},
   "source": [
    "# 4. Strings"
   ]
  },
  {
   "cell_type": "markdown",
   "id": "89e51833-511d-4d37-b522-bc7676a1bcd2",
   "metadata": {},
   "source": [
    "As discussed during the lecture, text in Python is held in character strings. Let's explore some of the basics of manipulating character strings by looking at the book \"What is Man? And Other Stories\" which was written by Mark Twain.\n",
    "\n"
   ]
  },
  {
   "cell_type": "code",
   "execution_count": 16,
   "id": "9776507b-5803-464f-a80f-6d8ef3bbbe5b",
   "metadata": {},
   "outputs": [],
   "source": [
    "file = open('book_mark_twain.txt', 'r', encoding=\"utf8\")\n",
    "mtbook_data = file.read()"
   ]
  },
  {
   "cell_type": "markdown",
   "id": "ad7a7df2-aa67-46cd-b69c-c27e3230bd86",
   "metadata": {},
   "source": [
    "Question 4.1: What is the type of data in mtbook_data?"
   ]
  },
  {
   "cell_type": "code",
   "execution_count": null,
   "id": "19ffc9bc-9d6a-44fe-b12e-8d86ab7db492",
   "metadata": {},
   "outputs": [],
   "source": []
  },
  {
   "cell_type": "markdown",
   "id": "a9e8622f-4ef2-4986-887c-102f78754e7e",
   "metadata": {},
   "source": [
    "Question 4.2: Write a code to extract first 10 characters(letters) in the book."
   ]
  },
  {
   "cell_type": "code",
   "execution_count": null,
   "id": "15336c29-cc39-417b-9735-d02ad3a97b85",
   "metadata": {},
   "outputs": [],
   "source": []
  },
  {
   "cell_type": "markdown",
   "id": "16aaa8b9-8005-4227-b429-382fa4043912",
   "metadata": {},
   "source": [
    "Question 4.3: Write a code to extract first 100 characters (letters) in the book. "
   ]
  },
  {
   "cell_type": "code",
   "execution_count": null,
   "id": "bad193ca-17fe-4051-9794-20011b474073",
   "metadata": {},
   "outputs": [],
   "source": []
  },
  {
   "cell_type": "markdown",
   "id": "e858eebd-bbbb-4ec6-9807-5276da846b91",
   "metadata": {},
   "source": [
    "Question 4.4: Write a one line code to make first 100 characters lower case."
   ]
  },
  {
   "cell_type": "code",
   "execution_count": null,
   "id": "bb67ffb3-f32d-4a28-901e-19aa3c2aa024",
   "metadata": {},
   "outputs": [],
   "source": []
  },
  {
   "cell_type": "markdown",
   "id": "48ff5002-26d5-4b1c-b05b-67d07d46205c",
   "metadata": {},
   "source": [
    "##### Let's now examine how many times the symbol \"?\" appears in the book?. To do this, let's count how many times the substring \"?\" occurs in the book. In particular, we can use the `my_string.count(my_substring`) method where:\n",
    "- `my_string`: refers to the longer piece of text we want to search through.\n",
    "- `count()` is the name of the method we are using to count how many times my_substring occurs.\n",
    "- `my_substring` is the string we are searching for and counting in the longer piece of text given by my_string.\n"
   ]
  },
  {
   "cell_type": "markdown",
   "id": "04dca51f-b265-461e-9fa0-94e5ca3c3d76",
   "metadata": {},
   "source": [
    "Question 4.5: Write a code to count the number of times the string \"?\" appears in the book."
   ]
  },
  {
   "cell_type": "code",
   "execution_count": null,
   "id": "0cb2c40e-946c-4427-8937-872bb23947c7",
   "metadata": {},
   "outputs": [],
   "source": []
  },
  {
   "cell_type": "markdown",
   "id": "4c71dbfd-7797-4063-8020-44ded6f29e8f",
   "metadata": {},
   "source": [
    "Question 4.6: Write a one line code to count the number of new lines. "
   ]
  },
  {
   "cell_type": "code",
   "execution_count": null,
   "id": "eb46b19b-81fb-4dcf-a0ef-3b07836be35b",
   "metadata": {},
   "outputs": [],
   "source": []
  },
  {
   "cell_type": "markdown",
   "id": "6c1ee716-e580-4eaf-813b-68eac2864433",
   "metadata": {},
   "source": [
    "Question 4.7: Write one line code to count the number of times the string \"man\" appears. "
   ]
  },
  {
   "cell_type": "code",
   "execution_count": null,
   "id": "db6d5d3f-210a-498e-abad-3f494416908b",
   "metadata": {},
   "outputs": [],
   "source": []
  },
  {
   "cell_type": "markdown",
   "id": "89672cda-8ada-4a61-8fc2-a0959683660c",
   "metadata": {},
   "source": [
    "Question 4.8: Now let us split the book up into a list named `bins_of_man`, where first item of the list consists of the text upto first occurance of \"man\", the second item consists of the text upto second occurance of \"man\", and so on.\n",
    "\n",
    "Hint: the `my_string.split(my_substring)` could be useful here."
   ]
  },
  {
   "cell_type": "code",
   "execution_count": null,
   "id": "8fd4c1a8-2465-4b64-b071-d19d3fa84cff",
   "metadata": {},
   "outputs": [],
   "source": []
  },
  {
   "cell_type": "markdown",
   "id": "646dc8d4-b860-4e06-a1f7-84928e89568e",
   "metadata": {},
   "source": [
    "Question 4.9: Write a one line code to check that `bins_of_man` is indeed a list. "
   ]
  },
  {
   "cell_type": "code",
   "execution_count": null,
   "id": "88b60bc0-7568-474a-9006-ce7cb5dded8f",
   "metadata": {},
   "outputs": [],
   "source": []
  },
  {
   "cell_type": "markdown",
   "id": "79b72f78-ff13-4265-b7d8-3739a4ba635a",
   "metadata": {},
   "source": [
    "Question 4.10: Write a one line code to count the number of items in the list. "
   ]
  },
  {
   "cell_type": "code",
   "execution_count": null,
   "id": "36fea1a9-0a6b-42b2-9f96-4ea8d22eeec7",
   "metadata": {},
   "outputs": [],
   "source": []
  },
  {
   "cell_type": "markdown",
   "id": "c4352fb9-7ed9-4942-bafe-fc12dd3228f3",
   "metadata": {},
   "source": [
    "Question 4.11: Write a one line code to extract the first item in the above list. "
   ]
  },
  {
   "cell_type": "code",
   "execution_count": null,
   "id": "f844c3aa-22ba-4530-9129-8756de9c7986",
   "metadata": {},
   "outputs": [],
   "source": []
  },
  {
   "cell_type": "markdown",
   "id": "0a966720-de38-4d54-8059-74864dfe10a3",
   "metadata": {},
   "source": [
    "Question 4.12: Write a one line code to extract the first three items in the above list. "
   ]
  },
  {
   "cell_type": "code",
   "execution_count": null,
   "id": "b266d413-f497-407f-994a-b648e8ded1f6",
   "metadata": {},
   "outputs": [],
   "source": []
  },
  {
   "cell_type": "markdown",
   "id": "1cf19c4e-87c4-4296-8efb-16c59db50e79",
   "metadata": {},
   "source": [
    "Question 4.13: Let us now extract all the text in the first entry of the list and store it as bin_1."
   ]
  },
  {
   "cell_type": "code",
   "execution_count": null,
   "id": "05c3a28d-ec21-4117-af78-7d263d250fb1",
   "metadata": {},
   "outputs": [],
   "source": []
  },
  {
   "cell_type": "markdown",
   "id": "8dda6b82-d889-4f14-8ab4-93df91a62d88",
   "metadata": {},
   "source": [
    "Question 4.14: Write one line code that removes the string \"Man\" from the first 100 characters (letters) of the text and replaces it with the string \"Monkey\". Store this as`nfirst_100`. "
   ]
  },
  {
   "cell_type": "code",
   "execution_count": null,
   "id": "43e10736-3bed-4395-834d-066bcfa4f42a",
   "metadata": {},
   "outputs": [],
   "source": []
  },
  {
   "cell_type": "markdown",
   "id": "01a60c50-ac71-4258-9784-db88f407280c",
   "metadata": {},
   "source": [
    "Question 4.15: What this does? `first_100[::2]`"
   ]
  },
  {
   "cell_type": "code",
   "execution_count": null,
   "id": "4053fd79-829e-449f-8109-378c61e574c0",
   "metadata": {},
   "outputs": [],
   "source": []
  },
  {
   "cell_type": "markdown",
   "id": "e61eb681-e562-4fbf-bafe-fb412c0061e3",
   "metadata": {},
   "source": [
    "Question 4.16: Write a code to extract characters (letters) 1 through 5 from the 10th item of the list `bins_of_man` and store it as `sentence`. "
   ]
  },
  {
   "cell_type": "code",
   "execution_count": null,
   "id": "7d0203e2-3cf7-4843-9da6-b02212aed3fd",
   "metadata": {},
   "outputs": [],
   "source": []
  }
 ],
 "metadata": {
  "kernelspec": {
   "display_name": "Python 3 (ipykernel)",
   "language": "python",
   "name": "python3"
  },
  "language_info": {
   "codemirror_mode": {
    "name": "ipython",
    "version": 3
   },
   "file_extension": ".py",
   "mimetype": "text/x-python",
   "name": "python",
   "nbconvert_exporter": "python",
   "pygments_lexer": "ipython3",
   "version": "3.13.1"
  }
 },
 "nbformat": 4,
 "nbformat_minor": 5
}
