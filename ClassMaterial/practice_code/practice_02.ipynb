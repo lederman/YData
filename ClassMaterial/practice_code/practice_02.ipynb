{
 "cells": [
  {
   "cell_type": "markdown",
   "id": "7deb2bbd-946a-46bf-b70e-5663212b61c4",
   "metadata": {},
   "source": [
    "##### Welcome to Preceptor Practice Session 2! "
   ]
  },
  {
   "cell_type": "code",
   "execution_count": null,
   "id": "4a3f747e-bcc8-4b43-8468-4762528bd637",
   "metadata": {},
   "outputs": [],
   "source": [
    "#import YData"
   ]
  },
  {
   "cell_type": "code",
   "execution_count": 8,
   "id": "d2225655-1d20-4855-8e01-59745442dd3f",
   "metadata": {},
   "outputs": [],
   "source": [
    "#YData.download.download_practice_code(2)                      # without answers "
   ]
  },
  {
   "cell_type": "code",
   "execution_count": 1,
   "id": "5c8087ea-5b82-4b78-996c-9d26c5aea728",
   "metadata": {},
   "outputs": [],
   "source": [
    "#YData.download.download_practice_code(2,True)                 # with answers"
   ]
  },
  {
   "cell_type": "code",
   "execution_count": 11,
   "id": "e29090fd-98da-46a8-ad24-784874c4ee39",
   "metadata": {},
   "outputs": [],
   "source": [
    "#YData.download.download_data(\"book_mark_twain.txt\")           # code for downloading data"
   ]
  },
  {
   "cell_type": "code",
   "execution_count": 12,
   "id": "f0694656-e953-41e3-bafb-013c39f337a5",
   "metadata": {},
   "outputs": [],
   "source": [
    "#YData.download.download_data(\"netflix.csv\")                   # code for downloading data"
   ]
  },
  {
   "cell_type": "code",
   "execution_count": 13,
   "id": "98eaf851-9d15-46d5-ac30-b648df4d563e",
   "metadata": {},
   "outputs": [],
   "source": [
    "#YData.download.download_data(\"data_science_salaries.csv\")     # code for downloading data"
   ]
  },
  {
   "cell_type": "code",
   "execution_count": 14,
   "id": "03a6ac2c-11cc-4e43-93ed-39e8766d5641",
   "metadata": {},
   "outputs": [],
   "source": [
    "#YData.download.download_data(\"woodard.csv\")                   # code for downloading data"
   ]
  },
  {
   "cell_type": "markdown",
   "id": "413e90c3-790f-4047-b730-16a4529682fb",
   "metadata": {},
   "source": [
    "# 1. Booleans\n",
    "- Booleans represent one of the two values: `True` or `False` in Python.\n",
    "- They are very helpful when comparing strings and mathematical expressions in Python. "
   ]
  },
  {
   "cell_type": "code",
   "execution_count": 1,
   "id": "55f926af-49be-4907-b6a8-0bf1d8a642b4",
   "metadata": {},
   "outputs": [],
   "source": [
    "True + True + (False * 5)"
   ]
  },
  {
   "cell_type": "code",
   "execution_count": 2,
   "id": "309a35e4-b389-41fe-b243-79eae10337b4",
   "metadata": {},
   "outputs": [],
   "source": [
    "True ** False "
   ]
  },
  {
   "cell_type": "code",
   "execution_count": 3,
   "id": "3217d8ef-de63-4403-939a-1bff61c296d6",
   "metadata": {},
   "outputs": [],
   "source": [
    "True != False "
   ]
  },
  {
   "cell_type": "code",
   "execution_count": 4,
   "id": "c7815417-d348-4260-b366-e9d792e4f75d",
   "metadata": {},
   "outputs": [],
   "source": [
    "x = -4 \n",
    "(x ** 2) + (4 * x) == False \n"
   ]
  },
  {
   "cell_type": "code",
   "execution_count": 3,
   "id": "c3a34c96-c426-49e9-8183-d74e71f79227",
   "metadata": {},
   "outputs": [],
   "source": [
    "a = 5\n",
    "b = 10\n",
    "c = 15 \n",
    "\n",
    "h = a - b < -c \n",
    "i = a < a \n",
    "j = c <= c or c < a \n",
    "k = a != c and a > b - c "
   ]
  },
  {
   "cell_type": "code",
   "execution_count": 5,
   "id": "0118a0bf-f913-4f81-8ce6-39d48de9a17f",
   "metadata": {},
   "outputs": [],
   "source": [
    "print(h)\n",
    "print(i)\n",
    "print(j)\n",
    "print(k)"
   ]
  },
  {
   "cell_type": "code",
   "execution_count": 6,
   "id": "02e9347a-edd0-4f22-b5d6-e4a4727847d1",
   "metadata": {},
   "outputs": [],
   "source": [
    "l = not k \n",
    "print(l)"
   ]
  },
  {
   "cell_type": "code",
   "execution_count": 46,
   "id": "a4dbd9a4-bd91-4378-99e2-4ab23011326f",
   "metadata": {},
   "outputs": [],
   "source": [
    "\n",
    "a = 5\n",
    "b = 10\n",
    "c = 15\n",
    "x = (b > a) and (c < b) or (not (a + b > c))\n",
    "y = (b + a >= c) or (c / a > b / a)\n"
   ]
  },
  {
   "cell_type": "code",
   "execution_count": 7,
   "id": "e4def0fe-cbc0-478c-a7d1-5015bc7d7b30",
   "metadata": {},
   "outputs": [],
   "source": [
    "print(x)"
   ]
  },
  {
   "cell_type": "code",
   "execution_count": 8,
   "id": "e8d68f32-d29c-47c8-8420-82b3d8f5ed40",
   "metadata": {},
   "outputs": [],
   "source": [
    "print(y)"
   ]
  },
  {
   "cell_type": "code",
   "execution_count": 9,
   "id": "a4b44293-bff5-483f-bc9c-a2ba87a64e69",
   "metadata": {},
   "outputs": [],
   "source": [
    "\"apples\" > \"oranges\""
   ]
  },
  {
   "cell_type": "code",
   "execution_count": 10,
   "id": "50d50651-9307-469c-9bbf-c503c6f1d48b",
   "metadata": {},
   "outputs": [],
   "source": [
    "\"apples\" > \"apple\""
   ]
  },
  {
   "cell_type": "markdown",
   "id": "d5ca3fe6-0f72-4e9a-9c77-d19e67f751e1",
   "metadata": {},
   "source": [
    "# 2. (More) Strings\n",
    "   "
   ]
  },
  {
   "cell_type": "code",
   "execution_count": 13,
   "id": "495561b5-db18-4ce9-815e-45c86abe38f9",
   "metadata": {},
   "outputs": [],
   "source": [
    "file = open(\"book_mark_twain.txt\", 'r', encoding=\"utf8\")\n",
    "mtbook_data = file.read()"
   ]
  },
  {
   "cell_type": "markdown",
   "id": "a7494b53-6a40-4fcd-9e65-162b7d5d7135",
   "metadata": {},
   "source": [
    "##### 1. Checking string properties\n",
    "\n",
    "There are also many functions to check properties of strings including:\n",
    "\n",
    "- `isalnum()`: Returns True if all characters in the string are alphanumeric.\n",
    "- `isalpha()`: Returns True if all characters in the string are in the alphabet.\n",
    "- `isnumeric()`: Returns True if all characters in the string are numeric.\n",
    "\n",
    "- `isspace()`: Returns True if all characters in the string are whitespaces.\n",
    "\n",
    "- `islower()`: Returns True if all characters in the string are lower case.\n",
    "- `isupper()`:Returns True if all characters in the string are upper case.\n",
    "- `istitle()`: Returns True if the string follows the rules of a title.\n",
    "\n",
    "Let's test some of these methods out...\n"
   ]
  },
  {
   "cell_type": "code",
   "execution_count": 14,
   "id": "d8898cbc-41d5-4020-b233-6a07b18f00a6",
   "metadata": {},
   "outputs": [
    {
     "data": {
      "text/plain": [
       "'\\n\\nTitle: What Is Man? And Other Stories\\n\\nAuthor: Mark Twain (Samuel Clemens)\\n\\nRelease Date: June, 19'"
      ]
     },
     "execution_count": 14,
     "metadata": {},
     "output_type": "execute_result"
    }
   ],
   "source": [
    "# Let us extract first 100 characters from the book.\n",
    "\n",
    "first_100 = mtbook_data[0:100]\n",
    "first_100"
   ]
  },
  {
   "cell_type": "code",
   "execution_count": 11,
   "id": "1d0b97c4-45aa-490a-87e7-8b2268eb84dc",
   "metadata": {},
   "outputs": [],
   "source": [
    "# Does the string first_100 contain characters beyond numbers and alphabets? \n",
    "\n"
   ]
  },
  {
   "cell_type": "code",
   "execution_count": 15,
   "id": "37b75215-60a0-4857-8527-c5a8edcdd28e",
   "metadata": {},
   "outputs": [],
   "source": [
    "# Extract first two characters of the book and check if they are both white spaces. \n",
    "\n",
    "first_2 = mtbook_data[0:2]\n"
   ]
  },
  {
   "cell_type": "code",
   "execution_count": 16,
   "id": "8de406d0-fad1-4983-a9c4-0edadda8512e",
   "metadata": {},
   "outputs": [],
   "source": [
    "# Write a one line code to check if the substring first_100 follows the rules of a title. \n",
    "\n"
   ]
  },
  {
   "cell_type": "markdown",
   "id": "ffd9b935-931b-4be5-9557-9ccd6b8384ed",
   "metadata": {},
   "source": [
    "##### 2. String padding\n",
    "\n",
    "Often we want to remove extra spaces (called \"white space\") from the front or end of a string. Or conversely, sometimes we want to add extra spaces to make a set of strings the same length (this is known as \"string padding\"). \n",
    "\n",
    "Python strings have a number of methods that can pad/trim strings including: \n",
    "\n",
    "- `strip()`: Returns a trimmed version of the string (i.e., with no leading or trailing white space). \n",
    "- `center(num)`: Returns a centered string (with equal padding on both sides).\n",
    "- `zfill(num)`: Fills the string with a specified number of 0 values at the beginning.\n",
    "\n",
    "Let's test some of the methods out....\n"
   ]
  },
  {
   "cell_type": "code",
   "execution_count": 17,
   "id": "a5811d23-4f08-4285-81b4-dbe2efca1793",
   "metadata": {},
   "outputs": [],
   "source": [
    "# Write a one line code to strip the white spaces in the string first_100.\n",
    "\n",
    "\n"
   ]
  },
  {
   "cell_type": "code",
   "execution_count": 18,
   "id": "36cbbf4c-f028-4479-a5a7-afd4bca01c69",
   "metadata": {},
   "outputs": [],
   "source": [
    "# Write a one line code to add white spaces (padding) on both sides to have a total\n",
    "# of 100 characters. \n",
    "\n",
    "\n"
   ]
  },
  {
   "cell_type": "markdown",
   "id": "f3e8252c-a319-488c-9488-38c17545776e",
   "metadata": {},
   "source": [
    "# 3. Categorical Data Analysis "
   ]
  },
  {
   "cell_type": "markdown",
   "id": "f1722b2b-a960-4f4a-bf1f-3f6a36f17bb6",
   "metadata": {},
   "source": [
    "### Main Question: Is Netflix increasingly focusing on TV rather than movies in recent years?\n",
    "- To answer the above question, let us analyse a data set collected by Fixable which is third party Netflix search engine. \n",
    "- This dataset consists of tv shows and movies available on Netflix as of 2019."
   ]
  },
  {
   "cell_type": "code",
   "execution_count": 5,
   "id": "5a665d99-e89b-4259-b4f6-6dd0df9755d5",
   "metadata": {},
   "outputs": [],
   "source": [
    "import pandas as pd"
   ]
  },
  {
   "cell_type": "code",
   "execution_count": 7,
   "id": "e3511fb0-9161-401d-a566-6a6c86f34da8",
   "metadata": {},
   "outputs": [
    {
     "data": {
      "text/html": [
       "<div>\n",
       "<style scoped>\n",
       "    .dataframe tbody tr th:only-of-type {\n",
       "        vertical-align: middle;\n",
       "    }\n",
       "\n",
       "    .dataframe tbody tr th {\n",
       "        vertical-align: top;\n",
       "    }\n",
       "\n",
       "    .dataframe thead th {\n",
       "        text-align: right;\n",
       "    }\n",
       "</style>\n",
       "<table border=\"1\" class=\"dataframe\">\n",
       "  <thead>\n",
       "    <tr style=\"text-align: right;\">\n",
       "      <th></th>\n",
       "      <th>type</th>\n",
       "      <th>title</th>\n",
       "      <th>director</th>\n",
       "      <th>cast</th>\n",
       "      <th>country</th>\n",
       "      <th>date_added</th>\n",
       "      <th>release_year</th>\n",
       "      <th>rating</th>\n",
       "      <th>duration</th>\n",
       "      <th>listed_in</th>\n",
       "    </tr>\n",
       "  </thead>\n",
       "  <tbody>\n",
       "    <tr>\n",
       "      <th>0</th>\n",
       "      <td>Movie</td>\n",
       "      <td>Norm of the North: King Sized Adventure</td>\n",
       "      <td>Richard Finn, Tim Maltby</td>\n",
       "      <td>Alan Marriott, Andrew Toth, Brian Dobson, Cole...</td>\n",
       "      <td>United States, India, South Korea, China</td>\n",
       "      <td>9-Sep-19</td>\n",
       "      <td>2019</td>\n",
       "      <td>TV-PG</td>\n",
       "      <td>90 min</td>\n",
       "      <td>Children &amp; Family Movies, Comedies</td>\n",
       "    </tr>\n",
       "    <tr>\n",
       "      <th>1</th>\n",
       "      <td>Movie</td>\n",
       "      <td>Jandino: Whatever it Takes</td>\n",
       "      <td>NaN</td>\n",
       "      <td>Jandino Asporaat</td>\n",
       "      <td>United Kingdom</td>\n",
       "      <td>9-Sep-16</td>\n",
       "      <td>2016</td>\n",
       "      <td>TV-MA</td>\n",
       "      <td>94 min</td>\n",
       "      <td>Stand-Up Comedy</td>\n",
       "    </tr>\n",
       "    <tr>\n",
       "      <th>2</th>\n",
       "      <td>TV Show</td>\n",
       "      <td>Transformers Prime</td>\n",
       "      <td>NaN</td>\n",
       "      <td>Peter Cullen, Sumalee Montano, Frank Welker, J...</td>\n",
       "      <td>United States</td>\n",
       "      <td>8-Sep-18</td>\n",
       "      <td>2013</td>\n",
       "      <td>TV-Y7-FV</td>\n",
       "      <td>1 Season</td>\n",
       "      <td>Kids' TV</td>\n",
       "    </tr>\n",
       "    <tr>\n",
       "      <th>3</th>\n",
       "      <td>TV Show</td>\n",
       "      <td>Transformers: Robots in Disguise</td>\n",
       "      <td>NaN</td>\n",
       "      <td>Will Friedle, Darren Criss, Constance Zimmer, ...</td>\n",
       "      <td>United States</td>\n",
       "      <td>8-Sep-18</td>\n",
       "      <td>2016</td>\n",
       "      <td>TV-Y7</td>\n",
       "      <td>1 Season</td>\n",
       "      <td>Kids' TV</td>\n",
       "    </tr>\n",
       "    <tr>\n",
       "      <th>4</th>\n",
       "      <td>Movie</td>\n",
       "      <td>#realityhigh</td>\n",
       "      <td>Fernando Lebrija</td>\n",
       "      <td>Nesta Cooper, Kate Walsh, John Michael Higgins...</td>\n",
       "      <td>United States</td>\n",
       "      <td>8-Sep-17</td>\n",
       "      <td>2017</td>\n",
       "      <td>TV-14</td>\n",
       "      <td>99 min</td>\n",
       "      <td>Comedies</td>\n",
       "    </tr>\n",
       "  </tbody>\n",
       "</table>\n",
       "</div>"
      ],
      "text/plain": [
       "      type                                    title                  director  \\\n",
       "0    Movie  Norm of the North: King Sized Adventure  Richard Finn, Tim Maltby   \n",
       "1    Movie               Jandino: Whatever it Takes                       NaN   \n",
       "2  TV Show                       Transformers Prime                       NaN   \n",
       "3  TV Show         Transformers: Robots in Disguise                       NaN   \n",
       "4    Movie                             #realityhigh          Fernando Lebrija   \n",
       "\n",
       "                                                cast  \\\n",
       "0  Alan Marriott, Andrew Toth, Brian Dobson, Cole...   \n",
       "1                                   Jandino Asporaat   \n",
       "2  Peter Cullen, Sumalee Montano, Frank Welker, J...   \n",
       "3  Will Friedle, Darren Criss, Constance Zimmer, ...   \n",
       "4  Nesta Cooper, Kate Walsh, John Michael Higgins...   \n",
       "\n",
       "                                    country date_added  release_year  \\\n",
       "0  United States, India, South Korea, China   9-Sep-19          2019   \n",
       "1                            United Kingdom   9-Sep-16          2016   \n",
       "2                             United States   8-Sep-18          2013   \n",
       "3                             United States   8-Sep-18          2016   \n",
       "4                             United States   8-Sep-17          2017   \n",
       "\n",
       "     rating  duration                           listed_in  \n",
       "0     TV-PG    90 min  Children & Family Movies, Comedies  \n",
       "1     TV-MA    94 min                     Stand-Up Comedy  \n",
       "2  TV-Y7-FV  1 Season                            Kids' TV  \n",
       "3     TV-Y7  1 Season                            Kids' TV  \n",
       "4     TV-14    99 min                            Comedies  "
      ]
     },
     "execution_count": 7,
     "metadata": {},
     "output_type": "execute_result"
    }
   ],
   "source": [
    "netflix = pd.read_csv(\"netflix.csv\")\n",
    "netflix.head()\n"
   ]
  },
  {
   "cell_type": "code",
   "execution_count": 8,
   "id": "4b716a71-f719-4bd4-878c-2c5baf416fbf",
   "metadata": {},
   "outputs": [],
   "source": [
    "# Which column (variable) is most helpful in answering our main question?\n",
    "# Let us extract this column and convert it into a Python list called netflix_type. \n",
    "\n",
    "netflix_type = netflix[\"type\"].to_list()\n",
    "\n",
    "\n",
    "\n",
    "\n",
    "\n"
   ]
  },
  {
   "cell_type": "code",
   "execution_count": 9,
   "id": "4f1916d1-bdf8-4cbb-a6f1-b7f13a5a330f",
   "metadata": {},
   "outputs": [
    {
     "data": {
      "text/plain": [
       "6234"
      ]
     },
     "execution_count": 9,
     "metadata": {},
     "output_type": "execute_result"
    }
   ],
   "source": [
    "len(netflix_type)"
   ]
  },
  {
   "cell_type": "code",
   "execution_count": 10,
   "id": "022ca114-fd41-4934-8317-7146843541ae",
   "metadata": {},
   "outputs": [
    {
     "name": "stdout",
     "output_type": "stream",
     "text": [
      "['Movie', 'Movie', 'TV Show', 'TV Show', 'Movie', 'TV Show', 'Movie', 'Movie', 'TV Show', 'Movie']\n"
     ]
    }
   ],
   "source": [
    "print(netflix_type[0:10])"
   ]
  },
  {
   "cell_type": "code",
   "execution_count": 25,
   "id": "03f689f8-a50e-470b-b81e-da9e92a905cc",
   "metadata": {},
   "outputs": [],
   "source": [
    "# How many items in the list netflix_type are movies? Store your answer as movie_count. \n"
   ]
  },
  {
   "cell_type": "code",
   "execution_count": 54,
   "id": "ace4d760-3e7a-4c7c-8110-e000a6b5e0cd",
   "metadata": {},
   "outputs": [],
   "source": [
    "# How many items in the list netflix_type are TV shows? Store your answer as tv_show_count. \n",
    "\n"
   ]
  },
  {
   "cell_type": "code",
   "execution_count": null,
   "id": "e83b033d-1054-4368-b5fc-ef23fcdd9800",
   "metadata": {},
   "outputs": [],
   "source": [
    "# What other statistics can we compute to better answer the main question? \n",
    "# What visualization techniques can we use to better answer the main question?\n",
    "\n"
   ]
  },
  {
   "cell_type": "markdown",
   "id": "df607f7c-c507-4bbd-9735-f50f1cbf2977",
   "metadata": {},
   "source": [
    "#### 1. Proportions"
   ]
  },
  {
   "cell_type": "code",
   "execution_count": 27,
   "id": "ae360bd2-930b-4026-922a-165945a7bcf8",
   "metadata": {},
   "outputs": [],
   "source": [
    "# What is the proportion of TV shows in the list netflix_type?\n",
    "\n"
   ]
  },
  {
   "cell_type": "markdown",
   "id": "e6112260-bc76-4381-9ce3-fd4cde0ebedb",
   "metadata": {},
   "source": [
    "#### 2. Pie Chart "
   ]
  },
  {
   "cell_type": "code",
   "execution_count": 55,
   "id": "94b49a5c-9f2d-4bb3-a7df-51b91a98f80e",
   "metadata": {},
   "outputs": [],
   "source": [
    "# We can use matplotlib to visualize the data.\n",
    "\n",
    "import matplotlib.pyplot as plt\n",
    "%matplotlib inline\n"
   ]
  },
  {
   "cell_type": "code",
   "execution_count": 32,
   "id": "a2b8867d-16be-49c6-b298-f3f940ff107b",
   "metadata": {},
   "outputs": [],
   "source": [
    "# Let us first create a list containing the counts for movies and tv shows. \n",
    "\n",
    "type_count = \n",
    "\n",
    "# Let us also create a list with labels for the above counts. \n",
    "\n",
    "type_labels = "
   ]
  },
  {
   "cell_type": "code",
   "execution_count": 31,
   "id": "607a9b03-09b5-4dbd-8784-9aea5f57656e",
   "metadata": {},
   "outputs": [],
   "source": [
    "# Let us now create Pie chart.\n",
    "\n"
   ]
  },
  {
   "cell_type": "markdown",
   "id": "469f0e33-f2c6-4bfe-9b70-e6fd44482b77",
   "metadata": {},
   "source": [
    "#### 3. Bar Graphs "
   ]
  },
  {
   "cell_type": "code",
   "execution_count": 33,
   "id": "16e53983-e473-446e-a372-318ec5185c6c",
   "metadata": {},
   "outputs": [],
   "source": [
    "# Let us also create a Bar Graph.\n",
    "\n"
   ]
  },
  {
   "cell_type": "code",
   "execution_count": 70,
   "id": "fe8a3c6e-860b-472b-9ac2-a56864d8acb9",
   "metadata": {},
   "outputs": [],
   "source": [
    "# Discussions: \n",
    "# Which one is better: A Pie chart or a bar graph? \n",
    "# What conclusions can we draw based on the above analyis? \n",
    "# Given the data above, what else can we do to better answer our main questions?\n",
    "# Do we need different (or more) data than above? what kind?"
   ]
  },
  {
   "cell_type": "markdown",
   "id": "5773eb0b-d7a8-408a-8552-a79399bd2913",
   "metadata": {},
   "source": [
    "# 4. Quantiative Data Analysis - One Quantitative Variable "
   ]
  },
  {
   "cell_type": "code",
   "execution_count": 11,
   "id": "a277909c-db31-49bd-a47c-b92d1e8aa3b9",
   "metadata": {},
   "outputs": [
    {
     "data": {
      "text/html": [
       "<div>\n",
       "<style scoped>\n",
       "    .dataframe tbody tr th:only-of-type {\n",
       "        vertical-align: middle;\n",
       "    }\n",
       "\n",
       "    .dataframe tbody tr th {\n",
       "        vertical-align: top;\n",
       "    }\n",
       "\n",
       "    .dataframe thead th {\n",
       "        text-align: right;\n",
       "    }\n",
       "</style>\n",
       "<table border=\"1\" class=\"dataframe\">\n",
       "  <thead>\n",
       "    <tr style=\"text-align: right;\">\n",
       "      <th></th>\n",
       "      <th>job_title</th>\n",
       "      <th>experience_level</th>\n",
       "      <th>employment_type</th>\n",
       "      <th>work_models</th>\n",
       "      <th>work_year</th>\n",
       "      <th>employee_residence</th>\n",
       "      <th>salary</th>\n",
       "      <th>salary_currency</th>\n",
       "      <th>salary_in_usd</th>\n",
       "      <th>company_location</th>\n",
       "      <th>company_size</th>\n",
       "    </tr>\n",
       "  </thead>\n",
       "  <tbody>\n",
       "    <tr>\n",
       "      <th>0</th>\n",
       "      <td>Data Engineer</td>\n",
       "      <td>Mid-level</td>\n",
       "      <td>Full-time</td>\n",
       "      <td>Remote</td>\n",
       "      <td>2024</td>\n",
       "      <td>United States</td>\n",
       "      <td>148100</td>\n",
       "      <td>USD</td>\n",
       "      <td>148100</td>\n",
       "      <td>United States</td>\n",
       "      <td>Medium</td>\n",
       "    </tr>\n",
       "    <tr>\n",
       "      <th>1</th>\n",
       "      <td>Data Engineer</td>\n",
       "      <td>Mid-level</td>\n",
       "      <td>Full-time</td>\n",
       "      <td>Remote</td>\n",
       "      <td>2024</td>\n",
       "      <td>United States</td>\n",
       "      <td>98700</td>\n",
       "      <td>USD</td>\n",
       "      <td>98700</td>\n",
       "      <td>United States</td>\n",
       "      <td>Medium</td>\n",
       "    </tr>\n",
       "    <tr>\n",
       "      <th>2</th>\n",
       "      <td>Data Scientist</td>\n",
       "      <td>Senior-level</td>\n",
       "      <td>Full-time</td>\n",
       "      <td>Remote</td>\n",
       "      <td>2024</td>\n",
       "      <td>United States</td>\n",
       "      <td>140032</td>\n",
       "      <td>USD</td>\n",
       "      <td>140032</td>\n",
       "      <td>United States</td>\n",
       "      <td>Medium</td>\n",
       "    </tr>\n",
       "    <tr>\n",
       "      <th>3</th>\n",
       "      <td>Data Scientist</td>\n",
       "      <td>Senior-level</td>\n",
       "      <td>Full-time</td>\n",
       "      <td>Remote</td>\n",
       "      <td>2024</td>\n",
       "      <td>United States</td>\n",
       "      <td>100022</td>\n",
       "      <td>USD</td>\n",
       "      <td>100022</td>\n",
       "      <td>United States</td>\n",
       "      <td>Medium</td>\n",
       "    </tr>\n",
       "    <tr>\n",
       "      <th>4</th>\n",
       "      <td>BI Developer</td>\n",
       "      <td>Mid-level</td>\n",
       "      <td>Full-time</td>\n",
       "      <td>On-site</td>\n",
       "      <td>2024</td>\n",
       "      <td>United States</td>\n",
       "      <td>120000</td>\n",
       "      <td>USD</td>\n",
       "      <td>120000</td>\n",
       "      <td>United States</td>\n",
       "      <td>Medium</td>\n",
       "    </tr>\n",
       "  </tbody>\n",
       "</table>\n",
       "</div>"
      ],
      "text/plain": [
       "        job_title experience_level employment_type work_models  work_year  \\\n",
       "0   Data Engineer        Mid-level       Full-time      Remote       2024   \n",
       "1   Data Engineer        Mid-level       Full-time      Remote       2024   \n",
       "2  Data Scientist     Senior-level       Full-time      Remote       2024   \n",
       "3  Data Scientist     Senior-level       Full-time      Remote       2024   \n",
       "4    BI Developer        Mid-level       Full-time     On-site       2024   \n",
       "\n",
       "  employee_residence  salary salary_currency  salary_in_usd company_location  \\\n",
       "0      United States  148100             USD         148100    United States   \n",
       "1      United States   98700             USD          98700    United States   \n",
       "2      United States  140032             USD         140032    United States   \n",
       "3      United States  100022             USD         100022    United States   \n",
       "4      United States  120000             USD         120000    United States   \n",
       "\n",
       "  company_size  \n",
       "0       Medium  \n",
       "1       Medium  \n",
       "2       Medium  \n",
       "3       Medium  \n",
       "4       Medium  "
      ]
     },
     "execution_count": 11,
     "metadata": {},
     "output_type": "execute_result"
    }
   ],
   "source": [
    "# Let us now analyze some quantitative data pertaining to data science salaries.\n",
    "# Salaries for the past five years: 2020 through early 2024. \n",
    "# Data source: Primary source ai-jobs.net | Secondary source Kaggle.\n",
    "\n",
    "import pandas as pd \n",
    "salaries = pd.read_csv(\"data_science_salaries.csv\")\n",
    "salaries.head()\n"
   ]
  },
  {
   "cell_type": "code",
   "execution_count": 12,
   "id": "b20636b4-76e3-4668-828d-2e4cad5f9df9",
   "metadata": {},
   "outputs": [],
   "source": [
    "# Let us focus on the quantitative variable \"salary\". \n",
    "\n",
    "salary = salaries[\"salary_in_usd\"].to_list()"
   ]
  },
  {
   "cell_type": "code",
   "execution_count": 13,
   "id": "499eee73-ad17-4be2-92b2-d064f6c78d4a",
   "metadata": {},
   "outputs": [
    {
     "data": {
      "text/plain": [
       "[148100, 98700, 140032, 100022, 120000, 62100, 250000, 150000, 219650, 136000]"
      ]
     },
     "execution_count": 13,
     "metadata": {},
     "output_type": "execute_result"
    }
   ],
   "source": [
    "salary[0:10]"
   ]
  },
  {
   "cell_type": "code",
   "execution_count": 14,
   "id": "57374daf-7ea7-4321-bd19-7a1e266c9ae5",
   "metadata": {},
   "outputs": [
    {
     "data": {
      "text/plain": [
       "6599"
      ]
     },
     "execution_count": 14,
     "metadata": {},
     "output_type": "execute_result"
    }
   ],
   "source": [
    "len(salary)"
   ]
  },
  {
   "cell_type": "code",
   "execution_count": 15,
   "id": "5d665ca7-55f1-4f61-a580-d8ea8404000e",
   "metadata": {},
   "outputs": [
    {
     "data": {
      "text/plain": [
       "builtin_function_or_method"
      ]
     },
     "execution_count": 15,
     "metadata": {},
     "output_type": "execute_result"
    }
   ],
   "source": [
    "type(max) "
   ]
  },
  {
   "cell_type": "code",
   "execution_count": 16,
   "id": "7cfc488d-d46a-45e7-88c1-fe50b3f9b23c",
   "metadata": {},
   "outputs": [
    {
     "data": {
      "text/plain": [
       "list"
      ]
     },
     "execution_count": 16,
     "metadata": {},
     "output_type": "execute_result"
    }
   ],
   "source": [
    "type(salary)"
   ]
  },
  {
   "cell_type": "markdown",
   "id": "8f2273ba-2f0c-47e0-b3ac-b2c89bea5b1f",
   "metadata": {},
   "source": [
    "#### 1. Histogram "
   ]
  },
  {
   "cell_type": "code",
   "execution_count": 40,
   "id": "415a94ed-d471-45a6-95eb-017feec9e5b8",
   "metadata": {},
   "outputs": [],
   "source": [
    "# Let us first plot a histogram of salary. \n",
    "# To plot Histogram, we can use the library matplotlib which we have \n",
    "# already imported as plt. \n",
    "\n",
    "\n"
   ]
  },
  {
   "cell_type": "markdown",
   "id": "f7249dd0-a68e-4738-9410-172e14529472",
   "metadata": {},
   "source": [
    "#### 2. Measures of Central Tendency "
   ]
  },
  {
   "cell_type": "code",
   "execution_count": 41,
   "id": "9ae65383-2bae-4bca-9bfd-b26b7371bc3e",
   "metadata": {},
   "outputs": [],
   "source": [
    "# Next let us compute some measures of central tendency. \n",
    "# In particular we will focus on mean and median. \n",
    "# One can compute these statistics much easier using the library called \"statistics\". \n",
    "\n",
    "import statistics as stat"
   ]
  },
  {
   "cell_type": "code",
   "execution_count": 42,
   "id": "4fddd336-a129-4be2-b504-255aab72d213",
   "metadata": {},
   "outputs": [],
   "source": [
    "# mean (or average) \n",
    "mean = round(stat.mean(salary))"
   ]
  },
  {
   "cell_type": "code",
   "execution_count": 43,
   "id": "438569ec-066c-4a4d-ba9d-d133b9ff937c",
   "metadata": {},
   "outputs": [],
   "source": [
    "# median\n",
    "median = round(stat.median(salary))\n"
   ]
  },
  {
   "cell_type": "code",
   "execution_count": 81,
   "id": "a17599fc-31d9-42ce-82ca-5c27147e1720",
   "metadata": {},
   "outputs": [],
   "source": [
    "# Why is mean greater than median? \n",
    "# Did we expect this by looking at the Histogram?\n",
    "# Data is right-skewed?\n"
   ]
  },
  {
   "cell_type": "code",
   "execution_count": 44,
   "id": "abaf4a54-7b56-41bd-9c70-fae1f9003f81",
   "metadata": {},
   "outputs": [],
   "source": [
    "# plot the mean and the median on top of a histogram of salaries\n",
    "\n",
    "#plt.hist(salary, edgecolor = \"k\", bins = 100);\n",
    "#plt.ylabel(\"Count\")\n",
    "#plt.xlabel(\"Salary($)\");\n",
    "\n",
    "#plt.axvline(mean, color='r', linestyle='dashed', linewidth=1, label = \"Mean\");\n",
    "#plt.axvline(median, color='b', linestyle='dashed', linewidth=1, label = \"Median\");\n",
    "#plt.legend();\n"
   ]
  },
  {
   "cell_type": "markdown",
   "id": "4d33ed5f-534f-46e4-baf7-a19385587d2c",
   "metadata": {},
   "source": [
    "#### 3.Outliers\n",
    "\n",
    "Outliers are values that are much larger or smaller than the rest of the data. When an outlier occurs in a dataset we should investigate what might be causing the outlier.\n",
    "- If it is due to a mistake (e.g., a data entry error) we can remove the outlier from our data.\n",
    "- If it is a real value, we should understand how the value will impact our conclusions. \n",
    "\n",
    "Let's see if we can find the outlier in our salaries data. In particular, let's do the following:\n",
    "\n",
    "1. We will use the `max()` to find the highest salary. \n",
    "2. We will then use the `list.index()` method to find the index where this value occurs in the `salary` list.\n",
    "\n"
   ]
  },
  {
   "cell_type": "code",
   "execution_count": 45,
   "id": "36751a6f-21fc-4c6b-865a-a59742269a68",
   "metadata": {},
   "outputs": [],
   "source": [
    "# Let us find maximum salary. \n",
    "\n",
    "#highest_salary = max(salary)\n",
    "#highest_salary "
   ]
  },
  {
   "cell_type": "code",
   "execution_count": 46,
   "id": "a2063f41-1c98-4dff-82e5-6219a4184f8d",
   "metadata": {},
   "outputs": [],
   "source": [
    "#salary.index(highest_salary)"
   ]
  },
  {
   "cell_type": "code",
   "execution_count": 47,
   "id": "7f82990c-5790-4bc5-8168-c6b4d33da0e4",
   "metadata": {},
   "outputs": [],
   "source": [
    "#salaries.loc[296,:]"
   ]
  },
  {
   "cell_type": "markdown",
   "id": "b852b25a-ac97-4309-90b5-a51b0a221b0c",
   "metadata": {},
   "source": [
    "# 5. Quantitative Data Analysis - Two Quantitative Variables "
   ]
  },
  {
   "cell_type": "code",
   "execution_count": 17,
   "id": "28c7045f-6d92-46a8-befe-a43b9c95fa90",
   "metadata": {},
   "outputs": [
    {
     "data": {
      "text/html": [
       "<div>\n",
       "<style scoped>\n",
       "    .dataframe tbody tr th:only-of-type {\n",
       "        vertical-align: middle;\n",
       "    }\n",
       "\n",
       "    .dataframe tbody tr th {\n",
       "        vertical-align: top;\n",
       "    }\n",
       "\n",
       "    .dataframe thead th {\n",
       "        text-align: right;\n",
       "    }\n",
       "</style>\n",
       "<table border=\"1\" class=\"dataframe\">\n",
       "  <thead>\n",
       "    <tr style=\"text-align: right;\">\n",
       "      <th></th>\n",
       "      <th>ID #</th>\n",
       "      <th>Year Built</th>\n",
       "      <th>Sq. Ft.</th>\n",
       "      <th>Story</th>\n",
       "      <th>Acres</th>\n",
       "      <th>No. Baths</th>\n",
       "      <th>Fireplaces</th>\n",
       "      <th>Total $</th>\n",
       "      <th>Land $</th>\n",
       "      <th>Building $</th>\n",
       "      <th>Zip</th>\n",
       "    </tr>\n",
       "  </thead>\n",
       "  <tbody>\n",
       "    <tr>\n",
       "      <th>0</th>\n",
       "      <td>1</td>\n",
       "      <td>1990</td>\n",
       "      <td>2102</td>\n",
       "      <td>1.0</td>\n",
       "      <td>0.77</td>\n",
       "      <td>NaN</td>\n",
       "      <td>1</td>\n",
       "      <td>203200</td>\n",
       "      <td>44000</td>\n",
       "      <td>159200</td>\n",
       "      <td>27603</td>\n",
       "    </tr>\n",
       "    <tr>\n",
       "      <th>1</th>\n",
       "      <td>2</td>\n",
       "      <td>1986</td>\n",
       "      <td>1740</td>\n",
       "      <td>1.5</td>\n",
       "      <td>0.06</td>\n",
       "      <td>3.0</td>\n",
       "      <td>1</td>\n",
       "      <td>119096</td>\n",
       "      <td>22000</td>\n",
       "      <td>97096</td>\n",
       "      <td>27604</td>\n",
       "    </tr>\n",
       "    <tr>\n",
       "      <th>2</th>\n",
       "      <td>3</td>\n",
       "      <td>1955</td>\n",
       "      <td>795</td>\n",
       "      <td>1.0</td>\n",
       "      <td>0.30</td>\n",
       "      <td>1.0</td>\n",
       "      <td>0</td>\n",
       "      <td>71666</td>\n",
       "      <td>28000</td>\n",
       "      <td>43666</td>\n",
       "      <td>27610</td>\n",
       "    </tr>\n",
       "    <tr>\n",
       "      <th>3</th>\n",
       "      <td>4</td>\n",
       "      <td>1983</td>\n",
       "      <td>1152</td>\n",
       "      <td>1.0</td>\n",
       "      <td>0.68</td>\n",
       "      <td>2.0</td>\n",
       "      <td>0</td>\n",
       "      <td>131103</td>\n",
       "      <td>50000</td>\n",
       "      <td>81103</td>\n",
       "      <td>27616</td>\n",
       "    </tr>\n",
       "    <tr>\n",
       "      <th>4</th>\n",
       "      <td>5</td>\n",
       "      <td>2003</td>\n",
       "      <td>1404</td>\n",
       "      <td>1.0</td>\n",
       "      <td>39.38</td>\n",
       "      <td>2.0</td>\n",
       "      <td>0</td>\n",
       "      <td>4904102</td>\n",
       "      <td>4797750</td>\n",
       "      <td>106352</td>\n",
       "      <td>27519</td>\n",
       "    </tr>\n",
       "  </tbody>\n",
       "</table>\n",
       "</div>"
      ],
      "text/plain": [
       "   ID #  Year Built  Sq. Ft.  Story  Acres  No. Baths  Fireplaces  Total $  \\\n",
       "0     1        1990     2102    1.0   0.77        NaN           1   203200   \n",
       "1     2        1986     1740    1.5   0.06        3.0           1   119096   \n",
       "2     3        1955      795    1.0   0.30        1.0           0    71666   \n",
       "3     4        1983     1152    1.0   0.68        2.0           0   131103   \n",
       "4     5        2003     1404    1.0  39.38        2.0           0  4904102   \n",
       "\n",
       "    Land $  Building $    Zip  \n",
       "0    44000      159200  27603  \n",
       "1    22000       97096  27604  \n",
       "2    28000       43666  27610  \n",
       "3    50000       81103  27616  \n",
       "4  4797750      106352  27519  "
      ]
     },
     "execution_count": 17,
     "metadata": {},
     "output_type": "execute_result"
    }
   ],
   "source": [
    "# Data Source: Journal of Statistics Education. \n",
    "# A random sample of Wake County, North Carolina residential real estate plots.\n",
    "\n",
    "import pandas as pd \n",
    "real_estate = pd.read_csv(\"woodard.csv\")\n",
    "real_estate.head()"
   ]
  },
  {
   "cell_type": "code",
   "execution_count": 18,
   "id": "a0d77ed0-e255-4b4b-94e9-475d4355e978",
   "metadata": {},
   "outputs": [],
   "source": [
    "plot_size = real_estate[\"Acres\"].to_list()\n",
    "total_price = real_estate[\"Total $\"].to_list()\n"
   ]
  },
  {
   "cell_type": "code",
   "execution_count": 19,
   "id": "6325f6fe-ffa3-447e-9614-31db8b39a833",
   "metadata": {},
   "outputs": [
    {
     "data": {
      "text/plain": [
       "list"
      ]
     },
     "execution_count": 19,
     "metadata": {},
     "output_type": "execute_result"
    }
   ],
   "source": [
    "type(total_price)"
   ]
  },
  {
   "cell_type": "markdown",
   "id": "2a0a195b-3f76-4ea7-92cb-2312cb4dcbf8",
   "metadata": {},
   "source": [
    "##### 1. Visualizing two quantitative variables\n",
    "\n",
    "Let's create a scatter plot to visualize the relationship between plot size (in acres) and the total price (in $). \n",
    "\n",
    "We want to answer the following questions from the data:\n",
    "1. Does it appear that price increses as the plot size increases?\n",
    "2. What do you think the correlation is between plot size and total price ? Positive or Negative?\n"
   ]
  },
  {
   "cell_type": "code",
   "execution_count": 52,
   "id": "f969b93c-5bfe-4e7c-92c2-71cc2ab87728",
   "metadata": {},
   "outputs": [],
   "source": [
    "# Plot total price as a function of plot size. \n",
    "# We can do this using matplotlib library which we have already imported as plt.\n",
    "\n"
   ]
  },
  {
   "cell_type": "code",
   "execution_count": 53,
   "id": "2e0cb44f-74d5-458b-965c-3316ee2c4c3a",
   "metadata": {},
   "outputs": [],
   "source": [
    "# Let us compute the correlation. \n",
    "\n",
    "\n"
   ]
  }
 ],
 "metadata": {
  "kernelspec": {
   "display_name": "Python 3 (ipykernel)",
   "language": "python",
   "name": "python3"
  },
  "language_info": {
   "codemirror_mode": {
    "name": "ipython",
    "version": 3
   },
   "file_extension": ".py",
   "mimetype": "text/x-python",
   "name": "python",
   "nbconvert_exporter": "python",
   "pygments_lexer": "ipython3",
   "version": "3.11.7"
  }
 },
 "nbformat": 4,
 "nbformat_minor": 5
}
