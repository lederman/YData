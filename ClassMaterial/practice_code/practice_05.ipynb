{
 "cells": [
  {
   "cell_type": "markdown",
   "id": "c4b6400f-1ebc-4bef-ba65-f52824ab9b1d",
   "metadata": {},
   "source": [
    "##### Welcome to (Preceptor) Practice Session 5!"
   ]
  },
  {
   "cell_type": "code",
   "execution_count": 1,
   "id": "f0c54aa2-1a5a-4cf3-9a20-d0a61a3c96aa",
   "metadata": {},
   "outputs": [],
   "source": [
    "import YData\n",
    "\n",
    "\n",
    "\n",
    "# Download (Preceptor) Practice Session notebook 5. \n",
    "#YData.download_practice_code(5)              # Without answers. \n",
    "#YData.download_practice_code(5, True)        # With answers (won't work before Friday eve.)\n",
    "\n",
    "\n",
    "\n",
    "\n",
    "# Download Data. \n",
    "#YData.download_data(\"data_science_salaries.csv\")\n",
    "#YData.download_data(\"apple_2024.csv\")\n",
    "#YData.download_data(\"google_2024.csv\")\n",
    "#YData.download_data(\"woodard.csv\")\n",
    "\n",
    "\n",
    "\n",
    "\n",
    "# Import Packages/Libraries. \n",
    "import pandas as pd\n",
    "import numpy as np\n",
    "\n",
    "import matplotlib.pyplot as plt\n",
    "%matplotlib inline\n",
    "\n"
   ]
  },
  {
   "cell_type": "code",
   "execution_count": null,
   "id": "e5753851-e568-4763-9747-0ba3d1c737ac",
   "metadata": {},
   "outputs": [],
   "source": []
  },
  {
   "cell_type": "markdown",
   "id": "d4df732d-5b60-4667-9491-145a6d6e5900",
   "metadata": {},
   "source": [
    "### Matplotlib package "
   ]
  },
  {
   "cell_type": "code",
   "execution_count": null,
   "id": "d0ebd0bc-e230-4d11-880f-305266806a0a",
   "metadata": {},
   "outputs": [],
   "source": [
    "# Useful package to visualize the data. \n",
    "\n",
    "import matplotlib.pyplot as plt                     # For importing the package as \"plt\".\n",
    "%matplotlib inline\n",
    "\n",
    "\n",
    "\n",
    "# Pie Charts \n",
    "plt.pie(list_of_counts, labels = list_of_labels);   # list_of_counts is a list containing the counts\n",
    "                                                    # and list_of_labels is the corresponding list with  \n",
    "                                                    # labels associated with different counts. \n",
    "\n",
    "\n",
    "# Bar Graphs \n",
    "plt.bar(list_of_labels, list_of_counts);            # Notice the order for list_of_counts and \n",
    "                                                    # list_of_labels switches from above. \n",
    "\n",
    "\n",
    "# Histograms \n",
    "plt.hist(quant_variable, edgecolor = 'k', bins = n, alpha = 0.5, density = True, label = \"my_label\");\n",
    "                                                    # quant_variable is the list containing the values \n",
    "                                                    # values of the Quantitative variable and \"n\" is\n",
    "                                                    # the bin size.\n",
    "\n",
    "\n",
    "# For plotting two quantitative variables. \n",
    "plt.plot(quant_1, quant_2, '.', label = \"my_label\")  \n",
    "plt.scatter(quant_1, quant_2, color = \"color_column\") # for plotting quant_2 as a function of quant_1.                                               \n",
    "\n",
    "\n",
    "\n",
    "# Some useful functions. (a and b are arbitrary/placeholder strings)\n",
    "plt.xlabel(\"a\");\n",
    "plt.xticks(rotation = n);\n",
    "plt.ylabel(\"b\");\n",
    "plt.legend();\n",
    "plt.figure(figsize = (n, k));\n",
    "plt.title(\"my_title\");\n",
    "\n",
    "# For subplots. \n",
    "plt.subplot(i,j,k);\n",
    "\n",
    "\n",
    "\n",
    "\n",
    "# For image show (along with colorbar) where N is an ndarray (with appropriate dimension and entries).  \n",
    "plt.imshow(N);\n",
    "plt.colorbar();\n",
    "\n",
    "\n",
    "# For Box Plot where N is an ndarray.  \n",
    "plt.boxplot([N], labels = [\"my_label\"], showfliers = False);\n",
    "\n"
   ]
  },
  {
   "cell_type": "markdown",
   "id": "5d641c7e-aef3-4545-a20a-9adc0837aac8",
   "metadata": {},
   "source": [
    "### Seaborn Package"
   ]
  },
  {
   "cell_type": "code",
   "execution_count": null,
   "id": "f3120037-a0f9-4fd3-868b-c3bdac6295c4",
   "metadata": {},
   "outputs": [],
   "source": [
    "# Import the package. \n",
    "import seaborn as sns\n",
    "\n",
    "# Apply Seaborn's effects. Use the function sns.set_theme().\n",
    "sns.set_theme(style = \"whitegrid\")\n",
    "\n"
   ]
  },
  {
   "cell_type": "code",
   "execution_count": null,
   "id": "518ec73f-230a-4809-a154-6596e078321c",
   "metadata": {},
   "outputs": [],
   "source": [
    "# Useful when working with two quantitative variables.\n",
    "# Basic syntax\n",
    "sns.relplot(data = my_df, ....)"
   ]
  },
  {
   "cell_type": "markdown",
   "id": "31bbe152-3135-488b-93e9-a53b480632bf",
   "metadata": {},
   "source": [
    " \n",
    "\n",
    "For mapping other features of our data onto visual properties including: \n",
    "- `x`, and `y` column names to be plotted (as we have done before)\n",
    "- `hue`: The column name to be mapped to the color of the points\n",
    "- `size`: The column name to be mapped to the size of points\n",
    "- `style`: The column name to be mapped to the style of the markers\n",
    "- `col`: fThe column name to be mapped to faceting to compare multiple subplots\n"
   ]
  },
  {
   "cell_type": "code",
   "execution_count": null,
   "id": "5d38adb5-ff04-411c-a184-66b7642fc08a",
   "metadata": {},
   "outputs": [],
   "source": [
    "# Useful when working with one quantiative variable. \n",
    "# Basic syntax\n",
    "sns.displot(data = my_df, ....)"
   ]
  },
  {
   "cell_type": "markdown",
   "id": "b0c2ca6b-5ea7-4040-af83-8725a6a4bf1e",
   "metadata": {},
   "source": [
    "##### Plotting a single quantitative variable\n",
    "\n",
    "We can plot a single quantitative variables using the `sns.displot()` function.\n",
    "\n",
    "Properties we can set include\n",
    "- `x`: The name of the data column you want to plot\n",
    "- `hue`: The name of the column that colors each point\n",
    "- `kind` The type of plot\n",
    "\n",
    "Different options for `kind` are: “hist”, “kde”, “ecdf”\n"
   ]
  },
  {
   "cell_type": "code",
   "execution_count": null,
   "id": "2e39684c-e3b7-409d-9e73-52bf11419ef1",
   "metadata": {},
   "outputs": [],
   "source": [
    "# Useful when working with a categorical variable. \n",
    "# Basic syntax\n",
    "sns.catplot(data = my_df,....)"
   ]
  },
  {
   "cell_type": "markdown",
   "id": "766e7d87-2e85-4307-af7b-e043a8a889ca",
   "metadata": {},
   "source": [
    "##### Plotting a quantitative variable for different categorical variable levels\n",
    "\n",
    "We can plot a quantitative variable for different categorical variable levels using the `sns.catplot()` function.\n",
    "\n",
    "We specify: \n",
    "- `x`: Cateogoral x-value column name\n",
    "- `y`: Quantitative y-value column name\n",
    "- `kind`: The type of plot\n",
    "\n",
    "The `kind` argument can be set to the following: “strip”, “swarm”, “box”, “violin”, “boxen”, “point”, “bar”, or “count”\n"
   ]
  },
  {
   "cell_type": "markdown",
   "id": "24d96fae-d2a1-4f4f-b73a-f4ad9d8a7d1f",
   "metadata": {},
   "source": [
    "# 1. Analyzing Two Quantitative Variables via \"Pictures\""
   ]
  },
  {
   "cell_type": "code",
   "execution_count": 27,
   "id": "b6a76f8d-388f-4851-8718-9db5f02327d2",
   "metadata": {},
   "outputs": [],
   "source": [
    "# Read the data \"data_science_salaries.csv\" as a Pandas DataFrame. \n",
    "#salaries_df = pd.read_csv(\"data_science_salaries.csv\")\n",
    "#display(salaries_df.head(2),salaries_df.shape)\n",
    "\n"
   ]
  },
  {
   "cell_type": "code",
   "execution_count": 28,
   "id": "f0faae45-29fe-4204-a01b-6796c5d053a3",
   "metadata": {},
   "outputs": [],
   "source": [
    "# Extract salaries for those who worked On-site. \n",
    "# Store your Pandas Series as on_site_salaries.\n",
    "\n",
    "\n",
    "\n",
    "\n",
    "\n",
    "\n",
    "\n",
    "# Extract salaries for those who did not work On-site. \n",
    "# Store your Pandas Series as off_site_salaries. \n",
    "\n",
    "\n",
    "\n",
    "\n"
   ]
  },
  {
   "cell_type": "markdown",
   "id": "31778237-41bc-4e0f-83ee-f39348562cfb",
   "metadata": {},
   "source": [
    "\n"
   ]
  },
  {
   "cell_type": "markdown",
   "id": "8ede3029-1222-4c43-a27a-521b5232aebb",
   "metadata": {},
   "source": [
    "### A. Comparing On-site and Off-site Data Science Salaries via Box Plots"
   ]
  },
  {
   "cell_type": "markdown",
   "id": "e105eec2-2250-4c36-b136-bf22da449afa",
   "metadata": {},
   "source": [
    "##### Now that we have the `on_site_salaries` and `off_site_salaries` Pandas Series, let's use side-by-side boxplots to compare the salaries (in USD).\n",
    "\n",
    "##### Does it matter if you work on-site or off-site in Data Science jobs? \n"
   ]
  },
  {
   "cell_type": "code",
   "execution_count": 29,
   "id": "9562e454-bbc3-4297-a98d-c23d3aac3ec9",
   "metadata": {},
   "outputs": [],
   "source": [
    "# Plot two box plots side by side such that the boxplot for on_site_salaries \n",
    "# is on the left to the boxplot for off_site_salaries. \n",
    "\n",
    "\n",
    "\n",
    "\n",
    "\n"
   ]
  },
  {
   "cell_type": "markdown",
   "id": "0fcc75b5-1c2c-44af-b628-df9583ebe74e",
   "metadata": {},
   "source": [
    "### B. Comparing On-site and Off-site Data Science Salaries via Histograms"
   ]
  },
  {
   "cell_type": "markdown",
   "id": "d5606e63-29fb-4611-8dcd-01922e80e404",
   "metadata": {},
   "source": [
    "We can also compare the salaries using overlapping histograms. To do this, it will be useful to set the following properties:\n",
    "\n",
    "1. `alpha = .5`: Make the histograms have some transparency.\n",
    "2. `density =  True`: Normalize the histograms to have a area equal to 1 to account for the fact that there are different numbers of on-site salaries and off-site salaries in our two Pandas Series.\n",
    "\n",
    "Let us try to answer the same question using histograms:\n",
    "Does it matter if you work-on site or off-site in Data Science jobs?\n"
   ]
  },
  {
   "cell_type": "code",
   "execution_count": 30,
   "id": "cb8c38b6-9bfd-40bc-853e-db36febda177",
   "metadata": {},
   "outputs": [],
   "source": [
    "# Plot two overlapping histograms (one for on_site_salaries and the other for off_site_salaries).\n",
    "\n",
    "\n",
    "\n",
    "\n",
    "\n",
    "\n",
    "\n",
    "\n",
    "\n"
   ]
  },
  {
   "cell_type": "markdown",
   "id": "4abf00aa-5e50-4bfe-9388-56a8133731d9",
   "metadata": {},
   "source": [
    "\n",
    "\n",
    "\n"
   ]
  },
  {
   "cell_type": "markdown",
   "id": "3107a5f0-9a05-402e-a242-ec037a7ad99d",
   "metadata": {},
   "source": [
    "# 2. Analyzing Two Time Series via \"Pictures\""
   ]
  },
  {
   "cell_type": "markdown",
   "id": "f2867b91-4109-475c-9273-767aed3ac29e",
   "metadata": {},
   "source": [
    "### Apple vs Google \n",
    "Let us analyse how Apple and Google stocks are doing this year 2024. \n",
    "Data Source: <https://www.marketwatch.com>"
   ]
  },
  {
   "cell_type": "code",
   "execution_count": 31,
   "id": "0d1cd2c8-078d-4d60-862c-5de65ee67692",
   "metadata": {},
   "outputs": [],
   "source": [
    "# Read data as Pandas DataFrame. \n",
    "apple_df = pd.read_csv(\"apple_2024.csv\", parse_dates = [0])\n",
    "google_df = pd.read_csv(\"google_2024.csv\", parse_dates = [0])\n"
   ]
  },
  {
   "cell_type": "code",
   "execution_count": 32,
   "id": "3cf950a5-64ed-4f59-92a5-41dd967a9c4c",
   "metadata": {},
   "outputs": [],
   "source": [
    "# Reset index to Date. \n",
    "apple_df = apple_df.set_index(\"Date\")\n",
    "google_df = google_df.set_index(\"Date\")\n"
   ]
  },
  {
   "cell_type": "code",
   "execution_count": 33,
   "id": "97f03b4c-0e4b-4741-b160-34333063e080",
   "metadata": {},
   "outputs": [],
   "source": [
    "#display(apple_df.head(3),google_df.head(3))"
   ]
  },
  {
   "cell_type": "markdown",
   "id": "589ce2d9-ec6a-4a85-a3e3-311de9f30958",
   "metadata": {},
   "source": [
    "#### Time Series Plots "
   ]
  },
  {
   "cell_type": "code",
   "execution_count": 34,
   "id": "4890c05b-22ae-482d-adb4-ca9f2b6fba0b",
   "metadata": {},
   "outputs": [],
   "source": [
    "# Plot apple and google closing price time series on the same plot. \n",
    "\n",
    "\n",
    "\n",
    "\n",
    "\n"
   ]
  },
  {
   "cell_type": "markdown",
   "id": "bec9b3c7-72b2-4c24-9c0e-70a3f811ba55",
   "metadata": {},
   "source": [
    "\n",
    "\n",
    "\n"
   ]
  },
  {
   "cell_type": "markdown",
   "id": "7357e4ab-7067-4168-a533-c002e272aa02",
   "metadata": {},
   "source": [
    "# 3. Analyzing Functional Relationship between Two Quantitative Variables via \"Pictures\""
   ]
  },
  {
   "cell_type": "code",
   "execution_count": 35,
   "id": "5a201a42-0aa4-4442-99c0-fcd863c151a7",
   "metadata": {},
   "outputs": [],
   "source": [
    "nc_df = pd.read_csv(\"woodard.csv\", index_col = \"ID #\")"
   ]
  },
  {
   "cell_type": "code",
   "execution_count": 36,
   "id": "01139a2c-d8f1-4063-bd12-2cfc2e590838",
   "metadata": {},
   "outputs": [
    {
     "data": {
      "text/html": [
       "<div>\n",
       "<style scoped>\n",
       "    .dataframe tbody tr th:only-of-type {\n",
       "        vertical-align: middle;\n",
       "    }\n",
       "\n",
       "    .dataframe tbody tr th {\n",
       "        vertical-align: top;\n",
       "    }\n",
       "\n",
       "    .dataframe thead th {\n",
       "        text-align: right;\n",
       "    }\n",
       "</style>\n",
       "<table border=\"1\" class=\"dataframe\">\n",
       "  <thead>\n",
       "    <tr style=\"text-align: right;\">\n",
       "      <th></th>\n",
       "      <th>Year Built</th>\n",
       "      <th>Sq. Ft.</th>\n",
       "      <th>Story</th>\n",
       "      <th>Acres</th>\n",
       "      <th>No. Baths</th>\n",
       "      <th>Fireplaces</th>\n",
       "      <th>Total $</th>\n",
       "      <th>Land $</th>\n",
       "      <th>Building $</th>\n",
       "      <th>Zip</th>\n",
       "    </tr>\n",
       "    <tr>\n",
       "      <th>ID #</th>\n",
       "      <th></th>\n",
       "      <th></th>\n",
       "      <th></th>\n",
       "      <th></th>\n",
       "      <th></th>\n",
       "      <th></th>\n",
       "      <th></th>\n",
       "      <th></th>\n",
       "      <th></th>\n",
       "      <th></th>\n",
       "    </tr>\n",
       "  </thead>\n",
       "  <tbody>\n",
       "    <tr>\n",
       "      <th>1</th>\n",
       "      <td>1990</td>\n",
       "      <td>2102</td>\n",
       "      <td>1.0</td>\n",
       "      <td>0.77</td>\n",
       "      <td>NaN</td>\n",
       "      <td>1</td>\n",
       "      <td>203200</td>\n",
       "      <td>44000</td>\n",
       "      <td>159200</td>\n",
       "      <td>27603</td>\n",
       "    </tr>\n",
       "    <tr>\n",
       "      <th>2</th>\n",
       "      <td>1986</td>\n",
       "      <td>1740</td>\n",
       "      <td>1.5</td>\n",
       "      <td>0.06</td>\n",
       "      <td>3.0</td>\n",
       "      <td>1</td>\n",
       "      <td>119096</td>\n",
       "      <td>22000</td>\n",
       "      <td>97096</td>\n",
       "      <td>27604</td>\n",
       "    </tr>\n",
       "    <tr>\n",
       "      <th>3</th>\n",
       "      <td>1955</td>\n",
       "      <td>795</td>\n",
       "      <td>1.0</td>\n",
       "      <td>0.30</td>\n",
       "      <td>1.0</td>\n",
       "      <td>0</td>\n",
       "      <td>71666</td>\n",
       "      <td>28000</td>\n",
       "      <td>43666</td>\n",
       "      <td>27610</td>\n",
       "    </tr>\n",
       "    <tr>\n",
       "      <th>4</th>\n",
       "      <td>1983</td>\n",
       "      <td>1152</td>\n",
       "      <td>1.0</td>\n",
       "      <td>0.68</td>\n",
       "      <td>2.0</td>\n",
       "      <td>0</td>\n",
       "      <td>131103</td>\n",
       "      <td>50000</td>\n",
       "      <td>81103</td>\n",
       "      <td>27616</td>\n",
       "    </tr>\n",
       "    <tr>\n",
       "      <th>6</th>\n",
       "      <td>1967</td>\n",
       "      <td>1752</td>\n",
       "      <td>1.0</td>\n",
       "      <td>0.29</td>\n",
       "      <td>1.5</td>\n",
       "      <td>1</td>\n",
       "      <td>144452</td>\n",
       "      <td>52000</td>\n",
       "      <td>92452</td>\n",
       "      <td>27604</td>\n",
       "    </tr>\n",
       "  </tbody>\n",
       "</table>\n",
       "</div>"
      ],
      "text/plain": [
       "      Year Built  Sq. Ft.  Story  Acres  No. Baths  Fireplaces  Total $  \\\n",
       "ID #                                                                      \n",
       "1           1990     2102    1.0   0.77        NaN           1   203200   \n",
       "2           1986     1740    1.5   0.06        3.0           1   119096   \n",
       "3           1955      795    1.0   0.30        1.0           0    71666   \n",
       "4           1983     1152    1.0   0.68        2.0           0   131103   \n",
       "6           1967     1752    1.0   0.29        1.5           1   144452   \n",
       "\n",
       "      Land $  Building $    Zip  \n",
       "ID #                             \n",
       "1      44000      159200  27603  \n",
       "2      22000       97096  27604  \n",
       "3      28000       43666  27610  \n",
       "4      50000       81103  27616  \n",
       "6      52000       92452  27604  "
      ]
     },
     "execution_count": 36,
     "metadata": {},
     "output_type": "execute_result"
    }
   ],
   "source": [
    "# Removing outliers from the data. \n",
    "bool_cheap = nc_df[\"Total $\"] < 4000000\n",
    "nc_df = nc_df[bool_cheap]\n",
    "nc_df.head()"
   ]
  },
  {
   "cell_type": "markdown",
   "id": "19e185da-c7de-4c4c-81ee-319fedea5286",
   "metadata": {},
   "source": [
    "### A. Is it resonable to assume that as land size increases, property price increases as well?"
   ]
  },
  {
   "cell_type": "markdown",
   "id": "024d543f-402c-4eb9-9293-732080288758",
   "metadata": {},
   "source": [
    "Let us first check the above functional relationship via a scatter plot. "
   ]
  },
  {
   "cell_type": "code",
   "execution_count": 37,
   "id": "c66cf51d-4f05-4815-b8eb-c79bc4a1ee48",
   "metadata": {},
   "outputs": [],
   "source": [
    "# Create a scatter (dot) plot of total property price as a function of land size. \n",
    "\n",
    "\n",
    "\n",
    "\n",
    "\n"
   ]
  },
  {
   "cell_type": "code",
   "execution_count": null,
   "id": "b98b0559-e920-42b9-b8ab-5e23aba0f110",
   "metadata": {},
   "outputs": [],
   "source": []
  },
  {
   "cell_type": "markdown",
   "id": "49cb55ab-1cbe-4288-a683-e3abb3abf17c",
   "metadata": {},
   "source": [
    "##### Let us now construct a scatter plot so that properties with fireplaces are colored green and properties without fireplaces are colored red. "
   ]
  },
  {
   "cell_type": "code",
   "execution_count": 38,
   "id": "1ada18d0-b5f8-49f0-85bf-a676b8643f8a",
   "metadata": {},
   "outputs": [],
   "source": [
    "# Creating a color column. \n",
    "\n",
    "# 1. Create a column with all red.\n",
    "#nc_df[\"fireplace\"] = \"red\" \n",
    "\n",
    "\n",
    "# 2. Construct an appropriate boolean mask. \n",
    "#bool_fire = nc_df[\"Fireplaces\"] >= 1\n",
    "\n",
    "\n",
    "# 3. Change color for properties that have a fireplace from red to green.\n",
    "# Hint: # Don't use nc_df[bool_fire][\"fireplace\"] = \"green\". Why?\n",
    "#nc_df.loc[bool_fire, \"fireplace\"] = \"green\"       \n",
    "\n",
    "\n",
    "#nc_df.head()"
   ]
  },
  {
   "cell_type": "code",
   "execution_count": 39,
   "id": "57f699fe-8286-4c69-93ac-f8f87aedcd9b",
   "metadata": {},
   "outputs": [],
   "source": [
    "# Let us now construct a scatter plot so that properties with fireplaces are colored green and\n",
    "# properties without fireplaces are colored red.\n",
    "# Hint: Use plt.scatter function. \n",
    "\n",
    "\n",
    "\n",
    "\n",
    "\n",
    "\n",
    "\n",
    "\n",
    "\n",
    "\n"
   ]
  },
  {
   "cell_type": "markdown",
   "id": "09a8bd44-1288-444b-9cef-76a6bc76865e",
   "metadata": {},
   "source": [
    "# 4. Subplots "
   ]
  },
  {
   "cell_type": "markdown",
   "id": "7630fa4c-d541-4154-8e84-86e87086d980",
   "metadata": {},
   "source": [
    "### A. via plyplot interface"
   ]
  },
  {
   "cell_type": "code",
   "execution_count": 40,
   "id": "4253b8b8-9d4c-49cf-be5b-4b0ebe939028",
   "metadata": {},
   "outputs": [
    {
     "data": {
      "text/html": [
       "<div>\n",
       "<style scoped>\n",
       "    .dataframe tbody tr th:only-of-type {\n",
       "        vertical-align: middle;\n",
       "    }\n",
       "\n",
       "    .dataframe tbody tr th {\n",
       "        vertical-align: top;\n",
       "    }\n",
       "\n",
       "    .dataframe thead th {\n",
       "        text-align: right;\n",
       "    }\n",
       "</style>\n",
       "<table border=\"1\" class=\"dataframe\">\n",
       "  <thead>\n",
       "    <tr style=\"text-align: right;\">\n",
       "      <th></th>\n",
       "      <th>Year Built</th>\n",
       "      <th>Sq. Ft.</th>\n",
       "      <th>Story</th>\n",
       "      <th>Acres</th>\n",
       "      <th>No. Baths</th>\n",
       "      <th>Fireplaces</th>\n",
       "      <th>Total $</th>\n",
       "      <th>Land $</th>\n",
       "      <th>Building $</th>\n",
       "      <th>Zip</th>\n",
       "    </tr>\n",
       "    <tr>\n",
       "      <th>ID #</th>\n",
       "      <th></th>\n",
       "      <th></th>\n",
       "      <th></th>\n",
       "      <th></th>\n",
       "      <th></th>\n",
       "      <th></th>\n",
       "      <th></th>\n",
       "      <th></th>\n",
       "      <th></th>\n",
       "      <th></th>\n",
       "    </tr>\n",
       "  </thead>\n",
       "  <tbody>\n",
       "    <tr>\n",
       "      <th>1</th>\n",
       "      <td>1990</td>\n",
       "      <td>2102</td>\n",
       "      <td>1.0</td>\n",
       "      <td>0.77</td>\n",
       "      <td>NaN</td>\n",
       "      <td>1</td>\n",
       "      <td>203200</td>\n",
       "      <td>44000</td>\n",
       "      <td>159200</td>\n",
       "      <td>27603</td>\n",
       "    </tr>\n",
       "    <tr>\n",
       "      <th>2</th>\n",
       "      <td>1986</td>\n",
       "      <td>1740</td>\n",
       "      <td>1.5</td>\n",
       "      <td>0.06</td>\n",
       "      <td>3.0</td>\n",
       "      <td>1</td>\n",
       "      <td>119096</td>\n",
       "      <td>22000</td>\n",
       "      <td>97096</td>\n",
       "      <td>27604</td>\n",
       "    </tr>\n",
       "    <tr>\n",
       "      <th>3</th>\n",
       "      <td>1955</td>\n",
       "      <td>795</td>\n",
       "      <td>1.0</td>\n",
       "      <td>0.30</td>\n",
       "      <td>1.0</td>\n",
       "      <td>0</td>\n",
       "      <td>71666</td>\n",
       "      <td>28000</td>\n",
       "      <td>43666</td>\n",
       "      <td>27610</td>\n",
       "    </tr>\n",
       "  </tbody>\n",
       "</table>\n",
       "</div>"
      ],
      "text/plain": [
       "      Year Built  Sq. Ft.  Story  Acres  No. Baths  Fireplaces  Total $  \\\n",
       "ID #                                                                      \n",
       "1           1990     2102    1.0   0.77        NaN           1   203200   \n",
       "2           1986     1740    1.5   0.06        3.0           1   119096   \n",
       "3           1955      795    1.0   0.30        1.0           0    71666   \n",
       "\n",
       "      Land $  Building $    Zip  \n",
       "ID #                             \n",
       "1      44000      159200  27603  \n",
       "2      22000       97096  27604  \n",
       "3      28000       43666  27610  "
      ]
     },
     "execution_count": 40,
     "metadata": {},
     "output_type": "execute_result"
    }
   ],
   "source": [
    "# Recall nc_df DataFrame. \n",
    "nc_df.head(3)"
   ]
  },
  {
   "cell_type": "code",
   "execution_count": 41,
   "id": "4c4d590b-6a5a-4352-b200-737e83336c09",
   "metadata": {},
   "outputs": [],
   "source": [
    "# Let us create a bar graph and a pie chart for the categorical variable Fireplaces. \n",
    "# Ensure the two pictures (plots) are side by side. \n",
    "\n",
    "\n",
    "# Count the number of properties with fireplaces and store the count as fireplace_count. \n",
    "\n",
    "\n",
    "\n",
    "# Count the number of properties without fireplaces and stoee the count as no_fireplace_count.\n",
    "\n",
    "\n",
    "\n",
    "#display(fireplace_count, no_fireplace_count)\n",
    "\n",
    "\n",
    "# Change the figure size. (We need a longer canvas than the default one.)\n",
    "#plt.figure(figsize = (12, 4));\n",
    "\n",
    "\n",
    "\n",
    "# First subplot (Bar Graph).\n",
    "\n",
    "\n",
    "\n",
    "\n",
    "# Second subplot (Pie Chart).\n",
    "\n",
    "\n"
   ]
  },
  {
   "cell_type": "markdown",
   "id": "e0fde4bb-f17d-48e0-86e4-9282216f736c",
   "metadata": {},
   "source": [
    "### B. via axes interface. "
   ]
  },
  {
   "cell_type": "code",
   "execution_count": 42,
   "id": "7a4b5d9f-0e52-40e6-b98e-ab9c69266776",
   "metadata": {},
   "outputs": [],
   "source": [
    "# Using the axes interface.\n",
    "\n",
    "\n",
    "# Create a skeloton for two subplots. \n",
    "#fig, ax = plt.subplots(1, 2);\n",
    "\n",
    "\n",
    "# Set the figure size.\n",
    "#fig.set_size_inches(12, 4);\n",
    "\n",
    "    \n",
    "# First subplot (Pie Chart).\n",
    "#ax[0].bar([\"Fireplace\", \"No Fireplace\"], [fireplace_count, no_fireplace_count]); \n",
    "#ax[0].set_ylabel(\"Counts\");\n",
    "\n",
    "\n",
    "# Second subplot (Pie Chart). \n",
    "#ax[1].pie([fireplace_count, no_fireplace_count], labels = [\"Fireplace\", \"No Fireplace\"]);\n"
   ]
  },
  {
   "cell_type": "markdown",
   "id": "0d8026f0-497f-433d-bc5b-3056ec8d0d92",
   "metadata": {},
   "source": [
    "# 5. Seaborn"
   ]
  },
  {
   "cell_type": "code",
   "execution_count": 19,
   "id": "b81d3f44-ac86-48f7-b485-791a041449f7",
   "metadata": {},
   "outputs": [],
   "source": [
    "#import seaborn as sns   "
   ]
  },
  {
   "cell_type": "markdown",
   "id": "d97fe7a6-5f73-4933-b579-15a286c26db0",
   "metadata": {},
   "source": [
    "###  Let us first create some of the pictures above using the Seaborn! "
   ]
  },
  {
   "cell_type": "code",
   "execution_count": 43,
   "id": "ed3dae67-e332-495d-a626-9766780cbf4d",
   "metadata": {},
   "outputs": [],
   "source": [
    "# Apple vs Google using Seaborn. \n",
    "\n",
    "# Apply Seaborn's effects. Use the function sns.set_theme(style = \"whitegrid\").\n",
    "\n",
    "\n",
    "\n",
    "# Copy and paste rest of the code from above. \n",
    "\n",
    "\n",
    "\n",
    "\n",
    "\n",
    "\n"
   ]
  },
  {
   "cell_type": "code",
   "execution_count": null,
   "id": "9baf8220-4800-49df-8169-e3bbfb7280f3",
   "metadata": {},
   "outputs": [],
   "source": []
  },
  {
   "cell_type": "code",
   "execution_count": 44,
   "id": "040093db-9131-40a2-a333-73744cda03a9",
   "metadata": {},
   "outputs": [],
   "source": [
    "# Using seaborn's default theme. \n",
    "\n",
    "\n",
    "\n",
    "# Copy and paste rest of the code from above. \n",
    "\n",
    "\n",
    "\n",
    "\n",
    "\n"
   ]
  },
  {
   "cell_type": "markdown",
   "id": "df12bd08-cb70-4abb-bfa2-67e6fab42511",
   "metadata": {},
   "source": [
    "## The `sns.relplot()` function "
   ]
  },
  {
   "cell_type": "markdown",
   "id": "3cdd4f31-b8b0-4104-9d66-25c093445214",
   "metadata": {},
   "source": [
    "Analyzing two Quantitative variables via sns.relplot () function. "
   ]
  },
  {
   "cell_type": "code",
   "execution_count": 45,
   "id": "40ea1b8f-5d2a-49c7-8436-cf9d1d85021a",
   "metadata": {},
   "outputs": [],
   "source": [
    "# Using relplot function in Seaborn package to recreate the above plot. \n",
    "\n",
    "   \n",
    "\n",
    "\n",
    "\n",
    "\n",
    "# Which syntax is easier? No need to give separate lables."
   ]
  },
  {
   "cell_type": "markdown",
   "id": "00e1872c-0288-4c44-8788-da178511c4f7",
   "metadata": {},
   "source": [
    "#### Let us now use `sns.relplot()` function to create some more exotic plots. "
   ]
  },
  {
   "cell_type": "markdown",
   "id": "5237db3c-bf24-498e-adb1-66801e73bcbe",
   "metadata": {},
   "source": [
    "\n",
    "\n",
    "Let's continue to explore the relplot using data on North Carolina property prices. \n",
    "\n",
    "We will also look at mapping other features of our data onto visual properties including: \n",
    "- `x`, and `y` column names to be plotted (as we have done before)\n",
    "- `hue`: The column name to be mapped to the color of the points\n",
    "- `size`: The column name to be mapped to the size of points\n",
    "- `style`: The column name to be mapped to the style of the markers\n",
    "- `col`: fThe column name to be mapped to faceting to compare multiple subplots\n"
   ]
  },
  {
   "cell_type": "code",
   "execution_count": 46,
   "id": "5fa7ea22-153d-4d12-b991-338cfc29cf5e",
   "metadata": {},
   "outputs": [
    {
     "data": {
      "text/html": [
       "<div>\n",
       "<style scoped>\n",
       "    .dataframe tbody tr th:only-of-type {\n",
       "        vertical-align: middle;\n",
       "    }\n",
       "\n",
       "    .dataframe tbody tr th {\n",
       "        vertical-align: top;\n",
       "    }\n",
       "\n",
       "    .dataframe thead th {\n",
       "        text-align: right;\n",
       "    }\n",
       "</style>\n",
       "<table border=\"1\" class=\"dataframe\">\n",
       "  <thead>\n",
       "    <tr style=\"text-align: right;\">\n",
       "      <th></th>\n",
       "      <th>Year Built</th>\n",
       "      <th>Sq. Ft.</th>\n",
       "      <th>Story</th>\n",
       "      <th>Acres</th>\n",
       "      <th>No. Baths</th>\n",
       "      <th>Fireplaces</th>\n",
       "      <th>Total $</th>\n",
       "      <th>Land $</th>\n",
       "      <th>Building $</th>\n",
       "      <th>Zip</th>\n",
       "    </tr>\n",
       "    <tr>\n",
       "      <th>ID #</th>\n",
       "      <th></th>\n",
       "      <th></th>\n",
       "      <th></th>\n",
       "      <th></th>\n",
       "      <th></th>\n",
       "      <th></th>\n",
       "      <th></th>\n",
       "      <th></th>\n",
       "      <th></th>\n",
       "      <th></th>\n",
       "    </tr>\n",
       "  </thead>\n",
       "  <tbody>\n",
       "    <tr>\n",
       "      <th>1</th>\n",
       "      <td>1990</td>\n",
       "      <td>2102</td>\n",
       "      <td>1.0</td>\n",
       "      <td>0.77</td>\n",
       "      <td>NaN</td>\n",
       "      <td>1</td>\n",
       "      <td>203200</td>\n",
       "      <td>44000</td>\n",
       "      <td>159200</td>\n",
       "      <td>27603</td>\n",
       "    </tr>\n",
       "    <tr>\n",
       "      <th>2</th>\n",
       "      <td>1986</td>\n",
       "      <td>1740</td>\n",
       "      <td>1.5</td>\n",
       "      <td>0.06</td>\n",
       "      <td>3.0</td>\n",
       "      <td>1</td>\n",
       "      <td>119096</td>\n",
       "      <td>22000</td>\n",
       "      <td>97096</td>\n",
       "      <td>27604</td>\n",
       "    </tr>\n",
       "  </tbody>\n",
       "</table>\n",
       "</div>"
      ],
      "text/plain": [
       "      Year Built  Sq. Ft.  Story  Acres  No. Baths  Fireplaces  Total $  \\\n",
       "ID #                                                                      \n",
       "1           1990     2102    1.0   0.77        NaN           1   203200   \n",
       "2           1986     1740    1.5   0.06        3.0           1   119096   \n",
       "\n",
       "      Land $  Building $    Zip  \n",
       "ID #                             \n",
       "1      44000      159200  27603  \n",
       "2      22000       97096  27604  "
      ]
     },
     "execution_count": 46,
     "metadata": {},
     "output_type": "execute_result"
    }
   ],
   "source": [
    "nc_df.head(2)"
   ]
  },
  {
   "cell_type": "code",
   "execution_count": 47,
   "id": "29605cff-e705-4ae0-b594-a5b4eb59328a",
   "metadata": {},
   "outputs": [],
   "source": [
    "# Plot Total cost as a function of Acres. \n",
    "# Also try to add more visual features to your plot using \"hue\", \"size\", \"style\", and \"col\" within \n",
    "# the argument of sns.relplot() function. \n",
    "# There is no unique correct answer for this problen. Goal is to produce good informative plots. \n",
    "\n",
    "\n",
    "\n",
    "\n",
    "\n"
   ]
  },
  {
   "cell_type": "markdown",
   "id": "7e0de24b-cf05-4f60-af65-b02685fe3333",
   "metadata": {},
   "source": [
    "## The `sns.displot()` function. "
   ]
  },
  {
   "cell_type": "markdown",
   "id": "4b6ce218-8d13-464a-a087-d7b18cfc7ab3",
   "metadata": {},
   "source": [
    "Analyzing one Quantitative variable via sns.displot() function. "
   ]
  },
  {
   "cell_type": "markdown",
   "id": "94374610-a2dd-4fc0-9495-b1b5a6f95952",
   "metadata": {},
   "source": [
    "### Plotting a single quantitative variable\n",
    "\n",
    "We can plot a single quantitative variables using the `sns.displot()` function.\n",
    "\n",
    "Properties we can set include\n",
    "- `x`: The name of the data column you want to plot\n",
    "- `hue`: The name of the column that colors each point\n",
    "- `kind` The type of plot\n",
    "\n",
    "Different options for `kind` are: “hist”, “kde”, “ecdf”\n"
   ]
  },
  {
   "cell_type": "code",
   "execution_count": 48,
   "id": "9b3e15ff-a1de-4e83-bb2f-2213644d8a03",
   "metadata": {},
   "outputs": [],
   "source": [
    "# Plot a Histogram for total property price \"Total $\" using sns.displot() function. \n",
    "\n",
    "\n",
    "\n",
    "\n",
    "\n",
    "\n",
    "\n",
    "# Easier than using plt.hist() function? \n",
    "# One can easily add more features to the Histogram below using sns.displot() then using plt.hist(). "
   ]
  },
  {
   "cell_type": "markdown",
   "id": "6bb9057e-6d6b-44b2-9697-04ba7c0b9571",
   "metadata": {},
   "source": [
    "## The `sns.catplot()` function"
   ]
  },
  {
   "cell_type": "markdown",
   "id": "98d3cf0a-ce0a-4031-b05c-b10a05a2bea3",
   "metadata": {},
   "source": [
    "Analyzing one Quantitative variable with respect one or more categorical variables. "
   ]
  },
  {
   "cell_type": "markdown",
   "id": "dbf8392e-a206-4720-827e-e6672b50abe2",
   "metadata": {},
   "source": [
    "### Plotting a quantitative variable for different categorical variable levels\n",
    "\n",
    "We can plot a quantitative variable for different categorical variable levels using the `sns.catplot()` function.\n",
    "\n",
    "We specify: \n",
    "- `x`: Cateogoral x-value column name\n",
    "- `y`: Quantitative y-value column name\n",
    "- `kind`: The type of plot\n",
    "\n",
    "The `kind` argument can be set to the following: “strip”, “swarm”, “box”, “violin”, “boxen”, “point”, “bar”, or “count”\n"
   ]
  },
  {
   "cell_type": "code",
   "execution_count": 49,
   "id": "9bb511f7-7010-4f76-87e4-78fc434568d4",
   "metadata": {},
   "outputs": [],
   "source": [
    "# Plot Total property price as the function of number of fireplaces using different kinds of plots.\n",
    "# Choose from: “strip”, “swarm”, “box”, “violin”, “boxen”, “point”, or “bar”.\n",
    "\n",
    "\n",
    "\n",
    "\n",
    "\n"
   ]
  },
  {
   "cell_type": "code",
   "execution_count": null,
   "id": "4f73d7c3-bd6c-43fb-9faa-f8c743d1b764",
   "metadata": {},
   "outputs": [],
   "source": []
  }
 ],
 "metadata": {
  "kernelspec": {
   "display_name": "Python 3 (ipykernel)",
   "language": "python",
   "name": "python3"
  },
  "language_info": {
   "codemirror_mode": {
    "name": "ipython",
    "version": 3
   },
   "file_extension": ".py",
   "mimetype": "text/x-python",
   "name": "python",
   "nbconvert_exporter": "python",
   "pygments_lexer": "ipython3",
   "version": "3.13.1"
  }
 },
 "nbformat": 4,
 "nbformat_minor": 5
}
