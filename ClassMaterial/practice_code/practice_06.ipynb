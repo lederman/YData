{
 "cells": [
  {
   "cell_type": "code",
   "execution_count": 28,
   "id": "4e396339-7b1d-4b05-8327-34c78bf12b37",
   "metadata": {},
   "outputs": [],
   "source": [
    "import YData \n",
    "\n",
    "#YData.download_practice_code(6)           # Without Answers. \n",
    "#YData.download_practice_code(6, True)     # With Answers. (Won't work before Thursday eve.)\n",
    "\n",
    "import pandas as pd \n",
    "import matplotlib.pyplot as plt \n",
    "\n",
    "\n",
    "YData.download_data(\"GOOGLE.csv\")\n",
    "YData.download_data(\"NVIDIA.csv\")"
   ]
  },
  {
   "cell_type": "markdown",
   "id": "3b5c708a-a00d-4290-8f60-28950cc5ab7c",
   "metadata": {},
   "source": [
    "# For Loops in Python"
   ]
  },
  {
   "cell_type": "code",
   "execution_count": 29,
   "id": "0a66f089-20fb-4aa3-b164-00f617bf4593",
   "metadata": {},
   "outputs": [],
   "source": [
    "# Generic Syntax. (Don't run this cell.)\n",
    "\n",
    "for {iteration variable} in {iterable}:\n",
    "           # do things"
   ]
  },
  {
   "cell_type": "markdown",
   "id": "116ae207-6b5c-4b9b-8e98-6007ed0c2ad4",
   "metadata": {},
   "source": [
    "- Each for loop starts with the keyword `for`.\n",
    "\n",
    "- The `iteration variable` is a variable that is declared only in the scope of the loop that is used to 'point' at the elements in the sequence.\n",
    "\n",
    "- The `iterable` is a data structure that contains the sequence of elements we are going to perform tasks on, for example a list or a dictionary. "
   ]
  },
  {
   "cell_type": "markdown",
   "id": "fed1a715-30f0-4c7d-8645-6c27101f5356",
   "metadata": {},
   "source": [
    "### 1. Some Skills Builder Exercises"
   ]
  },
  {
   "cell_type": "code",
   "execution_count": 30,
   "id": "972865b7-b037-40ef-afb3-ded660b72f99",
   "metadata": {},
   "outputs": [
    {
     "name": "stdout",
     "output_type": "stream",
     "text": [
      "first\n",
      "second\n",
      "third\n",
      "forth\n"
     ]
    }
   ],
   "source": [
    "# Loop over items in a list.\n",
    "# Write a for loop to print every element of a_list. \n",
    "\n",
    "a_list = [\"first\", \"second\", \"third\", \"forth\"]\n",
    "\n",
    "\n",
    "for item in a_list:\n",
    "    print(item)\n"
   ]
  },
  {
   "cell_type": "code",
   "execution_count": 47,
   "id": "323ca0c1-e2c1-4c0d-ab0f-596376bb8c02",
   "metadata": {},
   "outputs": [],
   "source": [
    "# Loop over every other item in the list.\n",
    "# Write a for loop to print every other element of a_list. \n",
    "\n",
    "a_list = [\"first\", \"second\", \"third\", \"forth\"]\n",
    "\n",
    "\n"
   ]
  },
  {
   "cell_type": "code",
   "execution_count": null,
   "id": "e733fec8-e524-4c4b-83dc-d52fbf236449",
   "metadata": {},
   "outputs": [],
   "source": []
  },
  {
   "cell_type": "code",
   "execution_count": 48,
   "id": "84d2c76c-7be0-47e0-a28b-b81130d1b9f9",
   "metadata": {},
   "outputs": [],
   "source": [
    "# Loop over mulptiples of 3 (from 0 through 10) using the range() function.\n",
    "# Write a for loop to print all the multiples of 3 from 0 through 10.\n",
    "\n",
    "\n",
    "\n",
    "\n",
    "\n",
    "\n",
    "    \n",
    "# When you call range, its value is not a list nor sequence of numbers. \n",
    "# Loosely speaking, range() saves the instruction to iterate over a range of numbers.\n",
    "# For example, range(5) defines the instruction to iterate over the first 5 numbers (starting at 0). \n",
    "# That is why, used in a loop, it seems as if it is iterating over a list."
   ]
  },
  {
   "cell_type": "code",
   "execution_count": 49,
   "id": "187c634e-a237-4919-94f7-68f01fdcbfa2",
   "metadata": {},
   "outputs": [],
   "source": [
    "# Can you print every other square of the numbers from 1 to 6? \n",
    "\n"
   ]
  },
  {
   "cell_type": "code",
   "execution_count": null,
   "id": "99a91bfa-f766-40b5-893c-6467ca8282be",
   "metadata": {},
   "outputs": [],
   "source": []
  },
  {
   "cell_type": "code",
   "execution_count": 50,
   "id": "a48885bc-00b3-4b7c-be5c-2c44a4e34bb7",
   "metadata": {},
   "outputs": [],
   "source": [
    "# Create a list that has square roots of numbers from 1 through 10. \n",
    "# hint: the .append() method will be useful.\n",
    "\n",
    "sqrt = []\n",
    "\n"
   ]
  },
  {
   "cell_type": "code",
   "execution_count": 51,
   "id": "88bd4b2c-23f5-4f01-a9c5-b64a92a56ee2",
   "metadata": {},
   "outputs": [
    {
     "data": {
      "text/plain": [
       "0"
      ]
     },
     "execution_count": 51,
     "metadata": {},
     "output_type": "execute_result"
    }
   ],
   "source": [
    "# Compute sum squares of numbers from 1 to 10.\n",
    "my_sum = 0\n",
    "\n",
    "\n",
    "\n",
    "\n",
    "\n",
    "my_sum"
   ]
  },
  {
   "cell_type": "markdown",
   "id": "eeb9750f-130e-4c60-bc3e-9daca54472b2",
   "metadata": {},
   "source": [
    "### 2. The Enumerate function\n",
    "\n",
    "`enumerate()` function adds a counter to each item in a list or other iterable. It turns the iterable into something we can loop through, where each item comes with its number (starting from 0 by default). "
   ]
  },
  {
   "cell_type": "code",
   "execution_count": 52,
   "id": "5d103d3d-998d-4892-9c6e-01813e74b236",
   "metadata": {},
   "outputs": [],
   "source": [
    "# 2.A\n",
    "# We can use enumerate(my_list) to get both values from a list and \n",
    "# sequential index numbers.\n",
    "\n",
    "\n",
    "#a_list = [\"first\", \"second\", \"third\", \"forth\"]\n",
    "\n",
    "#for index, curr_val in enumerate(a_list):\n",
    "    #print(str(index)  + \" \" + curr_val)\n"
   ]
  },
  {
   "cell_type": "code",
   "execution_count": 53,
   "id": "fd2934f2-3ab7-483d-866f-09e81570c76f",
   "metadata": {},
   "outputs": [],
   "source": [
    "# 2.B\n",
    "\n",
    "#b_list = [\"I\", \"love\", \"YData\"]\n",
    "\n",
    "# Iterating list using enumerate to get both index and element.\n",
    "#for i, name in enumerate(b_list):\n",
    "    #print(f\"Index {i}: {name}\")"
   ]
  },
  {
   "cell_type": "markdown",
   "id": "4a4cd822-3711-4273-8b83-0c04297590e3",
   "metadata": {},
   "source": [
    "### 3. The zip function"
   ]
  },
  {
   "cell_type": "code",
   "execution_count": null,
   "id": "ae88b7ad-a1c5-4d44-b5d0-df79f2461a33",
   "metadata": {},
   "outputs": [],
   "source": []
  },
  {
   "cell_type": "code",
   "execution_count": 54,
   "id": "4341f193-f24e-4880-964d-5ad5284434c4",
   "metadata": {},
   "outputs": [],
   "source": [
    "# 3.A\n",
    "# Zip example from class. \n",
    "#list_1 = [\"a\", \"b\", \"c\"]\n",
    "#list_2 = [\"x\", \"y\", \"z\"]\n",
    "\n",
    "#for item1, item2 in zip(list_1, list_2):\n",
    "    #print(item1, item2)\n"
   ]
  },
  {
   "cell_type": "code",
   "execution_count": 55,
   "id": "e5a72452-be85-4f38-abfd-908740bf5651",
   "metadata": {},
   "outputs": [],
   "source": [
    "# 3.B\n",
    "# Use the zip function to print the same output as in 2.A above.  \n",
    "\n",
    "c_list = [\"0\", \"1\", \"2\", \"3\"]\n",
    "\n"
   ]
  },
  {
   "cell_type": "code",
   "execution_count": null,
   "id": "42617adc-2204-4089-8147-d63400841cef",
   "metadata": {},
   "outputs": [],
   "source": []
  },
  {
   "cell_type": "markdown",
   "id": "92440daf-279f-4bf5-b079-5c837fabcbdc",
   "metadata": {},
   "source": [
    "### 4. An application: for loops\n",
    "\n",
    "The code below extracts closing prices of Google and Nvidia stocks for Jan 01 through Feb 14.\n",
    "\n",
    "Please use for loops to create a list called `daily_diff` that has the Google closing price - Nvidia closing price for each day.\n",
    "\n",
    "There are a few ways to do this, so see if you can come up with a solution that works. Try to do this without using numpy, and once you have a solution, see if you can get the same result using numpy.  \n",
    "\n"
   ]
  },
  {
   "cell_type": "code",
   "execution_count": 40,
   "id": "d8b40f80-c2b3-4496-9a0b-90a0741cfb10",
   "metadata": {},
   "outputs": [],
   "source": [
    "google = pd.read_csv(\"GOOGLE.csv\")\n",
    "nvidia = pd.read_csv(\"NVIDIA.csv\")\n",
    "\n",
    "\n"
   ]
  },
  {
   "cell_type": "code",
   "execution_count": 41,
   "id": "970a6912-db79-4e3d-9d81-40de9e3ff110",
   "metadata": {},
   "outputs": [],
   "source": [
    "google_close = google[\"Close\"].to_list()\n",
    "nvidia_close = nvidia[\"Close\"].to_list()"
   ]
  },
  {
   "cell_type": "code",
   "execution_count": null,
   "id": "a88e23b7-47e8-4818-ab29-11ffe15aa579",
   "metadata": {},
   "outputs": [],
   "source": [
    "# First way to solve the problem. "
   ]
  },
  {
   "cell_type": "code",
   "execution_count": 56,
   "id": "c10b9bdb-6447-46e5-83bf-99920ea26d1b",
   "metadata": {},
   "outputs": [],
   "source": [
    "\n",
    "\n",
    "# Start with an empty list\n",
    "daily_diff = [];\n",
    "\n",
    "\n",
    "# Use a for loop to add the closing price for each day\n",
    "\n",
    "\n",
    "\n",
    "\n",
    "# Plot the range of temperatures\n",
    "#plt.plot(daily_diff);\n"
   ]
  },
  {
   "cell_type": "code",
   "execution_count": null,
   "id": "9c2c6bd2-5f34-4550-9be7-2ba4cd954166",
   "metadata": {},
   "outputs": [],
   "source": [
    "# Alternative solution using the zip function. "
   ]
  },
  {
   "cell_type": "code",
   "execution_count": 57,
   "id": "00e5b2fb-13bf-44bd-ad08-4ed177f9c5dd",
   "metadata": {},
   "outputs": [
    {
     "data": {
      "image/png": "[encoded data removed]",
      "text/plain": [
       "<Figure size 640x480 with 1 Axes>"
      ]
     },
     "metadata": {},
     "output_type": "display_data"
    }
   ],
   "source": [
    "# Alternative solution using the zip function...\n",
    "\n",
    "# Start with an empty list\n",
    "daily_diff2 = [];\n",
    "\n",
    "\n",
    "# Use a for loop to add the temperature range for each day\n",
    "for i, j in zip(google_close, nvidia_close):\n",
    "\n",
    "    daily_diff2.append(i - j)\n",
    "\n",
    "\n",
    "\n",
    "# Plot the range of temperatures\n",
    "plt.plot(daily_diff2);\n"
   ]
  },
  {
   "cell_type": "markdown",
   "id": "4e4a5f34-3018-44cd-a062-ad390bac414f",
   "metadata": {},
   "source": [
    "##  5. Conditional Statements \n",
    "\n",
    "Conditional statements allow use to excecute particular pieces of code when certain conditions are met; that is, they execute a piece of code when a Boolean value is True. \n",
    "\n",
    "Let's explore!"
   ]
  },
  {
   "cell_type": "code",
   "execution_count": 58,
   "id": "e764932d-3048-4395-b60a-0e4b7958538d",
   "metadata": {},
   "outputs": [
    {
     "name": "stdout",
     "output_type": "stream",
     "text": [
      "Sophomore\n"
     ]
    }
   ],
   "source": [
    "# Let us quickly take a look at the following from the class. \n",
    "\n",
    "num_semesters = 3\n",
    "\n",
    "if num_semesters <= 0:\n",
    "    print('Not a valid input')\n",
    "elif num_semesters <= 2:\n",
    "    print('First Year')\n",
    "elif num_semesters <= 4:\n",
    "    print('Sophomore')\n",
    "elif num_semesters <= 6:\n",
    "    print('Junior')\n",
    "elif num_semesters <= 8:\n",
    "    print('Senior')\n",
    "else:\n",
    "    print(\"NA\")\n"
   ]
  },
  {
   "cell_type": "code",
   "execution_count": 59,
   "id": "2141aa66-ff7b-4dc4-ba0d-c68a7ac5a745",
   "metadata": {},
   "outputs": [
    {
     "name": "stdout",
     "output_type": "stream",
     "text": [
      "0\n",
      "Not a valid input\n",
      "1\n",
      "First Year\n",
      "2\n",
      "First Year\n",
      "3\n",
      "Sophomore\n",
      "4\n",
      "Sophomore\n",
      "5\n",
      "Junior\n",
      "6\n",
      "Junior\n",
      "7\n",
      "Senior\n",
      "8\n",
      "Senior\n",
      "9\n",
      "NA\n"
     ]
    }
   ],
   "source": [
    "# Let us now look at a conditional statement in a loop from the class. \n",
    "\n",
    "for num_semesters in range(10):\n",
    "    \n",
    "    print(num_semesters)\n",
    "\n",
    "    if num_semesters <= 0:\n",
    "        print('Not a valid input')\n",
    "    elif num_semesters <= 2:\n",
    "        print('First Year')\n",
    "    elif num_semesters <= 4:\n",
    "        print('Sophomore')\n",
    "    elif num_semesters <= 6:\n",
    "        print('Junior')\n",
    "    elif num_semesters <= 8:\n",
    "        print('Senior')\n",
    "    else:\n",
    "        print(\"NA\")\n"
   ]
  },
  {
   "cell_type": "markdown",
   "id": "43cc3fe7-a923-4c3d-9a49-3f558cdcf4da",
   "metadata": {},
   "source": [
    "## 6. Take Home Exercise\n",
    "#### Write a Python program to find those numbers which are divisible by 7 and multiples of 5, between 1500 and 2700 (both included).\n",
    "Recall `%` symbol in Python is called the Modulo Operator. It returns the remainder of dividing the left hand operand by right hand operand."
   ]
  },
  {
   "cell_type": "code",
   "execution_count": 60,
   "id": "77680d00-b1c9-48c6-a09c-3764df5f071b",
   "metadata": {},
   "outputs": [
    {
     "name": "stdout",
     "output_type": "stream",
     "text": [
      "\n"
     ]
    }
   ],
   "source": [
    "# Create an empty list to store numbers that meet the given conditions\n",
    "new_list = []\n",
    "\n",
    "# Iterate through numbers from 1500 to 2700 (inclusive)\n",
    "\n",
    "    # Check if the number is divisible by 7 and 5 without any remainder\n",
    "    \n",
    "        # If the conditions are met, convert the number to a string and append it to the list\n",
    "        \n",
    "\n",
    "# Join the numbers in the list with a comma and print the result\n",
    "print(','.join(new_list))"
   ]
  },
  {
   "cell_type": "code",
   "execution_count": null,
   "id": "ad8cabb2-8343-48fc-baa8-adb7dea0b7e0",
   "metadata": {},
   "outputs": [],
   "source": []
  }
 ],
 "metadata": {
  "kernelspec": {
   "display_name": "Python 3 (ipykernel)",
   "language": "python",
   "name": "python3"
  },
  "language_info": {
   "codemirror_mode": {
    "name": "ipython",
    "version": 3
   },
   "file_extension": ".py",
   "mimetype": "text/x-python",
   "name": "python",
   "nbconvert_exporter": "python",
   "pygments_lexer": "ipython3",
   "version": "3.13.1"
  }
 },
 "nbformat": 4,
 "nbformat_minor": 5
}
