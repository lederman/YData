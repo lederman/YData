{
 "cells": [
  {
   "cell_type": "markdown",
   "id": "634596d9-39ac-431a-bb17-c7fbef8562ef",
   "metadata": {},
   "source": [
    "Welcome to the Practice Session 10! "
   ]
  },
  {
   "cell_type": "code",
   "execution_count": 1,
   "id": "abf7de5e-63ec-475f-8b0e-49ee6a79e2b6",
   "metadata": {},
   "outputs": [],
   "source": [
    "import YData \n",
    "\n",
    "#YData.download_practice_code(10)              # Without Answers. \n",
    "#YData.download_practice_code(10, True)        # With Answers (won't work until Thursday evening).\n",
    "\n",
    "\n",
    "\n",
    "\n",
    "# Packages/Libraries.\n",
    "import pandas as pd \n",
    "import numpy as np\n",
    "import matplotlib.pyplot as plt\n",
    "%matplotlib inline\n",
    "\n",
    "\n",
    "# Data.\n",
    "#YData.download_data(\"loan_data.csv\")\n"
   ]
  },
  {
   "cell_type": "code",
   "execution_count": 2,
   "id": "cb75740b-870c-4b9d-962c-97215671a309",
   "metadata": {},
   "outputs": [
    {
     "data": {
      "text/html": [
       "<div>\n",
       "<style scoped>\n",
       "    .dataframe tbody tr th:only-of-type {\n",
       "        vertical-align: middle;\n",
       "    }\n",
       "\n",
       "    .dataframe tbody tr th {\n",
       "        vertical-align: top;\n",
       "    }\n",
       "\n",
       "    .dataframe thead th {\n",
       "        text-align: right;\n",
       "    }\n",
       "</style>\n",
       "<table border=\"1\" class=\"dataframe\">\n",
       "  <thead>\n",
       "    <tr style=\"text-align: right;\">\n",
       "      <th></th>\n",
       "      <th>person_age</th>\n",
       "      <th>person_gender</th>\n",
       "      <th>person_education</th>\n",
       "      <th>person_income</th>\n",
       "      <th>person_emp_exp</th>\n",
       "      <th>person_home_ownership</th>\n",
       "      <th>cb_person_cred_hist_length</th>\n",
       "      <th>credit_score</th>\n",
       "      <th>previous_loan_defaults_on_file</th>\n",
       "    </tr>\n",
       "  </thead>\n",
       "  <tbody>\n",
       "    <tr>\n",
       "      <th>0</th>\n",
       "      <td>22.0</td>\n",
       "      <td>female</td>\n",
       "      <td>Master</td>\n",
       "      <td>71948.0</td>\n",
       "      <td>0</td>\n",
       "      <td>RENT</td>\n",
       "      <td>3.0</td>\n",
       "      <td>561</td>\n",
       "      <td>No</td>\n",
       "    </tr>\n",
       "    <tr>\n",
       "      <th>1</th>\n",
       "      <td>21.0</td>\n",
       "      <td>female</td>\n",
       "      <td>High School</td>\n",
       "      <td>12282.0</td>\n",
       "      <td>0</td>\n",
       "      <td>OWN</td>\n",
       "      <td>2.0</td>\n",
       "      <td>504</td>\n",
       "      <td>Yes</td>\n",
       "    </tr>\n",
       "    <tr>\n",
       "      <th>2</th>\n",
       "      <td>25.0</td>\n",
       "      <td>female</td>\n",
       "      <td>High School</td>\n",
       "      <td>12438.0</td>\n",
       "      <td>3</td>\n",
       "      <td>MORTGAGE</td>\n",
       "      <td>3.0</td>\n",
       "      <td>635</td>\n",
       "      <td>No</td>\n",
       "    </tr>\n",
       "  </tbody>\n",
       "</table>\n",
       "</div>"
      ],
      "text/plain": [
       "   person_age person_gender person_education  person_income  person_emp_exp  \\\n",
       "0        22.0        female           Master        71948.0               0   \n",
       "1        21.0        female      High School        12282.0               0   \n",
       "2        25.0        female      High School        12438.0               3   \n",
       "\n",
       "  person_home_ownership  cb_person_cred_hist_length  credit_score  \\\n",
       "0                  RENT                         3.0           561   \n",
       "1                   OWN                         2.0           504   \n",
       "2              MORTGAGE                         3.0           635   \n",
       "\n",
       "  previous_loan_defaults_on_file  \n",
       "0                             No  \n",
       "1                            Yes  \n",
       "2                             No  "
      ]
     },
     "metadata": {},
     "output_type": "display_data"
    },
    {
     "data": {
      "text/plain": [
       "(45000, 9)"
      ]
     },
     "metadata": {},
     "output_type": "display_data"
    }
   ],
   "source": [
    "# Income DataFrame. \n",
    "\n",
    "loans = pd.read_csv(\"loan_data.csv\")\n",
    "income = loans.drop(columns = [\"loan_amnt\", \"loan_intent\", \"loan_int_rate\", \"loan_percent_income\", \"loan_status\"])\n",
    "display(income.head(3), income.shape)"
   ]
  },
  {
   "cell_type": "markdown",
   "id": "7576a313-d360-49d7-8e2f-96e277abe090",
   "metadata": {},
   "source": [
    "# Linear Regression\n",
    "\n",
    "In regression, we try to predict a quantitative variable $y$ (called the response variable), from a set of features (predictors) $X$. \n",
    "\n",
    "Let us build a linear regression model to predict $y =$ `person_income` (the person's income in USD) using other quantitative predictors in the above DataFrame. \n",
    "\n"
   ]
  },
  {
   "cell_type": "markdown",
   "id": "9675e91c-08f5-45fa-b434-770e8497f3d4",
   "metadata": {},
   "source": [
    "### Preliminary Data Exploration"
   ]
  },
  {
   "cell_type": "code",
   "execution_count": 3,
   "id": "4f12fc5c-03ca-4203-8408-0f4493a5ab77",
   "metadata": {},
   "outputs": [
    {
     "data": {
      "image/png": "[encoded data removed]",
      "text/plain": [
       "<Figure size 640x480 with 1 Axes>"
      ]
     },
     "metadata": {},
     "output_type": "display_data"
    }
   ],
   "source": [
    "# Histogram of the person_income. \n",
    "plt.hist(income[\"person_income\"], bins = 500, edgecolor = \"black\");\n",
    "plt.axvline(max(income[\"person_income\"]), color = \"r\");\n"
   ]
  },
  {
   "cell_type": "code",
   "execution_count": 46,
   "id": "7f1690a2-da97-4a7d-ae10-da01604fcb82",
   "metadata": {},
   "outputs": [],
   "source": [
    "# Boxplot of the person_income. \n"
   ]
  },
  {
   "cell_type": "markdown",
   "id": "a77ba67b-86f1-4b73-80d2-4720681225cb",
   "metadata": {},
   "source": [
    "##### Always check assumptions! \n",
    "\n",
    "One of the key assumptios of Classical Linear Regression Model requires the response variable $y$ to have **bell-shaped** distribution. However, we can clearly see from the above Histogram that `person_income` doesn't seem to have a bell shaped distribution. In such situations, one usually needs to transform the original response variable $y$ so that the resulting transformed variable has a **bell-shaped** distribution. \n",
    "\n",
    "In particular, when dealing with salaries (incomes) data, the $\\underline{\\text{log transform}}$ is a good choice. \n",
    "\n",
    "\n",
    "\n"
   ]
  },
  {
   "cell_type": "code",
   "execution_count": 47,
   "id": "33654755-72eb-4e6e-9df9-c56e7cb832c7",
   "metadata": {},
   "outputs": [],
   "source": [
    "# Histogram of the log transform of person_income. \n",
    "\n",
    "#log_income = np.log(income[\"person_income\"])\n",
    "#plt.hist(log_income, bins = 500, edgecolor = \"black\");\n",
    "\n"
   ]
  },
  {
   "cell_type": "code",
   "execution_count": 7,
   "id": "e22771f7-630b-4ee3-9b1a-e02b2f06f0ea",
   "metadata": {},
   "outputs": [
    {
     "data": {
      "text/html": [
       "<div>\n",
       "<style scoped>\n",
       "    .dataframe tbody tr th:only-of-type {\n",
       "        vertical-align: middle;\n",
       "    }\n",
       "\n",
       "    .dataframe tbody tr th {\n",
       "        vertical-align: top;\n",
       "    }\n",
       "\n",
       "    .dataframe thead th {\n",
       "        text-align: right;\n",
       "    }\n",
       "</style>\n",
       "<table border=\"1\" class=\"dataframe\">\n",
       "  <thead>\n",
       "    <tr style=\"text-align: right;\">\n",
       "      <th></th>\n",
       "      <th>person_age</th>\n",
       "      <th>person_emp_exp</th>\n",
       "      <th>cb_person_cred_hist_length</th>\n",
       "      <th>credit_score</th>\n",
       "      <th>log_income</th>\n",
       "    </tr>\n",
       "  </thead>\n",
       "  <tbody>\n",
       "    <tr>\n",
       "      <th>0</th>\n",
       "      <td>22.0</td>\n",
       "      <td>0</td>\n",
       "      <td>3.0</td>\n",
       "      <td>561</td>\n",
       "      <td>11.183699</td>\n",
       "    </tr>\n",
       "    <tr>\n",
       "      <th>1</th>\n",
       "      <td>21.0</td>\n",
       "      <td>0</td>\n",
       "      <td>2.0</td>\n",
       "      <td>504</td>\n",
       "      <td>9.415890</td>\n",
       "    </tr>\n",
       "    <tr>\n",
       "      <th>2</th>\n",
       "      <td>25.0</td>\n",
       "      <td>3</td>\n",
       "      <td>3.0</td>\n",
       "      <td>635</td>\n",
       "      <td>9.428512</td>\n",
       "    </tr>\n",
       "    <tr>\n",
       "      <th>3</th>\n",
       "      <td>23.0</td>\n",
       "      <td>0</td>\n",
       "      <td>2.0</td>\n",
       "      <td>675</td>\n",
       "      <td>11.286690</td>\n",
       "    </tr>\n",
       "    <tr>\n",
       "      <th>4</th>\n",
       "      <td>24.0</td>\n",
       "      <td>1</td>\n",
       "      <td>4.0</td>\n",
       "      <td>586</td>\n",
       "      <td>11.099453</td>\n",
       "    </tr>\n",
       "  </tbody>\n",
       "</table>\n",
       "</div>"
      ],
      "text/plain": [
       "   person_age  person_emp_exp  cb_person_cred_hist_length  credit_score  \\\n",
       "0        22.0               0                         3.0           561   \n",
       "1        21.0               0                         2.0           504   \n",
       "2        25.0               3                         3.0           635   \n",
       "3        23.0               0                         2.0           675   \n",
       "4        24.0               1                         4.0           586   \n",
       "\n",
       "   log_income  \n",
       "0   11.183699  \n",
       "1    9.415890  \n",
       "2    9.428512  \n",
       "3   11.286690  \n",
       "4   11.099453  "
      ]
     },
     "execution_count": 7,
     "metadata": {},
     "output_type": "execute_result"
    }
   ],
   "source": [
    "# Let us add log_income to the DataFrame.\n",
    "income[\"log_income\"] = log_income\n",
    "\n",
    "\n",
    "# Let us also create a new DataFrame which contains only the relevant variables. \n",
    "log_income_df = income.drop(columns = [\"person_gender\", \"person_education\", \"person_home_ownership\", \"previous_loan_defaults_on_file\",\n",
    "                                       \"person_income\"])\n",
    "log_income_df.head(5)\n"
   ]
  },
  {
   "cell_type": "markdown",
   "id": "feaf51c2-ab7f-4a4d-b80d-e7fe9cd4d97e",
   "metadata": {},
   "source": [
    "### Simple Linear Regression"
   ]
  },
  {
   "cell_type": "markdown",
   "id": "f60aa9f3-2e47-45e0-b71c-6c162ff51296",
   "metadata": {},
   "source": [
    "###### Recall that Simple Linear Regression is method of using one predictor variable $x$ to predict the value of a second variable $y$ (called the response variable). So, let us first investigate which predictor variable seems to be the most appropirate in predicting log_income. "
   ]
  },
  {
   "cell_type": "code",
   "execution_count": 48,
   "id": "531bf516-3a66-44b8-9861-a3d5b2f41c74",
   "metadata": {},
   "outputs": [],
   "source": [
    "# Let us compute all pairwise correlations to see which feature variable has the most predictive power. \n",
    "\n",
    "\n"
   ]
  },
  {
   "cell_type": "code",
   "execution_count": 49,
   "id": "98a6155d-6dc7-4548-bfe5-0731fa31fb54",
   "metadata": {},
   "outputs": [],
   "source": [
    "# If you have to choose exactly one predictor variable, which one will you choose?\n",
    "# Answer: person_emp_exp\n",
    "\n",
    "\n",
    "# Plot your chosen predictor variable on the x-axis and the response log_income on the y-axis using a scatterplot.  \n",
    "\n",
    "\n"
   ]
  },
  {
   "cell_type": "markdown",
   "id": "c0911d69-bf89-4847-9e12-98e55a1d578c",
   "metadata": {},
   "source": [
    "#### Based on your answer above, fit a simple linear regression model to predict `log_income`. \n",
    "\n"
   ]
  },
  {
   "cell_type": "markdown",
   "id": "2ba310cd-2fd1-4abc-b752-c6d397fb2ad4",
   "metadata": {},
   "source": [
    "###### **RECALL** that geometrically speaking, we want to find the line that \"best\" fits the scatterplot above. Mope precisely, the coefficients (slope and intercept) for the \"best\" fit are found by minimizing root mean square error (RMSE). \n",
    "\n",
    "RMSE $ = \\sqrt{\\frac{1}{n}\\sum_{i=1}^{n} \\Big(y_i - (b_0 + b_1{x_i}) \\Big)^2 }$"
   ]
  },
  {
   "cell_type": "code",
   "execution_count": 10,
   "id": "89a8c1e6-6a52-4f96-8560-be26b9b52233",
   "metadata": {},
   "outputs": [
    {
     "name": "stdout",
     "output_type": "stream",
     "text": [
      "22500\n",
      "22500\n"
     ]
    },
    {
     "data": {
      "text/plain": [
       "array([[3],\n",
       "       [0],\n",
       "       [7],\n",
       "       ...,\n",
       "       [6],\n",
       "       [4],\n",
       "       [0]], shape=(22500, 1))"
      ]
     },
     "execution_count": 10,
     "metadata": {},
     "output_type": "execute_result"
    }
   ],
   "source": [
    "# Step 0.\n",
    "\n",
    "\n",
    "\n",
    "# Store features and response variable in two separate DataFrames. \n",
    "X_feature = log_income_df[\"person_emp_exp\"]\n",
    "y_response = log_income_df[\"log_income\"]\n",
    "\n",
    "\n",
    "\n",
    "\n",
    "# Split the data into training and tests. \n",
    "from sklearn.model_selection import train_test_split\n",
    "X_train, X_test, y_train, y_test = train_test_split(X_feature, y_response, random_state = 0, test_size = 0.5)\n",
    "print(X_train.shape[0])\n",
    "print(X_test.shape[0])\n",
    "\n",
    "\n",
    "\n",
    "# We need to make X_train and X_test two dimensional for it to work with sklearn package/library. \n",
    "# You may ignore this code. \n",
    "X_train = np.array(X_train).reshape(-1,1)\n",
    "X_test = np.array(X_test).reshape(-1,1)\n",
    "X_train\n"
   ]
  },
  {
   "cell_type": "code",
   "execution_count": 50,
   "id": "9c01d345-1548-4183-9d04-7c09675579cf",
   "metadata": {},
   "outputs": [],
   "source": [
    "# Step 1. \n",
    "# Create/construct a simple linear regression model.\n",
    "\n",
    "\n",
    "from sklearn.linear_model import LinearRegression\n",
    "\n",
    "\n",
    "\n",
    "\n",
    "\n"
   ]
  },
  {
   "cell_type": "code",
   "execution_count": 51,
   "id": "5a5601b0-463b-4d47-bc1c-0a517330d0ea",
   "metadata": {},
   "outputs": [],
   "source": [
    "# Step 2. \n",
    "# Fit the model to our training data.\n",
    "\n",
    "\n",
    "\n"
   ]
  },
  {
   "cell_type": "code",
   "execution_count": 52,
   "id": "d245d768-cf23-4431-8a1a-f2cd3393b244",
   "metadata": {},
   "outputs": [],
   "source": [
    "# Step 3.\n",
    "# Make predictions of the salaries on the test data.\n",
    "\n",
    "\n"
   ]
  },
  {
   "cell_type": "markdown",
   "id": "0b745944-4bfa-4631-b8b7-dbf1a69d0b0c",
   "metadata": {},
   "source": [
    "We can assess the accuracy of our predictons using the root mean squared error RMSE which is defined as: \n",
    "\n",
    "$$RMSE = \\sqrt{ \\frac{1}{n}\\sum_{i=1}^{n} (y_i - \\hat{y}_i)^2}$$\n",
    "\n",
    "Here $\\hat{y}$ is the predictions made by our linear model on the test data and y is the actual log_income data stored in our test set.\n"
   ]
  },
  {
   "cell_type": "code",
   "execution_count": 53,
   "id": "10a4f688-1476-4e04-89a0-e1bcc9fd9129",
   "metadata": {},
   "outputs": [],
   "source": [
    "# Step 4.\n",
    "# RMSE on the test data.\n",
    "\n",
    "\n",
    "\n"
   ]
  },
  {
   "cell_type": "markdown",
   "id": "0b74db13-e8bb-40cf-a649-c8c0e548b0ea",
   "metadata": {},
   "source": [
    "### Multiple Linear Regression\n",
    "\n",
    "In Multiple Linear Regression we try to predict the response variable $y$ using several features $x_1, x_2, ...., x_k$ and hence, our predicted $\\hat{y}$ values are given by the equation $\\hat{y} = b_0 + b_1 x_1 + ... + + b_k x_k$.\n",
    "\n",
    "Next build a Mulitple Linear Regression model using all the quantitative variables in the DataFrame `log_income`.\n"
   ]
  },
  {
   "cell_type": "code",
   "execution_count": 18,
   "id": "997563c9-b4d5-4e20-ad66-a34029c2ccd5",
   "metadata": {},
   "outputs": [
    {
     "name": "stdout",
     "output_type": "stream",
     "text": [
      "22500\n",
      "22500\n"
     ]
    }
   ],
   "source": [
    "# Step 0.\n",
    "\n",
    "\n",
    "\n",
    "# Store features and response variable in two separate DataFrames. \n",
    "X_feature_2 = log_income_df[[\"person_age\", \"person_emp_exp\", \"cb_person_cred_hist_length\", \"credit_score\"]]\n",
    "y_response_2 = log_income_df[\"log_income\"]\n",
    "\n",
    "\n",
    "\n",
    "\n",
    "# Split the data into training and tests. \n",
    "from sklearn.model_selection import train_test_split\n",
    "X_train_2, X_test_2, y_train_2, y_test_2 = train_test_split(X_feature_2, y_response_2, random_state = 0, test_size = 0.5)\n",
    "print(X_train_2.shape[0])\n",
    "print(X_test_2.shape[0])\n",
    "\n",
    "\n",
    "\n"
   ]
  },
  {
   "cell_type": "code",
   "execution_count": 55,
   "id": "9c024bfa-d1d7-4865-bbf0-cdbb3c965dd4",
   "metadata": {},
   "outputs": [],
   "source": [
    "# Step 1. \n",
    "# Create/construct a multiple linear regression model.\n",
    "\n",
    "\n",
    "from sklearn.linear_model import LinearRegression\n"
   ]
  },
  {
   "cell_type": "code",
   "execution_count": 56,
   "id": "aa94e34d-8314-4ae2-afec-92e51e3580c1",
   "metadata": {},
   "outputs": [],
   "source": [
    "# Step 2. \n",
    "# Fit the model to our training data.\n",
    "\n"
   ]
  },
  {
   "cell_type": "code",
   "execution_count": 57,
   "id": "78ba0442-17d8-4570-b5ce-e679cc58f23d",
   "metadata": {},
   "outputs": [],
   "source": [
    "# Step 3.\n",
    "# Make predictions of the salaries on the test data.\n",
    "\n"
   ]
  },
  {
   "cell_type": "code",
   "execution_count": 58,
   "id": "08a7500e-7bbc-4e83-bdb4-1e2279a14146",
   "metadata": {},
   "outputs": [],
   "source": [
    "# Step 4.\n",
    "# RMSE on the test data\n",
    "\n"
   ]
  },
  {
   "cell_type": "markdown",
   "id": "6a81f5f0-2e4f-4a89-9ac7-b49a5e1f7595",
   "metadata": {},
   "source": [
    "#### How to get intercept and slope coefficients from the fitted model `mlr_model`?"
   ]
  },
  {
   "cell_type": "code",
   "execution_count": 59,
   "id": "fbe99d74-05ad-4b56-b570-2d152512e2e2",
   "metadata": {},
   "outputs": [],
   "source": [
    "# Get the intercept and slope coefficients.\n",
    "\n",
    "\n",
    "\n",
    "\n",
    "# Print out the coefficient values.\n",
    "#(sklearn_intercept, sklearn_coefficients)  \n"
   ]
  },
  {
   "cell_type": "markdown",
   "id": "ffde2a52-c4af-434c-b317-6517aa74a942",
   "metadata": {},
   "source": [
    "- Given these coefficient values can you write our the regression equation for predicting person's salary? \n",
    "- Answer: "
   ]
  },
  {
   "cell_type": "markdown",
   "id": "d027de1c-1aad-4d13-b725-603087f2caa8",
   "metadata": {},
   "source": [
    "##### Side Note: Instead of plain vanilla train-test split, one could also employ cross validation method."
   ]
  },
  {
   "cell_type": "code",
   "execution_count": 26,
   "id": "7adc1206-962f-4494-94f9-617aec4a8700",
   "metadata": {},
   "outputs": [
    {
     "data": {
      "text/plain": [
       "np.float64(0.5667536217044593)"
      ]
     },
     "execution_count": 26,
     "metadata": {},
     "output_type": "execute_result"
    }
   ],
   "source": [
    "# using cross-validation\n",
    "from sklearn.model_selection import cross_val_score\n",
    "\n",
    "linear_model = LinearRegression()\n",
    "\n",
    "scores = cross_val_score(linear_model, \n",
    "                         X_feature_2,  \n",
    "                         y_response_2, \n",
    "                         cv = 5, \n",
    "                         scoring='neg_mean_squared_error')\n",
    "\n",
    "np.sqrt(np.mean(-1 * scores))"
   ]
  },
  {
   "cell_type": "markdown",
   "id": "4a23e92f-3595-4b95-9291-821ba9c408a9",
   "metadata": {},
   "source": [
    "## Inference on regression coefficients\n",
    "\n",
    "We can also run inference procedures on our regression model using the statsmodel package. In particular, we can run hypothesis tests and create confidence intervals for our regression coefficents. \n",
    "\n",
    "When running a hypothesis test, our hypotheses are:\n",
    "\n",
    "$H_0: \\beta_i = 0$  \n",
    "$H_A: \\beta_i \\ne 0$\n"
   ]
  },
  {
   "cell_type": "markdown",
   "id": "4132a67e-6f78-4ab0-a199-8317ec372f38",
   "metadata": {},
   "source": [
    "##### Please use the OLS Regression Outputs Below to check which regression coefficients in the `mlr_model` are statistically significantly different from zero?"
   ]
  },
  {
   "cell_type": "code",
   "execution_count": 27,
   "id": "7106a411-7e49-444c-9e29-a6be35827a29",
   "metadata": {},
   "outputs": [
    {
     "name": "stdout",
     "output_type": "stream",
     "text": [
      "                            OLS Regression Results                            \n",
      "==============================================================================\n",
      "Dep. Variable:             log_income   R-squared:                       0.020\n",
      "Model:                            OLS   Adj. R-squared:                  0.020\n",
      "Method:                 Least Squares   F-statistic:                     116.0\n",
      "Date:                Wed, 23 Apr 2025   Prob (F-statistic):           3.86e-98\n",
      "Time:                        11:00:38   Log-Likelihood:                -18775.\n",
      "No. Observations:               22500   AIC:                         3.756e+04\n",
      "Df Residuals:                   22495   BIC:                         3.760e+04\n",
      "Df Model:                           4                                         \n",
      "Covariance Type:            nonrobust                                         \n",
      "==============================================================================================\n",
      "                                 coef    std err          t      P>|t|      [0.025      0.975]\n",
      "----------------------------------------------------------------------------------------------\n",
      "const                         10.5211      0.068    153.744      0.000      10.387      10.655\n",
      "person_age                     0.0234      0.002     10.047      0.000       0.019       0.028\n",
      "person_emp_exp                -0.0082      0.002     -3.979      0.000      -0.012      -0.004\n",
      "cb_person_cred_hist_length    -0.0043      0.002     -2.218      0.027      -0.008      -0.001\n",
      "credit_score                3.576e-05   7.45e-05      0.480      0.631      -0.000       0.000\n",
      "==============================================================================\n",
      "Omnibus:                      683.830   Durbin-Watson:                   1.987\n",
      "Prob(Omnibus):                  0.000   Jarque-Bera (JB):             1525.596\n",
      "Skew:                           0.170   Prob(JB):                         0.00\n",
      "Kurtosis:                       4.229   Cond. No.                     1.17e+04\n",
      "==============================================================================\n",
      "\n",
      "Notes:\n",
      "[1] Standard Errors assume that the covariance matrix of the errors is correctly specified.\n",
      "[2] The condition number is large, 1.17e+04. This might indicate that there are\n",
      "strong multicollinearity or other numerical problems.\n"
     ]
    }
   ],
   "source": [
    "# Hypothesis test on regression coeffients - which coefficients are statistically significantly different from zero? \n",
    "\n",
    "import statsmodels.api as sm\n",
    "\n",
    "# add a constant value of 1 to our data\n",
    "X_train_with_constant = sm.add_constant(X_train_2) \n",
    "\n",
    "# fit the linear regression model using the OLS function\n",
    "sm_linear_model = sm.OLS(y_train_2, X_train_with_constant).fit()\n",
    "\n",
    "# get information on the regression coefficients found\n",
    "print(sm_linear_model.summary())\n",
    "\n"
   ]
  },
  {
   "cell_type": "markdown",
   "id": "38f48182-dd31-4a6e-b570-befe4f9d2067",
   "metadata": {},
   "source": [
    "- Would you drop `credit_score`? Why?\n",
    "- Answer: "
   ]
  },
  {
   "cell_type": "markdown",
   "id": "8a4a3b7f-0b47-4fb0-bfab-f6a216665ef2",
   "metadata": {},
   "source": [
    "# Take Home Problem: Linear Regression with categorical features "
   ]
  },
  {
   "cell_type": "code",
   "execution_count": 34,
   "id": "1da3a1a5-be75-4515-87e6-28e0a1959565",
   "metadata": {},
   "outputs": [
    {
     "data": {
      "text/html": [
       "<div>\n",
       "<style scoped>\n",
       "    .dataframe tbody tr th:only-of-type {\n",
       "        vertical-align: middle;\n",
       "    }\n",
       "\n",
       "    .dataframe tbody tr th {\n",
       "        vertical-align: top;\n",
       "    }\n",
       "\n",
       "    .dataframe thead th {\n",
       "        text-align: right;\n",
       "    }\n",
       "</style>\n",
       "<table border=\"1\" class=\"dataframe\">\n",
       "  <thead>\n",
       "    <tr style=\"text-align: right;\">\n",
       "      <th></th>\n",
       "      <th>person_age</th>\n",
       "      <th>person_emp_exp</th>\n",
       "      <th>cb_person_cred_hist_length</th>\n",
       "      <th>credit_score</th>\n",
       "      <th>log_income</th>\n",
       "      <th>gender</th>\n",
       "    </tr>\n",
       "  </thead>\n",
       "  <tbody>\n",
       "    <tr>\n",
       "      <th>0</th>\n",
       "      <td>22.0</td>\n",
       "      <td>0</td>\n",
       "      <td>3.0</td>\n",
       "      <td>561</td>\n",
       "      <td>11.183699</td>\n",
       "      <td>1</td>\n",
       "    </tr>\n",
       "    <tr>\n",
       "      <th>1</th>\n",
       "      <td>21.0</td>\n",
       "      <td>0</td>\n",
       "      <td>2.0</td>\n",
       "      <td>504</td>\n",
       "      <td>9.415890</td>\n",
       "      <td>1</td>\n",
       "    </tr>\n",
       "    <tr>\n",
       "      <th>2</th>\n",
       "      <td>25.0</td>\n",
       "      <td>3</td>\n",
       "      <td>3.0</td>\n",
       "      <td>635</td>\n",
       "      <td>9.428512</td>\n",
       "      <td>1</td>\n",
       "    </tr>\n",
       "  </tbody>\n",
       "</table>\n",
       "</div>"
      ],
      "text/plain": [
       "   person_age  person_emp_exp  cb_person_cred_hist_length  credit_score  \\\n",
       "0        22.0               0                         3.0           561   \n",
       "1        21.0               0                         2.0           504   \n",
       "2        25.0               3                         3.0           635   \n",
       "\n",
       "   log_income  gender  \n",
       "0   11.183699       1  \n",
       "1    9.415890       1  \n",
       "2    9.428512       1  "
      ]
     },
     "execution_count": 34,
     "metadata": {},
     "output_type": "execute_result"
    }
   ],
   "source": [
    "# Let us recall our dataset. \n",
    "\n",
    "log_income_df.head(3)"
   ]
  },
  {
   "cell_type": "code",
   "execution_count": 35,
   "id": "25e4abf7-429f-4283-b30e-6ae54eea5677",
   "metadata": {},
   "outputs": [
    {
     "data": {
      "text/html": [
       "<div>\n",
       "<style scoped>\n",
       "    .dataframe tbody tr th:only-of-type {\n",
       "        vertical-align: middle;\n",
       "    }\n",
       "\n",
       "    .dataframe tbody tr th {\n",
       "        vertical-align: top;\n",
       "    }\n",
       "\n",
       "    .dataframe thead th {\n",
       "        text-align: right;\n",
       "    }\n",
       "</style>\n",
       "<table border=\"1\" class=\"dataframe\">\n",
       "  <thead>\n",
       "    <tr style=\"text-align: right;\">\n",
       "      <th></th>\n",
       "      <th>person_age</th>\n",
       "      <th>person_emp_exp</th>\n",
       "      <th>cb_person_cred_hist_length</th>\n",
       "      <th>credit_score</th>\n",
       "      <th>log_income</th>\n",
       "      <th>gender</th>\n",
       "    </tr>\n",
       "  </thead>\n",
       "  <tbody>\n",
       "    <tr>\n",
       "      <th>0</th>\n",
       "      <td>22.0</td>\n",
       "      <td>0</td>\n",
       "      <td>3.0</td>\n",
       "      <td>561</td>\n",
       "      <td>11.183699</td>\n",
       "      <td>1</td>\n",
       "    </tr>\n",
       "    <tr>\n",
       "      <th>1</th>\n",
       "      <td>21.0</td>\n",
       "      <td>0</td>\n",
       "      <td>2.0</td>\n",
       "      <td>504</td>\n",
       "      <td>9.415890</td>\n",
       "      <td>1</td>\n",
       "    </tr>\n",
       "    <tr>\n",
       "      <th>2</th>\n",
       "      <td>25.0</td>\n",
       "      <td>3</td>\n",
       "      <td>3.0</td>\n",
       "      <td>635</td>\n",
       "      <td>9.428512</td>\n",
       "      <td>1</td>\n",
       "    </tr>\n",
       "    <tr>\n",
       "      <th>3</th>\n",
       "      <td>23.0</td>\n",
       "      <td>0</td>\n",
       "      <td>2.0</td>\n",
       "      <td>675</td>\n",
       "      <td>11.286690</td>\n",
       "      <td>1</td>\n",
       "    </tr>\n",
       "    <tr>\n",
       "      <th>4</th>\n",
       "      <td>24.0</td>\n",
       "      <td>1</td>\n",
       "      <td>4.0</td>\n",
       "      <td>586</td>\n",
       "      <td>11.099453</td>\n",
       "      <td>0</td>\n",
       "    </tr>\n",
       "  </tbody>\n",
       "</table>\n",
       "</div>"
      ],
      "text/plain": [
       "   person_age  person_emp_exp  cb_person_cred_hist_length  credit_score  \\\n",
       "0        22.0               0                         3.0           561   \n",
       "1        21.0               0                         2.0           504   \n",
       "2        25.0               3                         3.0           635   \n",
       "3        23.0               0                         2.0           675   \n",
       "4        24.0               1                         4.0           586   \n",
       "\n",
       "   log_income  gender  \n",
       "0   11.183699       1  \n",
       "1    9.415890       1  \n",
       "2    9.428512       1  \n",
       "3   11.286690       1  \n",
       "4   11.099453       0  "
      ]
     },
     "execution_count": 35,
     "metadata": {},
     "output_type": "execute_result"
    }
   ],
   "source": [
    "# Let us insert a new column (called gender)in the DataFrame log_income_df \n",
    "# so that Male is coded as 0 and Female is coded as 1.\n",
    "\n",
    "\n",
    "# Creating desired column in the original DataFrame loans. \n",
    "loans[\"gender\"] = 1\n",
    "gender_bool = loans[\"person_gender\"] == \"male\"\n",
    "loans.loc[gender_bool, 'gender'] = 0 \n",
    "\n",
    "\n",
    "# Now insert into DataFrame log_income_df.\n",
    "log_income_df[\"gender\"] = loans[\"gender\"]\n",
    "log_income_df.head()\n",
    "\n",
    "\n"
   ]
  },
  {
   "cell_type": "markdown",
   "id": "cf139f0c-024f-45c4-bb5c-7a9ddd2929ab",
   "metadata": {},
   "source": [
    "### Run Linear Regression with your choice of features but make sure to include `gender` as one of your features. "
   ]
  },
  {
   "cell_type": "code",
   "execution_count": 37,
   "id": "6cf0dac9-ab19-4078-a4b1-8bcbf001e77d",
   "metadata": {},
   "outputs": [],
   "source": [
    "# get the features and the labels.\n",
    "\n",
    "X_feature_3 = log_income_df[[ \"person_age\", \"person_emp_exp\", \"cb_person_cred_hist_length\", \"credit_score\", \"gender\"]]\n",
    "\n",
    "y_response_3 = log_income_df[\"log_income\"]\n",
    "\n",
    "\n"
   ]
  },
  {
   "cell_type": "code",
   "execution_count": 38,
   "id": "d6da3f7f-8ea7-4889-af33-d7a60df79fff",
   "metadata": {},
   "outputs": [
    {
     "name": "stdout",
     "output_type": "stream",
     "text": [
      "(22500, 5)\n",
      "(22500, 5)\n"
     ]
    },
    {
     "data": {
      "text/html": [
       "<div>\n",
       "<style scoped>\n",
       "    .dataframe tbody tr th:only-of-type {\n",
       "        vertical-align: middle;\n",
       "    }\n",
       "\n",
       "    .dataframe tbody tr th {\n",
       "        vertical-align: top;\n",
       "    }\n",
       "\n",
       "    .dataframe thead th {\n",
       "        text-align: right;\n",
       "    }\n",
       "</style>\n",
       "<table border=\"1\" class=\"dataframe\">\n",
       "  <thead>\n",
       "    <tr style=\"text-align: right;\">\n",
       "      <th></th>\n",
       "      <th>person_age</th>\n",
       "      <th>person_emp_exp</th>\n",
       "      <th>cb_person_cred_hist_length</th>\n",
       "      <th>credit_score</th>\n",
       "      <th>gender</th>\n",
       "    </tr>\n",
       "  </thead>\n",
       "  <tbody>\n",
       "    <tr>\n",
       "      <th>1569</th>\n",
       "      <td>24.0</td>\n",
       "      <td>3</td>\n",
       "      <td>4.0</td>\n",
       "      <td>662</td>\n",
       "      <td>1</td>\n",
       "    </tr>\n",
       "    <tr>\n",
       "      <th>2340</th>\n",
       "      <td>21.0</td>\n",
       "      <td>0</td>\n",
       "      <td>3.0</td>\n",
       "      <td>584</td>\n",
       "      <td>1</td>\n",
       "    </tr>\n",
       "    <tr>\n",
       "      <th>36401</th>\n",
       "      <td>31.0</td>\n",
       "      <td>7</td>\n",
       "      <td>8.0</td>\n",
       "      <td>698</td>\n",
       "      <td>0</td>\n",
       "    </tr>\n",
       "    <tr>\n",
       "      <th>43315</th>\n",
       "      <td>26.0</td>\n",
       "      <td>2</td>\n",
       "      <td>5.0</td>\n",
       "      <td>662</td>\n",
       "      <td>0</td>\n",
       "    </tr>\n",
       "    <tr>\n",
       "      <th>26538</th>\n",
       "      <td>30.0</td>\n",
       "      <td>7</td>\n",
       "      <td>10.0</td>\n",
       "      <td>652</td>\n",
       "      <td>1</td>\n",
       "    </tr>\n",
       "  </tbody>\n",
       "</table>\n",
       "</div>"
      ],
      "text/plain": [
       "       person_age  person_emp_exp  cb_person_cred_hist_length  credit_score  \\\n",
       "1569         24.0               3                         4.0           662   \n",
       "2340         21.0               0                         3.0           584   \n",
       "36401        31.0               7                         8.0           698   \n",
       "43315        26.0               2                         5.0           662   \n",
       "26538        30.0               7                        10.0           652   \n",
       "\n",
       "       gender  \n",
       "1569        1  \n",
       "2340        1  \n",
       "36401       0  \n",
       "43315       0  \n",
       "26538       1  "
      ]
     },
     "execution_count": 38,
     "metadata": {},
     "output_type": "execute_result"
    }
   ],
   "source": [
    "from sklearn.model_selection import train_test_split\n",
    "\n",
    "# split data into a training and test set\n",
    "\n",
    "X_train_3, X_test_3, y_train_3, y_test_3 = train_test_split(X_feature_3, y_response_3, random_state = 0, test_size = 0.5)\n",
    "\n",
    "print(X_train_3.shape)\n",
    "print(X_test_3.shape)\n",
    "\n",
    "X_train_3.head(5)\n"
   ]
  },
  {
   "cell_type": "markdown",
   "id": "08b482b1-3709-498c-a4d0-22ec434ea3ca",
   "metadata": {},
   "source": [
    "#### Use the output below to answer the following questions: "
   ]
  },
  {
   "cell_type": "markdown",
   "id": "13aa06d6-a5ee-4f48-9e10-532b4ca5a0b1",
   "metadata": {},
   "source": [
    "- Gender coefficient is $______$.\n",
    "- What does this mean?\n"
   ]
  },
  {
   "cell_type": "markdown",
   "id": "8b3cc6af-caa5-4d37-a628-29040f75e2e8",
   "metadata": {},
   "source": [
    "- What is the $p$-value associated with Gender coefficient and how to interpret it?\n",
    "- Answer: "
   ]
  },
  {
   "cell_type": "code",
   "execution_count": 45,
   "id": "15ba4407-0576-457a-8579-45fd8ebbffc8",
   "metadata": {},
   "outputs": [
    {
     "name": "stdout",
     "output_type": "stream",
     "text": [
      "                            OLS Regression Results                            \n",
      "==============================================================================\n",
      "Dep. Variable:             log_income   R-squared:                       0.020\n",
      "Model:                            OLS   Adj. R-squared:                  0.020\n",
      "Method:                 Least Squares   F-statistic:                     93.41\n",
      "Date:                Wed, 23 Apr 2025   Prob (F-statistic):           1.09e-97\n",
      "Time:                        11:16:52   Log-Likelihood:                -18773.\n",
      "No. Observations:               22500   AIC:                         3.756e+04\n",
      "Df Residuals:                   22494   BIC:                         3.761e+04\n",
      "Df Model:                           5                                         \n",
      "Covariance Type:            nonrobust                                         \n",
      "==============================================================================================\n",
      "                                 coef    std err          t      P>|t|      [0.025      0.975]\n",
      "----------------------------------------------------------------------------------------------\n",
      "const                         10.5278      0.069    153.590      0.000      10.393      10.662\n",
      "person_age                     0.0233      0.002     10.022      0.000       0.019       0.028\n",
      "person_emp_exp                -0.0082      0.002     -3.962      0.000      -0.012      -0.004\n",
      "cb_person_cred_hist_length    -0.0043      0.002     -2.214      0.027      -0.008      -0.000\n",
      "credit_score                3.624e-05   7.45e-05      0.486      0.627      -0.000       0.000\n",
      "gender                        -0.0125      0.007     -1.678      0.093      -0.027       0.002\n",
      "==============================================================================\n",
      "Omnibus:                      682.736   Durbin-Watson:                   1.987\n",
      "Prob(Omnibus):                  0.000   Jarque-Bera (JB):             1521.369\n",
      "Skew:                           0.170   Prob(JB):                         0.00\n",
      "Kurtosis:                       4.228   Cond. No.                     1.17e+04\n",
      "==============================================================================\n",
      "\n",
      "Notes:\n",
      "[1] Standard Errors assume that the covariance matrix of the errors is correctly specified.\n",
      "[2] The condition number is large, 1.17e+04. This might indicate that there are\n",
      "strong multicollinearity or other numerical problems.\n"
     ]
    }
   ],
   "source": [
    "# Hypothesis test on regression coeffients - which coefficients are statistically significantly different from zero? \n",
    "# (and confidence interval)\n",
    "\n",
    "import statsmodels.api as sm\n",
    "\n",
    "# add a constant value of 1 to our data\n",
    "X_train_with_constant_2 = sm.add_constant(X_train_3) \n",
    "\n",
    "# fit the linear regression model using the OLS function\n",
    "sm_linear_model = sm.OLS(y_train_3, X_train_with_constant_2).fit()\n",
    "\n",
    "# get information on the regression coefficients found\n",
    "print(sm_linear_model.summary())\n"
   ]
  }
 ],
 "metadata": {
  "kernelspec": {
   "display_name": "Python 3 (ipykernel)",
   "language": "python",
   "name": "python3"
  },
  "language_info": {
   "codemirror_mode": {
    "name": "ipython",
    "version": 3
   },
   "file_extension": ".py",
   "mimetype": "text/x-python",
   "name": "python",
   "nbconvert_exporter": "python",
   "pygments_lexer": "ipython3",
   "version": "3.13.1"
  }
 },
 "nbformat": 4,
 "nbformat_minor": 5
}
